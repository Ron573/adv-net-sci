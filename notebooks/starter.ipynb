{
 "cells": [
  {
   "cell_type": "markdown",
   "id": "55c93f9a",
   "metadata": {},
   "source": [
    "<a target=\"_blank\" href=\"https://colab.research.google.com/github/skojaku/adv-net-sci/blob/main/notebooks/starter.ipynb\">\n",
    "  <img src=\"https://colab.research.google.com/assets/colab-badge.svg\" alt=\"Open In Colab\"/>\n",
    "</a>\n",
    "\n",
    "# Starter "
   ]
  },
  {
   "cell_type": "code",
   "execution_count": null,
   "id": "22a24e97",
   "metadata": {},
   "outputs": [],
   "source": [
    "# If you are using Google Colab, uncomment the following line to install igraph\n",
    "# !sudo apt install libcairo2-dev pkg-config python3-dev\n",
    "# !pip install pycairo cairocffi\n",
    "# !pip install igraph"
   ]
  },
  {
   "cell_type": "code",
   "execution_count": null,
   "metadata": {},
   "outputs": [],
   "source": [
    "import igraph\n",
    "import pandas as pd\n",
    "import numpy as np\n",
    "import scipy\n",
    "import matplotlib.pyplot as plt\n",
    "import seaborn as sns"
   ]
  },
  {
   "cell_type": "code",
   "execution_count": null,
   "metadata": {},
   "outputs": [],
   "source": []
  }
 ],
 "metadata": {
  "jupytext": {
   "cell_metadata_filter": "-all"
  },
  "kernelspec": {
   "display_name": "Python 3",
   "language": "python",
   "name": "python3"
  },
  "language_info": {
   "name": "python",
   "version": "3.11.0"
  }
 },
 "nbformat": 4,
 "nbformat_minor": 5
}
