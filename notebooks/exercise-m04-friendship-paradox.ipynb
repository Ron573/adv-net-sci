{
 "cells": [
  {
   "cell_type": "markdown",
   "id": "515fa0b6",
   "metadata": {},
   "source": [
    "<a target=\"_blank\" href=\"https://colab.research.google.com/github/skojaku/adv-net-sci/blob/main/notebooks/exercise-m04-friendship-paradox.ipynb\">\n",
    "  <img src=\"https://colab.research.google.com/assets/colab-badge.svg\" alt=\"Open In Colab\"/>\n",
    "</a>"
   ]
  },
  {
   "cell_type": "code",
   "execution_count": null,
   "id": "28a5bd00",
   "metadata": {},
   "outputs": [],
   "source": [
    "# If you are using Google Colab, uncomment the following line to install igraph\n",
    "# !sudo apt install libcairo2-dev pkg-config python3-dev\n",
    "# !pip install pycairo cairocffi\n",
    "# !pip install igraph"
   ]
  },
  {
   "cell_type": "markdown",
   "id": "5e114e4e",
   "metadata": {},
   "source": [
    "\n",
    "# Degree distribution\n",
    "\n",
    "\n",
    "The degree distribution is crucial to understand the friendship paradox.\n",
    "We will first introduce a formal definition of the degree distribution. Then, we will learn how to plot the degree distribution of a network.\n",
    "\n",
    "![](https://barabasi.com/img/6/159.png)\n",
    "\n",
    "\n",
    "## Definition\n",
    "\n",
    "The degree of a node $i$, denoted by $d_i$, is the number of edges connected to it. With the adjacency matrix $A$, the degree of node $i$ is given by:\n",
    "\n",
    "$$\n",
    "d_i = \\sum_{j=1}^N A_{ij}.\n",
    "$$\n",
    "\n",
    "The degree distribution $p(d)$ is the probability that a node has $d$ edges.\n",
    "\n",
    "Let us compute the degree distribution of a network. We will create a Barabási-Albert network with $N=10,000$ nodes and $m=1$ edge per node."
   ]
  },
  {
   "cell_type": "code",
   "execution_count": null,
   "id": "c8f941a1",
   "metadata": {},
   "outputs": [],
   "source": [
    "import igraph\n",
    "g = igraph.Graph.Barabasi(n = 10000, m = 1) # Create a Barabási-Albert network"
   ]
  },
  {
   "cell_type": "markdown",
   "id": "cff2856b",
   "metadata": {},
   "source": [
    "Compute the degree of each node by summing the elements of the adjacency matrix along the rows."
   ]
  },
  {
   "cell_type": "code",
   "execution_count": null,
   "id": "00cdd6c0",
   "metadata": {},
   "outputs": [],
   "source": [
    "import numpy as np\n",
    "deg = np.array(g.degree())\n",
    "\n",
    "# or using the adjacency matrix\n",
    "# deg = np.sum(A, axis=1)\n",
    "# deg = deg.flatten()"
   ]
  },
  {
   "cell_type": "markdown",
   "id": "13731843",
   "metadata": {},
   "source": [
    "The degree distribution $p(d)$ can be computed by counting the number of nodes with each degree and dividing by the total number of nodes."
   ]
  },
  {
   "cell_type": "code",
   "execution_count": null,
   "id": "f97a0240",
   "metadata": {},
   "outputs": [],
   "source": [
    "p_deg = np.bincount(deg) / len(deg)"
   ]
  },
  {
   "cell_type": "markdown",
   "id": "ac0b7e8c",
   "metadata": {},
   "source": [
    "`np.bincount` returns the number of nodes with each degree. For example, `np.bincount([1, 2, 2, 3, 3, 3])` returns `[0, 1, 2, 3]`, which means there is 1 node with degree 1, 2 nodes with degree 2, and 3 nodes with degree 3.\n",
    "\n",
    "Let us plot the degree distribution. This is not as trivial as you might think... 🤔"
   ]
  },
  {
   "cell_type": "code",
   "execution_count": null,
   "id": "0c858206",
   "metadata": {},
   "outputs": [],
   "source": [
    "import seaborn as sns\n",
    "import matplotlib.pyplot as plt\n",
    "\n",
    "ax = sns.lineplot(x=np.arange(len(p_deg)), y=p_deg)\n",
    "ax.set_xlabel('Degree')\n",
    "ax.set_ylabel('Probability')"
   ]
  },
  {
   "cell_type": "markdown",
   "id": "76f33f6c",
   "metadata": {},
   "source": [
    "While it clearly shows that most nodes have small degree, it does not show the tail of the distribution clearly, and often it is this tail that is of great interest (e.g., hub nodes). To show the tail of the distribution more clearly, we can use a log-log plot."
   ]
  },
  {
   "cell_type": "code",
   "execution_count": null,
   "id": "076596a1",
   "metadata": {},
   "outputs": [],
   "source": [
    "ax = sns.lineplot(x=np.arange(len(p_deg)), y=p_deg)\n",
    "ax.set_xscale('log')\n",
    "ax.set_yscale('log')\n",
    "ax.set_ylim(np.min(p_deg[p_deg>0])*0.01, None)\n",
    "ax.set_xlabel('Degree')\n",
    "ax.set_ylabel('Probability')"
   ]
  },
  {
   "cell_type": "markdown",
   "id": "c48bc34c",
   "metadata": {},
   "source": [
    "We see fluctuations for large degree nodes because of the small number of nodes with large degree.\n",
    "One can use \"binning\" to smooth the plot. Binning involves grouping the data into bins and calculating the fraction of data within each bin. However, selecting an appropriate bin size can be challenging, and even with a well-chosen bin size, some information may be lost.\n",
    "\n",
    "A more convenient way is to use cumulative distribution function (CDF) and its complement, the complementary cumulative distribution function (CCDF).\n",
    "The CDF at degree $k$ is the probability that a randomly chosen node has degree $k'$ less than or equal to $k$ ($k' \\leq k$).\n",
    "\n",
    "$$\n",
    "\\text{CDF}(k) = P(k' \\leq k) = \\sum_{k'=0}^k p(k')\n",
    "$$\n",
    "\n",
    "The CCDF at degree $d$ is the probability that a randomly chosen node has degree $d'$ greater than $d$ ($d' > d$).\n",
    "\n",
    "$$\n",
    "\\text{CCDF}(k) = P(k' > k) = \\sum_{k'=k+1}^\\infty p(k')\n",
    "$$\n",
    "\n",
    "The benefits of using CDF and CCDF are:\n",
    "- CDF is a monotonically increasing function of $k$, and CCDF is a monotonically decreasing function of $k$.\n",
    "- CDF and CCDF can be plotted as a smooth curve on a log-log scale without binning.\n",
    "\n",
    "### Exercise 01: Compute the CDF and CCDF 🏋️‍♀️\n",
    "\n",
    "1. Plot the CDF and CCDF of the degree distribution using histogram or lineplot. Do not use `sns.ecdfplot` or similar APIs that directly compute the CDF or CCDF from the data. You are the one who computes the CDF and CCDF from the degree distribution.\n",
    "2. Provide your estimate of the slope of the CCDF in the log-log plot. (What does the slope tell us about the degree distribution? Check out the lecture note for more details.)\n",
    "\n",
    "**CDF**"
   ]
  },
  {
   "cell_type": "code",
   "execution_count": null,
   "id": "63f16f3c",
   "metadata": {},
   "outputs": [],
   "source": []
  },
  {
   "cell_type": "markdown",
   "id": "0a0dd0ee",
   "metadata": {},
   "source": [
    "**CCDF**"
   ]
  },
  {
   "cell_type": "code",
   "execution_count": null,
   "id": "d1b0fdc5",
   "metadata": {},
   "outputs": [],
   "source": []
  },
  {
   "cell_type": "markdown",
   "id": "106b7747",
   "metadata": {},
   "source": [
    "# Degree distribution of a friend\n",
    "\n",
    "We will now consider the degree distribution of a friend of a node.\n",
    "\n",
    "There are two ways to sample a friend of a node.\n",
    "1. Sample a node uniformly at random and then sample a friend of the node.\n",
    "2. Sample a *friendship* (i.e., edge) uniformly at random and then sample an end node of the edge.\n",
    "\n",
    "Let us focus on the second case and leave the first case for interested students as an exercise.\n",
    "In the second case, we sample an edge from the network.\n",
    "This sampling is biased towards nodes with many edges, i.e., a person with $d$ edges is $d$ times more likely to be sampled than someone with 1 edge.\n",
    "Thus, the degree distribution $p'(k)$ of a friend is given by\n",
    "\n",
    "$$\n",
    "p' (k) = C \\cdot k \\cdot p(k)\n",
    "$$\n",
    "\n",
    "The additional term $k$ reflects the fact that a person with $k$ friends is $k$ times more likely to be sampled than someone with 1 friend.\n",
    "Term $C$ is the normalization constant that ensures the sum of probabilities $p'(k)$ over all $k$ is 1, which can be easily computed as follows:\n",
    "\n",
    "$$\n",
    "C = \\frac{1}{\\sum_{k} k \\cdot p(k)} = \\frac{1}{\\langle k \\rangle}\n",
    "$$\n",
    "\n",
    "where $\\langle k \\rangle$ is the average degree of the network. Substituting $C$ into $p'(k)$, we get:\n",
    "\n",
    "$$\n",
    "p' (k) = \\frac{k}{\\langle k \\rangle} p(k)\n",
    "$$\n",
    "\n",
    "This is the degree distribution of a friend, and it is easy to verify that $p'(k) > p(k)$ for $k \\geq \\langle k \\rangle$, i.e., a friend has a higher chance of having a higher degree than a node. In other words, the friendship paradox 😉.\n",
    "\n",
    "\n",
    "## Exercise 02: Compare the degree distribution of a node and its friend 🏋️‍♀️\n",
    "\n",
    "Let us compare the degree distribution of a node and its friend. It consists of the following steps\n",
    "-  Get the edges in the network, from which we sample a friend.\n",
    "-  Get the degree of each friend.\n",
    "- Compute the degree distribution of friends.\n",
    "\n",
    "1. Compute the average degree of nodes and friends.\n",
    "2. Plot the CCDF and CDF of the degree distribution of nodes and friends in the same plot.\n",
    "3. Compare the slope of the CCDF of a node and its friend.\n",
    "\n",
    "**Tips:**\n",
    "You can get the edges in the network from the adjacency matrix by using `sparse.find`."
   ]
  },
  {
   "cell_type": "code",
   "execution_count": null,
   "id": "19cc2c77",
   "metadata": {},
   "outputs": [],
   "source": [
    "A = g.get_adjacency() # Get the adjacency matrix\n",
    "from scipy import sparse\n",
    "src, trg, weight = sparse.find(A)"
   ]
  },
  {
   "cell_type": "markdown",
   "id": "41ea0902",
   "metadata": {},
   "source": [
    "- `sparse.find(A)` returns the source node, target node, and edge weight of the edge.\n",
    "- `src` is the source node of the edge\n",
    "- `trg` is the target node of the edge\n",
    "- `weight` is the edge weight."
   ]
  },
  {
   "cell_type": "code",
   "execution_count": null,
   "id": "dc2b185a",
   "metadata": {},
   "outputs": [],
   "source": []
  },
  {
   "cell_type": "markdown",
   "id": "9b5ab203",
   "metadata": {},
   "source": [
    "```{footbibliography}\n",
    "```"
   ]
  }
 ],
 "metadata": {
  "kernelspec": {
   "display_name": "Python 3",
   "language": "python",
   "name": "python3"
  }
 },
 "nbformat": 4,
 "nbformat_minor": 5
}
