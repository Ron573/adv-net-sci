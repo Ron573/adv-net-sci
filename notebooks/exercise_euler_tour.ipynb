{
 "cells": [
  {
   "cell_type": "markdown",
   "id": "51b444d3",
   "metadata": {},
   "source": [
    "<a target=\"_blank\" href=\"https://colab.research.google.com/github/skojaku/adv-net-sci/blob/main/notebooks/exercise_euler_tour.ipynb\">\n",
    "  <img src=\"https://colab.research.google.com/assets/colab-badge.svg\" alt=\"Open In Colab\"/>\n",
    "</a>\n",
    "\n",
    "#  Exercise 01\n",
    "\n",
    "1. Create a network of landmasses and bridges of Binghamton, NY.\n",
    "2. Find an Euler path that crosses all the bridges of Binghamton, NY exactly once.\n",
    "\n",
    "![](https://github.com/skojaku/adv-net-sci/blob/gh-pages/_images/binghamton-map.jpg?raw=true)\n",
    "\n",
    "\n",
    "Define the edges"
   ]
  },
  {
   "cell_type": "code",
   "execution_count": null,
   "id": "de57e1e0",
   "metadata": {},
   "outputs": [],
   "source": [
    "# This is a placeholder for your code for the exercise\n",
    "edges = ..."
   ]
  },
  {
   "cell_type": "markdown",
   "id": "47f593af",
   "metadata": {},
   "source": [
    "Define the adjacnecy matrix (without for loops!)"
   ]
  },
  {
   "cell_type": "code",
   "execution_count": null,
   "id": "0cb1d25f",
   "metadata": {},
   "outputs": [],
   "source": [
    "A = ...."
   ]
  },
  {
   "cell_type": "markdown",
   "id": "db735353",
   "metadata": {},
   "source": [
    "Visualize the graph"
   ]
  },
  {
   "cell_type": "code",
   "execution_count": null,
   "id": "30264c30",
   "metadata": {},
   "outputs": [],
   "source": [
    "import igraph\n",
    "import matplotlib.pyplot as plt\n",
    "import numpy as np\n",
    "\n",
    "def visualize_graph(A, **params):\n",
    "  src, trg = np.where(np.array(A))\n",
    "  g = igraph.Graph(directed=False)\n",
    "  g.add_vertices(A.shape[0])\n",
    "  g.add_edges(list(zip(src, trg)))\n",
    "  return igraph.plot(g, **params)\n",
    "\n",
    "visualize_graph(A)"
   ]
  },
  {
   "cell_type": "markdown",
   "id": "cde45d14",
   "metadata": {},
   "source": [
    "Check if the graph has an Euler path"
   ]
  },
  {
   "cell_type": "code",
   "execution_count": null,
   "id": "6375abb9",
   "metadata": {},
   "outputs": [],
   "source": []
  },
  {
   "cell_type": "markdown",
   "id": "cf82f27b",
   "metadata": {},
   "source": [
    "#  Exercise 02\n",
    "\n",
    "Let's create a network from pre-existing data and check if it has an Euler path.\n",
    "\n",
    "1. Select a network of your choice from [Netzschleuder](https://networks.skewed.de/). For convenience, choose a network of nodes less than 5000.\n",
    "2. Download the csv version of the data by clicking something like \"3KiB\" under `csv` column.\n",
    "3. Unzip the file and find \"edges.csv\", open it with a text editor to familiarize yourself with the format.\n",
    "4. Load the data using `pandas`.\n",
    "5. Get the source and target nodes from the data to create an edge list.\n",
    "6. Construct the adjacency matrix from the edge list.\n",
    "7. Draw the graph using `igraph`.\n",
    "8. Check if the graph has an Euler path.\n",
    "\n",
    "\n",
    "Load the data by"
   ]
  },
  {
   "cell_type": "code",
   "execution_count": null,
   "id": "5f67c4a9",
   "metadata": {},
   "outputs": [],
   "source": [
    "df = pd.read_csv('edges.csv') # load the data\n",
    "display(df)"
   ]
  },
  {
   "cell_type": "markdown",
   "id": "465d2b55",
   "metadata": {},
   "source": [
    "Then, get the srce and target nodes to compose an edge list"
   ]
  },
  {
   "cell_type": "code",
   "execution_count": null,
   "id": "cbe488b7",
   "metadata": {},
   "outputs": [],
   "source": [
    "src = ...\n",
    "trg = ...\n",
    "edges = ..."
   ]
  },
  {
   "cell_type": "markdown",
   "id": "e5715fb9",
   "metadata": {},
   "source": [
    "Create the adjacency matrix from the edge list"
   ]
  },
  {
   "cell_type": "code",
   "execution_count": null,
   "id": "1ab2e17a",
   "metadata": {},
   "outputs": [],
   "source": []
  },
  {
   "cell_type": "markdown",
   "id": "02ddb689",
   "metadata": {},
   "source": [
    "Get the degree of each node"
   ]
  },
  {
   "cell_type": "code",
   "execution_count": null,
   "id": "142dd3e6",
   "metadata": {},
   "outputs": [],
   "source": [
    "deg = ..."
   ]
  },
  {
   "cell_type": "markdown",
   "id": "33f82c9a",
   "metadata": {},
   "source": [
    "Visualize the graph"
   ]
  },
  {
   "cell_type": "code",
   "execution_count": null,
   "id": "86cfdba6",
   "metadata": {},
   "outputs": [],
   "source": [
    "visualize_graph(A)"
   ]
  },
  {
   "cell_type": "markdown",
   "id": "3424d871",
   "metadata": {},
   "source": [
    "Check if the graph has an Euler path"
   ]
  },
  {
   "cell_type": "code",
   "execution_count": null,
   "id": "0e9e7a87",
   "metadata": {},
   "outputs": [],
   "source": []
  }
 ],
 "metadata": {
  "kernelspec": {
   "display_name": "Python 3 (ipykernel)",
   "language": "python",
   "name": "python3"
  }
 },
 "nbformat": 4,
 "nbformat_minor": 5
}
