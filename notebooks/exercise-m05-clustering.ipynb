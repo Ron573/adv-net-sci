{
 "cells": [
  {
   "cell_type": "markdown",
   "id": "44620ea9",
   "metadata": {},
   "source": [
    "<a target=\"_blank\" href=\"https://colab.research.google.com/github/skojaku/adv-net-sci/blob/main/notebooks/exercise-m05-clustering.ipynb\">\n",
    "  <img src=\"https://colab.research.google.com/assets/colab-badge.svg\" alt=\"Open In Colab\"/>\n",
    "</a>\n",
    "\n",
    "# Hands-on: Clustering"
   ]
  },
  {
   "cell_type": "code",
   "execution_count": null,
   "id": "9663f75a",
   "metadata": {},
   "outputs": [],
   "source": [
    "# If you are using Google Colab, uncomment the following line to install igraph\n",
    "# !sudo apt install libcairo2-dev pkg-config python3-dev\n",
    "# !pip install pycairo cairocffi\n",
    "# !pip install igraph"
   ]
  },
  {
   "cell_type": "markdown",
   "id": "427b70bf",
   "metadata": {},
   "source": [
    "## Modularity maximization\n",
    "\n",
    "Let us showcase how to use `igraph` to detect communities with modularity. We will use the Karate Club Network as an example."
   ]
  },
  {
   "cell_type": "code",
   "execution_count": null,
   "id": "d2865c5a",
   "metadata": {},
   "outputs": [],
   "source": [
    "import igraph\n",
    "g = igraph.Graph.Famous(\"Zachary\")\n",
    "igraph.plot(g, vertex_size=20)"
   ]
  },
  {
   "cell_type": "markdown",
   "id": "f6d6e81d",
   "metadata": {},
   "source": [
    "When it comes to maximizing modularity, there are a variety of algorithms to choose from.\n",
    "Two of the most popular ones are the `Louvain` and `Leiden` algorithms, both of which are implemented in `igraph`. The Louvain algorithm has been around for quite some time and is a classic choice, while the Leiden algorithm is a newer bee that often yields better accuracy. For our example, we'll be using the `Leiden` algorithm, and I think you'll find it really effective!"
   ]
  },
  {
   "cell_type": "code",
   "execution_count": null,
   "id": "9f8f3b03",
   "metadata": {},
   "outputs": [],
   "source": [
    "communities = g.community_leiden(resolution=1, objective_function= \"modularity\")"
   ]
  },
  {
   "cell_type": "markdown",
   "id": "7ce9bc8f",
   "metadata": {},
   "source": [
    "What is `resolution`? It is a parameter that helps us tackle the resolution limit of the modularity maximization algorithm {footcite}`fortunato2007resolution`!\n",
    "In simple terms, when we use the resolution parameter $\\rho$, the modularity formula can be rewritten as\n",
    " follow:\n",
    "\n",
    "$$\n",
    "Q(M) = \\frac{1}{2m} \\sum_{i=1}^n \\sum_{j=1}^n \\left(A_{ij} - \\rho \\frac{k_i k_j}{2m}\\right) \\delta(c_i, c_j)\n",
    "$$\n",
    "\n",
    "Here, the parameter $\\rho$ plays a crucial role in balancing the positive and negative parts of the equation.\n",
    "The resolution limit comes into play because of the diminishing effect of the negative term as the number of edges $m$ increases.\n",
    "The parameter $\\rho$ can adjust this balance and allow us to circumvent the resolution limit.\n",
    "\n",
    "What is `communities`? This is a list of communities, where each community is represented by a list of nodes by their indices."
   ]
  },
  {
   "cell_type": "code",
   "execution_count": null,
   "id": "908c5fcf",
   "metadata": {},
   "outputs": [],
   "source": [
    "print(communities)\n"
   ]
  },
  {
   "cell_type": "markdown",
   "id": "8cdfcc49",
   "metadata": {},
   "source": [
    "Let us visualize the communities by coloring the nodes in the graph."
   ]
  },
  {
   "cell_type": "code",
   "execution_count": null,
   "id": "f78cb66a",
   "metadata": {},
   "outputs": [],
   "source": [
    "import seaborn as sns\n",
    "community_membership = communities.membership\n",
    "palette = sns.color_palette().as_hex()\n",
    "igraph.plot(g, vertex_color=[palette[i] for i in community_membership])"
   ]
  },
  {
   "cell_type": "markdown",
   "id": "49682f03",
   "metadata": {},
   "source": [
    "- `community_membership`: This is a list of community membership for each node.\n",
    "- `palette`: This is a list of colors to use for the communities.\n",
    "- `igraph.plot(g, vertex_color=[palette[i] for i in community_membership])`: This plots the graph 'g' with nodes colored by their community.\n",
    "\n",
    "### Exercise 01 🏋️‍♀️💪🧠\n",
    "\n",
    "1. Select a network of your choice from [Netzschleuder](https://networks.skewed.de/). For convenience, choose a network of nodes less than 5000.\n",
    "2. Download the csv version of the data by clicking something like \"3KiB\" under `csv` column.\n",
    "3. Unzip the file and find \"edges.csv\", open it with a text editor to familiarize yourself with the format.\n",
    "4. Load the data using `pandas`.\n",
    "5. Get the source and target nodes from the data to create an edge list.\n",
    "6. Construct a graph from the edge list, either using `igraph` or `scipy`.\n",
    "7. Find communities by maximizing the modularity and visualize them.\n",
    "8. Try at least three different values of the resolution parameter and observe how the community structure changes."
   ]
  },
  {
   "cell_type": "code",
   "execution_count": null,
   "id": "74c17512",
   "metadata": {},
   "outputs": [],
   "source": [
    "# Your code here"
   ]
  },
  {
   "cell_type": "markdown",
   "id": "81cdc5c4",
   "metadata": {},
   "source": [
    "## Stochstic Block Model\n",
    "\n",
    "Let us turn the SBM as our community detection tool using [graph-tool](https://graph-tool.skewed.de/). This is a powerful library for network analysis, with a focus on the stochastic block model."
   ]
  },
  {
   "cell_type": "code",
   "execution_count": null,
   "id": "07120d49",
   "metadata": {},
   "outputs": [],
   "source": [
    "#\n",
    "# Uncomment the following code if you are using Google Colab\n",
    "#\n",
    "#!wget https://downloads.skewed.de/skewed-keyring/skewed-keyring_1.0_all_$(lsb_release -s -c).deb\n",
    "#!dpkg -i skewed-keyring_1.0_all_$(lsb_release -s -c).deb\n",
    "#!echo \"deb [signed-by=/usr/share/keyrings/skewed-keyring.gpg] https://downloads.skewed.de/apt $(lsb_release -s -c) main\" > /etc/apt/sources.list.d/skewed.list\n",
    "#!apt-get update\n",
    "#!apt-get install python3-graph-tool python3-matplotlib python3-cairo\n",
    "#!apt purge python3-cairo\n",
    "#!apt install libcairo2-dev pkg-config python3-dev\n",
    "#!pip install --force-reinstall pycairo\n",
    "#!pip install zstandard"
   ]
  },
  {
   "cell_type": "markdown",
   "id": "dd3f9121",
   "metadata": {},
   "source": [
    "We will identify the communities using the stochastic block model as follows.\n",
    "First, we will convert the graph object in igraph to that in graph-tool."
   ]
  },
  {
   "cell_type": "code",
   "execution_count": null,
   "id": "d273011f",
   "metadata": {},
   "outputs": [],
   "source": [
    "import graph_tool.all  as gt\n",
    "import numpy as np\n",
    "import igraph\n",
    "\n",
    "# igraph object\n",
    "g = igraph.Graph.Famous(\"Zachary\")\n",
    "\n",
    "# Set random seed for reproducibility\n",
    "np.random.seed(42)\n",
    "\n",
    "# Convert the graph object in igraph to that in graph-tool\n",
    "edges = g.get_edgelist()\n",
    "r, c = zip(*edges)\n",
    "g_gt = gt.Graph(directed=False)\n",
    "g_gt.add_edge_list(np.vstack([r, c]).T)"
   ]
  },
  {
   "cell_type": "markdown",
   "id": "53956e13",
   "metadata": {},
   "source": [
    "Then, we will fit the stochastic block model to the graph."
   ]
  },
  {
   "cell_type": "code",
   "execution_count": null,
   "id": "4c019a8a",
   "metadata": {},
   "outputs": [],
   "source": [
    "# Fit the stochastic block model\n",
    "state = gt.minimize_blockmodel_dl(\n",
    "     g_gt,\n",
    "     state_args={\"deg_corr\": False, \"B_min\":2, \"B_max\":10},\n",
    ")\n",
    "b = state.get_blocks()"
   ]
  },
  {
   "cell_type": "markdown",
   "id": "f441aeaa",
   "metadata": {},
   "source": [
    "- `B_min` and `B_max` are the minimum and maximum number of communities to consider.\n",
    "- `deg_corr` is a boolean flag to switch to the degree-corrected SBM {footcite}`karrer2011stochastic`.\n",
    "\n",
    "\n",
    "```{note}\n",
    "Here's a fun fact: the likelihood maximization on its own can't figure out how many communities there should be. But `graph-tool` has a clever trick to circumvent this limitation.\n",
    "`graph-tool` actually fits multiple SBMs, each with a different number of communities. Then, it picks the most plausible one based on a model selection criterion.\n",
    "```\n",
    "\n",
    "Let's visualize the communities to see what we got."
   ]
  },
  {
   "cell_type": "code",
   "execution_count": null,
   "id": "a6a6afee",
   "metadata": {
    "tags": [
     "hide-input"
    ]
   },
   "outputs": [],
   "source": [
    "# Convert the block assignments to a list\n",
    "community_membership = b.get_array()\n",
    "\n",
    "# The community labels may consist of non-consecutive integers, e.g., 10, 8, 1, 4, ...\n",
    "# So we reassign the community labels to be 0, 1, 2, ...\n",
    "community_membership = np.unique(community_membership, return_inverse=True)[1]\n",
    "community_membership"
   ]
  },
  {
   "cell_type": "code",
   "execution_count": null,
   "id": "583801ad",
   "metadata": {},
   "outputs": [],
   "source": [
    "# Create a color palette\n",
    "import matplotlib.pyplot as plt\n",
    "import seaborn as sns\n",
    "palette = sns.color_palette().as_hex()\n",
    "# Plot the graph with nodes colored by their community\n",
    "fig, ax = plt.subplots(figsize=(10, 8))\n",
    "igraph.plot(\n",
    "    g,\n",
    "    target=ax,\n",
    "    vertex_color=[palette[i] for i in community_membership],\n",
    ")\n",
    "plt.axis('off')\n",
    "plt.tight_layout()\n",
    "plt.show()"
   ]
  },
  {
   "cell_type": "markdown",
   "id": "7e1d68af",
   "metadata": {},
   "source": [
    "What we're seeing here isn't a failure at all. In fact, it's the best partition according to our stochastic block model. The model has discovered something called a **core-periphery structure** {footcite}`borgatti2000models`. Let me break that down:\n",
    "\n",
    "- Think of a major international airport (the core) and smaller regional airports (the periphery).\n",
    "- Major international airports have many flights connecting to each other (densely connected).\n",
    "- Smaller regional airports have fewer connections among themselves (sparsely connected).\n",
    "- Many regional airports have flights to major hubs (periphery connected to the core).\n",
    "\n",
    "That's exactly what our model found in this network.\n",
    "\n",
    "If we look at the adjacency matrix, we would see something that looks like an upside-down \"L\". This shape is like a signature for core-periphery structures."
   ]
  },
  {
   "cell_type": "code",
   "execution_count": null,
   "id": "7da0fe9a",
   "metadata": {},
   "outputs": [],
   "source": [
    "# Convert igraph Graph to adjacency matrix\n",
    "A = np.array(g.get_adjacency().data)\n",
    "\n",
    "# Sort nodes based on their community (core first, then periphery)\n",
    "sorted_indices = np.argsort(community_membership)\n",
    "A_sorted = A[sorted_indices][:, sorted_indices]\n",
    "\n",
    "# Plot the sorted adjacency matrix\n",
    "plt.figure(figsize=(10, 8))\n",
    "plt.imshow(A_sorted, cmap='binary')\n",
    "plt.title(\"Sorted Adjacency Matrix: Core-Periphery Structure\")\n",
    "plt.xlabel(\"Node Index (sorted)\")\n",
    "plt.ylabel(\"Node Index (sorted)\")\n",
    "\n",
    "plt.tight_layout()\n",
    "plt.show()"
   ]
  },
  {
   "cell_type": "markdown",
   "id": "594b60f4",
   "metadata": {},
   "source": [
    "### Exercise 02 🏋️‍♀️💪🧠\n",
    "\n",
    "1. Select a network of your choice from [Netzschleuder](https://networks.skewed.de/). For convenience, choose a network of nodes less than 5000.\n",
    "2. Download the csv version of the data by clicking something like \"3KiB\" under `csv` column.\n",
    "3. Unzip the file and find \"edges.csv\", open it with a text editor to familiarize yourself with the format.\n",
    "4. Load the data using `pandas`.\n",
    "5. Get the source and target nodes from the data to create an edge list.\n",
    "6. Construct a graph from the edge list, either using `igraph` or `scipy`.\n",
    "7. Find communities by fitting the stochastic block model and visualize them.\n",
    "8. Try `deg_corr=True` and compare the results with those from `deg_corr=False`.\n",
    "\n",
    "```{footbibliography}\n",
    "```"
   ]
  }
 ],
 "metadata": {
  "jupytext": {
   "cell_metadata_filter": "-all"
  },
  "kernelspec": {
   "display_name": "Python 3 (ipykernel)",
   "language": "python",
   "name": "python3"
  }
 },
 "nbformat": 4,
 "nbformat_minor": 5
}
