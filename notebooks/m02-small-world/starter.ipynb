{
  "cells": [
    {
      "cell_type": "markdown",
      "metadata": {
        "id": "view-in-github",
        "colab_type": "text"
      },
      "source": [
        "<a href=\"https://colab.research.google.com/github/Ron573/adv-net-sci/blob/main/notebooks/m02-small-world/starter.ipynb\" target=\"_parent\"><img src=\"https://colab.research.google.com/assets/colab-badge.svg\" alt=\"Open In Colab\"/></a>"
      ]
    },
    {
      "cell_type": "markdown",
      "id": "55c93f9a",
      "metadata": {
        "id": "55c93f9a"
      },
      "source": [
        "<a target=\"_blank\" href=\"https://colab.research.google.com/github/skojaku/adv-net-sci/blob/main/notebooks/m02-small-world/starter.ipynb\">\n",
        "  <img src=\"https://colab.research.google.com/assets/colab-badge.svg\" alt=\"Open In Colab\"/>\n",
        "</a>\n",
        "\n",
        "# Starter"
      ]
    },
    {
      "cell_type": "code",
      "source": [
        "!apt-get install -y libcairo2-dev pkg-config python3-dev  # system libraries\n",
        "!pip install pycairo cairocffi igraph\n"
      ],
      "metadata": {
        "colab": {
          "base_uri": "https://localhost:8080/"
        },
        "id": "ZlQIZ4zB9Ziu",
        "outputId": "7eed3ac8-1f5e-43ea-e531-513ebf14af5b"
      },
      "id": "ZlQIZ4zB9Ziu",
      "execution_count": 2,
      "outputs": [
        {
          "output_type": "stream",
          "name": "stdout",
          "text": [
            "Reading package lists... Done\n",
            "Building dependency tree... Done\n",
            "Reading state information... Done\n",
            "libcairo2-dev is already the newest version (1.16.0-5ubuntu2).\n",
            "python3-dev is already the newest version (3.10.6-1~22.04.1).\n",
            "python3-dev set to manually installed.\n",
            "The following packages were automatically installed and are no longer required:\n",
            "  libbz2-dev libpkgconf3 libreadline-dev\n",
            "Use 'apt autoremove' to remove them.\n",
            "The following packages will be REMOVED:\n",
            "  pkgconf r-base-dev\n",
            "The following NEW packages will be installed:\n",
            "  pkg-config\n",
            "0 upgraded, 1 newly installed, 2 to remove and 38 not upgraded.\n",
            "Need to get 48.2 kB of archives.\n",
            "After this operation, 10.2 kB disk space will be freed.\n",
            "Get:1 http://archive.ubuntu.com/ubuntu jammy/main amd64 pkg-config amd64 0.29.2-1ubuntu3 [48.2 kB]\n",
            "Fetched 48.2 kB in 0s (695 kB/s)\n",
            "(Reading database ... 126675 files and directories currently installed.)\n",
            "Removing r-base-dev (4.5.1-1.2204.0) ...\n",
            "dpkg: pkgconf: dependency problems, but removing anyway as you requested:\n",
            " libsndfile1-dev:amd64 depends on pkg-config; however:\n",
            "  Package pkg-config is not installed.\n",
            "  Package pkgconf which provides pkg-config is to be removed.\n",
            " libopencv-dev depends on pkg-config; however:\n",
            "  Package pkg-config is not installed.\n",
            "  Package pkgconf which provides pkg-config is to be removed.\n",
            " libmkl-dev:amd64 depends on pkg-config; however:\n",
            "  Package pkg-config is not installed.\n",
            "  Package pkgconf which provides pkg-config is to be removed.\n",
            " libjack-dev depends on pkg-config; however:\n",
            "  Package pkg-config is not installed.\n",
            "  Package pkgconf which provides pkg-config is to be removed.\n",
            " libgphoto2-dev:amd64 depends on pkg-config; however:\n",
            "  Package pkg-config is not installed.\n",
            "  Package pkgconf which provides pkg-config is to be removed.\n",
            " libglib2.0-dev:amd64 depends on pkg-config; however:\n",
            "  Package pkg-config is not installed.\n",
            "  Package pkgconf which provides pkg-config is to be removed.\n",
            " libfontconfig-dev:amd64 depends on pkg-config; however:\n",
            "  Package pkg-config is not installed.\n",
            "  Package pkgconf which provides pkg-config is to be removed.\n",
            "\n",
            "Removing pkgconf (1.8.0-1) ...\n",
            "Removing 'diversion of /usr/bin/pkg-config to /usr/bin/pkg-config.real by pkgconf'\n",
            "Removing 'diversion of /usr/share/aclocal/pkg.m4 to /usr/share/aclocal/pkg.real.m4 by pkgconf'\n",
            "Removing 'diversion of /usr/share/man/man1/pkg-config.1.gz to /usr/share/man/man1/pkg-config.real.1.gz by pkgconf'\n",
            "Removing 'diversion of /usr/share/pkg-config-crosswrapper to /usr/share/pkg-config-crosswrapper.real by pkgconf'\n",
            "Selecting previously unselected package pkg-config.\n",
            "(Reading database ... 126651 files and directories currently installed.)\n",
            "Preparing to unpack .../pkg-config_0.29.2-1ubuntu3_amd64.deb ...\n",
            "Unpacking pkg-config (0.29.2-1ubuntu3) ...\n",
            "Setting up pkg-config (0.29.2-1ubuntu3) ...\n",
            "Processing triggers for man-db (2.10.2-1) ...\n",
            "Requirement already satisfied: pycairo in /usr/local/lib/python3.12/dist-packages (1.28.0)\n",
            "Collecting cairocffi\n",
            "  Downloading cairocffi-1.7.1-py3-none-any.whl.metadata (3.3 kB)\n",
            "Collecting igraph\n",
            "  Downloading igraph-0.11.9-cp39-abi3-manylinux_2_17_x86_64.manylinux2014_x86_64.whl.metadata (4.4 kB)\n",
            "Requirement already satisfied: cffi>=1.1.0 in /usr/local/lib/python3.12/dist-packages (from cairocffi) (2.0.0)\n",
            "Collecting texttable>=1.6.2 (from igraph)\n",
            "  Downloading texttable-1.7.0-py2.py3-none-any.whl.metadata (9.8 kB)\n",
            "Requirement already satisfied: pycparser in /usr/local/lib/python3.12/dist-packages (from cffi>=1.1.0->cairocffi) (2.23)\n",
            "Downloading cairocffi-1.7.1-py3-none-any.whl (75 kB)\n",
            "\u001b[2K   \u001b[90m━━━━━━━━━━━━━━━━━━━━━━━━━━━━━━━━━━━━━━━━\u001b[0m \u001b[32m75.6/75.6 kB\u001b[0m \u001b[31m4.3 MB/s\u001b[0m eta \u001b[36m0:00:00\u001b[0m\n",
            "\u001b[?25hDownloading igraph-0.11.9-cp39-abi3-manylinux_2_17_x86_64.manylinux2014_x86_64.whl (4.4 MB)\n",
            "\u001b[2K   \u001b[90m━━━━━━━━━━━━━━━━━━━━━━━━━━━━━━━━━━━━━━━━\u001b[0m \u001b[32m4.4/4.4 MB\u001b[0m \u001b[31m90.7 MB/s\u001b[0m eta \u001b[36m0:00:00\u001b[0m\n",
            "\u001b[?25hDownloading texttable-1.7.0-py2.py3-none-any.whl (10 kB)\n",
            "Installing collected packages: texttable, igraph, cairocffi\n",
            "Successfully installed cairocffi-1.7.1 igraph-0.11.9 texttable-1.7.0\n"
          ]
        }
      ]
    },
    {
      "cell_type": "code",
      "execution_count": 3,
      "metadata": {
        "id": "ZmUkt-R-5z-A"
      },
      "outputs": [],
      "source": [
        "import igraph\n",
        "import pandas as pd\n",
        "import numpy as np\n",
        "import scipy\n",
        "import matplotlib.pyplot as plt\n",
        "import seaborn as sns"
      ],
      "id": "ZmUkt-R-5z-A"
    },
    {
      "cell_type": "code",
      "execution_count": 4,
      "id": "22a24e97",
      "metadata": {
        "colab": {
          "base_uri": "https://localhost:8080/"
        },
        "id": "22a24e97",
        "outputId": "553447da-98b7-45de-bff1-f3475317eed9"
      },
      "outputs": [
        {
          "output_type": "stream",
          "name": "stdout",
          "text": [
            "Reading package lists... Done\n",
            "Building dependency tree... Done\n",
            "Reading state information... Done\n",
            "libcairo2-dev is already the newest version (1.16.0-5ubuntu2).\n",
            "pkg-config is already the newest version (0.29.2-1ubuntu3).\n",
            "python3-dev is already the newest version (3.10.6-1~22.04.1).\n",
            "The following packages were automatically installed and are no longer required:\n",
            "  libbz2-dev libpkgconf3 libreadline-dev\n",
            "Use 'sudo apt autoremove' to remove them.\n",
            "0 upgraded, 0 newly installed, 0 to remove and 38 not upgraded.\n",
            "Requirement already satisfied: pycairo in /usr/local/lib/python3.12/dist-packages (1.28.0)\n",
            "Requirement already satisfied: cairocffi in /usr/local/lib/python3.12/dist-packages (1.7.1)\n",
            "Requirement already satisfied: cffi>=1.1.0 in /usr/local/lib/python3.12/dist-packages (from cairocffi) (2.0.0)\n",
            "Requirement already satisfied: pycparser in /usr/local/lib/python3.12/dist-packages (from cffi>=1.1.0->cairocffi) (2.23)\n",
            "Requirement already satisfied: igraph in /usr/local/lib/python3.12/dist-packages (0.11.9)\n",
            "Requirement already satisfied: texttable>=1.6.2 in /usr/local/lib/python3.12/dist-packages (from igraph) (1.7.0)\n"
          ]
        }
      ],
      "source": [
        "# If you are using Google Colab, uncomment the following line to install igraph\n",
        "!sudo apt install libcairo2-dev pkg-config python3-dev\n",
        "!pip install pycairo cairocffi\n",
        "!pip install igraph"
      ]
    },
    {
      "cell_type": "markdown",
      "id": "d4b99609",
      "metadata": {
        "id": "d4b99609"
      },
      "source": [
        "## Undirected Graph"
      ]
    },
    {
      "cell_type": "code",
      "execution_count": 5,
      "id": "650f8648",
      "metadata": {
        "id": "650f8648"
      },
      "outputs": [],
      "source": [
        "edge_list = [(0, 1), (1, 2), (0, 2), (0, 3)]"
      ]
    },
    {
      "cell_type": "code",
      "execution_count": 6,
      "id": "7008f736",
      "metadata": {
        "colab": {
          "base_uri": "https://localhost:8080/",
          "height": 528
        },
        "id": "7008f736",
        "outputId": "a394c9ee-d3a9-4298-a4e4-8aaa83f18ff6"
      },
      "outputs": [
        {
          "output_type": "stream",
          "name": "stdout",
          "text": [
            "IGRAPH UN-- 4 4 -- \n",
            "+ attr: name (v)\n",
            "Degrees: [3, 2, 2, 1]\n",
            "Clustering coefficient (C): 0.7777777777777777\n",
            "Average shortest path length (L): 1.3333333333333333\n",
            "Adjacency matrix shape: (4, 4)\n"
          ]
        },
        {
          "output_type": "execute_result",
          "data": {
            "text/plain": [
              "<igraph.drawing.cairo.plot.CairoPlot at 0x7b99fd8326c0>"
            ],
            "image/svg+xml": "<?xml version=\"1.0\" encoding=\"UTF-8\"?>\n<svg xmlns=\"http://www.w3.org/2000/svg\" xmlns:xlink=\"http://www.w3.org/1999/xlink\" width=\"400pt\" height=\"300pt\" viewBox=\"0 0 400 300\" version=\"1.1\">\n<g id=\"surface2\">\n<rect x=\"0\" y=\"0\" width=\"400\" height=\"300\" style=\"fill:rgb(100%,100%,100%);fill-opacity:1;stroke:none;\"/>\n<path style=\"fill:none;stroke-width:1;stroke-linecap:butt;stroke-linejoin:miter;stroke:rgb(26.666667%,26.666667%,26.666667%);stroke-opacity:1;stroke-miterlimit:10;\" d=\"M 380 150 L 200 280 \"/>\n<path style=\"fill:none;stroke-width:1;stroke-linecap:butt;stroke-linejoin:miter;stroke:rgb(26.666667%,26.666667%,26.666667%);stroke-opacity:1;stroke-miterlimit:10;\" d=\"M 200 280 L 20 150 \"/>\n<path style=\"fill:none;stroke-width:1;stroke-linecap:butt;stroke-linejoin:miter;stroke:rgb(26.666667%,26.666667%,26.666667%);stroke-opacity:1;stroke-miterlimit:10;\" d=\"M 380 150 L 20 150 \"/>\n<path style=\"fill:none;stroke-width:1;stroke-linecap:butt;stroke-linejoin:miter;stroke:rgb(26.666667%,26.666667%,26.666667%);stroke-opacity:1;stroke-miterlimit:10;\" d=\"M 380 150 L 200 20 \"/>\n<path style=\"fill-rule:nonzero;fill:rgb(100%,0%,0%);fill-opacity:1;stroke-width:1;stroke-linecap:butt;stroke-linejoin:miter;stroke:rgb(0%,0%,0%);stroke-opacity:1;stroke-miterlimit:10;\" d=\"M 390 150 C 390 155.523438 385.523438 160 380 160 C 374.476562 160 370 155.523438 370 150 C 370 144.476562 374.476562 140 380 140 C 385.523438 140 390 144.476562 390 150 \"/>\n<path style=\"fill-rule:nonzero;fill:rgb(100%,0%,0%);fill-opacity:1;stroke-width:1;stroke-linecap:butt;stroke-linejoin:miter;stroke:rgb(0%,0%,0%);stroke-opacity:1;stroke-miterlimit:10;\" d=\"M 210 280 C 210 285.523438 205.523438 290 200 290 C 194.476562 290 190 285.523438 190 280 C 190 274.476562 194.476562 270 200 270 C 205.523438 270 210 274.476562 210 280 \"/>\n<path style=\"fill-rule:nonzero;fill:rgb(100%,0%,0%);fill-opacity:1;stroke-width:1;stroke-linecap:butt;stroke-linejoin:miter;stroke:rgb(0%,0%,0%);stroke-opacity:1;stroke-miterlimit:10;\" d=\"M 30 150 C 30 155.523438 25.523438 160 20 160 C 14.476562 160 10 155.523438 10 150 C 10 144.476562 14.476562 140 20 140 C 25.523438 140 30 144.476562 30 150 \"/>\n<path style=\"fill-rule:nonzero;fill:rgb(100%,0%,0%);fill-opacity:1;stroke-width:1;stroke-linecap:butt;stroke-linejoin:miter;stroke:rgb(0%,0%,0%);stroke-opacity:1;stroke-miterlimit:10;\" d=\"M 210 20 C 210 25.523438 205.523438 30 200 30 C 194.476562 30 190 25.523438 190 20 C 190 14.476562 194.476562 10 200 10 C 205.523438 10 210 14.476562 210 20 \"/>\n</g>\n</svg>\n"
          },
          "metadata": {
            "image/svg+xml": {
              "isolated": true
            }
          },
          "execution_count": 6
        }
      ],
      "source": [
        "from igraph import Graph, plot\n",
        "\n",
        "# Build the undirected graph\n",
        "g = Graph(edges=edge_list, directed=False)\n",
        "g.vs[\"name\"] = list(range(g.vcount()))\n",
        "\n",
        "# Graph summary and degrees\n",
        "print(g.summary())\n",
        "print(\"Degrees:\", g.degree())\n",
        "\n",
        "# Compute metrics\n",
        "C = g.transitivity_avglocal_undirected()   # clustering coefficient\n",
        "L = g.average_path_length()                # average path length\n",
        "print(\"Clustering coefficient (C):\", C)\n",
        "print(\"Average shortest path length (L):\", L)\n",
        "\n",
        "# Adjacency matrix\n",
        "A = g.get_adjacency_sparse()\n",
        "print(\"Adjacency matrix shape:\", A.shape)\n",
        "\n",
        "# Optional visualization\n",
        "layout = g.layout(\"circle\")\n",
        "plot(g, layout=layout, bbox=(400, 300))\n"
      ]
    },
    {
      "cell_type": "code",
      "execution_count": null,
      "id": "0b632b2d",
      "metadata": {
        "id": "0b632b2d"
      },
      "outputs": [],
      "source": []
    },
    {
      "cell_type": "markdown",
      "id": "b8364fd4",
      "metadata": {
        "id": "b8364fd4"
      },
      "source": [
        "## Directed Graph"
      ]
    },
    {
      "cell_type": "code",
      "execution_count": 7,
      "metadata": {
        "id": "eoADqte35z-C"
      },
      "outputs": [],
      "source": [
        "edge_list =[(0, 1), (1, 2), (2, 1), (2, 3), (2, 5), (3, 1), (3, 4), (3, 5), (4, 5), (5, 3)]"
      ],
      "id": "eoADqte35z-C"
    },
    {
      "cell_type": "code",
      "execution_count": 10,
      "id": "820d35a9",
      "metadata": {
        "colab": {
          "base_uri": "https://localhost:8080/",
          "height": 635
        },
        "id": "820d35a9",
        "outputId": "0d49c7a9-f788-4226-9112-3615e0fbdac6"
      },
      "outputs": [
        {
          "output_type": "stream",
          "name": "stdout",
          "text": [
            "IGRAPH DN-- 6 10 -- \n",
            "+ attr: name (v)\n",
            "Out-degrees: [1, 1, 3, 3, 1, 1]\n",
            "In-degrees: [0, 3, 1, 2, 1, 3]\n",
            "Reciprocity: 0.4\n",
            "Strongly connected components: 2\n",
            "Weakly connected components: 1\n",
            "Average path length (directed): 1.96\n"
          ]
        },
        {
          "output_type": "stream",
          "name": "stderr",
          "text": [
            "/tmp/ipython-input-1709697648.py:14: DeprecationWarning: Graph.clusters() is deprecated; use Graph.connected_components() instead\n",
            "  scc = gd.clusters(mode=\"STRONG\")\n",
            "/tmp/ipython-input-1709697648.py:15: DeprecationWarning: Graph.clusters() is deprecated; use Graph.connected_components() instead\n",
            "  wcc = gd.clusters(mode=\"WEAK\")\n"
          ]
        },
        {
          "output_type": "execute_result",
          "data": {
            "text/plain": [
              "<igraph.drawing.cairo.plot.CairoPlot at 0x7b99f37fbad0>"
            ],
            "image/svg+xml": "<?xml version=\"1.0\" encoding=\"UTF-8\"?>\n<svg xmlns=\"http://www.w3.org/2000/svg\" xmlns:xlink=\"http://www.w3.org/1999/xlink\" width=\"400pt\" height=\"300pt\" viewBox=\"0 0 400 300\" version=\"1.1\">\n<g id=\"surface14\">\n<rect x=\"0\" y=\"0\" width=\"400\" height=\"300\" style=\"fill:rgb(100%,100%,100%);fill-opacity:1;stroke:none;\"/>\n<path style=\"fill:none;stroke-width:1;stroke-linecap:butt;stroke-linejoin:miter;stroke:rgb(26.666667%,26.666667%,26.666667%);stroke-opacity:1;stroke-miterlimit:10;\" d=\"M 380 150 L 303.8125 260.046875 \"/>\n<path style=\" stroke:none;fill-rule:nonzero;fill:rgb(26.666667%,26.666667%,26.666667%);fill-opacity:1;\" d=\"M 295.691406 271.777344 L 300 257.410156 L 307.625 262.6875 L 295.691406 271.777344 \"/>\n<path style=\"fill:none;stroke-width:1;stroke-linecap:butt;stroke-linejoin:miter;stroke:rgb(26.666667%,26.666667%,26.666667%);stroke-opacity:1;stroke-miterlimit:10;\" d=\"M 290 280 C 240.105469 235.222656 184.109375 226.925781 129.722656 265.875 \"/>\n<path style=\" stroke:none;fill-rule:nonzero;fill:rgb(26.666667%,26.666667%,26.666667%);fill-opacity:1;\" d=\"M 118.125 274.179688 L 127.023438 262.105469 L 132.421875 269.644531 L 118.125 274.179688 \"/>\n<path style=\"fill:none;stroke-width:1;stroke-linecap:butt;stroke-linejoin:miter;stroke:rgb(26.666667%,26.666667%,26.666667%);stroke-opacity:1;stroke-miterlimit:10;\" d=\"M 110 280 C 159.894531 324.777344 215.890625 333.074219 270.277344 294.125 \"/>\n<path style=\" stroke:none;fill-rule:nonzero;fill:rgb(26.666667%,26.666667%,26.666667%);fill-opacity:1;\" d=\"M 281.875 285.820312 L 272.976562 297.894531 L 267.578125 290.355469 L 281.875 285.820312 \"/>\n<path style=\"fill:none;stroke-width:1;stroke-linecap:butt;stroke-linejoin:miter;stroke:rgb(26.666667%,26.666667%,26.666667%);stroke-opacity:1;stroke-miterlimit:10;\" d=\"M 110 280 L 33.8125 169.953125 \"/>\n<path style=\" stroke:none;fill-rule:nonzero;fill:rgb(26.666667%,26.666667%,26.666667%);fill-opacity:1;\" d=\"M 25.691406 158.222656 L 37.625 167.3125 L 30 172.589844 L 25.691406 158.222656 \"/>\n<path style=\"fill:none;stroke-width:1;stroke-linecap:butt;stroke-linejoin:miter;stroke:rgb(26.666667%,26.666667%,26.666667%);stroke-opacity:1;stroke-miterlimit:10;\" d=\"M 110 280 L 276.1875 39.953125 \"/>\n<path style=\" stroke:none;fill-rule:nonzero;fill:rgb(26.666667%,26.666667%,26.666667%);fill-opacity:1;\" d=\"M 284.308594 28.222656 L 280 42.589844 L 272.375 37.3125 L 284.308594 28.222656 \"/>\n<path style=\"fill:none;stroke-width:1;stroke-linecap:butt;stroke-linejoin:miter;stroke:rgb(26.666667%,26.666667%,26.666667%);stroke-opacity:1;stroke-miterlimit:10;\" d=\"M 20 150 L 268.136719 269.472656 \"/>\n<path style=\" stroke:none;fill-rule:nonzero;fill:rgb(26.666667%,26.666667%,26.666667%);fill-opacity:1;\" d=\"M 280.988281 275.660156 L 266.125 273.648438 L 270.148438 265.296875 L 280.988281 275.660156 \"/>\n<path style=\"fill:none;stroke-width:1;stroke-linecap:butt;stroke-linejoin:miter;stroke:rgb(26.666667%,26.666667%,26.666667%);stroke-opacity:1;stroke-miterlimit:10;\" d=\"M 20 150 L 96.1875 39.953125 \"/>\n<path style=\" stroke:none;fill-rule:nonzero;fill:rgb(26.666667%,26.666667%,26.666667%);fill-opacity:1;\" d=\"M 104.308594 28.222656 L 100 42.589844 L 92.375 37.3125 L 104.308594 28.222656 \"/>\n<path style=\"fill:none;stroke-width:1;stroke-linecap:butt;stroke-linejoin:miter;stroke:rgb(26.666667%,26.666667%,26.666667%);stroke-opacity:1;stroke-miterlimit:10;\" d=\"M 20 150 C 133.3125 178.441406 223.398438 144.351562 278.515625 41.441406 \"/>\n<path style=\" stroke:none;fill-rule:nonzero;fill:rgb(26.666667%,26.666667%,26.666667%);fill-opacity:1;\" d=\"M 285.25 28.867188 L 282.601562 43.628906 L 274.429688 39.253906 L 285.25 28.867188 \"/>\n<path style=\"fill:none;stroke-width:1;stroke-linecap:butt;stroke-linejoin:miter;stroke:rgb(26.666667%,26.666667%,26.666667%);stroke-opacity:1;stroke-miterlimit:10;\" d=\"M 110 20 L 265.734375 20 \"/>\n<path style=\" stroke:none;fill-rule:nonzero;fill:rgb(26.666667%,26.666667%,26.666667%);fill-opacity:1;\" d=\"M 280 20 L 265.734375 24.636719 L 265.734375 15.363281 L 280 20 \"/>\n<path style=\"fill:none;stroke-width:1;stroke-linecap:butt;stroke-linejoin:miter;stroke:rgb(26.666667%,26.666667%,26.666667%);stroke-opacity:1;stroke-miterlimit:10;\" d=\"M 290 20 C 176.6875 -8.441406 86.601562 25.648438 31.484375 128.558594 \"/>\n<path style=\" stroke:none;fill-rule:nonzero;fill:rgb(26.666667%,26.666667%,26.666667%);fill-opacity:1;\" d=\"M 24.75 141.132812 L 27.398438 126.371094 L 35.570312 130.746094 L 24.75 141.132812 \"/>\n<path style=\"fill-rule:nonzero;fill:rgb(100%,0%,0%);fill-opacity:1;stroke-width:1;stroke-linecap:butt;stroke-linejoin:miter;stroke:rgb(0%,0%,0%);stroke-opacity:1;stroke-miterlimit:10;\" d=\"M 390 150 C 390 155.523438 385.523438 160 380 160 C 374.476562 160 370 155.523438 370 150 C 370 144.476562 374.476562 140 380 140 C 385.523438 140 390 144.476562 390 150 \"/>\n<path style=\"fill-rule:nonzero;fill:rgb(100%,0%,0%);fill-opacity:1;stroke-width:1;stroke-linecap:butt;stroke-linejoin:miter;stroke:rgb(0%,0%,0%);stroke-opacity:1;stroke-miterlimit:10;\" d=\"M 300 280 C 300 285.523438 295.523438 290 290 290 C 284.476562 290 280 285.523438 280 280 C 280 274.476562 284.476562 270 290 270 C 295.523438 270 300 274.476562 300 280 \"/>\n<path style=\"fill-rule:nonzero;fill:rgb(100%,0%,0%);fill-opacity:1;stroke-width:1;stroke-linecap:butt;stroke-linejoin:miter;stroke:rgb(0%,0%,0%);stroke-opacity:1;stroke-miterlimit:10;\" d=\"M 120 280 C 120 285.523438 115.523438 290 110 290 C 104.476562 290 100 285.523438 100 280 C 100 274.476562 104.476562 270 110 270 C 115.523438 270 120 274.476562 120 280 \"/>\n<path style=\"fill-rule:nonzero;fill:rgb(100%,0%,0%);fill-opacity:1;stroke-width:1;stroke-linecap:butt;stroke-linejoin:miter;stroke:rgb(0%,0%,0%);stroke-opacity:1;stroke-miterlimit:10;\" d=\"M 30 150 C 30 155.523438 25.523438 160 20 160 C 14.476562 160 10 155.523438 10 150 C 10 144.476562 14.476562 140 20 140 C 25.523438 140 30 144.476562 30 150 \"/>\n<path style=\"fill-rule:nonzero;fill:rgb(100%,0%,0%);fill-opacity:1;stroke-width:1;stroke-linecap:butt;stroke-linejoin:miter;stroke:rgb(0%,0%,0%);stroke-opacity:1;stroke-miterlimit:10;\" d=\"M 120 20 C 120 25.523438 115.523438 30 110 30 C 104.476562 30 100 25.523438 100 20 C 100 14.476562 104.476562 10 110 10 C 115.523438 10 120 14.476562 120 20 \"/>\n<path style=\"fill-rule:nonzero;fill:rgb(100%,0%,0%);fill-opacity:1;stroke-width:1;stroke-linecap:butt;stroke-linejoin:miter;stroke:rgb(0%,0%,0%);stroke-opacity:1;stroke-miterlimit:10;\" d=\"M 300 20 C 300 25.523438 295.523438 30 290 30 C 284.476562 30 280 25.523438 280 20 C 280 14.476562 284.476562 10 290 10 C 295.523438 10 300 14.476562 300 20 \"/>\n</g>\n</svg>\n"
          },
          "metadata": {
            "image/svg+xml": {
              "isolated": true
            }
          },
          "execution_count": 10
        }
      ],
      "source": [
        "from igraph import Graph, plot\n",
        "\n",
        "# Build the directed graph\n",
        "gd = Graph(edges=edge_list, directed=True)\n",
        "gd.vs[\"name\"] = list(range(gd.vcount()))\n",
        "\n",
        "# Graph summary and degrees\n",
        "print(gd.summary())\n",
        "print(\"Out-degrees:\", gd.outdegree())\n",
        "print(\"In-degrees:\", gd.indegree())\n",
        "\n",
        "# Connectivity + reciprocity\n",
        "print(\"Reciprocity:\", gd.reciprocity())\n",
        "scc = gd.clusters(mode=\"STRONG\")\n",
        "wcc = gd.clusters(mode=\"WEAK\")\n",
        "print(\"Strongly connected components:\", len(scc))\n",
        "print(\"Weakly connected components:\", len(wcc))\n",
        "\n",
        "# Average path length\n",
        "L_dir = gd.average_path_length(directed=True)\n",
        "\n",
        "print(\"Average path length (directed):\", L_dir)\n",
        "\n",
        "# Optional visualization\n",
        "layout = gd.layout(\"circle\")\n",
        "plot(gd, layout=layout, bbox=(400, 300))\n"
      ]
    },
    {
      "cell_type": "code",
      "execution_count": 11,
      "id": "763e7900",
      "metadata": {
        "colab": {
          "base_uri": "https://localhost:8080/",
          "height": 564
        },
        "id": "763e7900",
        "outputId": "5be12def-8a2c-4c95-ecbd-c8cf50a875b1"
      },
      "outputs": [
        {
          "output_type": "stream",
          "name": "stdout",
          "text": [
            "IGRAPH DN-- 6 10 -- \n",
            "+ attr: name (v)\n",
            "Out-degrees: [1, 1, 3, 3, 1, 1]\n",
            "In-degrees: [0, 3, 1, 2, 1, 3]\n",
            "Reciprocity: 0.4\n",
            "Strongly connected components: 2\n",
            "Weakly connected components: 1\n",
            "Average path length (directed): 1.96\n"
          ]
        },
        {
          "output_type": "execute_result",
          "data": {
            "text/plain": [
              "<igraph.drawing.cairo.plot.CairoPlot at 0x7b99f37fbe30>"
            ],
            "image/svg+xml": "<?xml version=\"1.0\" encoding=\"UTF-8\"?>\n<svg xmlns=\"http://www.w3.org/2000/svg\" xmlns:xlink=\"http://www.w3.org/1999/xlink\" width=\"400pt\" height=\"300pt\" viewBox=\"0 0 400 300\" version=\"1.1\">\n<g id=\"surface20\">\n<rect x=\"0\" y=\"0\" width=\"400\" height=\"300\" style=\"fill:rgb(100%,100%,100%);fill-opacity:1;stroke:none;\"/>\n<path style=\"fill:none;stroke-width:1;stroke-linecap:butt;stroke-linejoin:miter;stroke:rgb(26.666667%,26.666667%,26.666667%);stroke-opacity:1;stroke-miterlimit:10;\" d=\"M 380 150 L 303.8125 260.046875 \"/>\n<path style=\" stroke:none;fill-rule:nonzero;fill:rgb(26.666667%,26.666667%,26.666667%);fill-opacity:1;\" d=\"M 295.691406 271.777344 L 300 257.410156 L 307.625 262.6875 L 295.691406 271.777344 \"/>\n<path style=\"fill:none;stroke-width:1;stroke-linecap:butt;stroke-linejoin:miter;stroke:rgb(26.666667%,26.666667%,26.666667%);stroke-opacity:1;stroke-miterlimit:10;\" d=\"M 290 280 C 240.105469 235.222656 184.109375 226.925781 129.722656 265.875 \"/>\n<path style=\" stroke:none;fill-rule:nonzero;fill:rgb(26.666667%,26.666667%,26.666667%);fill-opacity:1;\" d=\"M 118.125 274.179688 L 127.023438 262.105469 L 132.421875 269.644531 L 118.125 274.179688 \"/>\n<path style=\"fill:none;stroke-width:1;stroke-linecap:butt;stroke-linejoin:miter;stroke:rgb(26.666667%,26.666667%,26.666667%);stroke-opacity:1;stroke-miterlimit:10;\" d=\"M 110 280 C 159.894531 324.777344 215.890625 333.074219 270.277344 294.125 \"/>\n<path style=\" stroke:none;fill-rule:nonzero;fill:rgb(26.666667%,26.666667%,26.666667%);fill-opacity:1;\" d=\"M 281.875 285.820312 L 272.976562 297.894531 L 267.578125 290.355469 L 281.875 285.820312 \"/>\n<path style=\"fill:none;stroke-width:1;stroke-linecap:butt;stroke-linejoin:miter;stroke:rgb(26.666667%,26.666667%,26.666667%);stroke-opacity:1;stroke-miterlimit:10;\" d=\"M 110 280 L 33.8125 169.953125 \"/>\n<path style=\" stroke:none;fill-rule:nonzero;fill:rgb(26.666667%,26.666667%,26.666667%);fill-opacity:1;\" d=\"M 25.691406 158.222656 L 37.625 167.3125 L 30 172.589844 L 25.691406 158.222656 \"/>\n<path style=\"fill:none;stroke-width:1;stroke-linecap:butt;stroke-linejoin:miter;stroke:rgb(26.666667%,26.666667%,26.666667%);stroke-opacity:1;stroke-miterlimit:10;\" d=\"M 110 280 L 276.1875 39.953125 \"/>\n<path style=\" stroke:none;fill-rule:nonzero;fill:rgb(26.666667%,26.666667%,26.666667%);fill-opacity:1;\" d=\"M 284.308594 28.222656 L 280 42.589844 L 272.375 37.3125 L 284.308594 28.222656 \"/>\n<path style=\"fill:none;stroke-width:1;stroke-linecap:butt;stroke-linejoin:miter;stroke:rgb(26.666667%,26.666667%,26.666667%);stroke-opacity:1;stroke-miterlimit:10;\" d=\"M 20 150 L 268.136719 269.472656 \"/>\n<path style=\" stroke:none;fill-rule:nonzero;fill:rgb(26.666667%,26.666667%,26.666667%);fill-opacity:1;\" d=\"M 280.988281 275.660156 L 266.125 273.648438 L 270.148438 265.296875 L 280.988281 275.660156 \"/>\n<path style=\"fill:none;stroke-width:1;stroke-linecap:butt;stroke-linejoin:miter;stroke:rgb(26.666667%,26.666667%,26.666667%);stroke-opacity:1;stroke-miterlimit:10;\" d=\"M 20 150 L 96.1875 39.953125 \"/>\n<path style=\" stroke:none;fill-rule:nonzero;fill:rgb(26.666667%,26.666667%,26.666667%);fill-opacity:1;\" d=\"M 104.308594 28.222656 L 100 42.589844 L 92.375 37.3125 L 104.308594 28.222656 \"/>\n<path style=\"fill:none;stroke-width:1;stroke-linecap:butt;stroke-linejoin:miter;stroke:rgb(26.666667%,26.666667%,26.666667%);stroke-opacity:1;stroke-miterlimit:10;\" d=\"M 20 150 C 133.3125 178.441406 223.398438 144.351562 278.515625 41.441406 \"/>\n<path style=\" stroke:none;fill-rule:nonzero;fill:rgb(26.666667%,26.666667%,26.666667%);fill-opacity:1;\" d=\"M 285.25 28.867188 L 282.601562 43.628906 L 274.429688 39.253906 L 285.25 28.867188 \"/>\n<path style=\"fill:none;stroke-width:1;stroke-linecap:butt;stroke-linejoin:miter;stroke:rgb(26.666667%,26.666667%,26.666667%);stroke-opacity:1;stroke-miterlimit:10;\" d=\"M 110 20 L 265.734375 20 \"/>\n<path style=\" stroke:none;fill-rule:nonzero;fill:rgb(26.666667%,26.666667%,26.666667%);fill-opacity:1;\" d=\"M 280 20 L 265.734375 24.636719 L 265.734375 15.363281 L 280 20 \"/>\n<path style=\"fill:none;stroke-width:1;stroke-linecap:butt;stroke-linejoin:miter;stroke:rgb(26.666667%,26.666667%,26.666667%);stroke-opacity:1;stroke-miterlimit:10;\" d=\"M 290 20 C 176.6875 -8.441406 86.601562 25.648438 31.484375 128.558594 \"/>\n<path style=\" stroke:none;fill-rule:nonzero;fill:rgb(26.666667%,26.666667%,26.666667%);fill-opacity:1;\" d=\"M 24.75 141.132812 L 27.398438 126.371094 L 35.570312 130.746094 L 24.75 141.132812 \"/>\n<path style=\"fill-rule:nonzero;fill:rgb(100%,0%,0%);fill-opacity:1;stroke-width:1;stroke-linecap:butt;stroke-linejoin:miter;stroke:rgb(0%,0%,0%);stroke-opacity:1;stroke-miterlimit:10;\" d=\"M 390 150 C 390 155.523438 385.523438 160 380 160 C 374.476562 160 370 155.523438 370 150 C 370 144.476562 374.476562 140 380 140 C 385.523438 140 390 144.476562 390 150 \"/>\n<path style=\"fill-rule:nonzero;fill:rgb(100%,0%,0%);fill-opacity:1;stroke-width:1;stroke-linecap:butt;stroke-linejoin:miter;stroke:rgb(0%,0%,0%);stroke-opacity:1;stroke-miterlimit:10;\" d=\"M 300 280 C 300 285.523438 295.523438 290 290 290 C 284.476562 290 280 285.523438 280 280 C 280 274.476562 284.476562 270 290 270 C 295.523438 270 300 274.476562 300 280 \"/>\n<path style=\"fill-rule:nonzero;fill:rgb(100%,0%,0%);fill-opacity:1;stroke-width:1;stroke-linecap:butt;stroke-linejoin:miter;stroke:rgb(0%,0%,0%);stroke-opacity:1;stroke-miterlimit:10;\" d=\"M 120 280 C 120 285.523438 115.523438 290 110 290 C 104.476562 290 100 285.523438 100 280 C 100 274.476562 104.476562 270 110 270 C 115.523438 270 120 274.476562 120 280 \"/>\n<path style=\"fill-rule:nonzero;fill:rgb(100%,0%,0%);fill-opacity:1;stroke-width:1;stroke-linecap:butt;stroke-linejoin:miter;stroke:rgb(0%,0%,0%);stroke-opacity:1;stroke-miterlimit:10;\" d=\"M 30 150 C 30 155.523438 25.523438 160 20 160 C 14.476562 160 10 155.523438 10 150 C 10 144.476562 14.476562 140 20 140 C 25.523438 140 30 144.476562 30 150 \"/>\n<path style=\"fill-rule:nonzero;fill:rgb(100%,0%,0%);fill-opacity:1;stroke-width:1;stroke-linecap:butt;stroke-linejoin:miter;stroke:rgb(0%,0%,0%);stroke-opacity:1;stroke-miterlimit:10;\" d=\"M 120 20 C 120 25.523438 115.523438 30 110 30 C 104.476562 30 100 25.523438 100 20 C 100 14.476562 104.476562 10 110 10 C 115.523438 10 120 14.476562 120 20 \"/>\n<path style=\"fill-rule:nonzero;fill:rgb(100%,0%,0%);fill-opacity:1;stroke-width:1;stroke-linecap:butt;stroke-linejoin:miter;stroke:rgb(0%,0%,0%);stroke-opacity:1;stroke-miterlimit:10;\" d=\"M 300 20 C 300 25.523438 295.523438 30 290 30 C 284.476562 30 280 25.523438 280 20 C 280 14.476562 284.476562 10 290 10 C 295.523438 10 300 14.476562 300 20 \"/>\n</g>\n</svg>\n"
          },
          "metadata": {
            "image/svg+xml": {
              "isolated": true
            }
          },
          "execution_count": 11
        }
      ],
      "source": [
        "from igraph import Graph, plot\n",
        "\n",
        "# Build directed graph\n",
        "gd = Graph(edges=edge_list, directed=True)\n",
        "gd.vs[\"name\"] = list(range(gd.vcount()))\n",
        "\n",
        "# Summary and degrees\n",
        "print(gd.summary())\n",
        "print(\"Out-degrees:\", gd.outdegree())\n",
        "print(\"In-degrees:\", gd.indegree())\n",
        "\n",
        "# Reciprocity\n",
        "print(\"Reciprocity:\", gd.reciprocity())\n",
        "\n",
        "# Strongly and weakly connected components (new method)\n",
        "scc = gd.connected_components(mode=\"STRONG\")\n",
        "wcc = gd.connected_components(mode=\"WEAK\")\n",
        "print(\"Strongly connected components:\", len(scc))\n",
        "print(\"Weakly connected components:\", len(wcc))\n",
        "\n",
        "# Average path length\n",
        "L_dir = gd.average_path_length(directed=True)\n",
        "print(\"Average path length (directed):\", L_dir)\n",
        "\n",
        "# Plot\n",
        "layout = gd.layout(\"circle\")\n",
        "plot(gd, layout=layout, bbox=(400, 300))\n"
      ]
    },
    {
      "cell_type": "markdown",
      "source": [
        "Completed m02 Small-world assignment (Undirected & Directed Graphs)\n"
      ],
      "metadata": {
        "id": "2IcUqefCJ7oT"
      },
      "id": "2IcUqefCJ7oT"
    }
  ],
  "metadata": {
    "jupytext": {
      "cell_metadata_filter": "-all"
    },
    "kernelspec": {
      "display_name": "Python 3",
      "language": "python",
      "name": "python3"
    },
    "language_info": {
      "name": "python",
      "version": "3.11.0"
    },
    "colab": {
      "provenance": [],
      "include_colab_link": true
    }
  },
  "nbformat": 4,
  "nbformat_minor": 5
}