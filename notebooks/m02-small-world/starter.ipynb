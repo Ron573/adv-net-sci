{
  "cells": [
    {
      "cell_type": "markdown",
      "metadata": {
        "id": "view-in-github",
        "colab_type": "text"
      },
      "source": [
        "<a href=\"https://colab.research.google.com/github/Ron573/adv-net-sci/blob/main/notebooks/m02-small-world/starter.ipynb\" target=\"_parent\"><img src=\"https://colab.research.google.com/assets/colab-badge.svg\" alt=\"Open In Colab\"/></a>"
      ]
    },
    {
      "cell_type": "markdown",
      "id": "55c93f9a",
      "metadata": {
        "id": "55c93f9a"
      },
      "source": [
        "<a target=\"_blank\" href=\"https://colab.research.google.com/github/skojaku/adv-net-sci/blob/main/notebooks/m02-small-world/starter.ipynb\">\n",
        "  <img src=\"https://colab.research.google.com/assets/colab-badge.svg\" alt=\"Open In Colab\"/>\n",
        "</a>\n",
        "\n",
        "# Starter"
      ]
    },
    {
      "cell_type": "code",
      "execution_count": null,
      "id": "22a24e97",
      "metadata": {
        "id": "22a24e97"
      },
      "outputs": [],
      "source": [
        "# If you are using Google Colab, uncomment the following line to install igraph\n",
        "# !sudo apt install libcairo2-dev pkg-config python3-dev\n",
        "# !pip install pycairo cairocffi\n",
        "# !pip install igraph"
      ]
    },
    {
      "cell_type": "code",
      "execution_count": null,
      "metadata": {
        "id": "0vtZcjKVHrdQ"
      },
      "outputs": [],
      "source": [
        "import igraph\n",
        "import pandas as pd\n",
        "import numpy as np\n",
        "import scipy\n",
        "import matplotlib.pyplot as plt\n",
        "import seaborn as sns"
      ],
      "id": "0vtZcjKVHrdQ"
    },
    {
      "cell_type": "markdown",
      "id": "d4b99609",
      "metadata": {
        "id": "d4b99609"
      },
      "source": [
        "## Undirected Graph"
      ]
    },
    {
      "cell_type": "code",
      "execution_count": null,
      "id": "650f8648",
      "metadata": {
        "id": "650f8648"
      },
      "outputs": [],
      "source": [
        "edge_list = [(0, 1), (1, 2), (0, 2), (0, 3)]"
      ]
    },
    {
      "cell_type": "code",
      "execution_count": null,
      "id": "7008f736",
      "metadata": {
        "id": "7008f736"
      },
      "outputs": [],
      "source": []
    },
    {
      "cell_type": "code",
      "execution_count": null,
      "id": "0b632b2d",
      "metadata": {
        "id": "0b632b2d"
      },
      "outputs": [],
      "source": []
    },
    {
      "cell_type": "markdown",
      "id": "b8364fd4",
      "metadata": {
        "id": "b8364fd4"
      },
      "source": [
        "## Directed Graph"
      ]
    },
    {
      "cell_type": "code",
      "execution_count": null,
      "metadata": {
        "id": "eOnpeM5hHrdS"
      },
      "outputs": [],
      "source": [
        "edge_list =[(0, 1), (1, 2), (2, 1), (2, 3), (2, 5), (3, 1), (3, 4), (3, 5), (4, 5), (5, 3)]"
      ],
      "id": "eOnpeM5hHrdS"
    },
    {
      "cell_type": "code",
      "execution_count": null,
      "id": "820d35a9",
      "metadata": {
        "id": "820d35a9"
      },
      "outputs": [],
      "source": []
    },
    {
      "cell_type": "markdown",
      "source": [
        "## Explanation\n",
        "- The `Graph` object builds the directed network using the given edge list.  \n",
        "- `connected_components(mode=\"STRONG\")` finds strongly connected components.  \n",
        "- `average_path_length(directed=True)` computes the mean distance between nodes.  \n"
      ],
      "metadata": {
        "id": "TX5DkB5DHu26"
      },
      "id": "TX5DkB5DHu26"
    },
    {
      "cell_type": "code",
      "execution_count": null,
      "id": "763e7900",
      "metadata": {
        "id": "763e7900"
      },
      "outputs": [],
      "source": []
    }
  ],
  "metadata": {
    "jupytext": {
      "cell_metadata_filter": "-all"
    },
    "kernelspec": {
      "display_name": "Python 3",
      "language": "python",
      "name": "python3"
    },
    "language_info": {
      "name": "python",
      "version": "3.11.0"
    },
    "colab": {
      "provenance": [],
      "include_colab_link": true
    }
  },
  "nbformat": 4,
  "nbformat_minor": 5
}