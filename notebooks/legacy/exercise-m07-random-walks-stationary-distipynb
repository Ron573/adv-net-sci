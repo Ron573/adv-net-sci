{
 "cells": [
  {
   "cell_type": "code",
   "execution_count": 1,
   "metadata": {},
   "outputs": [],
   "source": [
    "import numpy as np\n",
    "from scipy import sparse\n",
    "\n",
    "P = np.array(\n",
    "    [\n",
    "        [0, 1 / 3, 1 / 3, 1 / 3],\n",
    "        [1 / 2, 0, 1 / 2, 0],\n",
    "        [1 / 2, 1 / 2, 0, 0],\n",
    "        [1, 0, 0, 0],\n",
    "    ]\n",
    ")\n",
    "\n",
    "deg = np.array([3, 2, 2, 1])"
   ]
  },
  {
   "cell_type": "code",
   "execution_count": 7,
   "metadata": {},
   "outputs": [
    {
     "data": {
      "text/plain": [
       "Text(0.5, 25.722222222222214, 'Time Step')"
      ]
     },
     "execution_count": 7,
     "metadata": {},
     "output_type": "execute_result"
    },
    {
     "data": {
      "image/png": "[encoded data removed]",
      "text/plain": [
       "<Figure size 1000x500 with 2 Axes>"
      ]
     },
     "metadata": {},
     "output_type": "display_data"
    }
   ],
   "source": [
    "probabilities_list = []\n",
    "\n",
    "Pt = np.eye(P.shape[0])\n",
    "for t in range(1, 100):\n",
    "    # Apply the transition matirx\n",
    "    Pt = Pt @ P\n",
    "    # Get the probability distribution of being at each node after t steps from A\n",
    "    probabilities_list.append(Pt[3, :])\n",
    "\n",
    "probabilities_array = np.array(probabilities_list)\n",
    "\n",
    "import matplotlib.pyplot as plt\n",
    "import seaborn as sns\n",
    "\n",
    "fig, ax = plt.subplots(figsize=(10, 5))\n",
    "sns.heatmap(probabilities_array.T, cmap='viridis', cbar_kws={'label': 'Probability'}, ax=ax)\n",
    "plt.title('Probability Distribution over Time')\n",
    "plt.ylabel('Node')\n",
    "plt.xlabel('Time Step')"
   ]
  },
  {
   "cell_type": "code",
   "execution_count": 9,
   "metadata": {},
   "outputs": [],
   "source": [
    "import igraph as ig\n",
    "import numpy as np\n",
    "\n",
    "g = ig.Graph.Famous(\"Zachary\")\n",
    "A = g.get_adjacency_sparse()"
   ]
  },
  {
   "cell_type": "markdown",
   "metadata": {},
   "source": [
    "# Transition probabilit matrix "
   ]
  },
  {
   "cell_type": "code",
   "execution_count": 10,
   "metadata": {},
   "outputs": [],
   "source": [
    "deg = np.array(A.sum(axis = 0)).flatten()\n",
    "# D = np.diag(deg) # diagonal degree matrix\n",
    "Dinv = np.diag(1.0 / deg)\n",
    "P = Dinv @ A # transition probability matrix\n"
   ]
  },
  {
   "cell_type": "markdown",
   "metadata": {},
   "source": [
    "# Compute the stationary distribution\n",
    "## Based on the left eigenvector"
   ]
  },
  {
   "cell_type": "code",
   "execution_count": 25,
   "metadata": {},
   "outputs": [
    {
     "data": {
      "text/html": [
       "<div>\n",
       "<style scoped>\n",
       "    .dataframe tbody tr th:only-of-type {\n",
       "        vertical-align: middle;\n",
       "    }\n",
       "\n",
       "    .dataframe tbody tr th {\n",
       "        vertical-align: top;\n",
       "    }\n",
       "\n",
       "    .dataframe thead th {\n",
       "        text-align: right;\n",
       "    }\n",
       "</style>\n",
       "<table border=\"1\" class=\"dataframe\">\n",
       "  <thead>\n",
       "    <tr style=\"text-align: right;\">\n",
       "      <th></th>\n",
       "      <th>degree</th>\n",
       "      <th>stationary_dist</th>\n",
       "    </tr>\n",
       "  </thead>\n",
       "  <tbody>\n",
       "    <tr>\n",
       "      <th>degree</th>\n",
       "      <td>1.0</td>\n",
       "      <td>1.0</td>\n",
       "    </tr>\n",
       "    <tr>\n",
       "      <th>stationary_dist</th>\n",
       "      <td>1.0</td>\n",
       "      <td>1.0</td>\n",
       "    </tr>\n",
       "  </tbody>\n",
       "</table>\n",
       "</div>"
      ],
      "text/plain": [
       "                 degree  stationary_dist\n",
       "degree              1.0              1.0\n",
       "stationary_dist     1.0              1.0"
      ]
     },
     "execution_count": 25,
     "metadata": {},
     "output_type": "execute_result"
    }
   ],
   "source": [
    "# Compute the left eigenvector of P\n",
    "# Use np.linalg.eig\n",
    "eigenvalues, eigenvectors = np.linalg.eig(P.T)\n",
    "eigenvalues = np.real(eigenvalues)\n",
    "eigenvectors = np.real(eigenvectors)\n",
    "\n",
    "idx = np.argmax(eigenvalues)\n",
    "eigenval = eigenvalues[idx]\n",
    "stationary_dist = eigenvectors[:, idx].flatten().real\n",
    "stationary_dist = stationary_dist / np.sum(stationary_dist)\n",
    "import pandas as pd\n",
    "\n",
    "pd.DataFrame({\"degree\": deg, \"stationary_dist\": stationary_dist}).corr()\n"
   ]
  },
  {
   "cell_type": "markdown",
   "metadata": {},
   "source": [
    "## Based on the power iteration"
   ]
  },
  {
   "cell_type": "code",
   "execution_count": null,
   "metadata": {},
   "outputs": [],
   "source": [
    "T = 1000\n",
    "Pt = np.eye(P.shape[0])\n",
    "for t in range(T):\n",
    "    Pt = Pt @ P\n",
    "\n",
    "xt = Pt[0, :]"
   ]
  },
  {
   "cell_type": "markdown",
   "metadata": {},
   "source": []
  },
  {
   "cell_type": "code",
   "execution_count": null,
   "metadata": {},
   "outputs": [],
   "source": []
  }
 ],
 "metadata": {
  "kernelspec": {
   "display_name": "advnetsci",
   "language": "python",
   "name": "python3"
  },
  "language_info": {
   "codemirror_mode": {
    "name": "ipython",
    "version": 3
   },
   "file_extension": ".py",
   "mimetype": "text/x-python",
   "name": "python",
   "nbconvert_exporter": "python",
   "pygments_lexer": "ipython3",
   "version": "3.11.0"
  }
 },
 "nbformat": 4,
 "nbformat_minor": 2
}
