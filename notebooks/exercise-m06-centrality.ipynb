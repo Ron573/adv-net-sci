{
 "cells": [
  {
   "cell_type": "markdown",
   "id": "74806db8",
   "metadata": {},
   "source": [
    "<a target=\"_blank\" href=\"https://colab.research.google.com/github/skojaku/adv-net-sci/blob/main/notebooks/exercise-m06-centrality.ipynb\">\n",
    "  <img src=\"https://colab.research.google.com/assets/colab-badge.svg\" alt=\"Open In Colab\"/>\n",
    "</a>\n",
    "\n",
    "# Computing centrality with Python\n",
    "\n",
    "## Network of university students\n",
    "\n",
    "Let's compute the centrality of the network using Python igraph."
   ]
  },
  {
   "cell_type": "code",
   "execution_count": null,
   "id": "a68c3329",
   "metadata": {},
   "outputs": [],
   "source": [
    "import igraph\n",
    "names  = ['Sarah', 'Mike', 'Emma', 'Alex', 'Olivia', 'James', 'Sophia', 'Ethan', 'Ava', 'Noah', 'Lily', 'Lucas', 'Henry']\n",
    "edge_list = [(0, 1), (0, 2), (1, 2), (2, 3), (3, 4), (3, 5), (3, 6), (4, 5), (6, 7), (6, 8), (6, 9), (7, 8), (7, 9), (8, 9), (9, 10), (9, 11), (9, 12)]\n",
    "g = igraph.Graph()\n",
    "g.add_vertices(13)\n",
    "g.vs[\"name\"] = names\n",
    "g.add_edges(edge_list)\n",
    "igraph.plot(g, vertex_label=g.vs[\"name\"])"
   ]
  },
  {
   "cell_type": "markdown",
   "id": "3f4f0f60",
   "metadata": {},
   "source": [
    "`igraph` offers a wide range of centrality measures as methods of the `igraph.Graph` class.\n",
    "\n",
    "- **Degree centrality**: `igraph.Graph.degree()`\n",
    "- **Closeness centrality**: `igraph.Graph.closeness()`\n",
    "- **Betweenness centrality**: `igraph.Graph.betweenness()`\n",
    "- **Harmonic centrality**: `igraph.Graph.harmonic_centrality()`\n",
    "- **Eccentricity**: `igraph.Graph.eccentricity()`\n",
    "- **Eigenvector centrality**: `igraph.Graph.eigenvector_centrality()`\n",
    "- **PageRank centrality**: `igraph.Graph.personalized_pagerank()`\n",
    "\n",
    "For example, the closeness centrality is computed by"
   ]
  },
  {
   "cell_type": "code",
   "execution_count": null,
   "id": "3e8ddd1b",
   "metadata": {},
   "outputs": [],
   "source": [
    "g.closeness()"
   ]
  },
  {
   "cell_type": "markdown",
   "id": "367fc014",
   "metadata": {},
   "source": [
    "### Computing Katz centrality\n",
    "\n",
    "Let's compute the Katz centrality without using igraph.\n",
    "Let us first define the adjacency matrix of the graph"
   ]
  },
  {
   "cell_type": "code",
   "execution_count": null,
   "id": "79713b41",
   "metadata": {},
   "outputs": [],
   "source": [
    "A = g.get_adjacency()\n",
    "A"
   ]
  },
  {
   "cell_type": "markdown",
   "id": "6cf5a5ae",
   "metadata": {},
   "source": [
    "which is the scipy CSR sparse matrix. The Katz centrality is given by\n",
    "\n",
    "$$\n",
    "\n",
    "\\mat{c} = \\beta \\mathbb{1} + \\alpha \\mat{A} \\mat{c}+\n",
    "\n",
    "$$\n",
    "\n",
    "So, how do we solve this? We can use a linear solver but here we will use a simple method:\n",
    "\n",
    "1. Initialize $\\mat{c}$ with a random vector.\n",
    "2. Compute the right hand side of the equation and update $\\mat{c}$.\n",
    "3. Repeat the process until $\\mat{c}$ converges.\n",
    "\n",
    "Let's implement this."
   ]
  },
  {
   "cell_type": "code",
   "execution_count": null,
   "id": "14d416ad",
   "metadata": {},
   "outputs": [],
   "source": [
    "alpha, beta = 0.1, 0.05 # Hyperparameters\n",
    "n_nodes = g.vcount() # number of nodes\n",
    "c = np.random.rand(n_nodes, 1) # column random vector\n",
    "\n",
    "for _ in range(100):\n",
    "    c_next = beta * np.ones((n_nodes, 1)) + alpha * A * c\n",
    "    if np.linalg.norm(c_next - c) < 1e-6:\n",
    "        break\n",
    "    c = c_next\n",
    "print(c)"
   ]
  },
  {
   "cell_type": "markdown",
   "id": "dbbadcb7",
   "metadata": {},
   "source": [
    "Change the hyperparameter and see how the result changes 😉\n",
    "If the centrality diverges, think about why it diverges.\n",
    "\n",
    "*Hint*: Katz centrality can be analytically computed by\n",
    "\n",
    "$$\n",
    "\n",
    "\\mat{c} = \\beta \\left(\\mathbb{I} -  \\alpha \\mat{A} \\right)^{-1} \\mathbb{1}\n",
    "\n",
    "$$\n",
    "\n",
    "### Exercise (Optional)\n",
    "\n",
    "Compute the PageRank centrality of this graph"
   ]
  },
  {
   "cell_type": "code",
   "execution_count": null,
   "id": "2505ecf2",
   "metadata": {},
   "outputs": [],
   "source": []
  },
  {
   "cell_type": "markdown",
   "id": "19d735b4",
   "metadata": {},
   "source": [
    "## Network of ancient Roman roads\n",
    "\n",
    "### Load the data & construct the network"
   ]
  },
  {
   "cell_type": "code",
   "execution_count": null,
   "id": "90f483fb",
   "metadata": {},
   "outputs": [],
   "source": [
    "import pandas as pd\n",
    "\n",
    "root = \"https://raw.github.com/skojaku/adv-net-sci/main/data/roman-roads\"\n",
    "node_table = pd.read_csv(f\"{root}/node_table.csv\")\n",
    "edge_table = pd.read_csv(f\"{root}/edge_table.csv\")"
   ]
  },
  {
   "cell_type": "markdown",
   "id": "ff40a802",
   "metadata": {},
   "source": [
    "The node table:"
   ]
  },
  {
   "cell_type": "code",
   "execution_count": null,
   "id": "fd2baf03",
   "metadata": {},
   "outputs": [],
   "source": [
    "node_table"
   ]
  },
  {
   "cell_type": "markdown",
   "id": "4ae591b4",
   "metadata": {},
   "source": [
    "The edge table:"
   ]
  },
  {
   "cell_type": "code",
   "execution_count": null,
   "id": "7e6b21e4",
   "metadata": {},
   "outputs": [],
   "source": [
    "edge_table"
   ]
  },
  {
   "cell_type": "markdown",
   "id": "e0ff1fc6",
   "metadata": {},
   "source": [
    "Let's construct a network from the node and edge tables."
   ]
  },
  {
   "cell_type": "code",
   "execution_count": null,
   "id": "8fba3094",
   "metadata": {},
   "outputs": [],
   "source": [
    "import igraph\n",
    "\n",
    "g = igraph.Graph() # create an empty graph\n",
    "g.add_vertices(node_table[\"node_id\"].values) # add nodes\n",
    "g.add_edges(list(zip(edge_table[\"src\"].values, edge_table[\"trg\"].values))) # add edges"
   ]
  },
  {
   "cell_type": "markdown",
   "id": "175a622d",
   "metadata": {},
   "source": [
    "which looks like this:"
   ]
  },
  {
   "cell_type": "code",
   "execution_count": null,
   "id": "4ae387af",
   "metadata": {},
   "outputs": [],
   "source": [
    "coord = list(zip(node_table[\"long\"].values, node_table[\"lat\"].values))\n",
    "igraph.plot(g, layout = coord)"
   ]
  },
  {
   "cell_type": "markdown",
   "id": "5592a049",
   "metadata": {},
   "source": [
    "### Exercise 🏛️\n",
    "\n",
    "1. Compute the following centrality measures:\n",
    "    - Degree centrality 🔢\n",
    "    - Eigenvector centrality\n",
    "    - PageRank centrality\n",
    "    - Katz centrality\n",
    "    - Betweenness centrality\n",
    "    - Closeness centrality\n",
    "2. Plot the centrality measures on the map and see in which centrality Rome is the most important node. 🗺️🏛️"
   ]
  }
 ],
 "metadata": {
  "kernelspec": {
   "display_name": "Python 3",
   "language": "python",
   "name": "python3"
  }
 },
 "nbformat": 4,
 "nbformat_minor": 5
}
