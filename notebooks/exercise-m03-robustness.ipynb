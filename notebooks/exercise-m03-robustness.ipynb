{
 "cells": [
  {
   "cell_type": "markdown",
   "id": "21b34fe9",
   "metadata": {},
   "source": [
    "<a target=\"_blank\" href=\"https://colab.research.google.com/github/skojaku/adv-net-sci/blob/main/notebooks/exercise-m03-robustness.ipynb\">\n",
    "  <img src=\"https://colab.research.google.com/assets/colab-badge.svg\" alt=\"Open In Colab\"/>\n",
    "</a>"
   ]
  },
  {
   "cell_type": "code",
   "execution_count": null,
   "id": "f55f82ae",
   "metadata": {},
   "outputs": [],
   "source": [
    "# If you are using Google Colab, uncomment the following line to install igraph\n",
    "# !sudo apt install libcairo2-dev pkg-config python3-dev\n",
    "# !pip install pycairo cairocffi\n",
    "# !pip install igraph"
   ]
  },
  {
   "cell_type": "markdown",
   "id": "d3c518d6",
   "metadata": {},
   "source": [
    "# Hands-on: Robustness\n",
    "\n",
    "We consider a small social network of 34 members in a university karate club, called Zachary's karate club network."
   ]
  },
  {
   "cell_type": "code",
   "execution_count": null,
   "id": "751a9421",
   "metadata": {},
   "outputs": [],
   "source": [
    "import igraph\n",
    "g = igraph.Graph.Famous(\"Zachary\")\n",
    "igraph.plot(g, vertex_size=20)"
   ]
  },
  {
   "cell_type": "markdown",
   "id": "e1dc369e",
   "metadata": {},
   "source": [
    "Let's break the network 😈!\n",
    "We will remove nodes one by one and see how the connectivity of the network changes at each step.\n",
    "It is useful to create a copy of the network to keep the original network unchanged."
   ]
  },
  {
   "cell_type": "code",
   "execution_count": null,
   "id": "11236763",
   "metadata": {},
   "outputs": [],
   "source": [
    "g_original = g.copy()"
   ]
  },
  {
   "cell_type": "markdown",
   "id": "873125a1",
   "metadata": {},
   "source": [
    "## Robustness against random failures\n",
    "\n",
    "Let us remove a single node from the network. To this end, we need to first identify which nodes are in the network. With `igraph`, the IDs of the nodes in a graph are accessible through `Graph.vs.indices` as follows:"
   ]
  },
  {
   "cell_type": "code",
   "execution_count": null,
   "id": "b3443335",
   "metadata": {},
   "outputs": [],
   "source": [
    "print(g.vs.indices)"
   ]
  },
  {
   "cell_type": "markdown",
   "id": "64895b7a",
   "metadata": {},
   "source": [
    "We randomly choose a node and remove it from the network by using `Graph.delete_vertices`."
   ]
  },
  {
   "cell_type": "code",
   "execution_count": null,
   "id": "1eeb307c",
   "metadata": {},
   "outputs": [],
   "source": [
    "import numpy as np\n",
    "node_idx = np.random.choice(g.vs.indices)\n",
    "g.delete_vertices(node_idx)\n",
    "print(\"Node removed:\", node_idx)\n",
    "print(\"Nodes remaining:\", g.vs.indices)"
   ]
  },
  {
   "cell_type": "markdown",
   "id": "e1f379af",
   "metadata": {},
   "source": [
    ":::{note}\n",
    "`np.random.choice(array)` takes an array `array` and returns a single element from the array.\n",
    "For example, `np.random.choice(np.array([1, 2, 3]))` returns either 1, 2, or 3 with equal probability.\n",
    "See [the documentation](https://numpy.org/doc/stable/reference/random/generated/numpy.random.choice.html) for more details.\n",
    ":::\n",
    "\n",
    "The connectivity of the network is the fraction of nodes in the largest connected component of the network after node removal.\n",
    "We can get the connected components of the network by using `Graph.connected_components`."
   ]
  },
  {
   "cell_type": "code",
   "execution_count": null,
   "id": "1794e628",
   "metadata": {},
   "outputs": [],
   "source": [
    "components = g.connected_components()"
   ]
  },
  {
   "cell_type": "markdown",
   "id": "90bfc3c4",
   "metadata": {},
   "source": [
    "The sizes of the connected components are accessible via `Graph.connected_components.sizes`."
   ]
  },
  {
   "cell_type": "code",
   "execution_count": null,
   "id": "85d57581",
   "metadata": {},
   "outputs": [],
   "source": [
    "components.sizes()"
   ]
  },
  {
   "cell_type": "markdown",
   "id": "6f094fc5",
   "metadata": {},
   "source": [
    "Thus, the connectivity of the network can be computed by"
   ]
  },
  {
   "cell_type": "code",
   "execution_count": null,
   "id": "afdaee56",
   "metadata": {},
   "outputs": [],
   "source": [
    "components = g.connected_components()\n",
    "connectivity = np.max(components.sizes()) / g_original.vcount()\n",
    "connectivity"
   ]
  },
  {
   "cell_type": "markdown",
   "id": "9dfb2c43",
   "metadata": {},
   "source": [
    "Putting together the above code, let us compute the robustness profile of the network."
   ]
  },
  {
   "cell_type": "code",
   "execution_count": null,
   "id": "99949278",
   "metadata": {},
   "outputs": [],
   "source": [
    "import pandas as pd\n",
    "\n",
    "g = g_original.copy() # restore the network\n",
    "n_nodes = g.vcount()  # Number of nodes\n",
    "\n",
    "results = []\n",
    "for i in range(n_nodes -1):  # Loop if the network has at least one node\n",
    "\n",
    "    # Remove a randomly selected node\n",
    "    node_idx = np.random.choice(g.vs.indices)\n",
    "    g.delete_vertices(node_idx)\n",
    "\n",
    "    # Evaluate the connectivity\n",
    "    components = g.connected_components()\n",
    "    connectivity = np.max(components.sizes()) / g_original.vcount()\n",
    "\n",
    "    # Save the results\n",
    "    results.append(\n",
    "        {\n",
    "            \"connectivity\": connectivity,\n",
    "            \"frac_nodes_removed\": (i + 1) / n_nodes,\n",
    "        }\n",
    "    )\n",
    "\n",
    "df_robustness_profile = pd.DataFrame(results)"
   ]
  },
  {
   "cell_type": "markdown",
   "id": "3b8bf8ab",
   "metadata": {},
   "source": [
    "Let us plot the robustness profile."
   ]
  },
  {
   "cell_type": "code",
   "execution_count": null,
   "id": "57d29712",
   "metadata": {},
   "outputs": [],
   "source": [
    "import matplotlib.pyplot as plt\n",
    "import seaborn as sns\n",
    "\n",
    "sns.set(style='white', font_scale=1.2)\n",
    "sns.set_style('ticks')\n",
    "\n",
    "ax = df_robustness_profile.plot(\n",
    "    x=\"frac_nodes_removed\",\n",
    "    y=\"connectivity\",\n",
    "    kind=\"line\",\n",
    "    figsize=(5, 5),\n",
    "    label=\"Random attack\",\n",
    ")\n",
    "plt.xlabel(\"Proportion of nodes removed\")\n",
    "plt.ylabel(\"Connectivity\")\n",
    "plt.legend().remove()\n",
    "plt.show()"
   ]
  },
  {
   "cell_type": "markdown",
   "id": "35b33f3c",
   "metadata": {},
   "source": [
    "How should we interpret the robustness profile? Consider the most robust network consisting of $N$ nodes, where all $N$ nodes are fully connected. Regardless of how many nodes are removed, there will always be a single connected component, and the size of this component will be $N-k$ if $k$ nodes are removed. Therefore, the connectivity is $(N-k)/N=1-k/N$, which corresponds to the diagonal line in the plot above.\n",
    "Hence, **a network is considered robust if its connectivity curve is close to the diagonal line**.\n",
    "On the other hand, if the curve is significantly lower than the diagonal line, the network is not robust.\n",
    "\n",
    "For the network we considered above, the robustness profile is close to the diagonal line, indicating that the network is robust to the random removal of nodes.\n",
    "\n",
    ":::{note}\n",
    "The random attack is stochastic, meaning that the robustness profile has a variation in each run. Thus, it is necessary to run the attack multiple times and average the results to get a more accurate estimate of the robustness.\n",
    ":::\n",
    "\n",
    "## Targeted attack\n",
    "\n",
    "In a targeted attack, nodes are removed based on specific criteria rather than randomly.\n",
    "One common strategy is to remove nodes from the largest node degree to the smallest, based on the idea that removing nodes with many edges is more likely to disrupt the network connectivity.\n",
    "\n",
    "The degree of the nodes is accessible via `Graph.degree`."
   ]
  },
  {
   "cell_type": "code",
   "execution_count": null,
   "id": "913301f9",
   "metadata": {},
   "outputs": [],
   "source": [
    "print(g_original.degree())"
   ]
  },
  {
   "cell_type": "markdown",
   "id": "ef7ab9b9",
   "metadata": {},
   "source": [
    "We compute the robustness profile by removing nodes with the largest degree and measuring the connectivity of the network after each removal."
   ]
  },
  {
   "cell_type": "code",
   "execution_count": null,
   "id": "f373bf9d",
   "metadata": {},
   "outputs": [],
   "source": [
    "g = g_original.copy() # restore the network\n",
    "n_nodes = g.vcount()  # Number of nodes\n",
    "\n",
    "results = []\n",
    "for i in range(n_nodes -1):  # Loop if the network has at least one node\n",
    "\n",
    "    # Remove the nodes with thelargest degree\n",
    "    node_idx = g.vs.indices[np.argmax(g.degree())]\n",
    "    g.delete_vertices(node_idx)\n",
    "\n",
    "    # Evaluate the connectivity\n",
    "    components = g.connected_components()\n",
    "    connectivity = np.max(components.sizes()) / g_original.vcount()\n",
    "\n",
    "    # Save the results\n",
    "    results.append(\n",
    "        {\n",
    "            \"connectivity\": connectivity,\n",
    "            \"frac_nodes_removed\": (i + 1) / n_nodes,\n",
    "        }\n",
    "    )\n",
    "\n",
    "df_robustness_profile_targeted = pd.DataFrame(results)"
   ]
  },
  {
   "cell_type": "code",
   "execution_count": null,
   "id": "a79db107",
   "metadata": {},
   "outputs": [],
   "source": [
    "sns.set(style='white', font_scale=1.2)\n",
    "sns.set_style('ticks')\n",
    "\n",
    "sns.set(style=\"white\", font_scale=1.2)\n",
    "sns.set_style(\"ticks\")\n",
    "\n",
    "ax = df_robustness_profile.plot(\n",
    "    x=\"frac_nodes_removed\",\n",
    "    y=\"connectivity\",\n",
    "    kind=\"line\",\n",
    "    figsize=(5, 5),\n",
    "    label=\"Random attack\",\n",
    ")\n",
    "ax = df_robustness_profile_targeted.plot(\n",
    "    x=\"frac_nodes_removed\",\n",
    "    y=\"connectivity\",\n",
    "    kind=\"line\",\n",
    "    label=\"Targeted attack\",\n",
    "    ax=ax,\n",
    ")\n",
    "ax.set_xlabel(\"Proportion of nodes removed\")\n",
    "ax.set_ylabel(\"Connectivity\")\n",
    "ax.legend(frameon=False)\n",
    "plt.show()"
   ]
  },
  {
   "cell_type": "markdown",
   "id": "3d7b1ec0",
   "metadata": {},
   "source": [
    "While the network is robust against the random attacks, it is vulnerable to the degree-based targeted attack.\n",
    "\n",
    "The **$R$-index** is the area under the connectivity curve, which can be computed by"
   ]
  },
  {
   "cell_type": "code",
   "execution_count": null,
   "id": "57a67f94",
   "metadata": {},
   "outputs": [],
   "source": [
    "rindex = df_robustness_profile[\"connectivity\"].mean()\n",
    "rindex_targeted = df_robustness_profile_targeted[\"connectivity\"].mean()\n",
    "print(f\"R-index (random): {rindex:.3f}\")\n",
    "print(f\"R-index (targeted): {rindex_targeted:.3f}\")"
   ]
  },
  {
   "cell_type": "markdown",
   "id": "b516f830",
   "metadata": {},
   "source": [
    "The targeted attack has a smaller $R$-index, indicating that the network is less robust to the targeted attack compared to the random attack."
   ]
  }
 ],
 "metadata": {
  "kernelspec": {
   "display_name": "Python 3",
   "language": "python",
   "name": "python3"
  }
 },
 "nbformat": 4,
 "nbformat_minor": 5
}
