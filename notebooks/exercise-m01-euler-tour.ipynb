{
 "cells": [
  {
   "cell_type": "markdown",
   "id": "9f0da66d",
   "metadata": {},
   "source": [
    "<a target=\"_blank\" href=\"https://colab.research.google.com/github/skojaku/adv-net-sci/blob/main/notebooks/exercise-m01-euler-tour.ipynb\">\n",
    "  <img src=\"https://colab.research.google.com/assets/colab-badge.svg\" alt=\"Open In Colab\"/>\n",
    "</a>\n",
    "\n",
    "#  Exercise\n",
    "\n",
    "\n",
    "## Exercise 01\n",
    "\n",
    "1. Create a network of landmasses and bridges of Binghamton, NY.\n",
    "2. Find an Euler path that crosses all the bridges of Binghamton, NY exactly once.\n",
    "\n",
    "![](https://github.com/skojaku/adv-net-sci/blob/gh-pages/_images/binghamton-map.jpg?raw=true)"
   ]
  },
  {
   "cell_type": "code",
   "execution_count": null,
   "id": "e4850411",
   "metadata": {},
   "outputs": [],
   "source": [
    "# If you are using colab, uncomment the following line\n",
    "# !apt install libcairo2-dev\n",
    "# !pip install pycairo igraph"
   ]
  },
  {
   "cell_type": "markdown",
   "id": "f386bdd3",
   "metadata": {},
   "source": [
    "Define the edges"
   ]
  },
  {
   "cell_type": "code",
   "execution_count": null,
   "id": "46e60a76",
   "metadata": {},
   "outputs": [],
   "source": [
    "# This is a placeholder for your code for the exercise\n",
    "edges = ..."
   ]
  },
  {
   "cell_type": "markdown",
   "id": "ce95c375",
   "metadata": {},
   "source": [
    "Define the adjacnecy matrix (without for loops!)"
   ]
  },
  {
   "cell_type": "code",
   "execution_count": null,
   "id": "85d68352",
   "metadata": {},
   "outputs": [],
   "source": [
    "A = ..."
   ]
  },
  {
   "cell_type": "markdown",
   "id": "15e47795",
   "metadata": {},
   "source": [
    "Visualize the graph"
   ]
  },
  {
   "cell_type": "code",
   "execution_count": null,
   "id": "0fabc9f0",
   "metadata": {},
   "outputs": [],
   "source": [
    "import igraph\n",
    "import matplotlib.pyplot as plt\n",
    "import numpy as np\n",
    "\n",
    "def visualize_graph(A, **params):\n",
    "  A = np.array(A)\n",
    "  src, trg = np.where(A)\n",
    "  g = igraph.Graph(directed=False)\n",
    "  g.add_vertices(A.shape[0])\n",
    "  for s, t in zip(src, trg):\n",
    "    for _ in range(A[s, t]):\n",
    "      g.add_edge(s, t)\n",
    "  return igraph.plot(g, **params)\n",
    "\n",
    "visualize_graph(A)"
   ]
  },
  {
   "cell_type": "markdown",
   "id": "aa080f66",
   "metadata": {},
   "source": [
    "Check if the graph has an Euler path"
   ]
  },
  {
   "cell_type": "code",
   "execution_count": null,
   "id": "7665445e",
   "metadata": {},
   "outputs": [],
   "source": []
  },
  {
   "cell_type": "markdown",
   "id": "a57cc731",
   "metadata": {},
   "source": [
    "##  Exercise 02\n",
    "\n",
    "Let's create a network from pre-existing data and check if it has an Euler path.\n",
    "\n",
    "1. Select a network of your choice from [Netzschleuder](https://networks.skewed.de/). For convenience, choose a network of nodes less than 5000.\n",
    "2. Download the csv version of the data by clicking something like \"3KiB\" under `csv` column.\n",
    "3. Unzip the file and find \"edges.csv\", open it with a text editor to familiarize yourself with the format.\n",
    "4. Load the data using `pandas`.\n",
    "5. Get the source and target nodes from the data to create an edge list.\n",
    "6. Construct the adjacency matrix from the edge list.\n",
    "7. Draw the graph using `igraph`.\n",
    "8. Check if the graph has an Euler path.\n",
    "\n",
    "\n",
    "Load the data by"
   ]
  },
  {
   "cell_type": "code",
   "execution_count": null,
   "id": "1735fe86",
   "metadata": {},
   "outputs": [],
   "source": [
    "import pandas as pd\n",
    "df = pd.read_csv('edges.csv') # load the data\n",
    "display(df)"
   ]
  },
  {
   "cell_type": "markdown",
   "id": "cbef69a3",
   "metadata": {},
   "source": [
    "Then, get the srce and target nodes to compose an edge list"
   ]
  },
  {
   "cell_type": "code",
   "execution_count": null,
   "id": "24e25bf7",
   "metadata": {},
   "outputs": [],
   "source": [
    "src = ...\n",
    "trg = ...\n",
    "edges = ..."
   ]
  },
  {
   "cell_type": "markdown",
   "id": "44b135e0",
   "metadata": {},
   "source": [
    "Create the adjacency matrix from the edge list"
   ]
  },
  {
   "cell_type": "code",
   "execution_count": null,
   "id": "50181674",
   "metadata": {},
   "outputs": [],
   "source": []
  },
  {
   "cell_type": "markdown",
   "id": "4c046d4b",
   "metadata": {},
   "source": [
    "Get the degree of each node"
   ]
  },
  {
   "cell_type": "code",
   "execution_count": null,
   "id": "0f290691",
   "metadata": {},
   "outputs": [],
   "source": [
    "deg = ..."
   ]
  },
  {
   "cell_type": "markdown",
   "id": "d91fbb8d",
   "metadata": {},
   "source": [
    "Visualize the graph"
   ]
  },
  {
   "cell_type": "code",
   "execution_count": null,
   "id": "c3064212",
   "metadata": {},
   "outputs": [],
   "source": [
    "visualize_graph(A)"
   ]
  },
  {
   "cell_type": "markdown",
   "id": "8096508a",
   "metadata": {},
   "source": [
    "Check if the graph has an Euler path"
   ]
  },
  {
   "cell_type": "code",
   "execution_count": null,
   "id": "6a88861c",
   "metadata": {},
   "outputs": [],
   "source": []
  }
 ],
 "metadata": {
  "kernelspec": {
   "display_name": "Python 3 (ipykernel)",
   "language": "python",
   "name": "python3"
  },
  "language_info": {
   "name": "python",
   "version": "3.11.0"
  }
 },
 "nbformat": 4,
 "nbformat_minor": 5
}
