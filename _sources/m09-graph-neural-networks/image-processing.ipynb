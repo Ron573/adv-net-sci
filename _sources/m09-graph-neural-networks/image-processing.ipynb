{
 "cells": [
  {
   "cell_type": "markdown",
   "id": "3f15c876",
   "metadata": {},
   "source": [
    "# Preliminaries: Image Processing\n",
    "\n",
    "Graph Neural Networks are a type of neural network for graph data. node2vec and deepwalk stem from the idea of language modeling.\n",
    "In this module, we will focus on another branch of graph neural networks that stem from image processing.\n",
    "\n",
    "## Edge Detection Problem in Image Processing\n",
    "\n",
    "Edge detection is a classical problem in image processing. The goal is to identify the boundaries of objects in an image.\n",
    "\n",
    "![](https://media.geeksforgeeks.org/wp-content/uploads/20240616211411/Screenshot-(85).webp)\n",
    "\n",
    "To approach the problem, let us first remind that an image is a matrix of pixels. Each pixel has RGB values, each of which represents the intensity of red, green, and blue color. To simplify the problem, we focus on grayscale images, in which each pixel has only one value representing the brightness. In this case, an image can be represented as a 2D matrix, where each element in the matrix represents the brightness of a pixel.\n",
    "\n",
    "![](https://ai.stanford.edu/~syyeung/cvweb/Pictures1/imagematrix.png)\n",
    "\n",
    "### An example\n",
    "\n",
    "Human eyes are very sensitive to brightness changes. An edge in an image appears when there is a *significant brightness change between adjacent pixels*. To be more concrete, let's consider a small example consisting of 6x6 pixels, with a vertical line from the top to the bottom, where the brightness is higher than the neighboring pixels. This is an edge we want to detect.\n",
    "\n",
    "$$\n",
    "X = \\begin{bmatrix}\n",
    "10 & 10 & 80 & 10 & 10 & 10 \\\\\n",
    "10 & 10 & 80 & 10 & 10 & 10 \\\\\n",
    "10 & 10 & 80 & 10 & 10 & 10 \\\\\n",
    "10 & 10 & 80 & 10 & 10 & 10 \\\\\n",
    "10 & 10 & 80 & 10 & 10 & 10 \\\\\n",
    "10 & 10 & 80 & 10 & 10 & 10\n",
    "\\end{bmatrix}\n",
    "$$\n",
    "\n",
    "Let's zoom on the pixel at (3, 3) and its surrounding pixels.\n",
    "\n",
    "$$\n",
    "Z = \\begin{bmatrix}\n",
    "10 & 80 & 10 \\\\\n",
    "\\textcolor{blue}{10} & \\textcolor{red}{80} & \\textcolor{purple}{10} \\\\\n",
    "10 & 80 & 10\n",
    "\\end{bmatrix}\n",
    "$$\n",
    "\n",
    "where the central pixel is highlighted in red. Since we are interested in the edge which is a sudden change in brightness along the horizontal direction, we take a derivative at the central pixel by\n",
    "\n",
    "$$\n",
    "\\nabla Z_{22} = \\textcolor{blue}{Z_{2,1}} - \\textcolor{purple}{Z_{2,3}}\n",
    "$$\n",
    "\n",
    "Following the same process, we can compute the derivative at all pixels, which gives us the (horizontal) derivative of the image.\n",
    "\n",
    "$$\n",
    "\\begin{bmatrix}\n",
    "- & -70 & 0 & 70 & 0 & - \\\\\n",
    "- & -70 & 0 & 70 & 0 & - \\\\\n",
    "- & -70 & 0 & 70 & 0 & - \\\\\n",
    "- & -70 & 0 & 70 & 0 & - \\\\\n",
    "- & -70 & 0 & 70 & 0 & -\n",
    "\\end{bmatrix}\n",
    "$$\n",
    "\n",
    "The symbol `-` indicates that the derivative is not defined because one of the neighboring pixels is out of the image boundary.\n",
    "We observe that the derivative is high at the edge and low elsewhere. This is a simple but effective way to detect edges in an image.\n",
    "\n",
    "We can consider a derivative operator along the vertical direction that computes the difference between the vertical neighboring pixels.\n",
    "\n",
    "$$\n",
    "\\nabla Z_{22} = Z_{1,2} - Z_{3,2}\n",
    "$$\n",
    "\n",
    "And, when applied to the entire image, the result is\n",
    "\n",
    "$$\n",
    "\\begin{bmatrix}\n",
    "- & - & - & - & -  & - \\\\\n",
    "0 & 0 & 0 & 0 & 0 & 0 \\\\\n",
    "0 & 0 & 0 & 0 & 0 & 0 \\\\\n",
    "0 & 0 & 0 & 0 & 0 & 0 \\\\\n",
    "- & - & - & - & - & -\n",
    "\\end{bmatrix}\n",
    "$$\n",
    "\n",
    "The all entries are zero, meaning that there is no edge in the vertical direction.\n",
    "\n",
    "We can combine the horizontal and vertical derivatives to get the gradient of the image. For example,\n",
    "\n",
    "$$\n",
    "\\nabla Z_{22} = Z_{12} - Z_{32} + Z_{21} - Z_{23}\n",
    "$$\n",
    "\n",
    "When applied to the entire image, the result is the same as the horizontal derivative.\n",
    "\n",
    "### Convolution\n",
    "\n",
    "We observe that there is a repeated pattern in the derivative computation: we are taking addition and subtraction of neighbiring pixels. This motivates us to generalize the operation to a more general form.\n",
    "\n",
    "$$\n",
    "\\nabla Z_{22} = \\sum_{i=-1}^1 \\sum_{j=-1}^1 K_{h-(i+1),w-(j+1)} Z_{2+i, 2+j}\n",
    "$$\n",
    "\n",
    "where $K$ is a $3 \\times 3$ matrix, and $w=h=3$ represent the width and height of the kernel.\n",
    "\n",
    "$$\n",
    "K = \\begin{bmatrix}\n",
    "K_{11} & K_{12} & K_{13} \\\\\n",
    "K_{21} & K_{22} & K_{23} \\\\\n",
    "K_{31} & K_{32} & K_{33}\n",
    "\\end{bmatrix}\n",
    "$$\n",
    "\n",
    "The matrix $K$ is called a **kernel**, and applying it to the image is called **convolution**.\n",
    "\n",
    "```{note}\n",
    "The index of the kernel is conventionally reversed. Namely, we reorder the entries of the kernel such that\n",
    "\n",
    "$$\n",
    "\\begin{bmatrix}\n",
    "K_{33} & K_{32} & K_{31} \\\\\n",
    "K_{23} & K_{22} & K_{21} \\\\\n",
    "K_{13} & K_{12} & K_{11}\n",
    "\\end{bmatrix}\n",
    "$$\n",
    "\n",
    "Then, take the element-wise product with $Z$\n",
    "\n",
    "$$\n",
    "\\begin{bmatrix}\n",
    "Z_{11} K_{33} & Z_{12} K_{32} & Z_{13} K_{31} \\\\\n",
    "Z_{21} K_{23} & Z_{22} K_{22} & Z_{23} K_{21} \\\\\n",
    "Z_{31} K_{13} & Z_{32} K_{12} & Z_{33} K_{11}\n",
    "\\end{bmatrix}\n",
    "$$\n",
    "\n",
    "and sum up all the elements to get the new pixel value $\\nabla Z_{22}$.\n",
    "Why do we reverse the kernel? This is to match with the mathematical definition of convolution, which will be introduced later.\n",
    "```\n",
    "\n",
    "```{tip}\n",
    "In the previous example, we used a $3 \\times 3$ kernels called the Prewitt operator, which in terms of $K$ is\n",
    "\n",
    "$$\n",
    "K_h = \\begin{bmatrix}\n",
    "-1 & 0 & 1 \\\\\n",
    "-1 & 0 & 1 \\\\\n",
    "-1 & 0 & 1\n",
    "\\end{bmatrix}\n",
    "\\quad \\text{or} \\quad\n",
    "K_v = \\begin{bmatrix}\n",
    "-1 & -1 & -1 \\\\\n",
    "0 & 0 & 0 \\\\\n",
    "1 & 1 & 1\n",
    "\\end{bmatrix}\n",
    "$$\n",
    "\n",
    "where $K_h$ is the horizontal Prewitt operator and $K_v$ is the vertical Prewitt operator.\n",
    "```\n",
    "\n",
    "A kernel represents a local pattern we want to detect. The new pixel value after the convolution is maximized when the pattern is most similar to the kernel in terms of the inner product. This can be confirmed by:\n",
    "\n",
    "$$\n",
    "\\nabla Z_{22} = \\sum_{i=-1}^1 \\sum_{j=-1}^1 K_{h-(i+1),w-(j+1)} Z_{2+i, 2+j} = \\langle \\hat K, Z \\rangle\n",
    "$$\n",
    "\n",
    "where $\\langle \\cdot, \\cdot \\rangle$ is the inner product, and $\\hat K$ is the order-reversed kernel.\n",
    "\n",
    "```{note}\n",
    "Check out this awesome interactive demo to see how different kernels work: [Demo](https://setosa.io/ev/image-kernels/)\n",
    "```\n",
    "\n",
    "## Fourier Transform\n",
    "\n",
    "![](https://miro.medium.com/v2/resize:fit:1400/1*D6iRfzDkz-sEzyjYoVZ73w.gif)\n",
    "\n",
    "Convolution computes the new pixel values by sliding a kernel over an image. How is the resulting image related to the original image?\n",
    "\n",
    "\n",
    "\n",
    "To answer this question, let us consider a row of an image and convolve it with a kernel $K$.\n",
    "\n",
    "$$\n",
    "\\begin{aligned}\n",
    "X &= \\begin{bmatrix}\n",
    "X_1 & X_2 & X_3 & X_4 & X_5 & X_6\n",
    "\\end{bmatrix} \\\\\n",
    "K &= \\begin{bmatrix}\n",
    "K_1 & K_2 & K_3\n",
    "\\end{bmatrix}\n",
    "\\end{aligned}\n",
    "$$\n",
    "\n",
    "The convolution of $X$ and $K$ is\n",
    "\n",
    "$$\n",
    "X * K = \\begin{bmatrix}\n",
    "X_1 K_3 + X_2 K_2 + X_3 K_1 & X_2 K_3 + X_3 K_2 + X_4 K_1 & X_3 K_3 + X_4 K_2 + X_5 K_1 & X_4 K_3 + X_5 K_2 + X_6 K_1\n",
    "\\end{bmatrix}\n",
    "$$\n",
    "\n",
    "...which is complicated, right? 😅 So let's make it simple by using a useful theorem called **the convolution theorem**.\n",
    "\n",
    "The convolution theorem gives us a simpler way to think about convolution. Instead of doing the complex sliding window operation in the original domain (like pixel values), we can:\n",
    "\n",
    "1. Transform both signals to the frequency domain using Fourier transform\n",
    "2. Multiply them together (much simpler!)\n",
    "3. Transform back to get the same result\n",
    "\n",
    "Mathematically, the above steps can be written as:\n",
    "\n",
    "1. $\\mathcal{F}(X), \\mathcal{F}(K)$ - Transform both signals to frequency domain (Fourier transform)\n",
    "2. $\\mathcal{F}(X) \\cdot \\mathcal{F}(K)$ - Multiply the transformed signals\n",
    "3. $\\mathcal{F}^{-1}(\\mathcal{F}(X) \\cdot \\mathcal{F}(K))$ - Transform back to get $X * K$\n",
    "\n",
    "where $\\mathcal{F}^{-1}$ is the inverse Fourier transform that brings us back to the original domain. This is much easier than computing the convolution directly!\n",
    "\n",
    "For a discrete signal $x[n]$ with $N$ points, the Fourier transform $\\mathcal{F}$ is defined as:\n",
    "\n",
    "$$\n",
    "\\mathcal{F}(x)[k] = \\sum_{n=0}^{N-1} x[n] \\cdot e^{-2\\pi i \\frac{nk}{N}}\n",
    "$$\n",
    "\n",
    "where $i$ is the imaginary unit. Or equivalently,\n",
    "\n",
    "$$\n",
    "\\mathcal{F}(x)[k] = \\sum_{n=0}^{N-1} x[n] \\cdot \\left[ \\cos\\left(2\\pi \\frac{nk}{N}\\right) - i \\sin\\left(2\\pi \\frac{nk}{N}\\right) \\right]\n",
    "$$\n",
    "\n",
    "using Euler's formula $e^{ix} = \\cos(x) + i\\sin(x)$.\n",
    "\n",
    "```{note}\n",
    "Complex number can be thought of as a way to represent a 2D vector using a single value (which is a computer science perspective; mathematically, it is a bit more subtle). For example, $e^{i\\pi/2} = \\cos(\\pi/2) + i\\sin(\\pi/2)$ represents the 2D vector $(\\cos(\\pi/2), \\sin(\\pi/2))$. In the context of Fourier transform, we interpret $e^{-2\\pi i \\frac{nk}{N}}$ as two *base waves*, i.e., sine and cosine, with phase $\\frac{2\\pi k}{N}$.\n",
    "\n",
    "![](https://upload.wikimedia.org/wikipedia/commons/thumb/7/71/Euler%27s_formula.svg/360px-Euler%27s_formula.svg.png)\n",
    "```\n",
    "\n",
    "In simple terms, $\\mathcal{F}$ takes a signal (like our row of pixel values) and breaks it down into sine and cosine waves of different frequencies. Each frequency component $k$ tells us \"how much\" of that frequency exists in our original signal.\n",
    "Don't worry too much about the complex math. The key idea is that $\\mathcal{F}$ represents a signal as a sum of multiple waves with different frequencies, so we can understand the signal in terms of its frequencies rather than its original values.\n",
    "\n",
    "\n",
    "![](https://devincody.github.io/Blog/post/an_intuitive_interpretation_of_the_fourier_transform/img/FFT-Time-Frequency-View_hu24c1c8fe894ecd0dad24174b2bed08c9_99850_800x0_resize_lanczos_2.png)\n",
    "\n",
    "\n",
    "```{note}\n",
    "3Blue1Brown makes a beautiful video explaining Fourier transform: [Video](https://www.youtube.com/watch?v=spUNpyF58BY). Here is a great interactive demo on Fourier transform by Jez Swanson: [Demo](https://www.jezzamon.com/fourier/).\n",
    "```\n",
    "\n",
    "### An example for the Fourier transform\n",
    "\n",
    "Now, let's perform the convolution using the Fourier transform using an example."
   ]
  },
  {
   "cell_type": "code",
   "execution_count": 1,
   "id": "17d4e186",
   "metadata": {},
   "outputs": [],
   "source": [
    "import numpy as np\n",
    "X = np.array([10, 10, 80, 10, 10, 10])\n",
    "K = np.array([-1, 0, 1])"
   ]
  },
  {
   "cell_type": "markdown",
   "id": "2946911a",
   "metadata": {},
   "source": [
    "Let us first perform the convolution directly."
   ]
  },
  {
   "cell_type": "code",
   "execution_count": 2,
   "id": "27f0a4f4",
   "metadata": {},
   "outputs": [
    {
     "data": {
      "text/plain": [
       "array([-70.,   0.,  70.,   0.])"
      ]
     },
     "execution_count": 2,
     "metadata": {},
     "output_type": "execute_result"
    }
   ],
   "source": [
    "# Pad X with zeros on both sides to handle boundary\n",
    "n_conv = len(X) - len(K) + 1  # Now we get full length output\n",
    "XKconv = np.zeros(n_conv)\n",
    "\n",
    "for i in range(n_conv):\n",
    "    XKconv[i] = np.sum(X[i:(i+len(K))] * K[::-1]) # Reverse the kernel and take element-wise product and sum up\n",
    "XKconv"
   ]
  },
  {
   "cell_type": "markdown",
   "id": "05e2d61b",
   "metadata": {},
   "source": [
    "Let us now perform the convolution using the Fourier transform. We compute the Fourier transform of $X$ and $K$."
   ]
  },
  {
   "cell_type": "code",
   "execution_count": 3,
   "id": "0c7e2091",
   "metadata": {},
   "outputs": [
    {
     "name": "stdout",
     "output_type": "stream",
     "text": [
      "FX: [130.+0.00000000e+00j -35.-6.06217783e+01j -35.+6.06217783e+01j\n",
      "  70.+7.10542736e-15j -35.-6.06217783e+01j -35.+6.06217783e+01j]\n"
     ]
    }
   ],
   "source": [
    "# Step 1: Transform X and K to frequency domain\n",
    "FX = np.fft.fft(X)\n",
    "# Pad K with zeros to match the length of X before FFT\n",
    "K_padded = np.pad(K, (0, len(X) - len(K)), 'constant') # [-1  0  1  0  0  0]\n",
    "FK = np.fft.fft(K_padded)\n",
    "print(\"FX:\", FX)"
   ]
  },
  {
   "cell_type": "markdown",
   "id": "d59ee605",
   "metadata": {},
   "source": [
    "- We add zeros to $K$ to make it the same length as $X$ before applying the Fourier transform. This is necessary because the convolution theorem requires the signals to have the same length.\n",
    "- `FX` is the Fourier transform of $X$, which is a complex number. Each entry $FX[k]$ represents the weight of the cosine wave in its real part and the weight of the sine wave in its imaginary part, with phase $2\\pi k / N$. Similarly for `FK`.\n",
    "\n",
    "Next, we multiply the transformed signals."
   ]
  },
  {
   "cell_type": "code",
   "execution_count": 4,
   "id": "5d3dc998",
   "metadata": {},
   "outputs": [],
   "source": [
    "FXKconv = FX * FK"
   ]
  },
  {
   "cell_type": "markdown",
   "id": "3fab5091",
   "metadata": {},
   "source": [
    "This is the convolution in the frequency domain. Finally, we transform back to get the convolution."
   ]
  },
  {
   "cell_type": "code",
   "execution_count": 5,
   "id": "a7379012",
   "metadata": {},
   "outputs": [
    {
     "data": {
      "text/plain": [
       "array([ 2.84957243e-15,  3.05036092e-15, -7.00000000e+01,  1.88737914e-15,\n",
       "        7.00000000e+01, -1.05195948e-15])"
      ]
     },
     "execution_count": 5,
     "metadata": {},
     "output_type": "execute_result"
    }
   ],
   "source": [
    "XKconv_ft = np.real(np.fft.ifft(FXKconv))\n",
    "XKconv_ft"
   ]
  },
  {
   "cell_type": "markdown",
   "id": "a0f816a4",
   "metadata": {},
   "source": [
    "- We take the real part. The imaginary part is due to numerical artifacts that do not matter in practice.\n",
    "- The Fourier transform convolution produces a longer output than direct convolution because it includes partial overlaps between K and X at the boundaries. Since we only want the full overlaps, we need to truncate the first two elements of `XKconv_ft` (as K has length 3) to match the length of the direct convolution result.\n",
    "- For example, let's look at what happens at the beginning of the convolution:\n",
    "  - At position -2: Only the last element of K overlaps with X: `[0, 0, 10] * [-1, 0, 1] = 10`\n",
    "  - At position -1: Two elements of K overlap with X: `[0, 10, 10] * [-1, 0, 1] = 10`\n",
    "  - At position 0: Full overlap begins: `[10, 10, 80] * [-1, 0, 1] = 70`\n",
    "\n",
    "  The Fourier transform method gives us all these positions (-2, -1, 0, ...), but we only want the full overlaps starting from position 0, which is why we truncate the first two elements."
   ]
  },
  {
   "cell_type": "code",
   "execution_count": 6,
   "id": "8ae69b96",
   "metadata": {},
   "outputs": [
    {
     "data": {
      "text/plain": [
       "array([-7.00000000e+01,  1.88737914e-15,  7.00000000e+01, -1.05195948e-15])"
      ]
     },
     "execution_count": 6,
     "metadata": {},
     "output_type": "execute_result"
    }
   ],
   "source": [
    "XKconv_ft = XKconv_ft[2:]\n",
    "XKconv_ft"
   ]
  },
  {
   "cell_type": "markdown",
   "id": "c84954f9",
   "metadata": {},
   "source": [
    "This gives us the same result as the direct convolution up to numerical errors.\n",
    "\n",
    "## Fourier Transform of Images\n",
    "\n",
    "Let's extend the above example to an image which is a 2D matrix.\n",
    "The idea is the same: we take the Fourier transform of each row and column of the image, and then multiply them together to get the convolution in the frequency domain.\n",
    "More specifically, for an image $X$ with size $H \\times W$, the Fourier transform of $X$ is\n",
    "\n",
    "$$\n",
    "\\begin{aligned}\n",
    "\\mathcal{F}(X)[h, w] &= \\sum_{k=0}^{H-1} \\sum_{\\ell=0}^{W-1} X[k, \\ell] \\cdot e^{-2\\pi i \\frac{hk}{H}} \\cdot e^{-2\\pi i \\frac{w\\ell}{W}} \\\\\n",
    "&= \\sum_{k=0}^{H-1} \\sum_{\\ell=0}^{W-1} X[k, \\ell] e^{-2\\pi i \\left(\\frac{hk}{H} + \\frac{w\\ell}{W}\\right)}\n",
    "\\end{aligned}\n",
    "$$\n",
    "\n",
    "Comparing with the 1D case, we see that the 2D Fourier transform is *functionally* the same as the 1D Fourier transform, except that we now have two indices $h$ and $w$ to represent the frequency in both dimensions.\n",
    "The basis waves are 2D waves as shown below.\n",
    "\n",
    "**Cosine waves**"
   ]
  },
  {
   "cell_type": "code",
   "execution_count": 7,
   "id": "cd9ac7c0",
   "metadata": {},
   "outputs": [
    {
     "ename": "NameError",
     "evalue": "name 'hide' is not defined",
     "output_type": "error",
     "traceback": [
      "\u001b[0;31m---------------------------------------------------------------------------\u001b[0m",
      "\u001b[0;31mNameError\u001b[0m                                 Traceback (most recent call last)",
      "Cell \u001b[0;32mIn[7], line 1\u001b[0m\n\u001b[0;32m----> 1\u001b[0m tags: [hide\u001b[38;5;241m-\u001b[39m\u001b[38;5;28minput\u001b[39m]\n\u001b[1;32m      3\u001b[0m \u001b[38;5;28;01mimport\u001b[39;00m \u001b[38;5;21;01mnumpy\u001b[39;00m \u001b[38;5;28;01mas\u001b[39;00m \u001b[38;5;21;01mnp\u001b[39;00m\n\u001b[1;32m      4\u001b[0m \u001b[38;5;28;01mimport\u001b[39;00m \u001b[38;5;21;01mmatplotlib\u001b[39;00m\u001b[38;5;21;01m.\u001b[39;00m\u001b[38;5;21;01mpyplot\u001b[39;00m \u001b[38;5;28;01mas\u001b[39;00m \u001b[38;5;21;01mplt\u001b[39;00m\n",
      "\u001b[0;31mNameError\u001b[0m: name 'hide' is not defined"
     ]
    }
   ],
   "source": [
    "tags: [hide-input]\n",
    "\n",
    "import numpy as np\n",
    "import matplotlib.pyplot as plt\n",
    "\n",
    "def basis_function(img_size=256, u=0, v=0):\n",
    "  '''\n",
    "  img_size : square size of image f(x,y)\n",
    "  u,v : spatial space indice\n",
    "  '''\n",
    "  N = img_size\n",
    "  x = np.linspace(0, N-1, N)\n",
    "  y = np.linspace(0, N-1, N)\n",
    "  x_, y_ = np.meshgrid(x, y)\n",
    "  bf = np.exp(-1j*2*np.pi*(u*x_/N+v*y_/N))\n",
    "  if u == 0 and v == 0:\n",
    "    bf = np.round(bf)\n",
    "  real = np.real(bf) # The cosine part\n",
    "  imag = np.imag(bf) # The sine part\n",
    "  return real, imag\n",
    "\n",
    "size = 16\n",
    "bf_arr_real = np.zeros((size*size,size,size))\n",
    "bf_arr_imag = np.zeros((size*size,size,size))\n",
    "ind = 0\n",
    "for col in range(size):\n",
    "  for row in range(size):\n",
    "    re,imag = basis_function(img_size=size, u=row, v=col)\n",
    "    bf_arr_real[ind] = re\n",
    "    bf_arr_imag[ind] = imag\n",
    "    ind += 1\n",
    "\n",
    "# real part\n",
    "_, axs = plt.subplots(size, size, figsize=(7, 7))\n",
    "axs = axs.flatten()\n",
    "for img, ax in zip(bf_arr_real, axs):\n",
    "  ax.set_axis_off()\n",
    "  ax.imshow(img,cmap='gray')"
   ]
  },
  {
   "cell_type": "markdown",
   "id": "6c8bb0ab",
   "metadata": {},
   "source": [
    "**Sine waves**"
   ]
  },
  {
   "cell_type": "code",
   "execution_count": null,
   "id": "b6e79cfc",
   "metadata": {},
   "outputs": [],
   "source": [
    "tags: [hide-input]\n",
    "# imaginary part\n",
    "_, axs = plt.subplots(size, size, figsize=(7, 7))\n",
    "axs = axs.flatten()\n",
    "for img, ax in zip(bf_arr_imag, axs):\n",
    "  ax.set_axis_off()\n",
    "  ax.imshow(img,cmap='gray')"
   ]
  },
  {
   "cell_type": "markdown",
   "id": "e861e985",
   "metadata": {},
   "source": [
    "The Fourier transform of an image is a decomposition of an image into the sum of these basis waves.\n",
    "\n",
    "### An example of Fourier transform\n",
    "\n",
    "Let us apply the Fourier transform to an image."
   ]
  },
  {
   "cell_type": "code",
   "execution_count": null,
   "id": "7eb6c630",
   "metadata": {},
   "outputs": [],
   "source": [
    "from PIL import Image\n",
    "import requests\n",
    "from io import BytesIO\n",
    "import numpy as np\n",
    "import matplotlib.pyplot as plt\n",
    "\n",
    "# Read image from URL\n",
    "def read_jpeg_from_url(url):\n",
    "    response = requests.get(url)\n",
    "    img = Image.open(BytesIO(response.content))\n",
    "    # Convert to RGB mode if needed (in case it's RGBA)\n",
    "    if img.mode != 'RGB':\n",
    "        img = img.convert('RGB')\n",
    "    return img\n",
    "\n",
    "def image_to_numpy(img):\n",
    "    return np.array(img)\n",
    "\n",
    "def to_gray_scale(img_np):\n",
    "    return np.mean(img_np, axis=2)\n",
    "\n",
    "# URL of the image\n",
    "url = \"https://www.binghamton.edu/news/images/uploads/features/20180815_peacequad02_jwc.jpg\"\n",
    "\n",
    "img = read_jpeg_from_url(url)\n",
    "img_np = image_to_numpy(img)\n",
    "img_gray = to_gray_scale(img_np)\n",
    "\n",
    "plt.imshow(img_gray, cmap='gray')"
   ]
  },
  {
   "cell_type": "markdown",
   "id": "d53cdb23",
   "metadata": {},
   "source": [
    "Take the Fourier transform of the image."
   ]
  },
  {
   "cell_type": "code",
   "execution_count": null,
   "id": "993c3e7b",
   "metadata": {},
   "outputs": [],
   "source": [
    "ft_img_gray = np.fft.fft2(img_gray)"
   ]
  },
  {
   "cell_type": "markdown",
   "id": "6123d1a2",
   "metadata": {},
   "source": [
    "This decomposes the image into a sum of basis waves. Let's see the weights of the basis waves."
   ]
  },
  {
   "cell_type": "code",
   "execution_count": null,
   "id": "3c4426a4",
   "metadata": {},
   "outputs": [],
   "source": [
    "weight = np.abs(ft_img_gray)\n",
    "\n",
    "# real part\n",
    "fig1, ax1 = plt.subplots(figsize=(5, 5))\n",
    "\n",
    "ax1.imshow(weight, cmap='gray', norm=matplotlib.colors.LogNorm(), aspect='equal')\n",
    "cbar = fig1.colorbar(ax1.images[0], ax=ax1, orientation='horizontal')\n",
    "cbar.set_label('Fourier transform magnitude')"
   ]
  },
  {
   "cell_type": "markdown",
   "id": "3b0fcb7f",
   "metadata": {},
   "source": [
    "The corresponding basis waves look like this:"
   ]
  },
  {
   "cell_type": "code",
   "execution_count": null,
   "id": "007ed4b8",
   "metadata": {},
   "outputs": [],
   "source": [
    "size = 16\n",
    "bf_arr_real = np.zeros((size*size,size,size))\n",
    "bf_arr_imag = np.zeros((size*size,size,size))\n",
    "ind = 0\n",
    "for col in range(-size//2, size//2):\n",
    "  for row in range(-size//2, size//2):\n",
    "    re,imag = basis_function(img_size=size, u=row, v=col)\n",
    "    bf_arr_real[ind] = re\n",
    "    bf_arr_imag[ind] = imag\n",
    "    ind += 1\n",
    "\n",
    "# real part\n",
    "fig, axs = plt.subplots(size, size, figsize=(7, 7))\n",
    "axs = axs.flatten()\n",
    "for img, ax in zip(bf_arr_real, axs):\n",
    "  ax.set_axis_off()\n",
    "  ax.imshow(img,cmap='gray')\n",
    "\n",
    "fig.suptitle('Real Part of Basis Functions')\n",
    "\n",
    "\n",
    "# imaginary part\n",
    "fig, axs = plt.subplots(size, size, figsize=(7, 7))\n",
    "axs = axs.flatten()\n",
    "for img, ax in zip(bf_arr_imag, axs):\n",
    "  ax.set_axis_off()\n",
    "  ax.imshow(img,cmap='gray')\n",
    "\n",
    "fig.suptitle('Imaginary Part of Basis Functions')"
   ]
  },
  {
   "cell_type": "markdown",
   "id": "3f49fd4a",
   "metadata": {},
   "source": [
    "Now, let's see the convolution of the image with a Prewitt operator."
   ]
  },
  {
   "cell_type": "code",
   "execution_count": null,
   "id": "98fcc53f",
   "metadata": {},
   "outputs": [],
   "source": [
    "K = np.array([[-1, -1, -1], [0, 0, 0], [1, 1, 1]]) # Prewitt operator\n",
    "\n",
    "K_padd = np.zeros((img_gray.shape[0], img_gray.shape[1]))\n",
    "K_padd[:K.shape[0], :K.shape[1]] = K\n",
    "\n",
    "# convolution\n",
    "FK = np.fft.fft2(K_padd)"
   ]
  },
  {
   "cell_type": "markdown",
   "id": "51c5455b",
   "metadata": {},
   "source": [
    "The Fourier transform of the Prewitt operator looks like this:"
   ]
  },
  {
   "cell_type": "code",
   "execution_count": null,
   "id": "d80d1208",
   "metadata": {},
   "outputs": [],
   "source": [
    "plt.imshow(np.abs(FK), cmap='gray')\n",
    "cbar = plt.colorbar()"
   ]
  },
  {
   "cell_type": "markdown",
   "id": "cebd228d",
   "metadata": {},
   "source": [
    "We can think of the frequency domain of the kernel as a **filter** that suppresses some frequencies and allows others to pass through. In the example of the Prewitt operator, the kernel `FK` has a low value around the center of the image. The product $FX \\cdot FK$ then suppresses the low-frequency components of the image, and we are left with the high-frequency components that correspond to the horizontal edges. We can think of this as a high-pass filter that only allows high-frequency components to pass through.\n",
    "\n",
    "Let's see the convolution result."
   ]
  },
  {
   "cell_type": "code",
   "execution_count": null,
   "id": "04907e9f",
   "metadata": {},
   "outputs": [],
   "source": [
    "FX = np.fft.fft2(img_gray)\n",
    "conv_img_gray = np.real(np.fft.ifft2(FX * FK))\n",
    "plt.imshow(conv_img_gray, cmap='gray')"
   ]
  },
  {
   "cell_type": "markdown",
   "id": "153b89bf",
   "metadata": {},
   "source": [
    "We observe that the horizontal edges are highlighted.\n",
    "\n",
    "```{note}\n",
    "A widespread application of the 2D Fourier transform is JPEG format. Here's how it works:\n",
    "\n",
    "(1) It first breaks the image into small 8x8 squares.\n",
    "(2) It converts each square into frequencies using the Discrete Cosine Transform. The sine part is discarded for compression.\n",
    "(3) It keeps the important low frequencies that our eyes can see well.\n",
    "(4) It throws away most of the high frequencies that our eyes don't notice much.\n",
    "\n",
    "These steps make the file much smaller while still looking good to us.\n",
    "```\n",
    "\n",
    "\n",
    "\n",
    "## A key lesson from image processing\n",
    "\n",
    "We have seen an equivalence between convolution in the pixel (spatial) domain and multiplication in the frequency domain.\n",
    "Using the Fourier transform, an image is decomposed into a sum of basis waves.\n",
    "The *kernel* can be thought of as *a filter* that suppresses some basis waves and allows others to pass through.\n",
    "\n",
    "This idea is the key to understand graph convolutional networks we will see in the next page."
   ]
  }
 ],
 "metadata": {
  "jupytext": {
   "formats": "md:myst",
   "text_representation": {
    "extension": ".md",
    "format_name": "myst"
   }
  },
  "kernelspec": {
   "display_name": "Python 3",
   "language": "python",
   "name": "python3"
  },
  "language_info": {
   "codemirror_mode": {
    "name": "ipython",
    "version": 3
   },
   "file_extension": ".py",
   "mimetype": "text/x-python",
   "name": "python",
   "nbconvert_exporter": "python",
   "pygments_lexer": "ipython3",
   "version": "3.11.0"
  }
 },
 "nbformat": 4,
 "nbformat_minor": 5
}