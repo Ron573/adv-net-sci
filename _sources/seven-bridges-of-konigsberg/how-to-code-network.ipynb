{
 "cells": [
  {
   "cell_type": "markdown",
   "id": "44dcde22",
   "metadata": {},
   "source": [
    "# How to describe a network using mathematics and code\n",
    "\n",
    "So far we worked out the network of bridges of Konigsberg by illustrating the network with points and lines.\n",
    "From now, we will work with the mathematical description of the network.\n",
    "\n",
    "An atomic element of a network is a node, i.e., a network is a collection of edges which are pairs of nodes.\n",
    "We *label* a unique integer as an identifier for each node. For instance, the bridges of Konigsberg has 4 nodes, and we assign the number 0 to 3 to the nodes. An edge can be represented by a pair of nodes. For instance, the edge between node 0 and node 1 can be represented by the pair `(0, 1)`.\n",
    "\n",
    "\n",
    ":::{figure-md} numbered-koningsberg-graph\n",
    "\n",
    "<img src= \"./figs/labeled-koningsberg.jpg\" width=\"30%\">\n",
    "\n",
    "Labeled Knigsberg graph\n",
    "\n",
    ":::\n",
    "\n",
    ":::{note}\n",
    ":name: node-labeling\n",
    "We label nodes starting from 0 with consecutive numbers, which is convenient for Python. However, this is *not the only way* to label nodes.\n",
    ":::\n",
    "\n",
    "The Konigsberg graph can be represented by a list of edges."
   ]
  },
  {
   "cell_type": "code",
   "execution_count": 1,
   "id": "65574c5e",
   "metadata": {},
   "outputs": [],
   "source": [
    "edges = [(0,1), (0, 1), (0, 3), (1, 2), (1, 2), (1, 3), (2, 3)]"
   ]
  },
  {
   "cell_type": "markdown",
   "id": "a07b206b",
   "metadata": {},
   "source": [
    "This list is a complete description of the network. However, it is inconvenient to work with mathematically.\n",
    "Another, more convenient format is the *adjacency matrix*.\n",
    "In this form, one regard the node index as a coordinate in the matrix. For instance, edge $(1,3)$ is represented by the entry in the second row and fourth column. The entry of the matrix represents the number of edges between two nodes. Thus, the zeros in the matrix represent the absence of edges."
   ]
  },
  {
   "cell_type": "code",
   "execution_count": 2,
   "id": "eae5eb10",
   "metadata": {},
   "outputs": [],
   "source": [
    "A = [[0, 2, 0, 1],\n",
    "     [2, 0, 2, 1],\n",
    "     [0, 2, 0, 1],\n",
    "     [1, 1, 1, 0]]"
   ]
  },
  {
   "cell_type": "markdown",
   "id": "201e2524",
   "metadata": {},
   "source": [
    "or equivalently, using for loops:"
   ]
  },
  {
   "cell_type": "code",
   "execution_count": 3,
   "id": "a6294181",
   "metadata": {},
   "outputs": [],
   "source": [
    "import numpy as np\n",
    "\n",
    "A = np.zeros((4, 4))\n",
    "for i, j in edges:\n",
    "    A[i][j] += 1"
   ]
  }
 ],
 "metadata": {
  "jupytext": {
   "cell_metadata_filter": "-all",
   "formats": "md:myst",
   "text_representation": {
    "extension": ".md",
    "format_name": "myst",
    "format_version": 0.13,
    "jupytext_version": "1.16.3"
   }
  },
  "kernelspec": {
   "display_name": "Python 3 (ipykernel)",
   "language": "python",
   "name": "python3"
  },
  "language_info": {
   "codemirror_mode": {
    "name": "ipython",
    "version": 3
   },
   "file_extension": ".py",
   "mimetype": "text/x-python",
   "name": "python",
   "nbconvert_exporter": "python",
   "pygments_lexer": "ipython3",
   "version": "3.11.0"
  },
  "launch_buttons": {
   "binderhub_url": "https://mybinder.org",
   "thebe": true
  }
 },
 "nbformat": 4,
 "nbformat_minor": 5
}