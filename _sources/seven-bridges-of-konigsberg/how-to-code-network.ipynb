{
 "cells": [
  {
   "cell_type": "markdown",
   "id": "95f992d7",
   "metadata": {},
   "source": [
    "# Compute with networks\n",
    "\n",
    "So far we worked out the network of bridges of Konigsberg by illustrating the network with points and lines.\n",
    "From now, we will work with a representation of the network that can be easily computed with code.\n",
    "\n",
    "## Network representation\n",
    "\n",
    "An atomic element of a network is a node, i.e., a network is a collection of edges which are pairs of nodes.\n",
    "We *label* a unique integer as an identifier for each node. For instance, the bridges of Konigsberg has 4 nodes, and we assign the number 0 to 3 to the nodes. An edge can be represented by a pair of nodes. For instance, the edge between node 0 and node 1 can be represented by the pair `(0, 1)`.\n",
    "\n",
    "\n",
    ":::{figure-md} numbered-koningsberg-graph\n",
    "\n",
    "<img src= \"./figs/labeled-koningsberg.jpg\" width=\"30%\">\n",
    "\n",
    "Labeled Knigsberg graph\n",
    "\n",
    ":::\n",
    "\n",
    ":::{note}\n",
    ":name: node-labeling\n",
    "We label nodes starting from 0 with consecutive numbers, which is convenient for Python. However, this is *not the only way* to label nodes.\n",
    ":::\n",
    "\n",
    "The Konigsberg graph can be represented by a list of edges."
   ]
  },
  {
   "cell_type": "code",
   "execution_count": 1,
   "id": "e0b7d9f8",
   "metadata": {},
   "outputs": [],
   "source": [
    "edges = [(0,1), (0, 1), (0, 3), (1, 2), (1, 2), (1, 3), (2, 3)]"
   ]
  },
  {
   "cell_type": "markdown",
   "id": "ba6a5558",
   "metadata": {},
   "source": [
    "This list is a complete description of the network. However, it is inconvenient to work with mathematically.\n",
    "Another, more convenient format is the *adjacency matrix*.\n",
    "In this form, one regard the node index as a coordinate in the matrix. For instance, edge $(1,3)$ is represented by the entry in the second row and fourth column. The entry of the matrix represents the number of edges between two nodes. Thus, the zeros in the matrix represent the absence of edges."
   ]
  },
  {
   "cell_type": "code",
   "execution_count": 2,
   "id": "a4cfc68f",
   "metadata": {},
   "outputs": [],
   "source": [
    "A = [[0, 2, 0, 1],\n",
    "     [2, 0, 2, 1],\n",
    "     [0, 2, 0, 1],\n",
    "     [1, 1, 1, 0]]"
   ]
  },
  {
   "cell_type": "markdown",
   "id": "0323a2dc",
   "metadata": {},
   "source": [
    "or equivalently, using for loops:"
   ]
  },
  {
   "cell_type": "code",
   "execution_count": 3,
   "id": "bc5598d5",
   "metadata": {},
   "outputs": [],
   "source": [
    "import numpy as np\n",
    "\n",
    "A = np.zeros((4, 4))\n",
    "for i, j in edges:\n",
    "    A[i][j] += 1\n",
    "    A[j][i] += 1"
   ]
  },
  {
   "cell_type": "markdown",
   "id": "791d6ad1",
   "metadata": {},
   "source": [
    ":::{note}\n",
    "In the Konigsberg graph, the edges are *undirected*, meaning edge (i,j) is the same as edge (j,i), which is why we increment both entries $(i,j)$ and $(j,i)$ in the for loop. If the edges are *directed*, we treat (i,j) and (j,i) as two different edges, and increment only (i,j).\n",
    ":::\n",
    "\n",
    "## Edge counting\n",
    "\n",
    "Let us showcase the convenience of the adjacency matrix by counting the number of edges in the network.\n",
    "\n",
    "The total number of edges in the network is the sum of the entities in the"
   ]
  },
  {
   "cell_type": "code",
   "execution_count": 4,
   "id": "27b70b30",
   "metadata": {},
   "outputs": [
    {
     "data": {
      "text/plain": [
       "7.0"
      ]
     },
     "execution_count": 4,
     "metadata": {},
     "output_type": "execute_result"
    }
   ],
   "source": [
    "np.sum(A) / 2"
   ]
  },
  {
   "cell_type": "markdown",
   "id": "50f56990",
   "metadata": {},
   "source": [
    "We divide by 2 because an edge corresponds to two entries in the matrix. Now, let us consider\n",
    "\n",
    "It is also easy to compute the number of edges pertained to individual nodes by taking the row or column sum of the matrix."
   ]
  },
  {
   "cell_type": "code",
   "execution_count": 5,
   "id": "e8df75b2",
   "metadata": {},
   "outputs": [
    {
     "data": {
      "text/plain": [
       "array([3., 5., 3., 3.])"
      ]
     },
     "execution_count": 5,
     "metadata": {},
     "output_type": "execute_result"
    }
   ],
   "source": [
    "np.sum(A, axis = 1)"
   ]
  },
  {
   "cell_type": "markdown",
   "id": "ca71ab01",
   "metadata": {},
   "source": [
    "The result is an array of length 4, where the i-th entry is the number of edges connected to node i.\n",
    "\n",
    ":::{important}\n",
    "The number of edges connected to a node is called the ***degree*** of the node.\n",
    ":::"
   ]
  }
 ],
 "metadata": {
  "jupytext": {
   "cell_metadata_filter": "-all",
   "formats": "md:myst",
   "text_representation": {
    "extension": ".md",
    "format_name": "myst",
    "format_version": 0.13,
    "jupytext_version": "1.16.3"
   }
  },
  "kernelspec": {
   "display_name": "Python 3 (ipykernel)",
   "language": "python",
   "name": "python3"
  },
  "language_info": {
   "codemirror_mode": {
    "name": "ipython",
    "version": 3
   },
   "file_extension": ".py",
   "mimetype": "text/x-python",
   "name": "python",
   "nbconvert_exporter": "python",
   "pygments_lexer": "ipython3",
   "version": "3.11.0"
  },
  "launch_buttons": {
   "binderhub_url": "https://mybinder.org",
   "thebe": true
  }
 },
 "nbformat": 4,
 "nbformat_minor": 5
}