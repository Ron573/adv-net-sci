{
 "cells": [
  {
   "cell_type": "markdown",
   "id": "029da68d",
   "metadata": {},
   "source": [
    "# Hands-on: Robustness\n",
    "\n",
    "We consider a small social network of 34 members in a university karate club, called Zachary's karate club network."
   ]
  },
  {
   "cell_type": "code",
   "execution_count": 1,
   "id": "dc4fe15b",
   "metadata": {},
   "outputs": [
    {
     "data": {
      "image/svg+xml": [
       "<?xml version=\"1.0\" encoding=\"UTF-8\"?>\n",
       "<svg xmlns=\"http://www.w3.org/2000/svg\" xmlns:xlink=\"http://www.w3.org/1999/xlink\" width=\"600\" height=\"600\" viewBox=\"0 0 600 600\">\n",
       "<rect x=\"-60\" y=\"-60\" width=\"720\" height=\"720\" fill=\"rgb(100%, 100%, 100%)\" fill-opacity=\"1\"/>\n",
       "<path fill=\"none\" stroke-width=\"1\" stroke-linecap=\"butt\" stroke-linejoin=\"miter\" stroke=\"rgb(26.666667%, 26.666667%, 26.666667%)\" stroke-opacity=\"1\" stroke-miterlimit=\"10\" d=\"M 268.234375 380.121094 L 167.3125 348.042969 \"/>\n",
       "<path fill=\"none\" stroke-width=\"1\" stroke-linecap=\"butt\" stroke-linejoin=\"miter\" stroke=\"rgb(26.666667%, 26.666667%, 26.666667%)\" stroke-opacity=\"1\" stroke-miterlimit=\"10\" d=\"M 268.234375 380.121094 L 306.316406 270.535156 \"/>\n",
       "<path fill=\"none\" stroke-width=\"1\" stroke-linecap=\"butt\" stroke-linejoin=\"miter\" stroke=\"rgb(26.666667%, 26.666667%, 26.666667%)\" stroke-opacity=\"1\" stroke-miterlimit=\"10\" d=\"M 268.234375 380.121094 L 308.523438 354.417969 \"/>\n",
       "<path fill=\"none\" stroke-width=\"1\" stroke-linecap=\"butt\" stroke-linejoin=\"miter\" stroke=\"rgb(26.666667%, 26.666667%, 26.666667%)\" stroke-opacity=\"1\" stroke-miterlimit=\"10\" d=\"M 268.234375 380.121094 L 493.1875 411.027344 \"/>\n",
       "<path fill=\"none\" stroke-width=\"1\" stroke-linecap=\"butt\" stroke-linejoin=\"miter\" stroke=\"rgb(26.666667%, 26.666667%, 26.666667%)\" stroke-opacity=\"1\" stroke-miterlimit=\"10\" d=\"M 268.234375 380.121094 L 319.867188 497.75 \"/>\n",
       "<path fill=\"none\" stroke-width=\"1\" stroke-linecap=\"butt\" stroke-linejoin=\"miter\" stroke=\"rgb(26.666667%, 26.666667%, 26.666667%)\" stroke-opacity=\"1\" stroke-miterlimit=\"10\" d=\"M 268.234375 380.121094 L 416.589844 475.585938 \"/>\n",
       "<path fill=\"none\" stroke-width=\"1\" stroke-linecap=\"butt\" stroke-linejoin=\"miter\" stroke=\"rgb(26.666667%, 26.666667%, 26.666667%)\" stroke-opacity=\"1\" stroke-miterlimit=\"10\" d=\"M 268.234375 380.121094 L 397.800781 345.332031 \"/>\n",
       "<path fill=\"none\" stroke-width=\"1\" stroke-linecap=\"butt\" stroke-linejoin=\"miter\" stroke=\"rgb(26.666667%, 26.666667%, 26.666667%)\" stroke-opacity=\"1\" stroke-miterlimit=\"10\" d=\"M 268.234375 380.121094 L 179.035156 260.472656 \"/>\n",
       "<path fill=\"none\" stroke-width=\"1\" stroke-linecap=\"butt\" stroke-linejoin=\"miter\" stroke=\"rgb(26.666667%, 26.666667%, 26.666667%)\" stroke-opacity=\"1\" stroke-miterlimit=\"10\" d=\"M 268.234375 380.121094 L 410.246094 442.617188 \"/>\n",
       "<path fill=\"none\" stroke-width=\"1\" stroke-linecap=\"butt\" stroke-linejoin=\"miter\" stroke=\"rgb(26.666667%, 26.666667%, 26.666667%)\" stroke-opacity=\"1\" stroke-miterlimit=\"10\" d=\"M 268.234375 380.121094 L 152.472656 482.945312 \"/>\n",
       "<path fill=\"none\" stroke-width=\"1\" stroke-linecap=\"butt\" stroke-linejoin=\"miter\" stroke=\"rgb(26.666667%, 26.666667%, 26.666667%)\" stroke-opacity=\"1\" stroke-miterlimit=\"10\" d=\"M 268.234375 380.121094 L 237.789062 466.75 \"/>\n",
       "<path fill=\"none\" stroke-width=\"1\" stroke-linecap=\"butt\" stroke-linejoin=\"miter\" stroke=\"rgb(26.666667%, 26.666667%, 26.666667%)\" stroke-opacity=\"1\" stroke-miterlimit=\"10\" d=\"M 268.234375 380.121094 L 218.40625 284.226562 \"/>\n",
       "<path fill=\"none\" stroke-width=\"1\" stroke-linecap=\"butt\" stroke-linejoin=\"miter\" stroke=\"rgb(26.666667%, 26.666667%, 26.666667%)\" stroke-opacity=\"1\" stroke-miterlimit=\"10\" d=\"M 268.234375 380.121094 L 55.621094 407.054688 \"/>\n",
       "<path fill=\"none\" stroke-width=\"1\" stroke-linecap=\"butt\" stroke-linejoin=\"miter\" stroke=\"rgb(26.666667%, 26.666667%, 26.666667%)\" stroke-opacity=\"1\" stroke-miterlimit=\"10\" d=\"M 268.234375 380.121094 L 122.023438 284.070312 \"/>\n",
       "<path fill=\"none\" stroke-width=\"1\" stroke-linecap=\"butt\" stroke-linejoin=\"miter\" stroke=\"rgb(26.666667%, 26.666667%, 26.666667%)\" stroke-opacity=\"1\" stroke-miterlimit=\"10\" d=\"M 268.234375 380.121094 L 101.621094 436.207031 \"/>\n",
       "<path fill=\"none\" stroke-width=\"1\" stroke-linecap=\"butt\" stroke-linejoin=\"miter\" stroke=\"rgb(26.666667%, 26.666667%, 26.666667%)\" stroke-opacity=\"1\" stroke-miterlimit=\"10\" d=\"M 268.234375 380.121094 L 377.363281 251.421875 \"/>\n",
       "<path fill=\"none\" stroke-width=\"1\" stroke-linecap=\"butt\" stroke-linejoin=\"miter\" stroke=\"rgb(26.666667%, 26.666667%, 26.666667%)\" stroke-opacity=\"1\" stroke-miterlimit=\"10\" d=\"M 167.3125 348.042969 L 306.316406 270.535156 \"/>\n",
       "<path fill=\"none\" stroke-width=\"1\" stroke-linecap=\"butt\" stroke-linejoin=\"miter\" stroke=\"rgb(26.666667%, 26.666667%, 26.666667%)\" stroke-opacity=\"1\" stroke-miterlimit=\"10\" d=\"M 167.3125 348.042969 L 308.523438 354.417969 \"/>\n",
       "<path fill=\"none\" stroke-width=\"1\" stroke-linecap=\"butt\" stroke-linejoin=\"miter\" stroke=\"rgb(26.666667%, 26.666667%, 26.666667%)\" stroke-opacity=\"1\" stroke-miterlimit=\"10\" d=\"M 167.3125 348.042969 L 397.800781 345.332031 \"/>\n",
       "<path fill=\"none\" stroke-width=\"1\" stroke-linecap=\"butt\" stroke-linejoin=\"miter\" stroke=\"rgb(26.666667%, 26.666667%, 26.666667%)\" stroke-opacity=\"1\" stroke-miterlimit=\"10\" d=\"M 167.3125 348.042969 L 218.40625 284.226562 \"/>\n",
       "<path fill=\"none\" stroke-width=\"1\" stroke-linecap=\"butt\" stroke-linejoin=\"miter\" stroke=\"rgb(26.666667%, 26.666667%, 26.666667%)\" stroke-opacity=\"1\" stroke-miterlimit=\"10\" d=\"M 167.3125 348.042969 L 55.621094 407.054688 \"/>\n",
       "<path fill=\"none\" stroke-width=\"1\" stroke-linecap=\"butt\" stroke-linejoin=\"miter\" stroke=\"rgb(26.666667%, 26.666667%, 26.666667%)\" stroke-opacity=\"1\" stroke-miterlimit=\"10\" d=\"M 167.3125 348.042969 L 122.023438 284.070312 \"/>\n",
       "<path fill=\"none\" stroke-width=\"1\" stroke-linecap=\"butt\" stroke-linejoin=\"miter\" stroke=\"rgb(26.666667%, 26.666667%, 26.666667%)\" stroke-opacity=\"1\" stroke-miterlimit=\"10\" d=\"M 167.3125 348.042969 L 101.621094 436.207031 \"/>\n",
       "<path fill=\"none\" stroke-width=\"1\" stroke-linecap=\"butt\" stroke-linejoin=\"miter\" stroke=\"rgb(26.666667%, 26.666667%, 26.666667%)\" stroke-opacity=\"1\" stroke-miterlimit=\"10\" d=\"M 167.3125 348.042969 L 70.679688 230.246094 \"/>\n",
       "<path fill=\"none\" stroke-width=\"1\" stroke-linecap=\"butt\" stroke-linejoin=\"miter\" stroke=\"rgb(26.666667%, 26.666667%, 26.666667%)\" stroke-opacity=\"1\" stroke-miterlimit=\"10\" d=\"M 306.316406 270.535156 L 308.523438 354.417969 \"/>\n",
       "<path fill=\"none\" stroke-width=\"1\" stroke-linecap=\"butt\" stroke-linejoin=\"miter\" stroke=\"rgb(26.666667%, 26.666667%, 26.666667%)\" stroke-opacity=\"1\" stroke-miterlimit=\"10\" d=\"M 306.316406 270.535156 L 397.800781 345.332031 \"/>\n",
       "<path fill=\"none\" stroke-width=\"1\" stroke-linecap=\"butt\" stroke-linejoin=\"miter\" stroke=\"rgb(26.666667%, 26.666667%, 26.666667%)\" stroke-opacity=\"1\" stroke-miterlimit=\"10\" d=\"M 306.316406 270.535156 L 429.644531 182.421875 \"/>\n",
       "<path fill=\"none\" stroke-width=\"1\" stroke-linecap=\"butt\" stroke-linejoin=\"miter\" stroke=\"rgb(26.666667%, 26.666667%, 26.666667%)\" stroke-opacity=\"1\" stroke-miterlimit=\"10\" d=\"M 306.316406 270.535156 L 377.964844 179.179688 \"/>\n",
       "<path fill=\"none\" stroke-width=\"1\" stroke-linecap=\"butt\" stroke-linejoin=\"miter\" stroke=\"rgb(26.666667%, 26.666667%, 26.666667%)\" stroke-opacity=\"1\" stroke-miterlimit=\"10\" d=\"M 306.316406 270.535156 L 191.835938 162.421875 \"/>\n",
       "<path fill=\"none\" stroke-width=\"1\" stroke-linecap=\"butt\" stroke-linejoin=\"miter\" stroke=\"rgb(26.666667%, 26.666667%, 26.666667%)\" stroke-opacity=\"1\" stroke-miterlimit=\"10\" d=\"M 306.316406 270.535156 L 317.847656 177.304688 \"/>\n",
       "<path fill=\"none\" stroke-width=\"1\" stroke-linecap=\"butt\" stroke-linejoin=\"miter\" stroke=\"rgb(26.666667%, 26.666667%, 26.666667%)\" stroke-opacity=\"1\" stroke-miterlimit=\"10\" d=\"M 306.316406 270.535156 L 179.035156 260.472656 \"/>\n",
       "<path fill=\"none\" stroke-width=\"1\" stroke-linecap=\"butt\" stroke-linejoin=\"miter\" stroke=\"rgb(26.666667%, 26.666667%, 26.666667%)\" stroke-opacity=\"1\" stroke-miterlimit=\"10\" d=\"M 306.316406 270.535156 L 218.40625 284.226562 \"/>\n",
       "<path fill=\"none\" stroke-width=\"1\" stroke-linecap=\"butt\" stroke-linejoin=\"miter\" stroke=\"rgb(26.666667%, 26.666667%, 26.666667%)\" stroke-opacity=\"1\" stroke-miterlimit=\"10\" d=\"M 308.523438 354.417969 L 397.800781 345.332031 \"/>\n",
       "<path fill=\"none\" stroke-width=\"1\" stroke-linecap=\"butt\" stroke-linejoin=\"miter\" stroke=\"rgb(26.666667%, 26.666667%, 26.666667%)\" stroke-opacity=\"1\" stroke-miterlimit=\"10\" d=\"M 308.523438 354.417969 L 237.789062 466.75 \"/>\n",
       "<path fill=\"none\" stroke-width=\"1\" stroke-linecap=\"butt\" stroke-linejoin=\"miter\" stroke=\"rgb(26.666667%, 26.666667%, 26.666667%)\" stroke-opacity=\"1\" stroke-miterlimit=\"10\" d=\"M 308.523438 354.417969 L 218.40625 284.226562 \"/>\n",
       "<path fill=\"none\" stroke-width=\"1\" stroke-linecap=\"butt\" stroke-linejoin=\"miter\" stroke=\"rgb(26.666667%, 26.666667%, 26.666667%)\" stroke-opacity=\"1\" stroke-miterlimit=\"10\" d=\"M 493.1875 411.027344 L 416.589844 475.585938 \"/>\n",
       "<path fill=\"none\" stroke-width=\"1\" stroke-linecap=\"butt\" stroke-linejoin=\"miter\" stroke=\"rgb(26.666667%, 26.666667%, 26.666667%)\" stroke-opacity=\"1\" stroke-miterlimit=\"10\" d=\"M 493.1875 411.027344 L 410.246094 442.617188 \"/>\n",
       "<path fill=\"none\" stroke-width=\"1\" stroke-linecap=\"butt\" stroke-linejoin=\"miter\" stroke=\"rgb(26.666667%, 26.666667%, 26.666667%)\" stroke-opacity=\"1\" stroke-miterlimit=\"10\" d=\"M 319.867188 497.75 L 416.589844 475.585938 \"/>\n",
       "<path fill=\"none\" stroke-width=\"1\" stroke-linecap=\"butt\" stroke-linejoin=\"miter\" stroke=\"rgb(26.666667%, 26.666667%, 26.666667%)\" stroke-opacity=\"1\" stroke-miterlimit=\"10\" d=\"M 319.867188 497.75 L 410.246094 442.617188 \"/>\n",
       "<path fill=\"none\" stroke-width=\"1\" stroke-linecap=\"butt\" stroke-linejoin=\"miter\" stroke=\"rgb(26.666667%, 26.666667%, 26.666667%)\" stroke-opacity=\"1\" stroke-miterlimit=\"10\" d=\"M 319.867188 497.75 L 446.917969 580 \"/>\n",
       "<path fill=\"none\" stroke-width=\"1\" stroke-linecap=\"butt\" stroke-linejoin=\"miter\" stroke=\"rgb(26.666667%, 26.666667%, 26.666667%)\" stroke-opacity=\"1\" stroke-miterlimit=\"10\" d=\"M 416.589844 475.585938 L 446.917969 580 \"/>\n",
       "<path fill=\"none\" stroke-width=\"1\" stroke-linecap=\"butt\" stroke-linejoin=\"miter\" stroke=\"rgb(26.666667%, 26.666667%, 26.666667%)\" stroke-opacity=\"1\" stroke-miterlimit=\"10\" d=\"M 179.035156 260.472656 L 70.679688 230.246094 \"/>\n",
       "<path fill=\"none\" stroke-width=\"1\" stroke-linecap=\"butt\" stroke-linejoin=\"miter\" stroke=\"rgb(26.666667%, 26.666667%, 26.666667%)\" stroke-opacity=\"1\" stroke-miterlimit=\"10\" d=\"M 179.035156 260.472656 L 191.835938 162.421875 \"/>\n",
       "<path fill=\"none\" stroke-width=\"1\" stroke-linecap=\"butt\" stroke-linejoin=\"miter\" stroke=\"rgb(26.666667%, 26.666667%, 26.666667%)\" stroke-opacity=\"1\" stroke-miterlimit=\"10\" d=\"M 179.035156 260.472656 L 230.492188 155.398438 \"/>\n",
       "<path fill=\"none\" stroke-width=\"1\" stroke-linecap=\"butt\" stroke-linejoin=\"miter\" stroke=\"rgb(26.666667%, 26.666667%, 26.666667%)\" stroke-opacity=\"1\" stroke-miterlimit=\"10\" d=\"M 317.847656 177.304688 L 230.492188 155.398438 \"/>\n",
       "<path fill=\"none\" stroke-width=\"1\" stroke-linecap=\"butt\" stroke-linejoin=\"miter\" stroke=\"rgb(26.666667%, 26.666667%, 26.666667%)\" stroke-opacity=\"1\" stroke-miterlimit=\"10\" d=\"M 218.40625 284.226562 L 230.492188 155.398438 \"/>\n",
       "<path fill=\"none\" stroke-width=\"1\" stroke-linecap=\"butt\" stroke-linejoin=\"miter\" stroke=\"rgb(26.666667%, 26.666667%, 26.666667%)\" stroke-opacity=\"1\" stroke-miterlimit=\"10\" d=\"M 141.710938 59.867188 L 191.835938 162.421875 \"/>\n",
       "<path fill=\"none\" stroke-width=\"1\" stroke-linecap=\"butt\" stroke-linejoin=\"miter\" stroke=\"rgb(26.666667%, 26.666667%, 26.666667%)\" stroke-opacity=\"1\" stroke-miterlimit=\"10\" d=\"M 141.710938 59.867188 L 230.492188 155.398438 \"/>\n",
       "<path fill=\"none\" stroke-width=\"1\" stroke-linecap=\"butt\" stroke-linejoin=\"miter\" stroke=\"rgb(26.666667%, 26.666667%, 26.666667%)\" stroke-opacity=\"1\" stroke-miterlimit=\"10\" d=\"M 43.128906 116.257812 L 191.835938 162.421875 \"/>\n",
       "<path fill=\"none\" stroke-width=\"1\" stroke-linecap=\"butt\" stroke-linejoin=\"miter\" stroke=\"rgb(26.666667%, 26.666667%, 26.666667%)\" stroke-opacity=\"1\" stroke-miterlimit=\"10\" d=\"M 43.128906 116.257812 L 230.492188 155.398438 \"/>\n",
       "<path fill=\"none\" stroke-width=\"1\" stroke-linecap=\"butt\" stroke-linejoin=\"miter\" stroke=\"rgb(26.666667%, 26.666667%, 26.666667%)\" stroke-opacity=\"1\" stroke-miterlimit=\"10\" d=\"M 20 153.472656 L 191.835938 162.421875 \"/>\n",
       "<path fill=\"none\" stroke-width=\"1\" stroke-linecap=\"butt\" stroke-linejoin=\"miter\" stroke=\"rgb(26.666667%, 26.666667%, 26.666667%)\" stroke-opacity=\"1\" stroke-miterlimit=\"10\" d=\"M 20 153.472656 L 230.492188 155.398438 \"/>\n",
       "<path fill=\"none\" stroke-width=\"1\" stroke-linecap=\"butt\" stroke-linejoin=\"miter\" stroke=\"rgb(26.666667%, 26.666667%, 26.666667%)\" stroke-opacity=\"1\" stroke-miterlimit=\"10\" d=\"M 122.023438 284.070312 L 230.492188 155.398438 \"/>\n",
       "<path fill=\"none\" stroke-width=\"1\" stroke-linecap=\"butt\" stroke-linejoin=\"miter\" stroke=\"rgb(26.666667%, 26.666667%, 26.666667%)\" stroke-opacity=\"1\" stroke-miterlimit=\"10\" d=\"M 84.390625 83.648438 L 191.835938 162.421875 \"/>\n",
       "<path fill=\"none\" stroke-width=\"1\" stroke-linecap=\"butt\" stroke-linejoin=\"miter\" stroke=\"rgb(26.666667%, 26.666667%, 26.666667%)\" stroke-opacity=\"1\" stroke-miterlimit=\"10\" d=\"M 84.390625 83.648438 L 230.492188 155.398438 \"/>\n",
       "<path fill=\"none\" stroke-width=\"1\" stroke-linecap=\"butt\" stroke-linejoin=\"miter\" stroke=\"rgb(26.666667%, 26.666667%, 26.666667%)\" stroke-opacity=\"1\" stroke-miterlimit=\"10\" d=\"M 213.492188 54.59375 L 191.835938 162.421875 \"/>\n",
       "<path fill=\"none\" stroke-width=\"1\" stroke-linecap=\"butt\" stroke-linejoin=\"miter\" stroke=\"rgb(26.666667%, 26.666667%, 26.666667%)\" stroke-opacity=\"1\" stroke-miterlimit=\"10\" d=\"M 213.492188 54.59375 L 230.492188 155.398438 \"/>\n",
       "<path fill=\"none\" stroke-width=\"1\" stroke-linecap=\"butt\" stroke-linejoin=\"miter\" stroke=\"rgb(26.666667%, 26.666667%, 26.666667%)\" stroke-opacity=\"1\" stroke-miterlimit=\"10\" d=\"M 414.417969 106.957031 L 564.140625 228.570312 \"/>\n",
       "<path fill=\"none\" stroke-width=\"1\" stroke-linecap=\"butt\" stroke-linejoin=\"miter\" stroke=\"rgb(26.666667%, 26.666667%, 26.666667%)\" stroke-opacity=\"1\" stroke-miterlimit=\"10\" d=\"M 414.417969 106.957031 L 429.644531 182.421875 \"/>\n",
       "<path fill=\"none\" stroke-width=\"1\" stroke-linecap=\"butt\" stroke-linejoin=\"miter\" stroke=\"rgb(26.666667%, 26.666667%, 26.666667%)\" stroke-opacity=\"1\" stroke-miterlimit=\"10\" d=\"M 414.417969 106.957031 L 191.835938 162.421875 \"/>\n",
       "<path fill=\"none\" stroke-width=\"1\" stroke-linecap=\"butt\" stroke-linejoin=\"miter\" stroke=\"rgb(26.666667%, 26.666667%, 26.666667%)\" stroke-opacity=\"1\" stroke-miterlimit=\"10\" d=\"M 414.417969 106.957031 L 230.492188 155.398438 \"/>\n",
       "<path fill=\"none\" stroke-width=\"1\" stroke-linecap=\"butt\" stroke-linejoin=\"miter\" stroke=\"rgb(26.666667%, 26.666667%, 26.666667%)\" stroke-opacity=\"1\" stroke-miterlimit=\"10\" d=\"M 414.417969 106.957031 L 331.359375 68.214844 \"/>\n",
       "<path fill=\"none\" stroke-width=\"1\" stroke-linecap=\"butt\" stroke-linejoin=\"miter\" stroke=\"rgb(26.666667%, 26.666667%, 26.666667%)\" stroke-opacity=\"1\" stroke-miterlimit=\"10\" d=\"M 580 186.261719 L 564.140625 228.570312 \"/>\n",
       "<path fill=\"none\" stroke-width=\"1\" stroke-linecap=\"butt\" stroke-linejoin=\"miter\" stroke=\"rgb(26.666667%, 26.666667%, 26.666667%)\" stroke-opacity=\"1\" stroke-miterlimit=\"10\" d=\"M 580 186.261719 L 429.644531 182.421875 \"/>\n",
       "<path fill=\"none\" stroke-width=\"1\" stroke-linecap=\"butt\" stroke-linejoin=\"miter\" stroke=\"rgb(26.666667%, 26.666667%, 26.666667%)\" stroke-opacity=\"1\" stroke-miterlimit=\"10\" d=\"M 580 186.261719 L 377.363281 251.421875 \"/>\n",
       "<path fill=\"none\" stroke-width=\"1\" stroke-linecap=\"butt\" stroke-linejoin=\"miter\" stroke=\"rgb(26.666667%, 26.666667%, 26.666667%)\" stroke-opacity=\"1\" stroke-miterlimit=\"10\" d=\"M 564.140625 228.570312 L 377.363281 251.421875 \"/>\n",
       "<path fill=\"none\" stroke-width=\"1\" stroke-linecap=\"butt\" stroke-linejoin=\"miter\" stroke=\"rgb(26.666667%, 26.666667%, 26.666667%)\" stroke-opacity=\"1\" stroke-miterlimit=\"10\" d=\"M 277.054688 20 L 331.359375 68.214844 \"/>\n",
       "<path fill=\"none\" stroke-width=\"1\" stroke-linecap=\"butt\" stroke-linejoin=\"miter\" stroke=\"rgb(26.666667%, 26.666667%, 26.666667%)\" stroke-opacity=\"1\" stroke-miterlimit=\"10\" d=\"M 277.054688 20 L 230.492188 155.398438 \"/>\n",
       "<path fill=\"none\" stroke-width=\"1\" stroke-linecap=\"butt\" stroke-linejoin=\"miter\" stroke=\"rgb(26.666667%, 26.666667%, 26.666667%)\" stroke-opacity=\"1\" stroke-miterlimit=\"10\" d=\"M 429.644531 182.421875 L 230.492188 155.398438 \"/>\n",
       "<path fill=\"none\" stroke-width=\"1\" stroke-linecap=\"butt\" stroke-linejoin=\"miter\" stroke=\"rgb(26.666667%, 26.666667%, 26.666667%)\" stroke-opacity=\"1\" stroke-miterlimit=\"10\" d=\"M 377.964844 179.179688 L 377.363281 251.421875 \"/>\n",
       "<path fill=\"none\" stroke-width=\"1\" stroke-linecap=\"butt\" stroke-linejoin=\"miter\" stroke=\"rgb(26.666667%, 26.666667%, 26.666667%)\" stroke-opacity=\"1\" stroke-miterlimit=\"10\" d=\"M 377.964844 179.179688 L 230.492188 155.398438 \"/>\n",
       "<path fill=\"none\" stroke-width=\"1\" stroke-linecap=\"butt\" stroke-linejoin=\"miter\" stroke=\"rgb(26.666667%, 26.666667%, 26.666667%)\" stroke-opacity=\"1\" stroke-miterlimit=\"10\" d=\"M 331.359375 68.214844 L 191.835938 162.421875 \"/>\n",
       "<path fill=\"none\" stroke-width=\"1\" stroke-linecap=\"butt\" stroke-linejoin=\"miter\" stroke=\"rgb(26.666667%, 26.666667%, 26.666667%)\" stroke-opacity=\"1\" stroke-miterlimit=\"10\" d=\"M 331.359375 68.214844 L 230.492188 155.398438 \"/>\n",
       "<path fill=\"none\" stroke-width=\"1\" stroke-linecap=\"butt\" stroke-linejoin=\"miter\" stroke=\"rgb(26.666667%, 26.666667%, 26.666667%)\" stroke-opacity=\"1\" stroke-miterlimit=\"10\" d=\"M 70.679688 230.246094 L 191.835938 162.421875 \"/>\n",
       "<path fill=\"none\" stroke-width=\"1\" stroke-linecap=\"butt\" stroke-linejoin=\"miter\" stroke=\"rgb(26.666667%, 26.666667%, 26.666667%)\" stroke-opacity=\"1\" stroke-miterlimit=\"10\" d=\"M 70.679688 230.246094 L 230.492188 155.398438 \"/>\n",
       "<path fill=\"none\" stroke-width=\"1\" stroke-linecap=\"butt\" stroke-linejoin=\"miter\" stroke=\"rgb(26.666667%, 26.666667%, 26.666667%)\" stroke-opacity=\"1\" stroke-miterlimit=\"10\" d=\"M 377.363281 251.421875 L 191.835938 162.421875 \"/>\n",
       "<path fill=\"none\" stroke-width=\"1\" stroke-linecap=\"butt\" stroke-linejoin=\"miter\" stroke=\"rgb(26.666667%, 26.666667%, 26.666667%)\" stroke-opacity=\"1\" stroke-miterlimit=\"10\" d=\"M 377.363281 251.421875 L 230.492188 155.398438 \"/>\n",
       "<path fill=\"none\" stroke-width=\"1\" stroke-linecap=\"butt\" stroke-linejoin=\"miter\" stroke=\"rgb(26.666667%, 26.666667%, 26.666667%)\" stroke-opacity=\"1\" stroke-miterlimit=\"10\" d=\"M 191.835938 162.421875 L 230.492188 155.398438 \"/>\n",
       "<path fill-rule=\"nonzero\" fill=\"rgb(100%, 0%, 0%)\" fill-opacity=\"1\" stroke-width=\"1\" stroke-linecap=\"butt\" stroke-linejoin=\"miter\" stroke=\"rgb(0%, 0%, 0%)\" stroke-opacity=\"1\" stroke-miterlimit=\"10\" d=\"M 278.234375 380.121094 C 278.234375 385.644531 273.757812 390.121094 268.234375 390.121094 C 262.710938 390.121094 258.234375 385.644531 258.234375 380.121094 C 258.234375 374.601562 262.710938 370.121094 268.234375 370.121094 C 273.757812 370.121094 278.234375 374.601562 278.234375 380.121094 \"/>\n",
       "<path fill-rule=\"nonzero\" fill=\"rgb(100%, 0%, 0%)\" fill-opacity=\"1\" stroke-width=\"1\" stroke-linecap=\"butt\" stroke-linejoin=\"miter\" stroke=\"rgb(0%, 0%, 0%)\" stroke-opacity=\"1\" stroke-miterlimit=\"10\" d=\"M 177.3125 348.042969 C 177.3125 353.566406 172.835938 358.042969 167.3125 358.042969 C 161.789062 358.042969 157.3125 353.566406 157.3125 348.042969 C 157.3125 342.519531 161.789062 338.042969 167.3125 338.042969 C 172.835938 338.042969 177.3125 342.519531 177.3125 348.042969 \"/>\n",
       "<path fill-rule=\"nonzero\" fill=\"rgb(100%, 0%, 0%)\" fill-opacity=\"1\" stroke-width=\"1\" stroke-linecap=\"butt\" stroke-linejoin=\"miter\" stroke=\"rgb(0%, 0%, 0%)\" stroke-opacity=\"1\" stroke-miterlimit=\"10\" d=\"M 316.316406 270.535156 C 316.316406 276.058594 311.839844 280.535156 306.316406 280.535156 C 300.792969 280.535156 296.316406 276.058594 296.316406 270.535156 C 296.316406 265.015625 300.792969 260.535156 306.316406 260.535156 C 311.839844 260.535156 316.316406 265.015625 316.316406 270.535156 \"/>\n",
       "<path fill-rule=\"nonzero\" fill=\"rgb(100%, 0%, 0%)\" fill-opacity=\"1\" stroke-width=\"1\" stroke-linecap=\"butt\" stroke-linejoin=\"miter\" stroke=\"rgb(0%, 0%, 0%)\" stroke-opacity=\"1\" stroke-miterlimit=\"10\" d=\"M 318.523438 354.417969 C 318.523438 359.941406 314.046875 364.417969 308.523438 364.417969 C 303.003906 364.417969 298.523438 359.941406 298.523438 354.417969 C 298.523438 348.898438 303.003906 344.417969 308.523438 344.417969 C 314.046875 344.417969 318.523438 348.898438 318.523438 354.417969 \"/>\n",
       "<path fill-rule=\"nonzero\" fill=\"rgb(100%, 0%, 0%)\" fill-opacity=\"1\" stroke-width=\"1\" stroke-linecap=\"butt\" stroke-linejoin=\"miter\" stroke=\"rgb(0%, 0%, 0%)\" stroke-opacity=\"1\" stroke-miterlimit=\"10\" d=\"M 503.1875 411.027344 C 503.1875 416.550781 498.707031 421.027344 493.1875 421.027344 C 487.664062 421.027344 483.1875 416.550781 483.1875 411.027344 C 483.1875 405.503906 487.664062 401.027344 493.1875 401.027344 C 498.707031 401.027344 503.1875 405.503906 503.1875 411.027344 \"/>\n",
       "<path fill-rule=\"nonzero\" fill=\"rgb(100%, 0%, 0%)\" fill-opacity=\"1\" stroke-width=\"1\" stroke-linecap=\"butt\" stroke-linejoin=\"miter\" stroke=\"rgb(0%, 0%, 0%)\" stroke-opacity=\"1\" stroke-miterlimit=\"10\" d=\"M 329.867188 497.75 C 329.867188 503.273438 325.390625 507.75 319.867188 507.75 C 314.34375 507.75 309.867188 503.273438 309.867188 497.75 C 309.867188 492.226562 314.34375 487.75 319.867188 487.75 C 325.390625 487.75 329.867188 492.226562 329.867188 497.75 \"/>\n",
       "<path fill-rule=\"nonzero\" fill=\"rgb(100%, 0%, 0%)\" fill-opacity=\"1\" stroke-width=\"1\" stroke-linecap=\"butt\" stroke-linejoin=\"miter\" stroke=\"rgb(0%, 0%, 0%)\" stroke-opacity=\"1\" stroke-miterlimit=\"10\" d=\"M 426.589844 475.585938 C 426.589844 481.109375 422.113281 485.585938 416.589844 485.585938 C 411.066406 485.585938 406.589844 481.109375 406.589844 475.585938 C 406.589844 470.0625 411.066406 465.585938 416.589844 465.585938 C 422.113281 465.585938 426.589844 470.0625 426.589844 475.585938 \"/>\n",
       "<path fill-rule=\"nonzero\" fill=\"rgb(100%, 0%, 0%)\" fill-opacity=\"1\" stroke-width=\"1\" stroke-linecap=\"butt\" stroke-linejoin=\"miter\" stroke=\"rgb(0%, 0%, 0%)\" stroke-opacity=\"1\" stroke-miterlimit=\"10\" d=\"M 407.800781 345.332031 C 407.800781 350.855469 403.324219 355.332031 397.800781 355.332031 C 392.277344 355.332031 387.800781 350.855469 387.800781 345.332031 C 387.800781 339.808594 392.277344 335.332031 397.800781 335.332031 C 403.324219 335.332031 407.800781 339.808594 407.800781 345.332031 \"/>\n",
       "<path fill-rule=\"nonzero\" fill=\"rgb(100%, 0%, 0%)\" fill-opacity=\"1\" stroke-width=\"1\" stroke-linecap=\"butt\" stroke-linejoin=\"miter\" stroke=\"rgb(0%, 0%, 0%)\" stroke-opacity=\"1\" stroke-miterlimit=\"10\" d=\"M 189.035156 260.472656 C 189.035156 265.996094 184.558594 270.472656 179.035156 270.472656 C 173.511719 270.472656 169.035156 265.996094 169.035156 260.472656 C 169.035156 254.949219 173.511719 250.472656 179.035156 250.472656 C 184.558594 250.472656 189.035156 254.949219 189.035156 260.472656 \"/>\n",
       "<path fill-rule=\"nonzero\" fill=\"rgb(100%, 0%, 0%)\" fill-opacity=\"1\" stroke-width=\"1\" stroke-linecap=\"butt\" stroke-linejoin=\"miter\" stroke=\"rgb(0%, 0%, 0%)\" stroke-opacity=\"1\" stroke-miterlimit=\"10\" d=\"M 327.847656 177.304688 C 327.847656 182.828125 323.371094 187.304688 317.847656 187.304688 C 312.324219 187.304688 307.847656 182.828125 307.847656 177.304688 C 307.847656 171.785156 312.324219 167.304688 317.847656 167.304688 C 323.371094 167.304688 327.847656 171.785156 327.847656 177.304688 \"/>\n",
       "<path fill-rule=\"nonzero\" fill=\"rgb(100%, 0%, 0%)\" fill-opacity=\"1\" stroke-width=\"1\" stroke-linecap=\"butt\" stroke-linejoin=\"miter\" stroke=\"rgb(0%, 0%, 0%)\" stroke-opacity=\"1\" stroke-miterlimit=\"10\" d=\"M 420.246094 442.617188 C 420.246094 448.140625 415.769531 452.617188 410.246094 452.617188 C 404.722656 452.617188 400.246094 448.140625 400.246094 442.617188 C 400.246094 437.097656 404.722656 432.617188 410.246094 432.617188 C 415.769531 432.617188 420.246094 437.097656 420.246094 442.617188 \"/>\n",
       "<path fill-rule=\"nonzero\" fill=\"rgb(100%, 0%, 0%)\" fill-opacity=\"1\" stroke-width=\"1\" stroke-linecap=\"butt\" stroke-linejoin=\"miter\" stroke=\"rgb(0%, 0%, 0%)\" stroke-opacity=\"1\" stroke-miterlimit=\"10\" d=\"M 162.472656 482.945312 C 162.472656 488.464844 157.996094 492.945312 152.472656 492.945312 C 146.953125 492.945312 142.472656 488.464844 142.472656 482.945312 C 142.472656 477.421875 146.953125 472.945312 152.472656 472.945312 C 157.996094 472.945312 162.472656 477.421875 162.472656 482.945312 \"/>\n",
       "<path fill-rule=\"nonzero\" fill=\"rgb(100%, 0%, 0%)\" fill-opacity=\"1\" stroke-width=\"1\" stroke-linecap=\"butt\" stroke-linejoin=\"miter\" stroke=\"rgb(0%, 0%, 0%)\" stroke-opacity=\"1\" stroke-miterlimit=\"10\" d=\"M 247.789062 466.75 C 247.789062 472.273438 243.3125 476.75 237.789062 476.75 C 232.265625 476.75 227.789062 472.273438 227.789062 466.75 C 227.789062 461.226562 232.265625 456.75 237.789062 456.75 C 243.3125 456.75 247.789062 461.226562 247.789062 466.75 \"/>\n",
       "<path fill-rule=\"nonzero\" fill=\"rgb(100%, 0%, 0%)\" fill-opacity=\"1\" stroke-width=\"1\" stroke-linecap=\"butt\" stroke-linejoin=\"miter\" stroke=\"rgb(0%, 0%, 0%)\" stroke-opacity=\"1\" stroke-miterlimit=\"10\" d=\"M 228.40625 284.226562 C 228.40625 289.75 223.929688 294.226562 218.40625 294.226562 C 212.882812 294.226562 208.40625 289.75 208.40625 284.226562 C 208.40625 278.703125 212.882812 274.226562 218.40625 274.226562 C 223.929688 274.226562 228.40625 278.703125 228.40625 284.226562 \"/>\n",
       "<path fill-rule=\"nonzero\" fill=\"rgb(100%, 0%, 0%)\" fill-opacity=\"1\" stroke-width=\"1\" stroke-linecap=\"butt\" stroke-linejoin=\"miter\" stroke=\"rgb(0%, 0%, 0%)\" stroke-opacity=\"1\" stroke-miterlimit=\"10\" d=\"M 151.710938 59.867188 C 151.710938 65.390625 147.234375 69.867188 141.710938 69.867188 C 136.1875 69.867188 131.710938 65.390625 131.710938 59.867188 C 131.710938 54.34375 136.1875 49.867188 141.710938 49.867188 C 147.234375 49.867188 151.710938 54.34375 151.710938 59.867188 \"/>\n",
       "<path fill-rule=\"nonzero\" fill=\"rgb(100%, 0%, 0%)\" fill-opacity=\"1\" stroke-width=\"1\" stroke-linecap=\"butt\" stroke-linejoin=\"miter\" stroke=\"rgb(0%, 0%, 0%)\" stroke-opacity=\"1\" stroke-miterlimit=\"10\" d=\"M 53.128906 116.257812 C 53.128906 121.78125 48.648438 126.257812 43.128906 126.257812 C 37.605469 126.257812 33.128906 121.78125 33.128906 116.257812 C 33.128906 110.734375 37.605469 106.257812 43.128906 106.257812 C 48.648438 106.257812 53.128906 110.734375 53.128906 116.257812 \"/>\n",
       "<path fill-rule=\"nonzero\" fill=\"rgb(100%, 0%, 0%)\" fill-opacity=\"1\" stroke-width=\"1\" stroke-linecap=\"butt\" stroke-linejoin=\"miter\" stroke=\"rgb(0%, 0%, 0%)\" stroke-opacity=\"1\" stroke-miterlimit=\"10\" d=\"M 456.917969 580 C 456.917969 585.523438 452.4375 590 446.917969 590 C 441.394531 590 436.917969 585.523438 436.917969 580 C 436.917969 574.476562 441.394531 570 446.917969 570 C 452.4375 570 456.917969 574.476562 456.917969 580 \"/>\n",
       "<path fill-rule=\"nonzero\" fill=\"rgb(100%, 0%, 0%)\" fill-opacity=\"1\" stroke-width=\"1\" stroke-linecap=\"butt\" stroke-linejoin=\"miter\" stroke=\"rgb(0%, 0%, 0%)\" stroke-opacity=\"1\" stroke-miterlimit=\"10\" d=\"M 65.621094 407.054688 C 65.621094 412.578125 61.144531 417.054688 55.621094 417.054688 C 50.097656 417.054688 45.621094 412.578125 45.621094 407.054688 C 45.621094 401.535156 50.097656 397.054688 55.621094 397.054688 C 61.144531 397.054688 65.621094 401.535156 65.621094 407.054688 \"/>\n",
       "<path fill-rule=\"nonzero\" fill=\"rgb(100%, 0%, 0%)\" fill-opacity=\"1\" stroke-width=\"1\" stroke-linecap=\"butt\" stroke-linejoin=\"miter\" stroke=\"rgb(0%, 0%, 0%)\" stroke-opacity=\"1\" stroke-miterlimit=\"10\" d=\"M 30 153.472656 C 30 158.996094 25.523438 163.472656 20 163.472656 C 14.476562 163.472656 10 158.996094 10 153.472656 C 10 147.949219 14.476562 143.472656 20 143.472656 C 25.523438 143.472656 30 147.949219 30 153.472656 \"/>\n",
       "<path fill-rule=\"nonzero\" fill=\"rgb(100%, 0%, 0%)\" fill-opacity=\"1\" stroke-width=\"1\" stroke-linecap=\"butt\" stroke-linejoin=\"miter\" stroke=\"rgb(0%, 0%, 0%)\" stroke-opacity=\"1\" stroke-miterlimit=\"10\" d=\"M 132.023438 284.070312 C 132.023438 289.59375 127.546875 294.070312 122.023438 294.070312 C 116.503906 294.070312 112.023438 289.59375 112.023438 284.070312 C 112.023438 278.546875 116.503906 274.070312 122.023438 274.070312 C 127.546875 274.070312 132.023438 278.546875 132.023438 284.070312 \"/>\n",
       "<path fill-rule=\"nonzero\" fill=\"rgb(100%, 0%, 0%)\" fill-opacity=\"1\" stroke-width=\"1\" stroke-linecap=\"butt\" stroke-linejoin=\"miter\" stroke=\"rgb(0%, 0%, 0%)\" stroke-opacity=\"1\" stroke-miterlimit=\"10\" d=\"M 94.390625 83.648438 C 94.390625 89.171875 89.914062 93.648438 84.390625 93.648438 C 78.867188 93.648438 74.390625 89.171875 74.390625 83.648438 C 74.390625 78.128906 78.867188 73.648438 84.390625 73.648438 C 89.914062 73.648438 94.390625 78.128906 94.390625 83.648438 \"/>\n",
       "<path fill-rule=\"nonzero\" fill=\"rgb(100%, 0%, 0%)\" fill-opacity=\"1\" stroke-width=\"1\" stroke-linecap=\"butt\" stroke-linejoin=\"miter\" stroke=\"rgb(0%, 0%, 0%)\" stroke-opacity=\"1\" stroke-miterlimit=\"10\" d=\"M 111.621094 436.207031 C 111.621094 441.730469 107.144531 446.207031 101.621094 446.207031 C 96.097656 446.207031 91.621094 441.730469 91.621094 436.207031 C 91.621094 430.683594 96.097656 426.207031 101.621094 426.207031 C 107.144531 426.207031 111.621094 430.683594 111.621094 436.207031 \"/>\n",
       "<path fill-rule=\"nonzero\" fill=\"rgb(100%, 0%, 0%)\" fill-opacity=\"1\" stroke-width=\"1\" stroke-linecap=\"butt\" stroke-linejoin=\"miter\" stroke=\"rgb(0%, 0%, 0%)\" stroke-opacity=\"1\" stroke-miterlimit=\"10\" d=\"M 223.492188 54.59375 C 223.492188 60.117188 219.015625 64.59375 213.492188 64.59375 C 207.96875 64.59375 203.492188 60.117188 203.492188 54.59375 C 203.492188 49.074219 207.96875 44.59375 213.492188 44.59375 C 219.015625 44.59375 223.492188 49.074219 223.492188 54.59375 \"/>\n",
       "<path fill-rule=\"nonzero\" fill=\"rgb(100%, 0%, 0%)\" fill-opacity=\"1\" stroke-width=\"1\" stroke-linecap=\"butt\" stroke-linejoin=\"miter\" stroke=\"rgb(0%, 0%, 0%)\" stroke-opacity=\"1\" stroke-miterlimit=\"10\" d=\"M 424.417969 106.957031 C 424.417969 112.476562 419.9375 116.957031 414.417969 116.957031 C 408.894531 116.957031 404.417969 112.476562 404.417969 106.957031 C 404.417969 101.433594 408.894531 96.957031 414.417969 96.957031 C 419.9375 96.957031 424.417969 101.433594 424.417969 106.957031 \"/>\n",
       "<path fill-rule=\"nonzero\" fill=\"rgb(100%, 0%, 0%)\" fill-opacity=\"1\" stroke-width=\"1\" stroke-linecap=\"butt\" stroke-linejoin=\"miter\" stroke=\"rgb(0%, 0%, 0%)\" stroke-opacity=\"1\" stroke-miterlimit=\"10\" d=\"M 590 186.261719 C 590 191.785156 585.523438 196.261719 580 196.261719 C 574.476562 196.261719 570 191.785156 570 186.261719 C 570 180.738281 574.476562 176.261719 580 176.261719 C 585.523438 176.261719 590 180.738281 590 186.261719 \"/>\n",
       "<path fill-rule=\"nonzero\" fill=\"rgb(100%, 0%, 0%)\" fill-opacity=\"1\" stroke-width=\"1\" stroke-linecap=\"butt\" stroke-linejoin=\"miter\" stroke=\"rgb(0%, 0%, 0%)\" stroke-opacity=\"1\" stroke-miterlimit=\"10\" d=\"M 574.140625 228.570312 C 574.140625 234.09375 569.664062 238.570312 564.140625 238.570312 C 558.617188 238.570312 554.140625 234.09375 554.140625 228.570312 C 554.140625 223.046875 558.617188 218.570312 564.140625 218.570312 C 569.664062 218.570312 574.140625 223.046875 574.140625 228.570312 \"/>\n",
       "<path fill-rule=\"nonzero\" fill=\"rgb(100%, 0%, 0%)\" fill-opacity=\"1\" stroke-width=\"1\" stroke-linecap=\"butt\" stroke-linejoin=\"miter\" stroke=\"rgb(0%, 0%, 0%)\" stroke-opacity=\"1\" stroke-miterlimit=\"10\" d=\"M 287.054688 20 C 287.054688 25.523438 282.578125 30 277.054688 30 C 271.535156 30 267.054688 25.523438 267.054688 20 C 267.054688 14.476562 271.535156 10 277.054688 10 C 282.578125 10 287.054688 14.476562 287.054688 20 \"/>\n",
       "<path fill-rule=\"nonzero\" fill=\"rgb(100%, 0%, 0%)\" fill-opacity=\"1\" stroke-width=\"1\" stroke-linecap=\"butt\" stroke-linejoin=\"miter\" stroke=\"rgb(0%, 0%, 0%)\" stroke-opacity=\"1\" stroke-miterlimit=\"10\" d=\"M 439.644531 182.421875 C 439.644531 187.941406 435.167969 192.421875 429.644531 192.421875 C 424.125 192.421875 419.644531 187.941406 419.644531 182.421875 C 419.644531 176.898438 424.125 172.421875 429.644531 172.421875 C 435.167969 172.421875 439.644531 176.898438 439.644531 182.421875 \"/>\n",
       "<path fill-rule=\"nonzero\" fill=\"rgb(100%, 0%, 0%)\" fill-opacity=\"1\" stroke-width=\"1\" stroke-linecap=\"butt\" stroke-linejoin=\"miter\" stroke=\"rgb(0%, 0%, 0%)\" stroke-opacity=\"1\" stroke-miterlimit=\"10\" d=\"M 387.964844 179.179688 C 387.964844 184.703125 383.488281 189.179688 377.964844 189.179688 C 372.441406 189.179688 367.964844 184.703125 367.964844 179.179688 C 367.964844 173.65625 372.441406 169.179688 377.964844 169.179688 C 383.488281 169.179688 387.964844 173.65625 387.964844 179.179688 \"/>\n",
       "<path fill-rule=\"nonzero\" fill=\"rgb(100%, 0%, 0%)\" fill-opacity=\"1\" stroke-width=\"1\" stroke-linecap=\"butt\" stroke-linejoin=\"miter\" stroke=\"rgb(0%, 0%, 0%)\" stroke-opacity=\"1\" stroke-miterlimit=\"10\" d=\"M 341.359375 68.214844 C 341.359375 73.738281 336.882812 78.214844 331.359375 78.214844 C 325.835938 78.214844 321.359375 73.738281 321.359375 68.214844 C 321.359375 62.691406 325.835938 58.214844 331.359375 58.214844 C 336.882812 58.214844 341.359375 62.691406 341.359375 68.214844 \"/>\n",
       "<path fill-rule=\"nonzero\" fill=\"rgb(100%, 0%, 0%)\" fill-opacity=\"1\" stroke-width=\"1\" stroke-linecap=\"butt\" stroke-linejoin=\"miter\" stroke=\"rgb(0%, 0%, 0%)\" stroke-opacity=\"1\" stroke-miterlimit=\"10\" d=\"M 80.679688 230.246094 C 80.679688 235.769531 76.203125 240.246094 70.679688 240.246094 C 65.15625 240.246094 60.679688 235.769531 60.679688 230.246094 C 60.679688 224.726562 65.15625 220.246094 70.679688 220.246094 C 76.203125 220.246094 80.679688 224.726562 80.679688 230.246094 \"/>\n",
       "<path fill-rule=\"nonzero\" fill=\"rgb(100%, 0%, 0%)\" fill-opacity=\"1\" stroke-width=\"1\" stroke-linecap=\"butt\" stroke-linejoin=\"miter\" stroke=\"rgb(0%, 0%, 0%)\" stroke-opacity=\"1\" stroke-miterlimit=\"10\" d=\"M 387.363281 251.421875 C 387.363281 256.945312 382.886719 261.421875 377.363281 261.421875 C 371.839844 261.421875 367.363281 256.945312 367.363281 251.421875 C 367.363281 245.898438 371.839844 241.421875 377.363281 241.421875 C 382.886719 241.421875 387.363281 245.898438 387.363281 251.421875 \"/>\n",
       "<path fill-rule=\"nonzero\" fill=\"rgb(100%, 0%, 0%)\" fill-opacity=\"1\" stroke-width=\"1\" stroke-linecap=\"butt\" stroke-linejoin=\"miter\" stroke=\"rgb(0%, 0%, 0%)\" stroke-opacity=\"1\" stroke-miterlimit=\"10\" d=\"M 201.835938 162.421875 C 201.835938 167.941406 197.355469 172.421875 191.835938 172.421875 C 186.3125 172.421875 181.835938 167.941406 181.835938 162.421875 C 181.835938 156.898438 186.3125 152.421875 191.835938 152.421875 C 197.355469 152.421875 201.835938 156.898438 201.835938 162.421875 \"/>\n",
       "<path fill-rule=\"nonzero\" fill=\"rgb(100%, 0%, 0%)\" fill-opacity=\"1\" stroke-width=\"1\" stroke-linecap=\"butt\" stroke-linejoin=\"miter\" stroke=\"rgb(0%, 0%, 0%)\" stroke-opacity=\"1\" stroke-miterlimit=\"10\" d=\"M 240.492188 155.398438 C 240.492188 160.921875 236.015625 165.398438 230.492188 165.398438 C 224.972656 165.398438 220.492188 160.921875 220.492188 155.398438 C 220.492188 149.878906 224.972656 145.398438 230.492188 145.398438 C 236.015625 145.398438 240.492188 149.878906 240.492188 155.398438 \"/>\n",
       "</svg>\n"
      ],
      "text/plain": [
       "<igraph.drawing.cairo.plot.CairoPlot at 0x110c22390>"
      ]
     },
     "execution_count": 1,
     "metadata": {
      "image/svg+xml": {
       "isolated": true
      }
     },
     "output_type": "execute_result"
    }
   ],
   "source": [
    "import igraph\n",
    "g = igraph.Graph.Famous(\"Zachary\")\n",
    "igraph.plot(g, vertex_size=20)"
   ]
  },
  {
   "cell_type": "markdown",
   "id": "67d211df",
   "metadata": {},
   "source": [
    "Let's break the network 😈!\n",
    "We will remove nodes one by one and see how the connectivity of the network changes at each step.\n",
    "It is useful to create a copy of the network to keep the original network unchanged."
   ]
  },
  {
   "cell_type": "code",
   "execution_count": 2,
   "id": "c30b73fd",
   "metadata": {},
   "outputs": [],
   "source": [
    "g_original = g.copy()"
   ]
  },
  {
   "cell_type": "markdown",
   "id": "8ef9d90c",
   "metadata": {},
   "source": [
    "## Robustness against random failures\n",
    "\n",
    "Let us remove a single node from the network. To this end, we need to first identify which nodes are in the network. With `igraph`, the IDs of the nodes in a graph are accessible through `Graph.vs.indices` as follows:"
   ]
  },
  {
   "cell_type": "code",
   "execution_count": 3,
   "id": "31ea49dc",
   "metadata": {},
   "outputs": [
    {
     "name": "stdout",
     "output_type": "stream",
     "text": [
      "[0, 1, 2, 3, 4, 5, 6, 7, 8, 9, 10, 11, 12, 13, 14, 15, 16, 17, 18, 19, 20, 21, 22, 23, 24, 25, 26, 27, 28, 29, 30, 31, 32, 33]\n"
     ]
    }
   ],
   "source": [
    "print(g.vs.indices)"
   ]
  },
  {
   "cell_type": "markdown",
   "id": "c922a735",
   "metadata": {},
   "source": [
    "We randomly choose a node and remove it from the network by using `Graph.delete_vertices`."
   ]
  },
  {
   "cell_type": "code",
   "execution_count": 4,
   "id": "3bce8fe3",
   "metadata": {},
   "outputs": [
    {
     "name": "stdout",
     "output_type": "stream",
     "text": [
      "Node removed: 0\n",
      "Nodes remaining: [0, 1, 2, 3, 4, 5, 6, 7, 8, 9, 10, 11, 12, 13, 14, 15, 16, 17, 18, 19, 20, 21, 22, 23, 24, 25, 26, 27, 28, 29, 30, 31, 32]\n"
     ]
    }
   ],
   "source": [
    "import numpy as np\n",
    "node_idx = np.random.choice(g.vs.indices)\n",
    "g.delete_vertices(node_idx)\n",
    "print(\"Node removed:\", node_idx)\n",
    "print(\"Nodes remaining:\", g.vs.indices)"
   ]
  },
  {
   "cell_type": "markdown",
   "id": "4b610f51",
   "metadata": {},
   "source": [
    ":::{note}\n",
    "`np.random.choice(array)` takes an array `array` and returns a single element from the array.\n",
    "For example, `np.random.choice(np.array([1, 2, 3]))` returns either 1, 2, or 3 with equal probability.\n",
    "See [the documentation](https://numpy.org/doc/stable/reference/random/generated/numpy.random.choice.html) for more details.\n",
    ":::\n",
    "\n",
    "The connectivity of the network is the fraction of nodes in the largest connected component of the network after node removal.\n",
    "We can get the connected components of the network by using `Graph.connected_components`."
   ]
  },
  {
   "cell_type": "code",
   "execution_count": 5,
   "id": "99fa99db",
   "metadata": {},
   "outputs": [],
   "source": [
    "components = g.connected_components()"
   ]
  },
  {
   "cell_type": "markdown",
   "id": "b0ef7db5",
   "metadata": {},
   "source": [
    "The sizes of the connected components are accessible via `Graph.connected_components.sizes`."
   ]
  },
  {
   "cell_type": "code",
   "execution_count": 6,
   "id": "a9c6e4ca",
   "metadata": {},
   "outputs": [
    {
     "data": {
      "text/plain": [
       "[27, 5, 1]"
      ]
     },
     "execution_count": 6,
     "metadata": {},
     "output_type": "execute_result"
    }
   ],
   "source": [
    "components.sizes()"
   ]
  },
  {
   "cell_type": "markdown",
   "id": "5f03398b",
   "metadata": {},
   "source": [
    "Thus, the connectivity of the network can be computed by"
   ]
  },
  {
   "cell_type": "code",
   "execution_count": 7,
   "id": "f93692de",
   "metadata": {},
   "outputs": [
    {
     "data": {
      "text/plain": [
       "0.7941176470588235"
      ]
     },
     "execution_count": 7,
     "metadata": {},
     "output_type": "execute_result"
    }
   ],
   "source": [
    "components = g.connected_components()\n",
    "connectivity = np.max(components.sizes()) / g_original.vcount()\n",
    "connectivity"
   ]
  },
  {
   "cell_type": "markdown",
   "id": "327bec21",
   "metadata": {},
   "source": [
    "Putting together the above code, let us compute the robustness profile of the network."
   ]
  },
  {
   "cell_type": "code",
   "execution_count": 8,
   "id": "d339fbef",
   "metadata": {},
   "outputs": [],
   "source": [
    "import pandas as pd\n",
    "\n",
    "g = g_original.copy() # restore the network\n",
    "n_nodes = g.vcount()  # Number of nodes\n",
    "\n",
    "results = []\n",
    "for i in range(n_nodes -1):  # Loop if the network has at least one node\n",
    "\n",
    "    # Remove a randomly selected node\n",
    "    node_idx = np.random.choice(g.vs.indices)\n",
    "    g.delete_vertices(node_idx)\n",
    "\n",
    "    # Evaluate the connectivity\n",
    "    components = g.connected_components()\n",
    "    connectivity = np.max(components.sizes()) / g_original.vcount()\n",
    "\n",
    "    # Save the results\n",
    "    results.append(\n",
    "        {\n",
    "            \"connectivity\": connectivity,\n",
    "            \"frac_nodes_removed\": (i + 1) / n_nodes,\n",
    "        }\n",
    "    )\n",
    "\n",
    "df_robustness_profile = pd.DataFrame(results)"
   ]
  },
  {
   "cell_type": "markdown",
   "id": "ffcd7efb",
   "metadata": {},
   "source": [
    "Let us plot the robustness profile."
   ]
  },
  {
   "cell_type": "code",
   "execution_count": 9,
   "id": "6655282e",
   "metadata": {},
   "outputs": [
    {
     "data": {
      "image/png": "[encoded data removed]",
      "text/plain": [
       "<Figure size 500x500 with 1 Axes>"
      ]
     },
     "metadata": {},
     "output_type": "display_data"
    }
   ],
   "source": [
    "import matplotlib.pyplot as plt\n",
    "import seaborn as sns\n",
    "\n",
    "sns.set(style='white', font_scale=1.2)\n",
    "sns.set_style('ticks')\n",
    "\n",
    "ax = df_robustness_profile.plot(\n",
    "    x=\"frac_nodes_removed\",\n",
    "    y=\"connectivity\",\n",
    "    kind=\"line\",\n",
    "    figsize=(5, 5),\n",
    "    label=\"Random attack\",\n",
    ")\n",
    "plt.xlabel(\"Proportion of nodes removed\")\n",
    "plt.ylabel(\"Connectivity\")\n",
    "plt.legend().remove()\n",
    "plt.show()"
   ]
  },
  {
   "cell_type": "markdown",
   "id": "4bd5f5e0",
   "metadata": {},
   "source": [
    "How should we interpret the robustness profile? Consider the most robust network consisting of $N$ nodes, where all $N$ nodes are fully connected. Regardless of how many nodes are removed, there will always be a single connected component, and the size of this component will be $N-k$ if $k$ nodes are removed. Therefore, the connectivity is $(N-k)/N=1-k/N$, which corresponds to the diagonal line in the plot above.\n",
    "Hence, **a network is considered robust if its connectivity curve is close to the diagonal line**.\n",
    "On the other hand, if the curve is significantly lower than the diagonal line, the network is not robust.\n",
    "\n",
    "For the network we considered above, the robustness profile is close to the diagonal line, indicating that the network is robust to the random removal of nodes.\n",
    "\n",
    ":::{note}\n",
    "The random attack is stochastic, meaning that the robustness profile has a variation in each run. Thus, it is necessary to run the attack multiple times and average the results to get a more accurate estimate of the robustness.\n",
    ":::\n",
    "\n",
    "## Targeted attack\n",
    "\n",
    "In a targeted attack, nodes are removed based on specific criteria rather than randomly.\n",
    "One common strategy is to remove nodes from the largest node degree to the smallest, based on the idea that removing nodes with many edges is more likely to disrupt the network connectivity.\n",
    "\n",
    "The degree of the nodes is accessible via `Graph.degree`."
   ]
  },
  {
   "cell_type": "code",
   "execution_count": 10,
   "id": "adf05f46",
   "metadata": {},
   "outputs": [
    {
     "name": "stdout",
     "output_type": "stream",
     "text": [
      "[16, 9, 10, 6, 3, 4, 4, 4, 5, 2, 3, 1, 2, 5, 2, 2, 2, 2, 2, 3, 2, 2, 2, 5, 3, 3, 2, 4, 3, 4, 4, 6, 12, 17]\n"
     ]
    }
   ],
   "source": [
    "print(g_original.degree())"
   ]
  },
  {
   "cell_type": "markdown",
   "id": "b9372c2e",
   "metadata": {},
   "source": [
    "We compute the robustness profile by removing nodes with the largest degree and measuring the connectivity of the network after each removal."
   ]
  },
  {
   "cell_type": "code",
   "execution_count": 11,
   "id": "fd68640a",
   "metadata": {},
   "outputs": [],
   "source": [
    "g = g_original.copy() # restore the network\n",
    "n_nodes = g.vcount()  # Number of nodes\n",
    "\n",
    "results = []\n",
    "for i in range(n_nodes -1):  # Loop if the network has at least one node\n",
    "\n",
    "    # Remove the nodes with thelargest degree\n",
    "    node_idx = g.vs.indices[np.argmax(g.degree())]\n",
    "    g.delete_vertices(node_idx)\n",
    "\n",
    "    # Evaluate the connectivity\n",
    "    components = g.connected_components()\n",
    "    connectivity = np.max(components.sizes()) / g_original.vcount()\n",
    "\n",
    "    # Save the results\n",
    "    results.append(\n",
    "        {\n",
    "            \"connectivity\": connectivity,\n",
    "            \"frac_nodes_removed\": (i + 1) / n_nodes,\n",
    "        }\n",
    "    )\n",
    "\n",
    "df_robustness_profile_targeted = pd.DataFrame(results)"
   ]
  },
  {
   "cell_type": "code",
   "execution_count": 12,
   "id": "8322fa71",
   "metadata": {},
   "outputs": [
    {
     "data": {
      "image/png": "[encoded data removed]",
      "text/plain": [
       "<Figure size 500x500 with 1 Axes>"
      ]
     },
     "metadata": {},
     "output_type": "display_data"
    }
   ],
   "source": [
    "sns.set(style='white', font_scale=1.2)\n",
    "sns.set_style('ticks')\n",
    "\n",
    "sns.set(style=\"white\", font_scale=1.2)\n",
    "sns.set_style(\"ticks\")\n",
    "\n",
    "ax = df_robustness_profile.plot(\n",
    "    x=\"frac_nodes_removed\",\n",
    "    y=\"connectivity\",\n",
    "    kind=\"line\",\n",
    "    figsize=(5, 5),\n",
    "    label=\"Random attack\",\n",
    ")\n",
    "ax = df_robustness_profile_targeted.plot(\n",
    "    x=\"frac_nodes_removed\",\n",
    "    y=\"connectivity\",\n",
    "    kind=\"line\",\n",
    "    label=\"Targeted attack\",\n",
    "    ax=ax,\n",
    ")\n",
    "ax.set_xlabel(\"Proportion of nodes removed\")\n",
    "ax.set_ylabel(\"Connectivity\")\n",
    "ax.legend(frameon=False)\n",
    "plt.show()"
   ]
  },
  {
   "cell_type": "markdown",
   "id": "b5c22438",
   "metadata": {},
   "source": [
    "While the network is robust against the random attacks, it is vulnerable to the degree-based targeted attack.\n",
    "\n",
    "The **$R$-index** is the area under the connectivity curve, which can be computed by"
   ]
  },
  {
   "cell_type": "code",
   "execution_count": 13,
   "id": "24ddbb9a",
   "metadata": {},
   "outputs": [
    {
     "name": "stdout",
     "output_type": "stream",
     "text": [
      "R-index (random): 0.390\n",
      "R-index (targeted): 0.140\n"
     ]
    }
   ],
   "source": [
    "rindex = df_robustness_profile[\"connectivity\"].mean()\n",
    "rindex_targeted = df_robustness_profile_targeted[\"connectivity\"].mean()\n",
    "print(f\"R-index (random): {rindex:.3f}\")\n",
    "print(f\"R-index (targeted): {rindex_targeted:.3f}\")"
   ]
  },
  {
   "cell_type": "markdown",
   "id": "ea7a15b8",
   "metadata": {},
   "source": [
    "The targeted attack has a smaller $R$-index, indicating that the network is less robust to the targeted attack compared to the random attack."
   ]
  }
 ],
 "metadata": {
  "jupytext": {
   "formats": "md:myst",
   "text_representation": {
    "extension": ".md",
    "format_name": "myst"
   }
  },
  "kernelspec": {
   "display_name": "Python 3",
   "language": "python",
   "name": "python3"
  },
  "language_info": {
   "codemirror_mode": {
    "name": "ipython",
    "version": 3
   },
   "file_extension": ".py",
   "mimetype": "text/x-python",
   "name": "python",
   "nbconvert_exporter": "python",
   "pygments_lexer": "ipython3",
   "version": "3.11.0"
  },
  "source_map": [
   11,
   16,
   20,
   26,
   28,
   33,
   35,
   39,
   45,
   55,
   57,
   59,
   61,
   63,
   67,
   71,
   97,
   101,
   119,
   137,
   139,
   143,
   169,
   194,
   200,
   205
  ]
 },
 "nbformat": 4,
 "nbformat_minor": 5
}