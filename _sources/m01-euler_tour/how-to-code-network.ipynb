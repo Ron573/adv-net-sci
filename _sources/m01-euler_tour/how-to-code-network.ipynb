{
 "cells": [
  {
   "cell_type": "markdown",
   "id": "e2d54ba8",
   "metadata": {},
   "source": [
    "# Compute with networks\n",
    "\n",
    "So far we worked out the network of bridges of Konigsberg by illustrating the network with points and lines.\n",
    "From now, we will work with a representation of the network that can be easily computed with code.\n",
    "\n",
    "## Network representation\n",
    "\n",
    "An atomic element of a network is a node, i.e., a network is a collection of edges which are pairs of nodes.\n",
    "We *label* a unique integer as an identifier for each node. For instance, the bridges of Konigsberg has 4 nodes, and we assign the number 0 to 3 to the nodes. An edge can be represented by a pair of nodes. For instance, the edge between node 0 and node 1 can be represented by the pair `(0, 1)`.\n",
    "\n",
    "\n",
    ":::{figure-md} numbered-koningsberg-graph\n",
    "\n",
    "<img src= \"../figs/labeled-koningsberg.jpg\" width=\"30%\">\n",
    "\n",
    "Labeled Knigsberg graph\n",
    "\n",
    ":::\n",
    "\n",
    ":::{note}\n",
    ":name: node-labeling\n",
    "We label nodes starting from 0 with consecutive numbers, which is convenient for Python. However, this is *not the only way* to label nodes.\n",
    ":::\n",
    "\n",
    "The Konigsberg graph can be represented by a list of edges."
   ]
  },
  {
   "cell_type": "code",
   "execution_count": 1,
   "id": "b6607c81",
   "metadata": {},
   "outputs": [],
   "source": [
    "edges = [(0,1), (0, 1), (0, 3), (1, 2), (1, 2), (1, 3), (2, 3)]"
   ]
  },
  {
   "cell_type": "markdown",
   "id": "f50f4c0d",
   "metadata": {},
   "source": [
    "Another, more convenient format is the *adjacency matrix*.\n",
    "In this form, one regard the node index as a coordinate in the matrix. For instance, edge $(1,3)$ is represented by the entry in the second row and fourth column. The entry of the matrix represents the number of edges between two nodes. Thus, the zeros in the matrix represent the absence of edges."
   ]
  },
  {
   "cell_type": "code",
   "execution_count": 2,
   "id": "11f6cd76",
   "metadata": {},
   "outputs": [],
   "source": [
    "A = [[0, 2, 0, 1],\n",
    "     [2, 0, 2, 1],\n",
    "     [0, 2, 0, 1],\n",
    "     [1, 1, 1, 0]]"
   ]
  },
  {
   "cell_type": "markdown",
   "id": "e101bd2f",
   "metadata": {},
   "source": [
    "or equivalently, using for loops:"
   ]
  },
  {
   "cell_type": "code",
   "execution_count": 3,
   "id": "cbd234f1",
   "metadata": {},
   "outputs": [],
   "source": [
    "import numpy as np\n",
    "\n",
    "A = np.zeros((4, 4))\n",
    "for i, j in edges:\n",
    "    A[i][j] += 1\n",
    "    A[j][i] += 1"
   ]
  },
  {
   "cell_type": "markdown",
   "id": "6a937862",
   "metadata": {},
   "source": [
    ":::{note}\n",
    "In the Konigsberg graph, the edges are *undirected*, meaning edge (i,j) is the same as edge (j,i), which is why we increment both entries $(i,j)$ and $(j,i)$ in the for loop. If the edges are *directed*, we treat (i,j) and (j,i) as two different edges, and increment only (i,j).\n",
    ":::\n",
    "\n",
    "## Edge counting\n",
    "\n",
    "Let us showcase the convenience of the adjacency matrix by counting the number of edges in the network.\n",
    "\n",
    "The total number of edges in the network is the sum of the entities in the"
   ]
  },
  {
   "cell_type": "code",
   "execution_count": 4,
   "id": "ebf5548a",
   "metadata": {},
   "outputs": [
    {
     "data": {
      "text/plain": [
       "7.0"
      ]
     },
     "execution_count": 4,
     "metadata": {},
     "output_type": "execute_result"
    }
   ],
   "source": [
    "np.sum(A) / 2"
   ]
  },
  {
   "cell_type": "markdown",
   "id": "e3c15a31",
   "metadata": {},
   "source": [
    "We divide by 2 because an edge corresponds to two entries in the matrix. Now, let us consider\n",
    "\n",
    "It is also easy to compute the number of edges pertained to individual nodes by taking the row or column sum of the matrix."
   ]
  },
  {
   "cell_type": "code",
   "execution_count": 5,
   "id": "f7a4aab9",
   "metadata": {},
   "outputs": [
    {
     "data": {
      "text/plain": [
       "array([3., 5., 3., 3.])"
      ]
     },
     "execution_count": 5,
     "metadata": {},
     "output_type": "execute_result"
    }
   ],
   "source": [
    "np.sum(A, axis = 1)"
   ]
  },
  {
   "cell_type": "markdown",
   "id": "f23d79fe",
   "metadata": {},
   "source": [
    "The result is an array of length 4, where the i-th entry is the number of edges connected to node i.\n",
    "\n",
    ":::{important}\n",
    "The number of edges connected to a node is called the ***degree*** of the node.\n",
    ":::\n",
    ":::{tip}\n",
    "The `np.sum(A, axis = 1)` is the column sum of `A`. Alternatively, `np.sum(A, axis = 0)` is the row sum of `A`.\n",
    "Check out the numpy [documentation](https://numpy.org/doc/stable/reference/generated/numpy.sum.html) for more details.\n",
    ":::\n",
    ":::{tip}\n",
    "If the adjacency matrix is `scipy` CSR format (or CSC format), you can instead use `A_csr.sum(axis=1)`, `A_csr.sum(axis=0)`, and `A_csr.sum()`.\n",
    "Check out the [scipy documentation](https://docs.scipy.org/doc/scipy/reference/generated/scipy.sparse.csr_matrix.html#scipy.sparse.csr_matrix) for more details.\n",
    ":::\n",
    "\n",
    "We can check the number of nodes with odd degree by taking the modulus of the degree by 2."
   ]
  },
  {
   "cell_type": "code",
   "execution_count": 6,
   "id": "9cab5363",
   "metadata": {},
   "outputs": [
    {
     "data": {
      "text/plain": [
       "array([ True,  True,  True,  True])"
      ]
     },
     "execution_count": 6,
     "metadata": {},
     "output_type": "execute_result"
    }
   ],
   "source": [
    "deg = np.sum(A, axis = 1)\n",
    "is_odd = deg % 2 == 1\n",
    "is_odd"
   ]
  },
  {
   "cell_type": "code",
   "execution_count": 7,
   "id": "46a1a64a",
   "metadata": {},
   "outputs": [
    {
     "name": "stdout",
     "output_type": "stream",
     "text": [
      "The graph does not have a Euler path.\n"
     ]
    }
   ],
   "source": [
    "if np.sum(is_odd) == 2 or np.sum(is_odd) == 0:\n",
    "    print(\"The graph has a Euler path.\")\n",
    "else:\n",
    "    print(\"The graph does not have a Euler path.\")"
   ]
  }
 ],
 "metadata": {
  "jupytext": {
   "cell_metadata_filter": "-all",
   "formats": "md:myst",
   "text_representation": {
    "extension": ".Rmd",
    "format_name": "myst",
    "format_version": 0.13,
    "jupytext_version": "1.16.3"
   }
  },
  "kernelspec": {
   "display_name": "Python 3 (ipykernel)",
   "language": "python",
   "name": "python3"
  },
  "language_info": {
   "codemirror_mode": {
    "name": "ipython",
    "version": 3
   },
   "file_extension": ".py",
   "mimetype": "text/x-python",
   "name": "python",
   "nbconvert_exporter": "python",
   "pygments_lexer": "ipython3",
   "version": "3.11.0"
  },
  "launch_buttons": {
   "binderhub_url": "https://mybinder.org",
   "thebe": true
  },
  "source_map": [
   17,
   46,
   48,
   53,
   58,
   61,
   68,
   79,
   81,
   85,
   87,
   103,
   108
  ]
 },
 "nbformat": 4,
 "nbformat_minor": 5
}