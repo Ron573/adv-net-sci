{
 "cells": [
  {
   "cell_type": "markdown",
   "id": "34634159",
   "metadata": {},
   "source": [
    "# Euler's solution\n",
    "\n",
    "Euler consider two cases:\n",
    "- a node has an even number of edges, or\n",
    "- a node has an odd number of edges.\n",
    "\n",
    "When a node has an even number $2k$ of edges, one can enter and leave the node $k$ times by crossing different edges.\n",
    "\n",
    "When a node has an odd number $2k+1$ of edges, one can enter and leave the node $k$ times by crossing different edges but leave one last edge to cross. The only way to cross this last edge is that one starts or ends at the node.\n",
    "\n",
    "Based up on the above reasoning, Euler leads to the following necessary (and later shown as sufficient) conditions:\n",
    "\n",
    ":::{admonition} Euler's path\n",
    "\n",
    "There exists a walk that crosses all edges exactly once if and only if all nodes have even number of edges, or exactly two nodes have an odd number of edges.\n",
    ":::\n",
    "\n",
    "![alt text](https://lh3.googleusercontent.com/-CYxppcJBwe4/W2ndkci9bVI/AAAAAAABX-U/K6SNM8gAhg0oNsnWNgQbH3uKNd5Ba10wwCHMYCw/euler-graph-bridges2?imgmax=1600)\n",
    "\n",
    "Back to the Konigsberg bridge problem, every node has an odd number of edges, meaning that there is no way to cross all edges exactly once. What a sad story for the citizens of Konigsberg. But the problem was solved during World War II, where Koingberg was bombarded by Soviet Union, losing two of the seven bridges 🫠.\n",
    "\n",
    ":::{figure-md} markdown-fig\n",
    "<img src=\"../figs/seven-bridge-bombared.png\" alt=\"fishy\" width=\"50%\">\n",
    "\n",
    "Two bridges were bombed by Soviet Union, which allows the Euler path to exist.\n",
    ":::"
   ]
  }
 ],
 "metadata": {
  "jupytext": {
   "formats": "md:myst",
   "text_representation": {
    "extension": ".md",
    "format_name": "myst"
   }
  },
  "kernelspec": {
   "display_name": "Python 3",
   "language": "python",
   "name": "python3"
  }
 },
 "nbformat": 4,
 "nbformat_minor": 5
}