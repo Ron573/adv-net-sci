{
 "cells": [
  {
   "cell_type": "markdown",
   "id": "4763bffe",
   "metadata": {},
   "source": [
    "# A puzzle\n",
    "\n",
    "Back in 18th century, there was a city called *Königsberg* situated on the Pregel River in a historical region of Germany. The city had two large islands connected to each other and the mainland by seven bridges.\n",
    "The citizens of Königsberg pondered a puzzle during their Sunday walks:\n",
    "\n",
    "```{admonition} Problem\n",
    "How could one walk through the city and cross each bridge exactly once?\n",
    "```\n",
    "\n",
    ":::{figure-md} seven-bridges\n",
    "![alt text](https://99percentinvisible.org/wp-content/uploads/2022/02/bridges-with-water-600x418.png)\n",
    "\n",
    "The seven bridges of Königsberg\n",
    ":::\n",
    "\n",
    "Leonard Euler worked out the solution to this puzzle in 1736. He first simplified the city into *a network of landmasses connected by bridges*, by noting that the landareas, the positions of the islands and the bridges are nothing to do with the puzzle, and that the only thing that matters is the connections between the landmasses.\n",
    "\n",
    ":::{figure-md} euler-graph\n",
    "<img src=\"https://lh3.googleusercontent.com/-CYxppcJBwe4/W2ndkci9bVI/AAAAAAABX-U/K6SNM8gAhg0oNsnWNgQbH3uKNd5Ba10wwCHMYCw/euler-graph-bridges2?imgmax=1600\">\n",
    "\n",
    "Euler's graph of the bridges of Knigsberg\n",
    ":::\n",
    "\n",
    "\n",
    "## Pen-and-paper worksheet\n",
    "\n",
    "Let's follow the worksheet to solve the puzzle step by step.\n",
    "\n",
    "- [Worksheet](http://estebanmoro.org/pdf/netsci_for_kids/the_konisberg_bridges.pdf) {cite:p}`esteban-moro-worksheet`\n",
    "\n",
    "\n",
    "```{bibliography}\n",
    ":style: unsrt\n",
    ":filter: docname in docnames\n",
    "```"
   ]
  }
 ],
 "metadata": {
  "jupytext": {
   "formats": "md:myst",
   "text_representation": {
    "extension": ".md",
    "format_name": "myst"
   }
  },
  "kernelspec": {
   "display_name": "Python 3",
   "language": "python",
   "name": "python3"
  }
 },
 "nbformat": 4,
 "nbformat_minor": 5
}