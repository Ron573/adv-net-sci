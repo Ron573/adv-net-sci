{
 "cells": [
  {
   "cell_type": "markdown",
   "id": "0ea6f591",
   "metadata": {},
   "source": [
    "<a target=\"_blank\" href=\"https://colab.research.google.com/github/skojaku/adv-net-sci/blob/main/notebooks/exercise_euler_tour.ipynb\">\n",
    "  <img src=\"https://colab.research.google.com/assets/colab-badge.svg\" alt=\"Open In Colab\"/>\n",
    "</a>\n",
    "\n",
    "#  Exercise 01\n",
    "\n",
    "1. Create a network of landmasses and bridges of Binghamton, NY.\n",
    "2. Find an Euler path that crosses all the bridges of Binghamton, NY exactly once.\n",
    "\n",
    "![](https://github.com/skojaku/adv-net-sci/blob/gh-pages/_images/binghamton-map.jpg?raw=true)"
   ]
  },
  {
   "cell_type": "code",
   "execution_count": 1,
   "id": "33460975",
   "metadata": {},
   "outputs": [],
   "source": [
    "# If you are using colab, uncomment the following line\n",
    "# !pip install python-igraph"
   ]
  },
  {
   "cell_type": "markdown",
   "id": "4360fc30",
   "metadata": {},
   "source": [
    "Define the edges"
   ]
  },
  {
   "cell_type": "code",
   "execution_count": 2,
   "id": "07bd8c37",
   "metadata": {},
   "outputs": [],
   "source": [
    "# This is a placeholder for your code for the exercise\n",
    "edges = ..."
   ]
  },
  {
   "cell_type": "markdown",
   "id": "ad8b0778",
   "metadata": {},
   "source": [
    "Define the adjacnecy matrix (without for loops!)"
   ]
  },
  {
   "cell_type": "code",
   "execution_count": 3,
   "id": "a6e684b1",
   "metadata": {},
   "outputs": [
    {
     "ename": "SyntaxError",
     "evalue": "invalid syntax (2382551458.py, line 1)",
     "output_type": "error",
     "traceback": [
      "\u001b[0;36m  Cell \u001b[0;32mIn[3], line 1\u001b[0;36m\u001b[0m\n\u001b[0;31m    A = ....\u001b[0m\n\u001b[0m            ^\u001b[0m\n\u001b[0;31mSyntaxError\u001b[0m\u001b[0;31m:\u001b[0m invalid syntax\n"
     ]
    }
   ],
   "source": [
    "A = ...."
   ]
  },
  {
   "cell_type": "markdown",
   "id": "d2be6203",
   "metadata": {},
   "source": [
    "Visualize the graph"
   ]
  },
  {
   "cell_type": "code",
   "execution_count": null,
   "id": "883cd9a7",
   "metadata": {},
   "outputs": [],
   "source": [
    "import igraph\n",
    "import matplotlib.pyplot as plt\n",
    "import numpy as np\n",
    "\n",
    "def visualize_graph(A, **params):\n",
    "  src, trg = np.where(np.array(A))\n",
    "  g = igraph.Graph(directed=False)\n",
    "  g.add_vertices(A.shape[0])\n",
    "  g.add_edges(list(zip(src, trg)))\n",
    "  return igraph.plot(g, **params)\n",
    "\n",
    "visualize_graph(A)"
   ]
  },
  {
   "cell_type": "markdown",
   "id": "a294b070",
   "metadata": {},
   "source": [
    "Check if the graph has an Euler path"
   ]
  },
  {
   "cell_type": "code",
   "execution_count": null,
   "id": "296db14b",
   "metadata": {},
   "outputs": [],
   "source": []
  },
  {
   "cell_type": "markdown",
   "id": "99161b7f",
   "metadata": {},
   "source": [
    "#  Exercise 02\n",
    "\n",
    "Let's create a network from pre-existing data and check if it has an Euler path.\n",
    "\n",
    "1. Select a network of your choice from [Netzschleuder](https://networks.skewed.de/). For convenience, choose a network of nodes less than 5000.\n",
    "2. Download the csv version of the data by clicking something like \"3KiB\" under `csv` column.\n",
    "3. Unzip the file and find \"edges.csv\", open it with a text editor to familiarize yourself with the format.\n",
    "4. Load the data using `pandas`.\n",
    "5. Get the source and target nodes from the data to create an edge list.\n",
    "6. Construct the adjacency matrix from the edge list.\n",
    "7. Draw the graph using `igraph`.\n",
    "8. Check if the graph has an Euler path.\n",
    "\n",
    "\n",
    "Load the data by"
   ]
  },
  {
   "cell_type": "code",
   "execution_count": null,
   "id": "97d972ad",
   "metadata": {},
   "outputs": [],
   "source": [
    "df = pd.read_csv('edges.csv') # load the data\n",
    "display(df)"
   ]
  },
  {
   "cell_type": "markdown",
   "id": "cec59a51",
   "metadata": {},
   "source": [
    "Then, get the srce and target nodes to compose an edge list"
   ]
  },
  {
   "cell_type": "code",
   "execution_count": null,
   "id": "f384fbd8",
   "metadata": {},
   "outputs": [],
   "source": [
    "src = ...\n",
    "trg = ...\n",
    "edges = ..."
   ]
  },
  {
   "cell_type": "markdown",
   "id": "0e514917",
   "metadata": {},
   "source": [
    "Create the adjacency matrix from the edge list"
   ]
  },
  {
   "cell_type": "code",
   "execution_count": null,
   "id": "fd7cc1d7",
   "metadata": {},
   "outputs": [],
   "source": []
  },
  {
   "cell_type": "markdown",
   "id": "1b78545d",
   "metadata": {},
   "source": [
    "Get the degree of each node"
   ]
  },
  {
   "cell_type": "code",
   "execution_count": null,
   "id": "377c525e",
   "metadata": {},
   "outputs": [],
   "source": [
    "deg = ..."
   ]
  },
  {
   "cell_type": "markdown",
   "id": "1b132577",
   "metadata": {},
   "source": [
    "Visualize the graph"
   ]
  },
  {
   "cell_type": "code",
   "execution_count": null,
   "id": "02fbe04f",
   "metadata": {},
   "outputs": [],
   "source": [
    "visualize_graph(A)"
   ]
  },
  {
   "cell_type": "markdown",
   "id": "d9148707",
   "metadata": {},
   "source": [
    "Check if the graph has an Euler path"
   ]
  },
  {
   "cell_type": "code",
   "execution_count": null,
   "id": "3f5e484c",
   "metadata": {},
   "outputs": [],
   "source": []
  }
 ],
 "metadata": {
  "jupytext": {
   "text_representation": {
    "extension": ".md",
    "format_name": "myst"
   }
  },
  "kernelspec": {
   "display_name": "Python 3 (ipykernel)",
   "language": "python",
   "name": "python3"
  },
  "language_info": {
   "codemirror_mode": {
    "name": "ipython",
    "version": 3
   },
   "file_extension": ".py",
   "mimetype": "text/x-python",
   "name": "python",
   "nbconvert_exporter": "python",
   "pygments_lexer": "ipython3",
   "version": "3.11.0"
  }
 },
 "nbformat": 4,
 "nbformat_minor": 5
}