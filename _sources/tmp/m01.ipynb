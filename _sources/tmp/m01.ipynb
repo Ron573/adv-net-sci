{
 "cells": [
  {
   "cell_type": "markdown",
   "id": "028567bf",
   "metadata": {},
   "source": [
    "<a target=\"_blank\" href=\"https://colab.research.google.com/github/skojaku/adv-net-sci/blob/main/notebooks/exercise-m01-euler-tour.ipynb\">\n",
    "  <img src=\"https://colab.research.google.com/assets/colab-badge.svg\" alt=\"Open In Colab\"/>\n",
    "</a>\n",
    "\n",
    "#  Exercise\n",
    "\n",
    "\n",
    "\n",
    "## Exercise 01\n",
    "\n",
    "1. Create a network of landmasses and bridges of Binghamton, NY.\n",
    "2. Find an Euler path that crosses all the bridges of Binghamton, NY exactly once.\n",
    "\n",
    "![Binghamton Map](https://github.com/skojaku/adv-net-sci/raw/main/docs/lecture-note/figs/binghamton-map.jpg)"
   ]
  },
  {
   "cell_type": "code",
   "execution_count": 1,
   "id": "8a57cd8e",
   "metadata": {},
   "outputs": [],
   "source": [
    "# If you are using colab, uncomment the following line\n",
    "# !sudo apt install libcairo2-dev pkg-config python3-dev\n",
    "# !pip install pycairo cairocffi\n",
    "# !pip install igraph\n"
   ]
  },
  {
   "cell_type": "markdown",
   "id": "e6cd3569",
   "metadata": {},
   "source": [
    "Define the edges"
   ]
  },
  {
   "cell_type": "code",
   "execution_count": 2,
   "id": "c35805b8",
   "metadata": {},
   "outputs": [],
   "source": [
    "# This is a placeholder for your code for the exercise\n",
    "edges = ..."
   ]
  },
  {
   "cell_type": "markdown",
   "id": "bee7d874",
   "metadata": {},
   "source": [
    "Define the adjacnecy matrix (without for loops!)"
   ]
  },
  {
   "cell_type": "code",
   "execution_count": 3,
   "id": "c37fe89e",
   "metadata": {},
   "outputs": [],
   "source": [
    "A = ..."
   ]
  },
  {
   "cell_type": "markdown",
   "id": "9735b3b3",
   "metadata": {},
   "source": [
    "Visualize the graph"
   ]
  },
  {
   "cell_type": "code",
   "execution_count": 4,
   "id": "45f09b99",
   "metadata": {},
   "outputs": [
    {
     "ename": "ValueError",
     "evalue": "not enough values to unpack (expected 2, got 1)",
     "output_type": "error",
     "traceback": [
      "\u001b[0;31m---------------------------------------------------------------------------\u001b[0m",
      "\u001b[0;31mValueError\u001b[0m                                Traceback (most recent call last)",
      "Cell \u001b[0;32mIn[4], line 15\u001b[0m\n\u001b[1;32m     12\u001b[0m       g\u001b[38;5;241m.\u001b[39madd_edge(s, t)\n\u001b[1;32m     13\u001b[0m   \u001b[38;5;28;01mreturn\u001b[39;00m igraph\u001b[38;5;241m.\u001b[39mplot(g, \u001b[38;5;241m*\u001b[39m\u001b[38;5;241m*\u001b[39mparams)\n\u001b[0;32m---> 15\u001b[0m visualize_graph(A)\n",
      "Cell \u001b[0;32mIn[4], line 7\u001b[0m, in \u001b[0;36mvisualize_graph\u001b[0;34m(A, **params)\u001b[0m\n\u001b[1;32m      5\u001b[0m \u001b[38;5;28;01mdef\u001b[39;00m \u001b[38;5;21mvisualize_graph\u001b[39m(A, \u001b[38;5;241m*\u001b[39m\u001b[38;5;241m*\u001b[39mparams):\n\u001b[1;32m      6\u001b[0m   A \u001b[38;5;241m=\u001b[39m np\u001b[38;5;241m.\u001b[39marray(A)\n\u001b[0;32m----> 7\u001b[0m   src, trg \u001b[38;5;241m=\u001b[39m np\u001b[38;5;241m.\u001b[39mwhere(A)\n\u001b[1;32m      8\u001b[0m   g \u001b[38;5;241m=\u001b[39m igraph\u001b[38;5;241m.\u001b[39mGraph(directed\u001b[38;5;241m=\u001b[39m\u001b[38;5;28;01mFalse\u001b[39;00m)\n\u001b[1;32m      9\u001b[0m   g\u001b[38;5;241m.\u001b[39madd_vertices(A\u001b[38;5;241m.\u001b[39mshape[\u001b[38;5;241m0\u001b[39m])\n",
      "\u001b[0;31mValueError\u001b[0m: not enough values to unpack (expected 2, got 1)"
     ]
    }
   ],
   "source": [
    "import igraph\n",
    "import matplotlib.pyplot as plt\n",
    "import numpy as np\n",
    "\n",
    "def visualize_graph(A, **params):\n",
    "  A = np.array(A)\n",
    "  src, trg = np.where(A)\n",
    "  g = igraph.Graph(directed=False)\n",
    "  g.add_vertices(A.shape[0])\n",
    "  for s, t in zip(src, trg):\n",
    "    for _ in range(A[s, t]):\n",
    "      g.add_edge(s, t)\n",
    "  return igraph.plot(g, **params)\n",
    "\n",
    "visualize_graph(A)"
   ]
  },
  {
   "cell_type": "markdown",
   "id": "72ebd64b",
   "metadata": {},
   "source": [
    "Check if the graph has an Euler path"
   ]
  },
  {
   "cell_type": "code",
   "execution_count": null,
   "id": "752fe69e",
   "metadata": {},
   "outputs": [],
   "source": []
  },
  {
   "cell_type": "markdown",
   "id": "0c15ca22",
   "metadata": {},
   "source": [
    "##  Exercise 02\n",
    "\n",
    "Let's create a network from pre-existing data and check if it has an Euler path.\n",
    "\n",
    "1. Select a network of your choice from [Netzschleuder](https://networks.skewed.de/). For convenience, choose a network of nodes less than 5000.\n",
    "2. Download the csv version of the data by clicking something like \"3KiB\" under `csv` column.\n",
    "3. Unzip the file and find \"edges.csv\", open it with a text editor to familiarize yourself with the format.\n",
    "4. Load the data using `pandas`.\n",
    "5. Get the source and target nodes from the data to create an edge list.\n",
    "6. Construct the adjacency matrix from the edge list.\n",
    "7. Draw the graph using `igraph`.\n",
    "8. Check if the graph has an Euler path.\n",
    "\n",
    "\n",
    "Load the data by"
   ]
  },
  {
   "cell_type": "code",
   "execution_count": null,
   "id": "08015154",
   "metadata": {},
   "outputs": [],
   "source": [
    "import pandas as pd\n",
    "df = pd.read_csv('edges.csv') # load the data\n",
    "display(df)"
   ]
  },
  {
   "cell_type": "markdown",
   "id": "eec74a32",
   "metadata": {},
   "source": [
    "Then, get the srce and target nodes to compose an edge list"
   ]
  },
  {
   "cell_type": "code",
   "execution_count": null,
   "id": "73aa1ff7",
   "metadata": {},
   "outputs": [],
   "source": [
    "src = ...\n",
    "trg = ...\n",
    "edges = ..."
   ]
  },
  {
   "cell_type": "markdown",
   "id": "98fb0faa",
   "metadata": {},
   "source": [
    "Create the adjacency matrix from the edge list"
   ]
  },
  {
   "cell_type": "code",
   "execution_count": null,
   "id": "bcf2d002",
   "metadata": {},
   "outputs": [],
   "source": []
  },
  {
   "cell_type": "markdown",
   "id": "58a14c03",
   "metadata": {},
   "source": [
    "Get the degree of each node"
   ]
  },
  {
   "cell_type": "code",
   "execution_count": null,
   "id": "7c82a710",
   "metadata": {},
   "outputs": [],
   "source": [
    "deg = ..."
   ]
  },
  {
   "cell_type": "markdown",
   "id": "733d80a9",
   "metadata": {},
   "source": [
    "Visualize the graph"
   ]
  },
  {
   "cell_type": "code",
   "execution_count": null,
   "id": "444cb8fa",
   "metadata": {},
   "outputs": [],
   "source": [
    "visualize_graph(A)"
   ]
  },
  {
   "cell_type": "markdown",
   "id": "4adab6cf",
   "metadata": {},
   "source": [
    "Check if the graph has an Euler path"
   ]
  },
  {
   "cell_type": "code",
   "execution_count": null,
   "id": "829c3400",
   "metadata": {},
   "outputs": [],
   "source": [
    "```---\n",
    "jupytext:\n",
    "  formats: md:myst\n",
    "  text_representation:\n",
    "    extension: .md\n",
    "    format_name: myst\n",
    "kernelspec:\n",
    "  display_name: Python 3\n",
    "  language: python\n",
    "  name: python3\n",
    "launch_buttons:\n",
    "  notebook_interface: \"classic\"\n",
    "  colab_url: \"https://colab.research.google.com\"\n",
    "  thebe: true\n",
    "  binderhub_url: \"https://mybinder.org\"  # The URL for your BinderHub (e.g., https://mybinder.org)\n",
    "---\n",
    "\n",
    "\n",
    "# Euler's solution\n",
    "\n",
    "Euler consider two cases:\n",
    "- a node has an even number of edges, or\n",
    "- a node has an odd number of edges.\n",
    "\n",
    "When a node has an even number $2k$ of edges, one can enter and leave the node $k$ times by crossing different edges.\n",
    "\n",
    "When a node has an odd number $2k+1$ of edges, one can enter and leave the node $k$ times by crossing different edges but leave one last edge to cross. The only way to cross this last edge is that one starts or ends at the node.\n",
    "\n",
    "Based up on the above reasoning, Euler leads to the following necessary (and later shown as sufficient) conditions:\n",
    "\n",
    ":::{admonition} Euler's path\n",
    "\n",
    "There exists a walk that crosses all edges exactly once if and only if all nodes have even number of edges, or exactly two nodes have an odd number of edges.\n",
    ":::\n",
    "\n",
    "![alt text](https://lh3.googleusercontent.com/-CYxppcJBwe4/W2ndkci9bVI/AAAAAAABX-U/K6SNM8gAhg0oNsnWNgQbH3uKNd5Ba10wwCHMYCw/euler-graph-bridges2?imgmax=1600)\n",
    "\n",
    "Back to the Konigsberg bridge problem, every node has an odd number of edges, meaning that there is no way to cross all edges exactly once. What a sad story for the citizens of Konigsberg. But the problem was solved during World War II, where Koingberg was bombarded by Soviet Union, losing two of the seven bridges 🫠.\n",
    "\n",
    ":::{figure-md} markdown-fig\n",
    "<img src=\"../figs/seven-bridge-bombared.png\" alt=\"fishy\" width=\"50%\">\n",
    "\n",
    "Two bridges were bombed by Soviet Union, which allows the Euler path to exist.\n",
    ":::\n",
    "\n",
    "---\n",
    "kernelspec:\n",
    "  display_name: Python 3 (ipykernel)\n",
    "  language: python\n",
    "  name: python3\n",
    "---\n",
    "\n",
    "<a target=\"_blank\" href=\"https://colab.research.google.com/github/skojaku/adv-net-sci/blob/main/docs/lecture-note/m01-euler_tour/how-to-code-network.ipynb\">\n",
    "  <img src=\"https://colab.research.google.com/assets/colab-badge.svg\" alt=\"Open In Colab\"/>\n",
    "</a>\n",
    "\n",
    "# Compute with networks\n",
    "\n",
    "So far we worked out the network of bridges of Konigsberg by illustrating the network with points and lines.\n",
    "From now, we will work with a representation of the network that can be easily computed with code.\n",
    "\n",
    "## Network representation\n",
    "\n",
    "An atomic element of a network is a node, i.e., a network is a collection of edges which are pairs of nodes.\n",
    "We *label* a unique integer as an identifier for each node. For instance, the bridges of Konigsberg has 4 nodes, and we assign the number 0 to 3 to the nodes. An edge can be represented by a pair of nodes. For instance, the edge between node 0 and node 1 can be represented by the pair `(0, 1)`.\n",
    "\n",
    "\n",
    "```{figure-md} numbered-koningsberg-graph\n",
    "\n",
    "![file](https://github.com/skojaku/adv-net-sci/blob/gh-pages/_images/labeled-koningsberg.jpg?raw=true)\n",
    "\n",
    "Labeled Knigsberg graph\n"
   ]
  },
  {
   "cell_type": "markdown",
   "id": "2847e5c9",
   "metadata": {},
   "source": [
    "```{note}\n",
    ":name: node-labeling\n",
    "We label nodes starting from 0 with consecutive numbers, which is convenient for Python. However, this is *not the only way* to label nodes.\n",
    "```\n",
    "\n",
    "The Konigsberg graph can be represented by a list of edges."
   ]
  },
  {
   "cell_type": "code",
   "execution_count": null,
   "id": "1dcbed96",
   "metadata": {},
   "outputs": [],
   "source": [
    "edges = [(0,1), (0, 1), (0, 3), (1, 2), (1, 2), (1, 3), (2, 3)]"
   ]
  },
  {
   "cell_type": "markdown",
   "id": "55823721",
   "metadata": {},
   "source": [
    "Another, more convenient format is the *adjacency matrix*.\n",
    "In this form, one regard the node index as a coordinate in the matrix. For instance, edge $(1,3)$ is represented by the entry in the second row and fourth column. The entry of the matrix represents the number of edges between two nodes. Thus, the zeros in the matrix represent the absence of edges."
   ]
  },
  {
   "cell_type": "code",
   "execution_count": null,
   "id": "ee06642d",
   "metadata": {},
   "outputs": [],
   "source": [
    "A = [[0, 2, 0, 1],\n",
    "     [2, 0, 2, 1],\n",
    "     [0, 2, 0, 1],\n",
    "     [1, 1, 1, 0]]"
   ]
  },
  {
   "cell_type": "markdown",
   "id": "585b7820",
   "metadata": {},
   "source": [
    "or equivalently, using for loops:"
   ]
  },
  {
   "cell_type": "code",
   "execution_count": null,
   "id": "7a154d73",
   "metadata": {},
   "outputs": [],
   "source": [
    "import numpy as np\n",
    "\n",
    "A = np.zeros((4, 4))\n",
    "for i, j in edges:\n",
    "    A[i][j] += 1\n",
    "    A[j][i] += 1"
   ]
  },
  {
   "cell_type": "markdown",
   "id": "556b972e",
   "metadata": {},
   "source": [
    ":::{note}\n",
    "In the Konigsberg graph, the edges are *undirected*, meaning edge (i,j) is the same as edge (j,i), which is why we increment both entries $(i,j)$ and $(j,i)$ in the for loop. If the edges are *directed*, we treat (i,j) and (j,i) as two different edges, and increment only (i,j).\n",
    ":::\n",
    "\n",
    "## Edge counting\n",
    "\n",
    "Let us showcase the convenience of the adjacency matrix by counting the number of edges in the network.\n",
    "\n",
    "The total number of edges in the network is the sum of the entities in the"
   ]
  },
  {
   "cell_type": "code",
   "execution_count": null,
   "id": "28047823",
   "metadata": {},
   "outputs": [],
   "source": [
    "np.sum(A) / 2"
   ]
  },
  {
   "cell_type": "markdown",
   "id": "4e77a11e",
   "metadata": {},
   "source": [
    "We divide by 2 because an edge corresponds to two entries in the matrix. Now, let us consider\n",
    "\n",
    "It is also easy to compute the number of edges pertained to individual nodes by taking the row or column sum of the matrix."
   ]
  },
  {
   "cell_type": "code",
   "execution_count": null,
   "id": "87220cf6",
   "metadata": {},
   "outputs": [],
   "source": [
    "np.sum(A, axis = 1)"
   ]
  },
  {
   "cell_type": "markdown",
   "id": "84a274b7",
   "metadata": {},
   "source": [
    "The result is an array of length 4, where the i-th entry is the number of edges connected to node i.\n",
    "\n",
    ":::{important}\n",
    "The number of edges connected to a node is called the ***degree*** of the node.\n",
    ":::\n",
    ":::{tip}\n",
    "The `np.sum(A, axis = 1)` is the column sum of `A`. Alternatively, `np.sum(A, axis = 0)` is the row sum of `A`.\n",
    "Check out the numpy [documentation](https://numpy.org/doc/stable/reference/generated/numpy.sum.html) for more details.\n",
    ":::\n",
    ":::{tip}\n",
    "If the adjacency matrix is `scipy` CSR format (or CSC format), you can instead use `A_csr.sum(axis=1)`, `A_csr.sum(axis=0)`, and `A_csr.sum()`.\n",
    "Check out the [scipy documentation](https://docs.scipy.org/doc/scipy/reference/generated/scipy.sparse.csr_matrix.html#scipy.sparse.csr_matrix) for more details.\n",
    ":::\n",
    "\n",
    "We can check the number of nodes with odd degree by taking the modulus of the degree by 2."
   ]
  },
  {
   "cell_type": "code",
   "execution_count": null,
   "id": "5d6151b6",
   "metadata": {},
   "outputs": [],
   "source": [
    "deg = np.sum(A, axis = 1)\n",
    "is_odd = deg % 2 == 1\n",
    "is_odd"
   ]
  },
  {
   "cell_type": "code",
   "execution_count": null,
   "id": "67e126de",
   "metadata": {},
   "outputs": [],
   "source": [
    "if np.sum(is_odd) == 2 or np.sum(is_odd) == 0:\n",
    "    print(\"The graph has a Euler path.\")\n",
    "else:\n",
    "    print(\"The graph does not have a Euler path.\")\n",
    "```---\n",
    "jupytext:\n",
    "  formats: md:myst\n",
    "  text_representation:\n",
    "    extension: .md\n",
    "    format_name: myst\n",
    "kernelspec:\n",
    "  display_name: Python 3\n",
    "  language: python\n",
    "  name: python3\n",
    "---\n",
    "\n",
    "# A puzzle\n",
    "\n",
    "Back in 18th century, there was a city called *Königsberg* situated on the Pregel River in a historical region of Germany. The city had two large islands connected to each other and the mainland by seven bridges.\n",
    "The citizens of Königsberg pondered a puzzle during their Sunday walks:\n",
    "\n",
    "```{admonition} Problem\n",
    "How could one walk through the city and cross each bridge exactly once?"
   ]
  },
  {
   "cell_type": "markdown",
   "id": "af7cc6d2",
   "metadata": {},
   "source": [
    ":::{figure-md} seven-bridges\n",
    "![alt text](https://99percentinvisible.org/wp-content/uploads/2022/02/bridges-with-water-600x418.png)\n",
    "\n",
    "The seven bridges of Königsberg\n",
    ":::\n",
    "\n",
    "Leonard Euler worked out the solution to this puzzle in 1736. He first simplified the city into *a network of landmasses connected by bridges*, by noting that the landareas, the positions of the islands and the bridges are nothing to do with the puzzle, and that the only thing that matters is the connections between the landmasses.\n",
    "\n",
    ":::{figure-md} euler-graph\n",
    "<img src=\"https://lh3.googleusercontent.com/-CYxppcJBwe4/W2ndkci9bVI/AAAAAAABX-U/K6SNM8gAhg0oNsnWNgQbH3uKNd5Ba10wwCHMYCw/euler-graph-bridges2?imgmax=1600\">\n",
    "\n",
    "Euler's graph of the bridges of Knigsberg\n",
    ":::\n",
    "\n",
    "\n",
    "## Pen-and-paper worksheet\n",
    "\n",
    "Let's follow the worksheet to solve the puzzle step by step.\n",
    "\n",
    "- [Worksheet](http://estebanmoro.org/pdf/netsci_for_kids/the_konisberg_bridges.pdf) {cite:p}`esteban-moro-worksheet`\n",
    "\n",
    "\n",
    "```{bibliography}\n",
    ":style: unsrt\n",
    ":filter: docname in docnames\n",
    "```# Module 1: Euler Tour\n",
    "\n",
    "## What to learn in this module\n",
    "\n",
    "\n",
    "\n",
    "In this module, we will learn a historical example that leads to the genesis of graph theory in mathematics and modern network science. Through this example, we will learn:\n",
    "- How to describe a network using mathematical language\n",
    "- How to code a network in Python\n",
    "- Keywords: **network**, **degree**, **Euler walk**"
   ]
  }
 ],
 "metadata": {
  "jupytext": {
   "text_representation": {
    "extension": ".md",
    "format_name": "myst"
   }
  },
  "kernelspec": {
   "display_name": "Python 3 (ipykernel)",
   "language": "python",
   "name": "python3"
  },
  "language_info": {
   "codemirror_mode": {
    "name": "ipython",
    "version": 3
   },
   "file_extension": ".py",
   "mimetype": "text/x-python",
   "name": "python",
   "nbconvert_exporter": "python",
   "pygments_lexer": "ipython3",
   "version": "3.11.0"
  }
 },
 "nbformat": 4,
 "nbformat_minor": 5
}