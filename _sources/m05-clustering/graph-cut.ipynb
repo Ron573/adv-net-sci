{
 "cells": [
  {
   "cell_type": "markdown",
   "id": "47c6110f",
   "metadata": {},
   "source": [
    "# Graph cut\n",
    "\n",
    "Another approach from computer science is to treat a community detection problem as an *optimization* problem.\n",
    "An early example is the **graph cut** problem, which asks to find the minimum number of edges to cut the graph into two disconnected components.\n",
    "\n",
    "Specifically, let us consider cutting the network into two communities. Let $V_1$ and $V_2$ be the set of nodes in the two communities.\n",
    "Then, the cut is the number of edges between the two communities, which is given by\n",
    "\n",
    "$$\n",
    "\\begin{align}\n",
    "\\text{Cut}(V_1, V_2) = \\sum_{i \\in V_1} \\sum_{j \\in V_2} A_{ij}\n",
    "\\end{align}\n",
    "$$\n",
    "\n",
    "Now, the community detection problem is translated into **an optimization problem**, with the goal of finding a cut $V_1, V_2$ that minimizes $\\text{Cut}(V_1, V_2)$.\n",
    "\n",
    "The description of this problem is not complete 😈. Let's find out what is missing by playing with the optimization problem.\n",
    "\n",
    "```{admonition} Exercise\n",
    ":class: tip\n",
    "\n",
    "Can you identify what is missing in the description of the graph cut problem? Without this, the best cut is trivial. {{ \"<a href='BASE_URL/vis/community-detection/index.html?scoreType=graphcut&numCommunities=2&randomness=1&dataFile=two-cliques.json'>Graph Cut Problem 🎮</a>\".replace('BASE_URL', base_url) }}\n",
    "\n",
    "```{dropdown} Click to reveal the answer!\n",
    "\n",
    "The missing element is a constraint: each community must contain at least one node. Without this, the trivial solution of placing all nodes in a single community would always yield a cut of zero.\n",
    "```"
   ]
  }
 ],
 "metadata": {
  "jupytext": {
   "formats": "md:myst",
   "text_representation": {
    "extension": ".md",
    "format_name": "myst"
   }
  },
  "kernelspec": {
   "display_name": "Python 3",
   "language": "python",
   "name": "python3"
  }
 },
 "nbformat": 4,
 "nbformat_minor": 5
}