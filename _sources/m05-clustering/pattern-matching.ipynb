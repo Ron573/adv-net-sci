{
 "cells": [
  {
   "cell_type": "markdown",
   "id": "b08f0f6e",
   "metadata": {},
   "source": [
    "# Community detection (pattern matching)\n",
    "\n",
    "Community detection is an abstract unsupervised problem. It is abstract because there is no clear-cut definition or ground truth to compare against. The concept of a community in a network is subjective and highly context-dependent.\n",
    "\n",
    "A classical approach to community detection is based on *pattern matching*.\n",
    "Namely, we first explicitly define a community by a specific connectivity pattern of its members. Then, we search for these communities in the network.\n",
    "\n",
    ":::{figure-md} clique\n",
    "\n",
    "<img src=\"https://pythonhosted.org/trustedanalytics/R_images/k-clique_201508281155.png\" alt=\"Clique graph\" width=\"80%\">\n",
    "\n",
    "Cliques of different sizes. Taken from [https://pythonhosted.org/trustedanalytics/python_api/graphs/graph-/kclique_percolation.html](https://pythonhosted.org/trustedanalytics/python_api/graphs/graph-/kclique_percolation.html)\n",
    ":::\n",
    "\n",
    "Perhaps, the strictest definition of a community is a *clique*: a group of nodes all connected to each other. Examples include triangles (3-node cliques) and fully-connected squares (4-node cliques).\n",
    "However, cliques are often too rigid for real-world networks. In social networks, for instance, large groups of friends rarely have every member connected to every other, yet we want to accept such \"in-perfect\" social circles as communities.\n",
    "This leads to the idea of relaxed versions of cliques, called **pseudo-cliques**.\n",
    "\n",
    "Pseudo-cliques are defined by relaxing at least one of the following three dimensions of strictness:\n",
    "\n",
    "1. Degree: Not all nodes need to connect to every other node.\n",
    "   - **$k$-plex**: each node connects to all but $k$ others in the group {footcite}`seidman1978graph`.\n",
    "   - **$k$-core**: each node connects to $k$ others in the group {footcite}`seidman1983network`.\n",
    "2. Density: The overall connection density can be lower.\n",
    "   - **$\\rho$-dense subgraphs**, with a minimum edge density of $\\rho$ {footcite}`goldberg1984finding`.\n",
    "3. Distance: Nodes can be further apart.\n",
    "   - **$n$-clique**, where all nodes are within n steps of each other {footcite}`luce1950connectivity`.\n",
    "4. Combination of the above:\n",
    "   - **n-clan** and **n-club** {footcite}`mokken1979cliques`\n",
    "   - **$k$-truss**, a maximal subgraph where all edges participate in at least $k-2$ triangles {footcite}`saito2008extracting,cohen2009graph,wang2010triangulation`.\n",
    "   - **$\\rho$-dense core**, a subgraph with minimum conductance $\\rho$ {footcite}`koujaku2016dense`.\n",
    "\n",
    ":::{figure-md} clique-pattern\n",
    "\n",
    "<img src=\"https://ars.els-cdn.com/content/image/1-s2.0-S0378873315000520-gr1.jpg\" alt=\"Pseudo-clique patterns\" width=\"80%\" style=\"display: block; margin-left: auto; margin-right: auto;\">\n",
    "\n",
    "\n",
    "Illustation of different pseudo cliques. Taken from {footcite}`koujaku2016dense`.\n",
    "\n",
    ":::\n",
    "\n",
    "\n",
    "```{footbibliography}\n",
    "```"
   ]
  }
 ],
 "metadata": {
  "jupytext": {
   "formats": "md:myst",
   "text_representation": {
    "extension": ".md",
    "format_name": "myst"
   }
  },
  "kernelspec": {
   "display_name": "Python 3",
   "language": "python",
   "name": "python3"
  }
 },
 "nbformat": 4,
 "nbformat_minor": 5
}