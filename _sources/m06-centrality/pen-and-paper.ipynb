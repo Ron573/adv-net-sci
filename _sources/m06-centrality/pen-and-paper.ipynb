{
 "cells": [
  {
   "cell_type": "markdown",
   "id": "7accec99",
   "metadata": {},
   "source": [
    "# Pen and paper exercises\n",
    "\n",
    "-  [️️School ](./pen-and-paper/exercise.pdf)"
   ]
  }
 ],
 "metadata": {
  "jupytext": {
   "formats": "md:myst",
   "text_representation": {
    "extension": ".md",
    "format_name": "myst"
   }
  },
  "kernelspec": {
   "display_name": "Python 3",
   "language": "python",
   "name": "python3"
  }
 },
 "nbformat": 4,
 "nbformat_minor": 5
}