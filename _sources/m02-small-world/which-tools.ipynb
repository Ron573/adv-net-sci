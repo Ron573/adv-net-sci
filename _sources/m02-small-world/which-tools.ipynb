{
 "cells": [
  {
   "cell_type": "markdown",
   "id": "135f1812",
   "metadata": {},
   "source": [
    "# Toolbox for network analysis\n",
    "\n",
    "Here are some useful tools for network analysis in Python:\n",
    "\n",
    "- [Python built-in data structures](https://docs.python.org/3/tutorial/datastructures.html) (list, tuple, dict)\n",
    "- [networkx](https://networkx.org/) - a beginner-friendly library for network analysis\n",
    "- [igraph](https://igraph.org/python/) - a mature library with a wide range of algorithms\n",
    "- [graph-tool](https://graph-tool.skewed.de/) - for stochastic block models\n",
    "- [scipy](https://scipy.org/) - for analyzing large networks\n",
    "- [pytorch-geometric](https://pytorch-geometric.readthedocs.io/en/latest/) - for graph neural networks\n",
    "\n",
    "While `networkx` is a popular and beginner-friendly library for network analysis in Python, we'll be using `igraph` in this course. `igraph` is a mature library with a wide range of algorithms, originally developed for R.\n",
    "Why `igraph` instead of `networkx`?\n",
    "Because networkx has some persistent bugs in the implementations of some algorithms (e.g., LFR benchmark and weighted degree assortativity), which can skew the analysis.\n",
    "`igraph` offers more reliable implementations.\n",
    "\n",
    "We'll also use `scipy` for scientific computing. `scipy` is one of the most popular Python libraries and also a powerful network analysis tool, especially for large networks. While it requires a bit more effort to learn, once you get the hang of it, you'll find it's a powerful tool for your network analysis projects.\n",
    "\n",
    "![](../figs/scipy.jpg)"
   ]
  }
 ],
 "metadata": {
  "jupytext": {
   "cell_metadata_filter": "-all",
   "formats": "md:myst",
   "text_representation": {
    "extension": ".md",
    "format_name": "myst",
    "format_version": 0.13,
    "jupytext_version": "1.16.3"
   }
  },
  "kernelspec": {
   "display_name": "Python 3 (ipykernel)",
   "language": "python",
   "name": "python3"
  }
 },
 "nbformat": 4,
 "nbformat_minor": 5
}