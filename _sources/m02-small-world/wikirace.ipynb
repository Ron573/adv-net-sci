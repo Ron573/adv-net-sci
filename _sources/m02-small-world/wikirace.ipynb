{
 "cells": [
  {
   "cell_type": "markdown",
   "id": "60ade527",
   "metadata": {},
   "source": [
    "# Wikirace\n",
    "\n",
    "Let us feel how small a large network can be by playing the [Wikirace](https://wiki-race.com) game.\n",
    "\n",
    "<div align=\"center\">\n",
    "  <img src=\"https://cdn.sparkfun.com/assets/home_page_posts/3/8/8/0/Wikirace.jpeg\" alt=\"Wikirace\" width=\"70%\">\n",
    "</div>\n",
    "\n",
    "\n",
    "\n",
    "### What's next\n",
    "\n",
    "At the end of the module, we will measure the average path length in a social network.\n",
    "Before jumping on, let us arm with some coding techniques to handle the network in the next two sections.\n",
    "\n",
    "```{bibliography}\n",
    ":style: unsrt\n",
    ":filter: docname in docnames\n",
    "```"
   ]
  }
 ],
 "metadata": {
  "jupytext": {
   "cell_metadata_filter": "-all",
   "formats": "md:myst",
   "text_representation": {
    "extension": ".md",
    "format_name": "myst",
    "format_version": 0.13,
    "jupytext_version": "1.16.3"
   }
  },
  "kernelspec": {
   "display_name": "Python 3 (ipykernel)",
   "language": "python",
   "name": "python3"
  }
 },
 "nbformat": 4,
 "nbformat_minor": 5
}