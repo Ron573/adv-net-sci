{
 "cells": [
  {
   "cell_type": "markdown",
   "id": "f2160c8c",
   "metadata": {},
   "source": [
    "# Appendix\n",
    "\n",
    "\n",
    "## Compressed Sparse Row (CSR) format\n",
    "\n",
    "CSR format is implemented in [scipy](https://docs.scipy.org/doc/scipy/reference/generated/scipy.sparse.csr_matrix.html). This consists of three arrays called `indptr`, `indices`, and `data`. For example,"
   ]
  },
  {
   "cell_type": "code",
   "execution_count": 1,
   "id": "b7eaf038",
   "metadata": {},
   "outputs": [
    {
     "name": "stdout",
     "output_type": "stream",
     "text": [
      "A.indices: [1 2 3 4 5]\n",
      "A.indptr: [ 0 16 25 35 41]\n",
      "A.data: [4 5 3 3 3]\n"
     ]
    }
   ],
   "source": [
    "import networkx as nx\n",
    "from scipy import sparse\n",
    "\n",
    "G = nx.karate_club_graph()\n",
    "A = sparse.csr_matrix(nx.adjacency_matrix(G))\n",
    "\n",
    "print(\"A.indices:\", A.indices[:5])\n",
    "print(\"A.indptr:\", A.indptr[:5])\n",
    "print(\"A.data:\", A.data[:5])"
   ]
  },
  {
   "cell_type": "markdown",
   "id": "bb2efb3a",
   "metadata": {},
   "source": [
    "We will walk you through what these arrays mean, how they are generated, and how we can leverage them for efficient computations.\n",
    "\n",
    "### How to generate CSR format from an adjacency matrix\n",
    "\n",
    "Let's walk you through how to store an example adjacency matrix in Compressed Sparse Row (CSR) format. Our example adjacency matrix is as follows.\n",
    "\n",
    "<div align=\"center\">\n",
    "\n",
    "|      |    0 |    1 |    2 |    3 |    4 |    5 |    6 |    7 |    8 |    9 |   10 |\n",
    "| ---: | ---: | ---: | ---: | ---: | ---: | ---: | ---: | ---: | ---: | ---: | ---: |\n",
    "|    0 |      |      |      |      |      |      |      |      |      |      |    1 |\n",
    "|    1 |      |      |    1 |      |      |      |      |      |      |      |    1 |\n",
    "|    2 |      |    1 |      |    1 |      |      |      |      |      |      |    1 |\n",
    "|    3 |      |      |    1 |      |    1 |    1 |    1 |      |      |      |      |\n",
    "|    4 |      |      |      |    1 |      |      |      |    1 |      |      |      |\n",
    "|    5 |      |      |      |    1 |      |      |      |      |      |      |      |\n",
    "|    6 |      |      |      |    1 |      |      |      |      |    1 |    1 |      |\n",
    "|    7 |      |      |      |      |    1 |      |      |      |      |      |      |\n",
    "|    8 |      |      |      |      |      |      |    1 |      |      |      |    1 |\n",
    "|    9 |      |      |      |      |      |      |    1 |      |      |      |    1 |\n",
    "|   10 |    1 |    1 |    1 |      |      |      |      |      |    1 |    1 |      |\n",
    "</div>\n",
    "\n",
    "We will first create **adjacency list**, which is a dictionary consisting of the row IDs and column IDs for the non-zero entries in the adjacency matrix.\n",
    "\n",
    "<div class=\"container\" align=\"center\">\n",
    "<div class=\"col\" style=\"margin-top:0%\">\n",
    "\n",
    "$\\{\\text{Row ID}: (\\text{Column ID}, \\text{Value})\\}$\n",
    "\n",
    "</div>\n",
    "</div>\n",
    "\n",
    "Concretely, in Python,"
   ]
  },
  {
   "cell_type": "code",
   "execution_count": 2,
   "id": "6edee8f7",
   "metadata": {},
   "outputs": [],
   "source": [
    "adj_list = {\n",
    "  0:[(10,1)],\n",
    "  1:[(2,1), (10, 1)],\n",
    "  2:[(1,1), (3,1), (10, 1)],\n",
    "  3:[(2,1), (4,1), (5,1), (6,1)],\n",
    "  #...\n",
    "}"
   ]
  },
  {
   "cell_type": "markdown",
   "id": "4d226a16",
   "metadata": {},
   "source": [
    "CSR format is a *concatenation* of the keys and values of the adjacency list, respectively. The CSR format has a concatenated array of the values, one for column IDs and one for the values, called `indices` and `data`, respectively."
   ]
  },
  {
   "cell_type": "code",
   "execution_count": 3,
   "id": "33e06813",
   "metadata": {},
   "outputs": [
    {
     "data": {
      "text/plain": [
       "array([10,  2, 10,  1,  3, 10,  2,  4,  5,  6])"
      ]
     },
     "execution_count": 3,
     "metadata": {},
     "output_type": "execute_result"
    }
   ],
   "source": [
    "import numpy as np\n",
    "\n",
    "indices = np.array([vv[0] for k, v in adj_list.items() for vv in v])\n",
    "indices"
   ]
  },
  {
   "cell_type": "code",
   "execution_count": 4,
   "id": "3935abb1",
   "metadata": {},
   "outputs": [
    {
     "data": {
      "text/plain": [
       "array([1, 1, 1, 1, 1, 1, 1, 1, 1, 1])"
      ]
     },
     "execution_count": 4,
     "metadata": {},
     "output_type": "execute_result"
    }
   ],
   "source": [
    "data = np.array([vv[1] for k, v in adj_list.items() for vv in v])\n",
    "data"
   ]
  },
  {
   "cell_type": "markdown",
   "id": "aec6b771",
   "metadata": {},
   "source": [
    "Additionally, the CSR format has another array called `indptr`, which stores the Row IDs of the non-zero entries in the adjacency matrix. This `indptr` array has a value such that `indptr[i]` is the first index of `indices` that corresponds to the `i`-th row of the adjacency matrix. This can be generated by"
   ]
  },
  {
   "cell_type": "code",
   "execution_count": 5,
   "id": "afa3047d",
   "metadata": {},
   "outputs": [
    {
     "data": {
      "text/plain": [
       "array([ 0,  1,  3,  6, 10])"
      ]
     },
     "execution_count": 5,
     "metadata": {},
     "output_type": "execute_result"
    }
   ],
   "source": [
    "indptr = np.cumsum([0] + [len(adj_list[i]) for i in range(len(adj_list))])\n",
    "indptr"
   ]
  },
  {
   "cell_type": "markdown",
   "id": "0789b4b5",
   "metadata": {},
   "source": [
    "where we added `0` at the beginning of the array to represent the first non-zero entry in the first row.\n",
    "The first row ends at index `len(adj_list[0])-1`, and the second row starts at index `len(adj_list[0])` and ends at index `len(adj_list[0])+len(adj_list[1])-1`, and so on.\n",
    "\n",
    "Now we have three compressed vectors `indptr`, `indices`, and `data`, that together form the CSR format for the adjacency matrix.\n",
    "\n",
    "\n",
    "### How to use CSR format for efficient computations\n",
    "\n",
    "The key advantage of the CSR representation is the memory efficiency. But you can leverage the CSR format for more efficient computations, if you know the semantics of `indptr`, `indices`, and `data` arrays.\n",
    "\n",
    "For instance, one can compute the degree of a node by using"
   ]
  },
  {
   "cell_type": "code",
   "execution_count": 6,
   "id": "78455793",
   "metadata": {},
   "outputs": [
    {
     "data": {
      "text/plain": [
       "2"
      ]
     },
     "execution_count": 6,
     "metadata": {},
     "output_type": "execute_result"
    }
   ],
   "source": [
    "node = 1\n",
    "degree = indptr[node+1] - indptr[node]\n",
    "degree"
   ]
  },
  {
   "cell_type": "markdown",
   "id": "99d744bd",
   "metadata": {},
   "source": [
    "Let us break down the above code.\n",
    "- `indptr[node]` is the first index of the `indices` array that corresponds to the `node`-th row of the adjacency matrix.\n",
    "- `indptr[node+1]` is the first index of the `indices` array that corresponds to the `(node+1)`-th row of the adjacency matrix.\n",
    "- Thus, `indptr[node+1] - indptr[node]` is the number of non-zero entries in the `node`-th row of the adjacency matrix, which is the degree of the `node`-th node.\n",
    "\n",
    "Using `indices`, it is easy to identify the neighbors of a given node by using"
   ]
  },
  {
   "cell_type": "code",
   "execution_count": 7,
   "id": "d0e8ec4b",
   "metadata": {},
   "outputs": [
    {
     "data": {
      "text/plain": [
       "array([ 2, 10])"
      ]
     },
     "execution_count": 7,
     "metadata": {},
     "output_type": "execute_result"
    }
   ],
   "source": [
    "neighbors = indices[indptr[node]:indptr[node+1]]\n",
    "neighbors"
   ]
  },
  {
   "cell_type": "markdown",
   "id": "c12be099",
   "metadata": {},
   "source": [
    "where `indices[indptr[node]:indptr[node+1]]` is the corresponding column IDs of the non-zero entries in the `node`-th row of the adjacency matrix, which corresponds to the node IDs connected to the `node`-th node.\n",
    "\n",
    "The edge weights to the neighbors can be obtained by using"
   ]
  },
  {
   "cell_type": "code",
   "execution_count": 8,
   "id": "ad1d694f",
   "metadata": {},
   "outputs": [
    {
     "data": {
      "text/plain": [
       "array([1, 1])"
      ]
     },
     "execution_count": 8,
     "metadata": {},
     "output_type": "execute_result"
    }
   ],
   "source": [
    "edge_weights = data[indptr[node]:indptr[node+1]]\n",
    "edge_weights"
   ]
  }
 ],
 "metadata": {
  "jupytext": {
   "formats": "md:myst",
   "text_representation": {
    "extension": ".md",
    "format_name": "myst"
   }
  },
  "kernelspec": {
   "display_name": "Python 3",
   "language": "python",
   "name": "python3"
  },
  "language_info": {
   "codemirror_mode": {
    "name": "ipython",
    "version": 3
   },
   "file_extension": ".py",
   "mimetype": "text/x-python",
   "name": "python",
   "nbconvert_exporter": "python",
   "pygments_lexer": "ipython3",
   "version": "3.11.0"
  },
  "source_map": [
   11,
   20,
   30,
   67,
   75,
   79,
   86,
   89,
   93,
   96,
   109,
   113,
   120,
   123,
   127
  ]
 },
 "nbformat": 4,
 "nbformat_minor": 5
}