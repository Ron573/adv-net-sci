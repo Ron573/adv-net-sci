{
 "cells": [
  {
   "cell_type": "markdown",
   "id": "30a08a24",
   "metadata": {},
   "source": [
    "<a target=\"_blank\" href=\"https://colab.research.google.com/github/skojaku/adv-net-sci/blob/main/notebooks/exercise-m02-small-world.ipynb\">\n",
    "  <img src=\"https://colab.research.google.com/assets/colab-badge.svg\" alt=\"Open In Colab\"/>\n",
    "</a>\n",
    "\n",
    "# Computing the Shortest Paths and Connected Components\n",
    "\n",
    "Let's use `igraph` to compute the shortest paths and connected components. We will then use `scipy` to compute them."
   ]
  },
  {
   "cell_type": "code",
   "execution_count": 1,
   "id": "0b286b0e",
   "metadata": {},
   "outputs": [],
   "source": [
    "# If you are using Google Colab, uncomment the following line to install igraph\n",
    "# !sudo apt install libcairo2-dev pkg-config python3-dev\n",
    "# !pip install pycairo cairocffi\n",
    "# !pip install igraph"
   ]
  },
  {
   "cell_type": "markdown",
   "id": "ed323d8b",
   "metadata": {},
   "source": [
    "## igraph\n",
    "\n",
    "### Create a graph\n",
    "\n",
    "Let us create a graph of 4 nodes and 4 edges. Our edge list is given by"
   ]
  },
  {
   "cell_type": "code",
   "execution_count": 2,
   "id": "94a6a6ff",
   "metadata": {},
   "outputs": [],
   "source": [
    "edge_list = [(0, 1), (1, 2), (0, 2), (0, 3)]"
   ]
  },
  {
   "cell_type": "markdown",
   "id": "ab96f456",
   "metadata": {},
   "source": [
    "`igraph` has an object `Graph` that stores a graph and provides methods to manipulate and analyze the graph. To create a graph from an edge list, we can use the `add_edges` method."
   ]
  },
  {
   "cell_type": "code",
   "execution_count": 3,
   "id": "dfcfc0a8",
   "metadata": {},
   "outputs": [
    {
     "data": {
      "image/svg+xml": [
       "<?xml version=\"1.0\" encoding=\"UTF-8\"?>\n",
       "<svg xmlns=\"http://www.w3.org/2000/svg\" xmlns:xlink=\"http://www.w3.org/1999/xlink\" width=\"150\" height=\"150\" viewBox=\"0 0 150 150\">\n",
       "<defs>\n",
       "<g>\n",
       "<g id=\"glyph-0-0\">\n",
       "<path d=\"M 3.789062 -9.789062 C 5.054688 -9.789062 5.96875 -9.265625 6.535156 -8.222656 C 6.972656 -7.417969 7.191406 -6.3125 7.191406 -4.90625 C 7.191406 -3.578125 6.992188 -2.476562 6.597656 -1.605469 C 6.023438 -0.359375 5.082031 0.265625 3.78125 0.265625 C 2.605469 0.265625 1.730469 -0.242188 1.15625 -1.265625 C 0.675781 -2.117188 0.4375 -3.261719 0.4375 -4.695312 C 0.4375 -5.808594 0.582031 -6.761719 0.867188 -7.5625 C 1.40625 -9.046875 2.378906 -9.789062 3.789062 -9.789062 Z M 3.773438 -0.855469 C 4.410156 -0.855469 4.917969 -1.136719 5.296875 -1.703125 C 5.675781 -2.265625 5.867188 -3.320312 5.867188 -4.859375 C 5.867188 -5.972656 5.726562 -6.886719 5.453125 -7.605469 C 5.179688 -8.324219 4.652344 -8.679688 3.863281 -8.679688 C 3.136719 -8.679688 2.609375 -8.339844 2.273438 -7.660156 C 1.9375 -6.976562 1.769531 -5.976562 1.769531 -4.648438 C 1.769531 -3.648438 1.878906 -2.847656 2.09375 -2.242188 C 2.421875 -1.316406 2.980469 -0.855469 3.773438 -0.855469 Z M 3.773438 -0.855469 \"/>\n",
       "</g>\n",
       "<g id=\"glyph-0-1\">\n",
       "<path d=\"M 1.339844 -6.929688 L 1.339844 -7.875 C 2.226562 -7.960938 2.847656 -8.105469 3.199219 -8.308594 C 3.550781 -8.511719 3.8125 -8.992188 3.984375 -9.75 L 4.957031 -9.75 L 4.957031 0 L 3.644531 0 L 3.644531 -6.929688 Z M 1.339844 -6.929688 \"/>\n",
       "</g>\n",
       "<g id=\"glyph-0-2\">\n",
       "<path d=\"M 0.4375 0 C 0.484375 -0.84375 0.65625 -1.578125 0.960938 -2.203125 C 1.265625 -2.828125 1.855469 -3.394531 2.734375 -3.902344 L 4.046875 -4.664062 C 4.632812 -5.003906 5.046875 -5.296875 5.285156 -5.539062 C 5.65625 -5.914062 5.84375 -6.347656 5.84375 -6.835938 C 5.84375 -7.40625 5.671875 -7.859375 5.332031 -8.191406 C 4.992188 -8.527344 4.535156 -8.695312 3.964844 -8.695312 C 3.121094 -8.695312 2.539062 -8.375 2.214844 -7.738281 C 2.042969 -7.398438 1.945312 -6.921875 1.929688 -6.316406 L 0.675781 -6.316406 C 0.691406 -7.167969 0.847656 -7.863281 1.148438 -8.402344 C 1.679688 -9.351562 2.621094 -9.824219 3.972656 -9.824219 C 5.09375 -9.824219 5.910156 -9.519531 6.429688 -8.914062 C 6.945312 -8.308594 7.203125 -7.632812 7.203125 -6.890625 C 7.203125 -6.105469 6.929688 -5.4375 6.378906 -4.882812 C 6.058594 -4.558594 5.488281 -4.164062 4.664062 -3.703125 L 3.726562 -3.1875 C 3.28125 -2.941406 2.929688 -2.703125 2.671875 -2.480469 C 2.21875 -2.085938 1.929688 -1.644531 1.8125 -1.164062 L 7.15625 -1.164062 L 7.15625 0 Z M 0.4375 0 \"/>\n",
       "</g>\n",
       "<g id=\"glyph-0-3\">\n",
       "<path d=\"M 3.636719 0.265625 C 2.480469 0.265625 1.640625 -0.0507812 1.117188 -0.6875 C 0.59375 -1.324219 0.335938 -2.097656 0.335938 -3.007812 L 1.621094 -3.007812 C 1.675781 -2.375 1.792969 -1.914062 1.976562 -1.625 C 2.296875 -1.109375 2.871094 -0.855469 3.703125 -0.855469 C 4.351562 -0.855469 4.871094 -1.027344 5.265625 -1.375 C 5.65625 -1.71875 5.851562 -2.167969 5.851562 -2.714844 C 5.851562 -3.390625 5.644531 -3.859375 5.234375 -4.128906 C 4.820312 -4.398438 4.246094 -4.53125 3.515625 -4.53125 C 3.433594 -4.53125 3.347656 -4.53125 3.265625 -4.527344 C 3.179688 -4.527344 3.09375 -4.523438 3.007812 -4.519531 L 3.007812 -5.605469 C 3.136719 -5.59375 3.242188 -5.582031 3.328125 -5.578125 C 3.414062 -5.574219 3.507812 -5.570312 3.609375 -5.570312 C 4.070312 -5.570312 4.449219 -5.644531 4.742188 -5.789062 C 5.261719 -6.046875 5.523438 -6.5 5.523438 -7.15625 C 5.523438 -7.644531 5.351562 -8.019531 5.003906 -8.285156 C 4.65625 -8.550781 4.253906 -8.679688 3.792969 -8.679688 C 2.972656 -8.679688 2.40625 -8.40625 2.09375 -7.859375 C 1.917969 -7.558594 1.820312 -7.132812 1.796875 -6.578125 L 0.582031 -6.578125 C 0.582031 -7.304688 0.726562 -7.925781 1.019531 -8.4375 C 1.519531 -9.347656 2.402344 -9.804688 3.664062 -9.804688 C 4.664062 -9.804688 5.433594 -9.582031 5.980469 -9.136719 C 6.527344 -8.691406 6.800781 -8.046875 6.800781 -7.203125 C 6.800781 -6.601562 6.640625 -6.117188 6.316406 -5.742188 C 6.117188 -5.507812 5.855469 -5.328125 5.539062 -5.195312 C 6.054688 -5.054688 6.453125 -4.78125 6.742188 -4.378906 C 7.03125 -3.976562 7.179688 -3.480469 7.179688 -2.898438 C 7.179688 -1.964844 6.871094 -1.203125 6.253906 -0.617188 C 5.640625 -0.0273438 4.765625 0.265625 3.636719 0.265625 Z M 3.636719 0.265625 \"/>\n",
       "</g>\n",
       "</g>\n",
       "</defs>\n",
       "<rect x=\"-15\" y=\"-15\" width=\"180\" height=\"180\" fill=\"rgb(100%, 100%, 100%)\" fill-opacity=\"1\"/>\n",
       "<path fill=\"none\" stroke-width=\"1\" stroke-linecap=\"butt\" stroke-linejoin=\"miter\" stroke=\"rgb(26.666667%, 26.666667%, 26.666667%)\" stroke-opacity=\"1\" stroke-miterlimit=\"10\" d=\"M 76.964844 56.679688 L 42.382812 130 \"/>\n",
       "<path fill=\"none\" stroke-width=\"1\" stroke-linecap=\"butt\" stroke-linejoin=\"miter\" stroke=\"rgb(26.666667%, 26.666667%, 26.666667%)\" stroke-opacity=\"1\" stroke-miterlimit=\"10\" d=\"M 42.382812 130 L 20 46.675781 \"/>\n",
       "<path fill=\"none\" stroke-width=\"1\" stroke-linecap=\"butt\" stroke-linejoin=\"miter\" stroke=\"rgb(26.666667%, 26.666667%, 26.666667%)\" stroke-opacity=\"1\" stroke-miterlimit=\"10\" d=\"M 76.964844 56.679688 L 20 46.675781 \"/>\n",
       "<path fill=\"none\" stroke-width=\"1\" stroke-linecap=\"butt\" stroke-linejoin=\"miter\" stroke=\"rgb(26.666667%, 26.666667%, 26.666667%)\" stroke-opacity=\"1\" stroke-miterlimit=\"10\" d=\"M 76.964844 56.679688 L 130 20 \"/>\n",
       "<path fill-rule=\"nonzero\" fill=\"rgb(100%, 0%, 0%)\" fill-opacity=\"1\" stroke-width=\"1\" stroke-linecap=\"butt\" stroke-linejoin=\"miter\" stroke=\"rgb(0%, 0%, 0%)\" stroke-opacity=\"1\" stroke-miterlimit=\"10\" d=\"M 86.964844 56.679688 C 86.964844 62.203125 82.488281 66.679688 76.964844 66.679688 C 71.441406 66.679688 66.964844 62.203125 66.964844 56.679688 C 66.964844 51.15625 71.441406 46.679688 76.964844 46.679688 C 82.488281 46.679688 86.964844 51.15625 86.964844 56.679688 \"/>\n",
       "<path fill-rule=\"nonzero\" fill=\"rgb(100%, 0%, 0%)\" fill-opacity=\"1\" stroke-width=\"1\" stroke-linecap=\"butt\" stroke-linejoin=\"miter\" stroke=\"rgb(0%, 0%, 0%)\" stroke-opacity=\"1\" stroke-miterlimit=\"10\" d=\"M 52.382812 130 C 52.382812 135.523438 47.90625 140 42.382812 140 C 36.859375 140 32.382812 135.523438 32.382812 130 C 32.382812 124.476562 36.859375 120 42.382812 120 C 47.90625 120 52.382812 124.476562 52.382812 130 \"/>\n",
       "<path fill-rule=\"nonzero\" fill=\"rgb(100%, 0%, 0%)\" fill-opacity=\"1\" stroke-width=\"1\" stroke-linecap=\"butt\" stroke-linejoin=\"miter\" stroke=\"rgb(0%, 0%, 0%)\" stroke-opacity=\"1\" stroke-miterlimit=\"10\" d=\"M 30 46.675781 C 30 52.199219 25.523438 56.675781 20 56.675781 C 14.476562 56.675781 10 52.199219 10 46.675781 C 10 41.152344 14.476562 36.675781 20 36.675781 C 25.523438 36.675781 30 41.152344 30 46.675781 \"/>\n",
       "<path fill-rule=\"nonzero\" fill=\"rgb(100%, 0%, 0%)\" fill-opacity=\"1\" stroke-width=\"1\" stroke-linecap=\"butt\" stroke-linejoin=\"miter\" stroke=\"rgb(0%, 0%, 0%)\" stroke-opacity=\"1\" stroke-miterlimit=\"10\" d=\"M 140 20 C 140 25.523438 135.523438 30 130 30 C 124.476562 30 120 25.523438 120 20 C 120 14.476562 124.476562 10 130 10 C 135.523438 10 140 14.476562 140 20 \"/>\n",
       "<g fill=\"rgb(0%, 0%, 0%)\" fill-opacity=\"1\">\n",
       "<use xlink:href=\"#glyph-0-0\" x=\"73.152344\" y=\"63.183594\"/>\n",
       "</g>\n",
       "<g fill=\"rgb(0%, 0%, 0%)\" fill-opacity=\"1\">\n",
       "<use xlink:href=\"#glyph-0-1\" x=\"39.234375\" y=\"136.484375\"/>\n",
       "</g>\n",
       "<g fill=\"rgb(0%, 0%, 0%)\" fill-opacity=\"1\">\n",
       "<use xlink:href=\"#glyph-0-2\" x=\"16.179688\" y=\"53.195312\"/>\n",
       "</g>\n",
       "<g fill=\"rgb(0%, 0%, 0%)\" fill-opacity=\"1\">\n",
       "<use xlink:href=\"#glyph-0-3\" x=\"126.242188\" y=\"26.511719\"/>\n",
       "</g>\n",
       "</svg>\n"
      ],
      "text/plain": [
       "<igraph.drawing.cairo.plot.CairoPlot at 0x13d4bf450>"
      ]
     },
     "execution_count": 3,
     "metadata": {
      "image/svg+xml": {
       "isolated": true
      }
     },
     "output_type": "execute_result"
    }
   ],
   "source": [
    "import igraph\n",
    "\n",
    "g = igraph.Graph() # Create an empty graph\n",
    "g.add_vertices(4) # Add 4 vertices\n",
    "g.add_edges(edge_list) # Add edges to the graph\n",
    "\n",
    "# Plot the graph\n",
    "igraph.plot(g, bbox=(150, 150), vertex_label=list(range(4)))"
   ]
  },
  {
   "cell_type": "markdown",
   "id": "77863ea4",
   "metadata": {},
   "source": [
    "### Shortest Paths\n",
    "\n",
    "Let's compute the paths between nodes 2 and 3."
   ]
  },
  {
   "cell_type": "code",
   "execution_count": 4,
   "id": "6a5aea68",
   "metadata": {},
   "outputs": [
    {
     "data": {
      "text/plain": [
       "[[2, 0, 3], [2, 1, 0, 3]]"
      ]
     },
     "execution_count": 4,
     "metadata": {},
     "output_type": "execute_result"
    }
   ],
   "source": [
    "g.get_all_simple_paths(2, to=3)"
   ]
  },
  {
   "cell_type": "markdown",
   "id": "324f65c0",
   "metadata": {},
   "source": [
    "This method enumerates all possible simple paths between two nodes. This is OK for small networks but quickly becomes impractical for larger networks, as the number of paths increases exponentially with the size of the network.\n",
    "\n",
    "Often, we are interested in the shortest path, which is the path with the smallest number of edges. The shortest path can be computed by using the `get_shortest_paths` method."
   ]
  },
  {
   "cell_type": "code",
   "execution_count": 5,
   "id": "c59db247",
   "metadata": {},
   "outputs": [
    {
     "data": {
      "text/plain": [
       "[[2, 0, 3]]"
      ]
     },
     "execution_count": 5,
     "metadata": {},
     "output_type": "execute_result"
    }
   ],
   "source": [
    "g.get_shortest_paths(2, to=3)"
   ]
  },
  {
   "cell_type": "markdown",
   "id": "defdd661",
   "metadata": {},
   "source": [
    "Note that there can be multiple shortest paths between two nodes. If we are interested in the \"length\" instead of the path itself, there is a more efficient function `distances`."
   ]
  },
  {
   "cell_type": "code",
   "execution_count": 6,
   "id": "9ead6288",
   "metadata": {},
   "outputs": [
    {
     "data": {
      "text/plain": [
       "[[2]]"
      ]
     },
     "execution_count": 6,
     "metadata": {},
     "output_type": "execute_result"
    }
   ],
   "source": [
    "g.distances(2, 3)"
   ]
  },
  {
   "cell_type": "markdown",
   "id": "0fecb030",
   "metadata": {},
   "source": [
    "### Connected Components\n",
    "\n",
    "In the simple network above, we can see that for every pair of nodes, we can find a path connecting them. This is the definition of a connected graph. We can check this property for a given graph:"
   ]
  },
  {
   "cell_type": "code",
   "execution_count": 7,
   "id": "706a4de3",
   "metadata": {},
   "outputs": [],
   "source": [
    "components = g.connected_components()"
   ]
  },
  {
   "cell_type": "markdown",
   "id": "26149755",
   "metadata": {},
   "source": [
    "The `components` is a special object called [VertexClustering](https://python.igraph.org/en/0.11.6/api/igraph.VertexClustering.html) in `igraph`.\n",
    "It has the following useful functions and attributes:"
   ]
  },
  {
   "cell_type": "code",
   "execution_count": 8,
   "id": "1057186d",
   "metadata": {},
   "outputs": [
    {
     "name": "stdout",
     "output_type": "stream",
     "text": [
      "membership:  [0, 0, 0, 0]\n",
      "sizes:  [4]\n",
      "giant:  IGRAPH U--- 4 4 --\n",
      "+ edges:\n",
      "0--1 1--2 0--2 0--3\n"
     ]
    }
   ],
   "source": [
    "print(\"membership: \", components.membership)  # the IDs of the component each node belongs to.\n",
    "print(\"sizes: \", list(components.sizes()))  # the number of nodes in each component.\n",
    "print(\"giant: \", components.giant())  # a subgraph of the largest connected component."
   ]
  },
  {
   "cell_type": "markdown",
   "id": "e7f085c4",
   "metadata": {},
   "source": [
    "#### Exercise 01 🏋️‍♀️💪🧠\n",
    "\n",
    "1. Now, let us add two nodes that are not connected to the existing graph, and call `connected_components` again. 🔗➕\n",
    "\n",
    "2. Call `get_shortest_paths` between the two new nodes in different connected components. 🛣️🔍\n",
    "\n",
    "3. Get the largest connected component. 🌐🏆"
   ]
  },
  {
   "cell_type": "code",
   "execution_count": null,
   "id": "6fe850f0",
   "metadata": {},
   "outputs": [],
   "source": []
  },
  {
   "cell_type": "markdown",
   "id": "68f34b81",
   "metadata": {},
   "source": [
    "### Directed networks\n",
    "Let's extend these ideas about paths and connected components to directed graphs."
   ]
  },
  {
   "cell_type": "code",
   "execution_count": 9,
   "id": "9858923f",
   "metadata": {},
   "outputs": [
    {
     "data": {
      "image/svg+xml": [
       "<?xml version=\"1.0\" encoding=\"UTF-8\"?>\n",
       "<svg xmlns=\"http://www.w3.org/2000/svg\" xmlns:xlink=\"http://www.w3.org/1999/xlink\" width=\"250\" height=\"250\" viewBox=\"0 0 250 250\">\n",
       "<defs>\n",
       "<g>\n",
       "<g id=\"glyph-0-0\">\n",
       "<path d=\"M 3.789062 -9.789062 C 5.054688 -9.789062 5.96875 -9.265625 6.535156 -8.222656 C 6.972656 -7.417969 7.191406 -6.3125 7.191406 -4.90625 C 7.191406 -3.578125 6.992188 -2.476562 6.597656 -1.605469 C 6.023438 -0.359375 5.082031 0.265625 3.78125 0.265625 C 2.605469 0.265625 1.730469 -0.242188 1.15625 -1.265625 C 0.675781 -2.117188 0.4375 -3.261719 0.4375 -4.695312 C 0.4375 -5.808594 0.582031 -6.761719 0.867188 -7.5625 C 1.40625 -9.046875 2.378906 -9.789062 3.789062 -9.789062 Z M 3.773438 -0.855469 C 4.410156 -0.855469 4.917969 -1.136719 5.296875 -1.703125 C 5.675781 -2.265625 5.867188 -3.320312 5.867188 -4.859375 C 5.867188 -5.972656 5.726562 -6.886719 5.453125 -7.605469 C 5.179688 -8.324219 4.652344 -8.679688 3.863281 -8.679688 C 3.136719 -8.679688 2.609375 -8.339844 2.273438 -7.660156 C 1.9375 -6.976562 1.769531 -5.976562 1.769531 -4.648438 C 1.769531 -3.648438 1.878906 -2.847656 2.09375 -2.242188 C 2.421875 -1.316406 2.980469 -0.855469 3.773438 -0.855469 Z M 3.773438 -0.855469 \"/>\n",
       "</g>\n",
       "<g id=\"glyph-0-1\">\n",
       "<path d=\"M 1.339844 -6.929688 L 1.339844 -7.875 C 2.226562 -7.960938 2.847656 -8.105469 3.199219 -8.308594 C 3.550781 -8.511719 3.8125 -8.992188 3.984375 -9.75 L 4.957031 -9.75 L 4.957031 0 L 3.644531 0 L 3.644531 -6.929688 Z M 1.339844 -6.929688 \"/>\n",
       "</g>\n",
       "<g id=\"glyph-0-2\">\n",
       "<path d=\"M 0.4375 0 C 0.484375 -0.84375 0.65625 -1.578125 0.960938 -2.203125 C 1.265625 -2.828125 1.855469 -3.394531 2.734375 -3.902344 L 4.046875 -4.664062 C 4.632812 -5.003906 5.046875 -5.296875 5.285156 -5.539062 C 5.65625 -5.914062 5.84375 -6.347656 5.84375 -6.835938 C 5.84375 -7.40625 5.671875 -7.859375 5.332031 -8.191406 C 4.992188 -8.527344 4.535156 -8.695312 3.964844 -8.695312 C 3.121094 -8.695312 2.539062 -8.375 2.214844 -7.738281 C 2.042969 -7.398438 1.945312 -6.921875 1.929688 -6.316406 L 0.675781 -6.316406 C 0.691406 -7.167969 0.847656 -7.863281 1.148438 -8.402344 C 1.679688 -9.351562 2.621094 -9.824219 3.972656 -9.824219 C 5.09375 -9.824219 5.910156 -9.519531 6.429688 -8.914062 C 6.945312 -8.308594 7.203125 -7.632812 7.203125 -6.890625 C 7.203125 -6.105469 6.929688 -5.4375 6.378906 -4.882812 C 6.058594 -4.558594 5.488281 -4.164062 4.664062 -3.703125 L 3.726562 -3.1875 C 3.28125 -2.941406 2.929688 -2.703125 2.671875 -2.480469 C 2.21875 -2.085938 1.929688 -1.644531 1.8125 -1.164062 L 7.15625 -1.164062 L 7.15625 0 Z M 0.4375 0 \"/>\n",
       "</g>\n",
       "<g id=\"glyph-0-3\">\n",
       "<path d=\"M 3.636719 0.265625 C 2.480469 0.265625 1.640625 -0.0507812 1.117188 -0.6875 C 0.59375 -1.324219 0.335938 -2.097656 0.335938 -3.007812 L 1.621094 -3.007812 C 1.675781 -2.375 1.792969 -1.914062 1.976562 -1.625 C 2.296875 -1.109375 2.871094 -0.855469 3.703125 -0.855469 C 4.351562 -0.855469 4.871094 -1.027344 5.265625 -1.375 C 5.65625 -1.71875 5.851562 -2.167969 5.851562 -2.714844 C 5.851562 -3.390625 5.644531 -3.859375 5.234375 -4.128906 C 4.820312 -4.398438 4.246094 -4.53125 3.515625 -4.53125 C 3.433594 -4.53125 3.347656 -4.53125 3.265625 -4.527344 C 3.179688 -4.527344 3.09375 -4.523438 3.007812 -4.519531 L 3.007812 -5.605469 C 3.136719 -5.59375 3.242188 -5.582031 3.328125 -5.578125 C 3.414062 -5.574219 3.507812 -5.570312 3.609375 -5.570312 C 4.070312 -5.570312 4.449219 -5.644531 4.742188 -5.789062 C 5.261719 -6.046875 5.523438 -6.5 5.523438 -7.15625 C 5.523438 -7.644531 5.351562 -8.019531 5.003906 -8.285156 C 4.65625 -8.550781 4.253906 -8.679688 3.792969 -8.679688 C 2.972656 -8.679688 2.40625 -8.40625 2.09375 -7.859375 C 1.917969 -7.558594 1.820312 -7.132812 1.796875 -6.578125 L 0.582031 -6.578125 C 0.582031 -7.304688 0.726562 -7.925781 1.019531 -8.4375 C 1.519531 -9.347656 2.402344 -9.804688 3.664062 -9.804688 C 4.664062 -9.804688 5.433594 -9.582031 5.980469 -9.136719 C 6.527344 -8.691406 6.800781 -8.046875 6.800781 -7.203125 C 6.800781 -6.601562 6.640625 -6.117188 6.316406 -5.742188 C 6.117188 -5.507812 5.855469 -5.328125 5.539062 -5.195312 C 6.054688 -5.054688 6.453125 -4.78125 6.742188 -4.378906 C 7.03125 -3.976562 7.179688 -3.480469 7.179688 -2.898438 C 7.179688 -1.964844 6.871094 -1.203125 6.253906 -0.617188 C 5.640625 -0.0273438 4.765625 0.265625 3.636719 0.265625 Z M 3.636719 0.265625 \"/>\n",
       "</g>\n",
       "<g id=\"glyph-0-4\">\n",
       "<path d=\"M 4.628906 -3.464844 L 4.628906 -7.902344 L 1.492188 -3.464844 Z M 4.648438 0 L 4.648438 -2.390625 L 0.355469 -2.390625 L 0.355469 -3.59375 L 4.839844 -9.816406 L 5.878906 -9.816406 L 5.878906 -3.464844 L 7.320312 -3.464844 L 7.320312 -2.390625 L 5.878906 -2.390625 L 5.878906 0 Z M 4.648438 0 \"/>\n",
       "</g>\n",
       "<g id=\"glyph-0-5\">\n",
       "<path d=\"M 1.730469 -2.496094 C 1.8125 -1.792969 2.136719 -1.308594 2.707031 -1.039062 C 3 -0.902344 3.335938 -0.835938 3.71875 -0.835938 C 4.449219 -0.835938 4.988281 -1.066406 5.339844 -1.53125 C 5.691406 -1.996094 5.867188 -2.511719 5.867188 -3.078125 C 5.867188 -3.761719 5.65625 -4.289062 5.238281 -4.664062 C 4.820312 -5.035156 4.324219 -5.222656 3.738281 -5.222656 C 3.316406 -5.222656 2.953125 -5.140625 2.648438 -4.976562 C 2.34375 -4.8125 2.085938 -4.585938 1.875 -4.292969 L 0.804688 -4.355469 L 1.550781 -9.625 L 6.636719 -9.625 L 6.636719 -8.4375 L 2.476562 -8.4375 L 2.058594 -5.714844 C 2.285156 -5.886719 2.5 -6.019531 2.707031 -6.105469 C 3.070312 -6.253906 3.492188 -6.328125 3.972656 -6.328125 C 4.871094 -6.328125 5.628906 -6.039062 6.253906 -5.460938 C 6.878906 -4.882812 7.191406 -4.148438 7.191406 -3.261719 C 7.191406 -2.335938 6.90625 -1.519531 6.332031 -0.8125 C 5.761719 -0.105469 4.847656 0.246094 3.59375 0.246094 C 2.796875 0.246094 2.09375 0.0234375 1.480469 -0.425781 C 0.867188 -0.875 0.523438 -1.566406 0.453125 -2.496094 Z M 1.730469 -2.496094 \"/>\n",
       "</g>\n",
       "</g>\n",
       "</defs>\n",
       "<rect x=\"-25\" y=\"-25\" width=\"300\" height=\"300\" fill=\"rgb(100%, 100%, 100%)\" fill-opacity=\"1\"/>\n",
       "<path fill=\"none\" stroke-width=\"1\" stroke-linecap=\"butt\" stroke-linejoin=\"miter\" stroke=\"rgb(26.666667%, 26.666667%, 26.666667%)\" stroke-opacity=\"1\" stroke-miterlimit=\"10\" d=\"M 230 230 L 173.429688 177.382812 \"/>\n",
       "<path fill-rule=\"nonzero\" fill=\"rgb(26.666667%, 26.666667%, 26.666667%)\" fill-opacity=\"1\" d=\"M 162.984375 167.667969 L 176.585938 173.988281 L 170.273438 180.777344 L 162.984375 167.667969 \"/>\n",
       "<path fill=\"none\" stroke-width=\"1\" stroke-linecap=\"butt\" stroke-linejoin=\"miter\" stroke=\"rgb(26.666667%, 26.666667%, 26.666667%)\" stroke-opacity=\"1\" stroke-miterlimit=\"10\" d=\"M 155.660156 160.855469 C 134.398438 121.851562 100.710938 102.921875 58.667969 116.582031 \"/>\n",
       "<path fill-rule=\"nonzero\" fill=\"rgb(26.666667%, 26.666667%, 26.666667%)\" fill-opacity=\"1\" d=\"M 45.097656 120.992188 L 57.234375 112.175781 L 60.097656 120.992188 L 45.097656 120.992188 \"/>\n",
       "<path fill=\"none\" stroke-width=\"1\" stroke-linecap=\"butt\" stroke-linejoin=\"miter\" stroke=\"rgb(26.666667%, 26.666667%, 26.666667%)\" stroke-opacity=\"1\" stroke-miterlimit=\"10\" d=\"M 35.660156 124.058594 C 56.921875 163.066406 90.609375 181.992188 132.65625 168.332031 \"/>\n",
       "<path fill-rule=\"nonzero\" fill=\"rgb(26.666667%, 26.666667%, 26.666667%)\" fill-opacity=\"1\" d=\"M 146.222656 163.921875 L 134.085938 172.738281 L 131.222656 163.921875 L 146.222656 163.921875 \"/>\n",
       "<path fill=\"none\" stroke-width=\"1\" stroke-linecap=\"butt\" stroke-linejoin=\"miter\" stroke=\"rgb(26.666667%, 26.666667%, 26.666667%)\" stroke-opacity=\"1\" stroke-miterlimit=\"10\" d=\"M 35.660156 124.058594 L 126.238281 93.816406 \"/>\n",
       "<path fill-rule=\"nonzero\" fill=\"rgb(26.666667%, 26.666667%, 26.666667%)\" fill-opacity=\"1\" d=\"M 139.769531 89.300781 L 127.703125 98.214844 L 124.769531 89.421875 L 139.769531 89.300781 \"/>\n",
       "<path fill=\"none\" stroke-width=\"1\" stroke-linecap=\"butt\" stroke-linejoin=\"miter\" stroke=\"rgb(26.666667%, 26.666667%, 26.666667%)\" stroke-opacity=\"1\" stroke-miterlimit=\"10\" d=\"M 35.660156 124.058594 L 25.839844 84.449219 \"/>\n",
       "<path fill-rule=\"nonzero\" fill=\"rgb(26.666667%, 26.666667%, 26.666667%)\" fill-opacity=\"1\" d=\"M 22.40625 70.601562 L 30.339844 83.335938 L 21.339844 85.566406 L 22.40625 70.601562 \"/>\n",
       "<path fill=\"none\" stroke-width=\"1\" stroke-linecap=\"butt\" stroke-linejoin=\"miter\" stroke=\"rgb(26.666667%, 26.666667%, 26.666667%)\" stroke-opacity=\"1\" stroke-miterlimit=\"10\" d=\"M 149.253906 86.132812 L 153.589844 136.679688 \"/>\n",
       "<path fill-rule=\"nonzero\" fill=\"rgb(26.666667%, 26.666667%, 26.666667%)\" fill-opacity=\"1\" d=\"M 154.808594 150.894531 L 148.96875 137.074219 L 158.207031 136.285156 L 154.808594 150.894531 \"/>\n",
       "<path fill=\"none\" stroke-width=\"1\" stroke-linecap=\"butt\" stroke-linejoin=\"miter\" stroke=\"rgb(26.666667%, 26.666667%, 26.666667%)\" stroke-opacity=\"1\" stroke-miterlimit=\"10\" d=\"M 149.253906 86.132812 L 151.304688 44.238281 \"/>\n",
       "<path fill-rule=\"nonzero\" fill=\"rgb(26.666667%, 26.666667%, 26.666667%)\" fill-opacity=\"1\" d=\"M 152.003906 29.988281 L 155.9375 44.464844 L 146.675781 44.011719 L 152.003906 29.988281 \"/>\n",
       "<path fill=\"none\" stroke-width=\"1\" stroke-linecap=\"butt\" stroke-linejoin=\"miter\" stroke=\"rgb(26.666667%, 26.666667%, 26.666667%)\" stroke-opacity=\"1\" stroke-miterlimit=\"10\" d=\"M 149.253906 86.132812 C 122.3125 47.636719 84.800781 31.925781 42.09375 51.019531 \"/>\n",
       "<path fill-rule=\"nonzero\" fill=\"rgb(26.666667%, 26.666667%, 26.666667%)\" fill-opacity=\"1\" d=\"M 29.070312 56.84375 L 40.203125 46.789062 L 43.984375 55.25 L 29.070312 56.84375 \"/>\n",
       "<path fill=\"none\" stroke-width=\"1\" stroke-linecap=\"butt\" stroke-linejoin=\"miter\" stroke=\"rgb(26.666667%, 26.666667%, 26.666667%)\" stroke-opacity=\"1\" stroke-miterlimit=\"10\" d=\"M 152.492188 20 L 43.1875 53.738281 \"/>\n",
       "<path fill-rule=\"nonzero\" fill=\"rgb(26.666667%, 26.666667%, 26.666667%)\" fill-opacity=\"1\" d=\"M 29.554688 57.949219 L 41.820312 49.3125 L 44.554688 58.167969 L 29.554688 57.949219 \"/>\n",
       "<path fill=\"none\" stroke-width=\"1\" stroke-linecap=\"butt\" stroke-linejoin=\"miter\" stroke=\"rgb(26.666667%, 26.666667%, 26.666667%)\" stroke-opacity=\"1\" stroke-miterlimit=\"10\" d=\"M 20 60.898438 C 46.941406 99.390625 84.453125 115.101562 127.160156 96.011719 \"/>\n",
       "<path fill-rule=\"nonzero\" fill=\"rgb(26.666667%, 26.666667%, 26.666667%)\" fill-opacity=\"1\" d=\"M 140.183594 90.1875 L 129.050781 100.242188 L 125.269531 91.777344 L 140.183594 90.1875 \"/>\n",
       "<path fill-rule=\"nonzero\" fill=\"rgb(100%, 0%, 0%)\" fill-opacity=\"1\" stroke-width=\"1\" stroke-linecap=\"butt\" stroke-linejoin=\"miter\" stroke=\"rgb(0%, 0%, 0%)\" stroke-opacity=\"1\" stroke-miterlimit=\"10\" d=\"M 240 230 C 240 235.523438 235.523438 240 230 240 C 224.476562 240 220 235.523438 220 230 C 220 224.476562 224.476562 220 230 220 C 235.523438 220 240 224.476562 240 230 \"/>\n",
       "<path fill-rule=\"nonzero\" fill=\"rgb(100%, 0%, 0%)\" fill-opacity=\"1\" stroke-width=\"1\" stroke-linecap=\"butt\" stroke-linejoin=\"miter\" stroke=\"rgb(0%, 0%, 0%)\" stroke-opacity=\"1\" stroke-miterlimit=\"10\" d=\"M 165.660156 160.855469 C 165.660156 166.378906 161.183594 170.855469 155.660156 170.855469 C 150.136719 170.855469 145.660156 166.378906 145.660156 160.855469 C 145.660156 155.332031 150.136719 150.855469 155.660156 150.855469 C 161.183594 150.855469 165.660156 155.332031 165.660156 160.855469 \"/>\n",
       "<path fill-rule=\"nonzero\" fill=\"rgb(100%, 0%, 0%)\" fill-opacity=\"1\" stroke-width=\"1\" stroke-linecap=\"butt\" stroke-linejoin=\"miter\" stroke=\"rgb(0%, 0%, 0%)\" stroke-opacity=\"1\" stroke-miterlimit=\"10\" d=\"M 45.660156 124.058594 C 45.660156 129.582031 41.183594 134.058594 35.660156 134.058594 C 30.136719 134.058594 25.660156 129.582031 25.660156 124.058594 C 25.660156 118.535156 30.136719 114.058594 35.660156 114.058594 C 41.183594 114.058594 45.660156 118.535156 45.660156 124.058594 \"/>\n",
       "<path fill-rule=\"nonzero\" fill=\"rgb(100%, 0%, 0%)\" fill-opacity=\"1\" stroke-width=\"1\" stroke-linecap=\"butt\" stroke-linejoin=\"miter\" stroke=\"rgb(0%, 0%, 0%)\" stroke-opacity=\"1\" stroke-miterlimit=\"10\" d=\"M 159.253906 86.132812 C 159.253906 91.65625 154.777344 96.132812 149.253906 96.132812 C 143.730469 96.132812 139.253906 91.65625 139.253906 86.132812 C 139.253906 80.609375 143.730469 76.132812 149.253906 76.132812 C 154.777344 76.132812 159.253906 80.609375 159.253906 86.132812 \"/>\n",
       "<path fill-rule=\"nonzero\" fill=\"rgb(100%, 0%, 0%)\" fill-opacity=\"1\" stroke-width=\"1\" stroke-linecap=\"butt\" stroke-linejoin=\"miter\" stroke=\"rgb(0%, 0%, 0%)\" stroke-opacity=\"1\" stroke-miterlimit=\"10\" d=\"M 162.492188 20 C 162.492188 25.523438 158.015625 30 152.492188 30 C 146.972656 30 142.492188 25.523438 142.492188 20 C 142.492188 14.476562 146.972656 10 152.492188 10 C 158.015625 10 162.492188 14.476562 162.492188 20 \"/>\n",
       "<path fill-rule=\"nonzero\" fill=\"rgb(100%, 0%, 0%)\" fill-opacity=\"1\" stroke-width=\"1\" stroke-linecap=\"butt\" stroke-linejoin=\"miter\" stroke=\"rgb(0%, 0%, 0%)\" stroke-opacity=\"1\" stroke-miterlimit=\"10\" d=\"M 30 60.898438 C 30 66.417969 25.523438 70.898438 20 70.898438 C 14.476562 70.898438 10 66.417969 10 60.898438 C 10 55.375 14.476562 50.898438 20 50.898438 C 25.523438 50.898438 30 55.375 30 60.898438 \"/>\n",
       "<g fill=\"rgb(0%, 0%, 0%)\" fill-opacity=\"1\">\n",
       "<use xlink:href=\"#glyph-0-0\" x=\"226.1875\" y=\"236.503906\"/>\n",
       "</g>\n",
       "<g fill=\"rgb(0%, 0%, 0%)\" fill-opacity=\"1\">\n",
       "<use xlink:href=\"#glyph-0-1\" x=\"152.511719\" y=\"167.339844\"/>\n",
       "</g>\n",
       "<g fill=\"rgb(0%, 0%, 0%)\" fill-opacity=\"1\">\n",
       "<use xlink:href=\"#glyph-0-2\" x=\"31.839844\" y=\"130.578125\"/>\n",
       "</g>\n",
       "<g fill=\"rgb(0%, 0%, 0%)\" fill-opacity=\"1\">\n",
       "<use xlink:href=\"#glyph-0-3\" x=\"145.496094\" y=\"92.644531\"/>\n",
       "</g>\n",
       "<g fill=\"rgb(0%, 0%, 0%)\" fill-opacity=\"1\">\n",
       "<use xlink:href=\"#glyph-0-4\" x=\"148.65625\" y=\"26.519531\"/>\n",
       "</g>\n",
       "<g fill=\"rgb(0%, 0%, 0%)\" fill-opacity=\"1\">\n",
       "<use xlink:href=\"#glyph-0-5\" x=\"16.179688\" y=\"67.320312\"/>\n",
       "</g>\n",
       "</svg>\n"
      ],
      "text/plain": [
       "<igraph.drawing.cairo.plot.CairoPlot at 0x13d4fee50>"
      ]
     },
     "execution_count": 9,
     "metadata": {
      "image/svg+xml": {
       "isolated": true
      }
     },
     "output_type": "execute_result"
    }
   ],
   "source": [
    "edge_list =[(0, 1), (1, 2), (2, 1), (2, 3), (2, 5), (3, 1), (3, 4), (3, 5), (4, 5), (5, 3)]\n",
    "g = igraph.Graph(directed=True)\n",
    "g.add_vertices(6)\n",
    "g.add_edges(edge_list)\n",
    "igraph.plot(g, bbox=(250, 250), vertex_label=list(range(6)))"
   ]
  },
  {
   "cell_type": "markdown",
   "id": "5a519d3b",
   "metadata": {},
   "source": [
    "In directed graphs, edges and paths can be one-way. For instance, in our graph, you can go from node 0 to node 3, but not from 3 to 0."
   ]
  },
  {
   "cell_type": "code",
   "execution_count": 10,
   "id": "81a47c9e",
   "metadata": {},
   "outputs": [
    {
     "name": "stdout",
     "output_type": "stream",
     "text": [
      "From 0 to 3 [[0, 1, 2, 3], [0, 1, 2, 5, 3]]\n",
      "From 3 to 0 []\n"
     ]
    }
   ],
   "source": [
    "print(\"From 0 to 3\", g.get_all_simple_paths(0, to=3))\n",
    "print(\"From 3 to 0\", g.get_all_simple_paths(3, to=0))"
   ]
  },
  {
   "cell_type": "markdown",
   "id": "288fdfcd",
   "metadata": {},
   "source": [
    "The shortest path from 4 to 1 must take a longer route due to edge directions."
   ]
  },
  {
   "cell_type": "code",
   "execution_count": 11,
   "id": "972ac20c",
   "metadata": {},
   "outputs": [
    {
     "data": {
      "text/plain": [
       "[[4, 5, 3, 1]]"
      ]
     },
     "execution_count": 11,
     "metadata": {},
     "output_type": "execute_result"
    }
   ],
   "source": [
    "g.get_shortest_paths(4, 1)"
   ]
  },
  {
   "cell_type": "markdown",
   "id": "f9f965d9",
   "metadata": {},
   "source": [
    "Directed networks have two kinds of connected components.\n",
    "\n",
    "- **Strongly connected components:** Strongly connected means that there exists a direct path between every pair of nodes, i.e., that from any node to any other nodes while respecting the edge directionality.\n",
    "- **Weakly connected components:** Weakly connected means that there exists a path between every pair of nodes when ignoring the edge directionality."
   ]
  },
  {
   "cell_type": "code",
   "execution_count": 12,
   "id": "b4cfb41f",
   "metadata": {},
   "outputs": [
    {
     "name": "stdout",
     "output_type": "stream",
     "text": [
      "[[0], [1, 2, 3, 4, 5]]\n",
      "[[0, 1, 2, 3, 4, 5]]\n"
     ]
    }
   ],
   "source": [
    "print(list(g.connected_components(mode=\"strong\")))\n",
    "print(list(g.connected_components(mode=\"weak\")))"
   ]
  },
  {
   "cell_type": "markdown",
   "id": "7f259040",
   "metadata": {},
   "source": [
    "## Scipy\n",
    "\n",
    "We can create a graph, compute the shortest paths, and connected components using `scipy`.\n",
    "\n",
    "### Create a graph\n",
    "\n",
    "\n",
    "With scipy, we represent a network by an adjacency matrix using something called a *Compressed Sparse Row (CSR) matrix*. CSR matrices are efficient format for storing and manipulating *sparse* matrices. Why *sparse* is highlighed here? Because in many networks, the adjacency matrix is sparse, i.e., most of the entries are zero. For example, here is the adjacency matrix of a real-world network:\n",
    "\n",
    "![](https://www.researchgate.net/publication/263506932/figure/fig1/AS:392539896074252@1470600212952/Scale-free-Network-left-its-adjacency-matrix-upper-right-and-degree-distribution.png)\n",
    "\n",
    "Most of the entries in this adjacency matrix are white, and white means that the value of the entry is zero. And the adjacency matrix looks very white! This is pretty common in real-world networks. We call these matrices \"sparse\" because they are mostly empty. And CSR matrices are a way to store these sparse matrices efficiently. Don't worry too much about the technical details for now. If you're curious to learn more, you can check out the [Appendix](appendix.md).\n",
    "\n",
    "The great thing is, `scipy` (especially the `scipy.sparse` module) provides efficient tools for working with these sparse matrices. This comes in really handy when we're working with large networks.\n",
    "\n",
    "Let create a graph using scipy."
   ]
  },
  {
   "cell_type": "code",
   "execution_count": 13,
   "id": "cedfd442",
   "metadata": {},
   "outputs": [
    {
     "data": {
      "text/plain": [
       "<4x4 sparse matrix of type '<class 'numpy.int64'>'\n",
       "\twith 8 stored elements in Compressed Sparse Row format>"
      ]
     },
     "execution_count": 13,
     "metadata": {},
     "output_type": "execute_result"
    }
   ],
   "source": [
    "from scipy import sparse # We will use sparse module in scipy\n",
    "\n",
    "edge_list = [(0, 1), (1, 2), (0, 2), (0, 3)]\n",
    "\n",
    "src = [src for src, dst in edge_list]\n",
    "trg = [dst for src, dst in edge_list]\n",
    "weight = [1 for src, dst in edge_list]\n",
    "\n",
    "A = sparse.csr_matrix((weight, (src, trg)), shape=(4, 4))\n",
    "A = A + A.T # Make the adjacency matrix symmetric\n",
    "A"
   ]
  },
  {
   "cell_type": "markdown",
   "id": "3189d521",
   "metadata": {},
   "source": [
    "Let's break down the code.\n",
    "- `src` and `trg` are the source and target nodes of the edges.\n",
    "- `weight` is the weight of the edges.\n",
    "- `sparse.csr_matrix((weight, (src, trg)))` creates a sparse matrix, filling `weight` into the positions specified by `(src, trg)`.\n",
    "- `A.T` is the transpose of `A` and `A + A.T` makes the adjacency matrix symmetric.\n",
    "\n",
    "The CSR matrix does not print nicely. But you can see it by converting to a numpy array and printing it."
   ]
  },
  {
   "cell_type": "code",
   "execution_count": 14,
   "id": "33508bce",
   "metadata": {},
   "outputs": [
    {
     "data": {
      "text/plain": [
       "array([[0, 1, 1, 1],\n",
       "       [1, 0, 1, 0],\n",
       "       [1, 1, 0, 0],\n",
       "       [1, 0, 0, 0]])"
      ]
     },
     "execution_count": 14,
     "metadata": {},
     "output_type": "execute_result"
    }
   ],
   "source": [
    "A.toarray()"
   ]
  },
  {
   "cell_type": "markdown",
   "id": "4aa0465e",
   "metadata": {},
   "source": [
    "## Shortest Paths\n",
    "\n",
    "The `sparse` module has a submodule `csgraph` that provides APIs for network analysis.\n",
    "\n",
    "For example, `csgraph.shortest_path` computes the shortest path length from a specific node to all other nodes."
   ]
  },
  {
   "cell_type": "code",
   "execution_count": 15,
   "id": "a9cfd73b",
   "metadata": {},
   "outputs": [
    {
     "data": {
      "text/plain": [
       "array([1., 1., 0., 2.])"
      ]
     },
     "execution_count": 15,
     "metadata": {},
     "output_type": "execute_result"
    }
   ],
   "source": [
    "from scipy.sparse import csgraph\n",
    "\n",
    "# `indices` is the node to compute the shortest path from.\n",
    "D = csgraph.shortest_path(A, indices=2, directed=False)\n",
    "D"
   ]
  },
  {
   "cell_type": "markdown",
   "id": "1978870b",
   "metadata": {},
   "source": [
    "**Advanced:** If you want to get the actual paths (i.e., list of nodes in the path), you can pass `return_predecessors=True` to `csgraph.shortest_path`."
   ]
  },
  {
   "cell_type": "code",
   "execution_count": 16,
   "id": "d9ed3033",
   "metadata": {},
   "outputs": [],
   "source": [
    "D, predecessors = csgraph.shortest_path(A, indices=2, directed=False, return_predecessors=True)"
   ]
  },
  {
   "cell_type": "markdown",
   "id": "90c2ed05",
   "metadata": {},
   "source": [
    "## Connected Components\n",
    "\n",
    "Connected components can be computed by `csgraph.connected_components`."
   ]
  },
  {
   "cell_type": "code",
   "execution_count": 17,
   "id": "aa32189c",
   "metadata": {},
   "outputs": [
    {
     "name": "stdout",
     "output_type": "stream",
     "text": [
      "Number of connected components: 1\n",
      "Labels: [0 0 0 0]\n"
     ]
    }
   ],
   "source": [
    "n_components, labels = csgraph.connected_components(A, directed=False, return_labels=True)\n",
    "\n",
    "print(\"Number of connected components:\", n_components)\n",
    "print(\"Labels:\", labels)"
   ]
  },
  {
   "cell_type": "markdown",
   "id": "be306f5b",
   "metadata": {},
   "source": [
    "- `n_components` is the number of connected components.\n",
    "- `labels` is an array of length `n_nodes` where each element is the ID of the connected component the node belongs to.\n",
    "\n",
    "\n",
    "## Exercise 02 🏋️‍♀️💪🧠\n",
    "\n",
    "Let's compute the average path length of a network from pre-existing data and check if how long on average it takes to go from any node to any other node.\n",
    "\n",
    "1. Select a network of your choice from [Netzschleuder](https://networks.skewed.de/). For convenience, choose a network of nodes less than 5000.\n",
    "2. Download the csv version of the data by clicking something like \"3KiB\" under `csv` column.\n",
    "3. Unzip the file and find \"edges.csv\", open it with a text editor to familiarize yourself with the format.\n",
    "4. Load the data using `pandas`.\n",
    "5. Get the source and target nodes from the data to create an edge list.\n",
    "6. Construct a graph from the edge list, either using `igraph` or `scipy`.\n",
    "7. Compute the average path length\n",
    "\n",
    "**Hint:** Finding all shortest paths is a qubic time operation with respect to the number of nodes, or simply put, it takes a long time to compute. So compute the \"estimate\" by sampling many pairs of nodes uniformly at random and computing the average path length."
   ]
  }
 ],
 "metadata": {
  "jupytext": {
   "cell_metadata_filter": "-all",
   "formats": "md:myst",
   "text_representation": {
    "extension": ".md",
    "format_name": "myst",
    "format_version": 0.13,
    "jupytext_version": "1.16.3"
   }
  },
  "kernelspec": {
   "display_name": "Python 3 (ipykernel)",
   "language": "python",
   "name": "python3"
  },
  "language_info": {
   "codemirror_mode": {
    "name": "ipython",
    "version": 3
   },
   "file_extension": ".py",
   "mimetype": "text/x-python",
   "name": "python",
   "nbconvert_exporter": "python",
   "pygments_lexer": "ipython3",
   "version": "3.11.0"
  }
 },
 "nbformat": 4,
 "nbformat_minor": 5
}