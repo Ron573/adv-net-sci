{
 "cells": [
  {
   "cell_type": "markdown",
   "id": "05924e6c",
   "metadata": {},
   "source": [
    "# Small-world experiment\n",
    "\n",
    "How far are two people in a social network? Milgram and his colleagues conducted a series of expriment to find out in the 1960s.\n",
    "\n",
    ":::{figure-md} milgram-small-world-experiment\n",
    "\n",
    "<img src=\"../figs/milgram-small-world-experiment.png\" width=\"70%\">\n",
    "\n",
    "Milgram's small world experiment.\n",
    "\n",
    ":::\n",
    "\n",
    "\n",
    "The experiment went as follows:\n",
    "1. Milgram first sent out packets to randomly selected people in Omaha, Nebraska, and Wichita, Kansas.\n",
    "2. The recipient was asked to send the packet to the target person in Boston if they knew them. If not, they were to forward it to someone they knew on a first-name basis who might know the target.\n",
    "3. The recipient continued to forward the packet to their acquaintances until it reached the target.\n",
    "\n",
    "The results were surprising: out of the 160 letters sent, 64 successfully reached the target person by the chain of nearly six people, which was later called **six degrees of separation**.\n",
    "The results imply that, despite the fact that there were hundreds of millions of people in the United States, their social network was significantly compact, with two random people being connected to each other in only a few steps.\n",
    "\n",
    ":::{tip}\n",
    "The term \"Six degrees of separation\" is commonly associated with Milgram's experiment, but Milgram never used it. John Guare coined the term for his 1991 play and movie [\"Six Degrees of Separation.\"](https://en.wikipedia.org/wiki/Six_Degrees_of_Separation_(film))\n",
    ":::\n",
    "\n",
    "The results were later confirmed independently.\n",
    "\n",
    "-  Yahoo research replicate the Milgram's experiment by using emails. Started from more than 24,000 people, only 384 people reached the one of the 18 target person in 13 countries. Among the successful ones, the average length of the chain was about 4. When taken into account the broken chain, the average length was estimated between 5 and 7.{footcite}`goel2009social`\n",
    "\n",
    "- Researchers in Facebook and University of Milan analyzed the social network n Facebook, which consisted of 721 million active users and 69 billion friendships. The average length of the shortest chain was found to be 4.74. {footcite}`backstrom2012four`\n",
    "\n",
    "```{footbibliography}\n",
    "```"
   ]
  }
 ],
 "metadata": {
  "jupytext": {
   "cell_metadata_filter": "-all",
   "formats": "md:myst",
   "text_representation": {
    "extension": ".md",
    "format_name": "myst",
    "format_version": 0.13,
    "jupytext_version": "1.16.3"
   }
  },
  "kernelspec": {
   "display_name": "Python 3 (ipykernel)",
   "language": "python",
   "name": "python3"
  }
 },
 "nbformat": 4,
 "nbformat_minor": 5
}