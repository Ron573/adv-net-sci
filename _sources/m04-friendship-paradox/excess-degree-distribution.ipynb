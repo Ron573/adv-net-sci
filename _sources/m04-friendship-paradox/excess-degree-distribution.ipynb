{
 "cells": [
  {
   "cell_type": "markdown",
   "id": "d702a9c9",
   "metadata": {},
   "source": [
    "# Degree distribution of a friend\n",
    "\n",
    "Continuing from the previous page, we will now consider the degree distribution of a friend of a node.\n",
    "\n",
    "There are two ways to sample a friend of a node.\n",
    "1. Sample a node uniformly at random and then sample a friend of the node.\n",
    "2. Sample a *friendship* (i.e., edge) uniformly at random and then sample an end node of the edge.\n",
    "\n",
    "Let us focus on the second case and leave the first case for interested students as an exercise.\n",
    "In the second case, we sample an edge from the network.\n",
    "This sampling is biased towards nodes with many edges, i.e., a person with $d$ edges is $d$ times more likely to be sampled than someone with 1 edge.\n",
    "Thus, the degree distribution $p'(d)$ of a friend is given by\n",
    "\n",
    "$$\n",
    "p' (d) = C \\cdot d \\cdot p(d)\n",
    "$$\n",
    "The additional term $d$ reflects the fact that a person with $d$ friends is $d$ times more likely to be sampled than someone with 1 friend.\n",
    "Term $C$ is the normalization constant that ensures the sum of probabilities $p'(d)$ over all $d$ is 1, which can be easily computed as follows:\n",
    "\n",
    "$$\n",
    "C = \\frac{1}{\\sum_{d} d \\cdot p(d)} = \\frac{1}{\\langle d \\rangle}\n",
    "$$\n",
    "\n",
    "where $\\langle d \\rangle$ is the average degree of the network. Substituting $C$ into $p'(d)$, we get:\n",
    "\n",
    "$$\n",
    "p' (d) = \\frac{d}{\\langle d \\rangle} p(d)\n",
    "$$\n",
    "\n",
    "This is the degree distribution of a friend, and it is easy to verify that $p'(d) > p(d)$ for $k \\geq \\langle d \\rangle$, i.e., a friend has a higher chance of having a higher degree than a node. In other words, the friendship paradox 😉.\n",
    "\n",
    ":::{note}\n",
    "The distribution $p'(d)$ is related to *the excess degree distribution* given by\n",
    "\n",
    "$$\n",
    "q(d) = \\frac{d + 1}{\\langle d \\rangle} p(d+1)\n",
    "$$\n",
    "\n",
    "The term *excess* comes from the fact that the distribution represents the number of additional connections a randomly chosen friend has, beyond the connection that led to their selection. It excludes the link to the focal node and focuses on the remaining connections of the selected friend.\n",
    ":::\n",
    "\n",
    "## Demonstration\n",
    "\n",
    "Let us compare the degree distribution of a node and its friend. As before, we will create a Barabási-Albert network with $N=10,000$ nodes and $m=1$ edge per node."
   ]
  },
  {
   "cell_type": "code",
   "execution_count": 1,
   "id": "f6cc692a",
   "metadata": {},
   "outputs": [],
   "source": [
    "import igraph\n",
    "g = igraph.Graph.Barabasi(n = 10000, m = 1) # Create a Barabási-Albert network\n",
    "A = g.get_adjacency() # Get the adjacency matrix"
   ]
  },
  {
   "cell_type": "markdown",
   "id": "3fd42843",
   "metadata": {},
   "source": [
    "Compute the degree of each node and the degree distribution of a friend."
   ]
  },
  {
   "cell_type": "code",
   "execution_count": 2,
   "id": "44d0328c",
   "metadata": {},
   "outputs": [],
   "source": [
    "import numpy as np\n",
    "deg = np.sum(A, axis=1)\n",
    "deg = deg.flatten()\n",
    "p_deg = np.bincount(deg) / len(deg)"
   ]
  },
  {
   "cell_type": "markdown",
   "id": "1cf3a033",
   "metadata": {},
   "source": [
    "Now, let us compute the degree distribution of a friend.\n",
    "We first get the edges in the network, from which we sample a friend."
   ]
  },
  {
   "cell_type": "code",
   "execution_count": 3,
   "id": "d44082bc",
   "metadata": {},
   "outputs": [],
   "source": [
    "from scipy import sparse\n",
    "src, trg, _ = sparse.find(A)"
   ]
  },
  {
   "cell_type": "markdown",
   "id": "db51d0d3",
   "metadata": {},
   "source": [
    "- `sparse.find(A)` returns the source node, target node, and edge weight of the edge.\n",
    "- `src` is the source node of the edge\n",
    "- `trg` is the target node of the edge\n",
    "- `_` is used to ignore the edge weight values, as we only need the source and target nodes for this analysis.\n",
    "\n",
    "Now, let us get the degree of each friend"
   ]
  },
  {
   "cell_type": "code",
   "execution_count": 4,
   "id": "43892092",
   "metadata": {},
   "outputs": [],
   "source": [
    "deg_friend = deg[src]\n",
    "p_deg_friend = np.bincount(deg_friend) / len(deg_friend)"
   ]
  },
  {
   "cell_type": "markdown",
   "id": "685aa6d1",
   "metadata": {},
   "source": [
    "The CCDF of the degree distributions of a node and a friend can be computed by:"
   ]
  },
  {
   "cell_type": "code",
   "execution_count": 5,
   "id": "378f6120",
   "metadata": {},
   "outputs": [],
   "source": [
    "ccdf_deg = 1 - np.cumsum(p_deg)[:-1]\n",
    "ccdf_deg_friend = 1 - np.cumsum(p_deg_friend)[:-1]"
   ]
  },
  {
   "cell_type": "markdown",
   "id": "f3f5a2c2",
   "metadata": {},
   "source": [
    "and plotted by:"
   ]
  },
  {
   "cell_type": "code",
   "execution_count": 6,
   "id": "ebc27f2b",
   "metadata": {},
   "outputs": [
    {
     "data": {
      "text/plain": [
       "<matplotlib.legend.Legend at 0x10e0bb9d0>"
      ]
     },
     "execution_count": 6,
     "metadata": {},
     "output_type": "execute_result"
    },
    {
     "data": {
      "image/png": "[encoded data removed]",
      "text/plain": [
       "<Figure size 640x480 with 1 Axes>"
      ]
     },
     "metadata": {},
     "output_type": "display_data"
    }
   ],
   "source": [
    "import seaborn as sns\n",
    "import matplotlib.pyplot as plt\n",
    "\n",
    "\n",
    "ax = sns.lineplot(x=np.arange(len(ccdf_deg)), y=ccdf_deg, label='Node')\n",
    "ax = sns.lineplot(x=np.arange(len(ccdf_deg)), y=ccdf_deg_friend, label='Friend', ax = ax)\n",
    "ax.set_xscale('log')\n",
    "ax.set_yscale('log')\n",
    "ax.set_xlabel('Degree')\n",
    "ax.set_ylabel('CCDF')\n",
    "ax.legend(frameon = False)"
   ]
  },
  {
   "cell_type": "markdown",
   "id": "7ca281cf",
   "metadata": {},
   "source": [
    "The slope of the CCDF of a friend is flatter than that of a node, indicating that the degree distribution of a friend is biased towards higher degrees."
   ]
  }
 ],
 "metadata": {
  "jupytext": {
   "formats": "md:myst",
   "text_representation": {
    "extension": ".md",
    "format_name": "myst"
   }
  },
  "kernelspec": {
   "display_name": "Python 3",
   "language": "python",
   "name": "python3"
  },
  "language_info": {
   "codemirror_mode": {
    "name": "ipython",
    "version": 3
   },
   "file_extension": ".py",
   "mimetype": "text/x-python",
   "name": "python",
   "nbconvert_exporter": "python",
   "pygments_lexer": "ipython3",
   "version": "3.11.0"
  }
 },
 "nbformat": 4,
 "nbformat_minor": 5
}