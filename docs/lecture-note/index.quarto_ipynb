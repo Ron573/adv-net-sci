{
  "cells": [
    {
      "cell_type": "markdown",
      "metadata": {},
      "source": [
        "# Welcome to SSIE 641 Advanced Topics on Network Science {.unnumbered}\n",
        "\n",
        "``Don't think! Feeeeeel'' is a famous quote by Bruce Lee in the movie *Enter the Dragon*, and this is my guiding philosophy of learning.\n",
        "\n",
        "This course is designed to help you *feel* the concepts and tools of network science through pen-and-paper exercises and hands-on coding.\n",
        "\n",
        "## List of Exercises\n",
        "\n",
        "| Module | Pen and Paper Exercise | Notebook |\n",
        "|--------|------------------------|------------------|\n",
        "| M01: Euler Tour | [The Koningsberg Bridge](http://estebanmoro.org/pdf/netsci_for_kids/the_konisberg_bridges.pdf) | [Notebook](/m01-euler_tour/03-exercises.qmd) |\n",
        "| M02: Small World | [It’s a small world!! 6 degrees of separation](http://estebanmoro.org/pdf/netsci_for_kids/6_degrees_of_separation.pdf) | [Notebook](https://github.com/skojaku/adv-net-sci/tree/main/notebooks/exercise-m02-small-world.ipynb) |\n",
        "| M03: Robustness | [Build it, Break it, and Build it back!](m03-robustness/pen-and-paper/exercise.pdf) | [Notebook](https://github.com/skojaku/adv-net-sci/tree/main/notebooks/exercise-m03-robustness.ipynb) |\n",
        "| M04: Friendship Paradox | [Data Visualization](m04-friendship-paradox/pen-and-paper/exercise.pdf) | [Notebook](https://github.com/skojaku/adv-net-sci/tree/main/notebooks/exercise-m04-friendship-paradox.ipynb) |\n",
        "| M05: Clustering | [Perfect vs. Almost Perfect](m05-clustering/pen-and-paper/exercise.pdf) | [Notebook](https://github.com/skojaku/adv-net-sci/tree/main/notebooks/exercise-m05-clustering.ipynb) |\n",
        "| M06: Centrality | [Who's the Big Cheese in the University Clubs?](m06-centrality/pen-and-paper/exercise.pdf) | [Notebook](https://github.com/skojaku/adv-net-sci/tree/main/notebooks/exercise-m06-centrality.ipynb) |\n",
        "| M07: Random Walks | [Random Walks on Networks](m07-random-walks/pen-and-paper/exercise.pdf) | [Notebook](https://github.com/skojaku/adv-net-sci/tree/main/notebooks/exercise-m07-random-walks.ipynb) |\n",
        "| M08: Embedding | [Network Embeddings](m08-embedding/pen-and-paper/exercise.pdf) | [Notebook](https://github.com/skojaku/adv-net-sci/tree/main/notebooks/exercise-m08-embedding.ipynb) |\n",
        "| M09: Graph Neural Networks | [Graph Neural Networks](m09-graph-neural-networks/pen-and-paper/exercise.pdf) | [Notebook](https://github.com/skojaku/adv-net-sci/tree/main/notebooks/exercise-m09-graph-neural-net.ipynb) |\n",
        "\n",
        "## List of assignments\n",
        "\n",
        "**Note:** For the students taking SSIE 641, the grading will be done through [GitHub Classroom](https://classroom.github.com/), and the following assignments are not linked to GitHub Classroom. Please use the links provided by the instructor. All the links are listed in Brightspace.\n",
        "\n",
        "| Module | Assignment |\n",
        "|--------|------------|\n",
        "| Small World | [Assignment 1](https://github.com/sk-classroom/adv-net-sci-small-world) |\n",
        "| Network Centrality | [Assignment 2](https://github.com/sk-classroom/adv-net-sci-centrality) |\n",
        "| Small world networks | [Assignment 3](https://github.com/sk-classroom/adv-net-sci-graph-embedding) |\n",
        "\n",
        "\n",
        "```{tableofcontents}\n",
        "```"
      ],
      "id": "913946c0"
    }
  ],
  "metadata": {
    "kernelspec": {
      "name": "netdatasci",
      "language": "python",
      "display_name": "netdatasci",
      "path": "/Users/skojaku-admin/Library/Jupyter/kernels/netdatasci"
    }
  },
  "nbformat": 4,
  "nbformat_minor": 5
}