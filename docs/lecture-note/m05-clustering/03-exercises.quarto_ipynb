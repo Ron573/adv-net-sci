{
  "cells": [
    {
      "cell_type": "markdown",
      "metadata": {},
      "source": [
        "<a target=\"_blank\" href=\"https://colab.research.google.com/github/skojaku/adv-net-sci/blob/main/notebooks/exercise-m05-clustering.ipynb\">\n",
        "  <img src=\"https://colab.research.google.com/assets/colab-badge.svg\" alt=\"Open In Colab\"/>\n",
        "</a>\n",
        "\n",
        "# Hands-on: Clustering"
      ],
      "id": "fc0fa31d"
    },
    {
      "cell_type": "code",
      "metadata": {},
      "source": [
        "# If you are using Google Colab, uncomment the following line to install igraph\n",
        "# !sudo apt install libcairo2-dev pkg-config python3-dev\n",
        "# !pip install pycairo cairocffi\n",
        "# !pip install igraph"
      ],
      "id": "d2903d08",
      "execution_count": null,
      "outputs": []
    },
    {
      "cell_type": "markdown",
      "metadata": {},
      "source": [
        "## Modularity maximization\n",
        "\n",
        "Let us showcase how to use `igraph` to detect communities with modularity. We will use the Karate Club Network as an example.\n"
      ],
      "id": "187dbd90"
    },
    {
      "cell_type": "code",
      "metadata": {},
      "source": [
        "import igraph\n",
        "g = igraph.Graph.Famous(\"Zachary\")\n",
        "igraph.plot(g, vertex_size=20)"
      ],
      "id": "029342d9",
      "execution_count": null,
      "outputs": []
    },
    {
      "cell_type": "markdown",
      "metadata": {},
      "source": [
        "When it comes to maximizing modularity, there are a variety of algorithms to choose from.\n",
        "Two of the most popular ones are the `Louvain` and `Leiden` algorithms, both of which are implemented in `igraph`. The Louvain algorithm has been around for quite some time and is a classic choice, while the Leiden algorithm is a newer bee that often yields better accuracy. For our example, we'll be using the `Leiden` algorithm, and I think you'll find it really effective!"
      ],
      "id": "192821c8"
    },
    {
      "cell_type": "code",
      "metadata": {},
      "source": [
        "communities = g.community_leiden(resolution=1, objective_function= \"modularity\")"
      ],
      "id": "be680057",
      "execution_count": null,
      "outputs": []
    },
    {
      "cell_type": "markdown",
      "metadata": {},
      "source": [
        "What is `resolution`? It is a parameter that helps us tackle the resolution limit of the modularity maximization algorithm {footcite}`fortunato2007resolution`!\n",
        "In simple terms, when we use the resolution parameter $\\rho$, the modularity formula can be rewritten as\n",
        " follow:\n",
        "\n",
        "$$\n",
        "Q(M) = \\frac{1}{2m} \\sum_{i=1}^n \\sum_{j=1}^n \\left(A_{ij} - \\rho \\frac{k_i k_j}{2m}\\right) \\delta(c_i, c_j)\n",
        "$$\n",
        "\n",
        "Here, the parameter $\\rho$ plays a crucial role in balancing the positive and negative parts of the equation.\n",
        "The resolution limit comes into play because of the diminishing effect of the negative term as the number of edges $m$ increases.\n",
        "The parameter $\\rho$ can adjust this balance and allow us to circumvent the resolution limit.\n",
        "\n",
        "What is `communities`? This is a list of communities, where each community is represented by a list of nodes by their indices."
      ],
      "id": "e4ae67ce"
    },
    {
      "cell_type": "code",
      "metadata": {},
      "source": [
        "print(communities)"
      ],
      "id": "e921f732",
      "execution_count": null,
      "outputs": []
    },
    {
      "cell_type": "markdown",
      "metadata": {},
      "source": [
        "Let us visualize the communities by coloring the nodes in the graph."
      ],
      "id": "3671f687"
    },
    {
      "cell_type": "code",
      "metadata": {},
      "source": [
        "import seaborn as sns\n",
        "community_membership = communities.membership\n",
        "palette = sns.color_palette().as_hex()\n",
        "igraph.plot(g, vertex_color=[palette[i] for i in community_membership])"
      ],
      "id": "b9a25296",
      "execution_count": null,
      "outputs": []
    },
    {
      "cell_type": "markdown",
      "metadata": {},
      "source": [
        "- `community_membership`: This is a list of community membership for each node.\n",
        "- `palette`: This is a list of colors to use for the communities.\n",
        "- `igraph.plot(g, vertex_color=[palette[i] for i in community_membership])`: This plots the graph 'g' with nodes colored by their community.\n",
        "\n",
        "### Exercise 01 🏋️‍♀️💪🧠\n",
        "\n",
        "1. Select a network of your choice from [Netzschleuder](https://networks.skewed.de/). For convenience, choose a network of nodes less than 5000.\n",
        "2. Download the csv version of the data by clicking something like \"3KiB\" under `csv` column.\n",
        "3. Unzip the file and find \"edges.csv\", open it with a text editor to familiarize yourself with the format.\n",
        "4. Load the data using `pandas`.\n",
        "5. Get the source and target nodes from the data to create an edge list.\n",
        "6. Construct a graph from the edge list, either using `igraph` or `scipy`.\n",
        "7. Find communities by maximizing the modularity and visualize them.\n",
        "8. Try at least three different values of the resolution parameter and observe how the community structure changes."
      ],
      "id": "db941cc9"
    },
    {
      "cell_type": "code",
      "metadata": {},
      "source": [
        "# Your code here"
      ],
      "id": "2c68f5d9",
      "execution_count": null,
      "outputs": []
    },
    {
      "cell_type": "markdown",
      "metadata": {},
      "source": [
        "## Stochstic Block Model\n",
        "\n",
        "Let us turn the SBM as our community detection tool using [graph-tool](https://graph-tool.skewed.de/). This is a powerful library for network analysis, with a focus on the stochastic block model."
      ],
      "id": "f7b0db0d"
    },
    {
      "cell_type": "code",
      "metadata": {},
      "source": [
        "#\n",
        "# Uncomment the following code if you are using Google Colab\n",
        "#\n",
        "#!wget https://downloads.skewed.de/skewed-keyring/skewed-keyring_1.0_all_$(lsb_release -s -c).deb\n",
        "#!dpkg -i skewed-keyring_1.0_all_$(lsb_release -s -c).deb\n",
        "#!echo \"deb [signed-by=/usr/share/keyrings/skewed-keyring.gpg] https://downloads.skewed.de/apt $(lsb_release -s -c) main\" > /etc/apt/sources.list.d/skewed.list\n",
        "#!apt-get update\n",
        "#!apt-get install python3-graph-tool python3-matplotlib python3-cairo\n",
        "#!apt purge python3-cairo\n",
        "#!apt install libcairo2-dev pkg-config python3-dev\n",
        "#!pip install --force-reinstall pycairo\n",
        "#!pip install zstandard"
      ],
      "id": "ae26017a",
      "execution_count": null,
      "outputs": []
    },
    {
      "cell_type": "markdown",
      "metadata": {},
      "source": [
        "We will identify the communities using the stochastic block model as follows.\n",
        "First, we will convert the graph object in igraph to that in graph-tool."
      ],
      "id": "12fdc2a1"
    },
    {
      "cell_type": "code",
      "metadata": {},
      "source": [
        "import graph_tool.all  as gt\n",
        "import numpy as np\n",
        "import igraph\n",
        "\n",
        "# igraph object\n",
        "g = igraph.Graph.Famous(\"Zachary\")\n",
        "\n",
        "# Set random seed for reproducibility\n",
        "np.random.seed(42)\n",
        "\n",
        "# Convert the graph object in igraph to that in graph-tool\n",
        "edges = g.get_edgelist()\n",
        "r, c = zip(*edges)\n",
        "g_gt = gt.Graph(directed=False)\n",
        "g_gt.add_edge_list(np.vstack([r, c]).T)"
      ],
      "id": "3b33bf11",
      "execution_count": null,
      "outputs": []
    },
    {
      "cell_type": "markdown",
      "metadata": {},
      "source": [
        "Then, we will fit the stochastic block model to the graph."
      ],
      "id": "5ab582c3"
    },
    {
      "cell_type": "code",
      "metadata": {},
      "source": [
        "# Fit the stochastic block model\n",
        "state = gt.minimize_blockmodel_dl(\n",
        "     g_gt,\n",
        "     state_args={\"deg_corr\": False, \"B_min\":2, \"B_max\":10},\n",
        ")\n",
        "b = state.get_blocks()"
      ],
      "id": "e04728a4",
      "execution_count": null,
      "outputs": []
    },
    {
      "cell_type": "markdown",
      "metadata": {},
      "source": [
        "- `B_min` and `B_max` are the minimum and maximum number of communities to consider.\n",
        "- `deg_corr` is a boolean flag to switch to the degree-corrected SBM {footcite}`karrer2011stochastic`.\n",
        "\n",
        "\n",
        "```{note}\n",
        "Here's a fun fact: the likelihood maximization on its own can't figure out how many communities there should be. But `graph-tool` has a clever trick to circumvent this limitation.\n",
        "`graph-tool` actually fits multiple SBMs, each with a different number of communities. Then, it picks the most plausible one based on a model selection criterion.\n",
        "```\n",
        "\n",
        "Let's visualize the communities to see what we got."
      ],
      "id": "c83df0b4"
    },
    {
      "cell_type": "code",
      "metadata": {},
      "source": [
        ":tags: [\"hide-input\"]\n",
        "# Convert the block assignments to a list\n",
        "community_membership = b.get_array()\n",
        "\n",
        "# The community labels may consist of non-consecutive integers, e.g., 10, 8, 1, 4, ...\n",
        "# So we reassign the community labels to be 0, 1, 2, ...\n",
        "community_membership = np.unique(community_membership, return_inverse=True)[1]\n",
        "community_membership"
      ],
      "id": "da1d88ed",
      "execution_count": null,
      "outputs": []
    },
    {
      "cell_type": "code",
      "metadata": {},
      "source": [
        "# Create a color palette\n",
        "import matplotlib.pyplot as plt\n",
        "import seaborn as sns\n",
        "palette = sns.color_palette().as_hex()\n",
        "# Plot the graph with nodes colored by their community\n",
        "fig, ax = plt.subplots(figsize=(10, 8))\n",
        "igraph.plot(\n",
        "    g,\n",
        "    target=ax,\n",
        "    vertex_color=[palette[i] for i in community_membership],\n",
        ")\n",
        "plt.axis('off')\n",
        "plt.tight_layout()\n",
        "plt.show()"
      ],
      "id": "0ba1815e",
      "execution_count": null,
      "outputs": []
    },
    {
      "cell_type": "markdown",
      "metadata": {},
      "source": [
        "What we're seeing here isn't a failure at all. In fact, it's the best partition according to our stochastic block model. The model has discovered something called a **core-periphery structure** {footcite}`borgatti2000models`. Let me break that down:\n",
        "\n",
        "- Think of a major international airport (the core) and smaller regional airports (the periphery).\n",
        "- Major international airports have many flights connecting to each other (densely connected).\n",
        "- Smaller regional airports have fewer connections among themselves (sparsely connected).\n",
        "- Many regional airports have flights to major hubs (periphery connected to the core).\n",
        "\n",
        "That's exactly what our model found in this network.\n",
        "\n",
        "If we look at the adjacency matrix, we would see something that looks like an upside-down \"L\". This shape is like a signature for core-periphery structures."
      ],
      "id": "98deb1f8"
    },
    {
      "cell_type": "code",
      "metadata": {},
      "source": [
        "# Convert igraph Graph to adjacency matrix\n",
        "A = np.array(g.get_adjacency().data)\n",
        "\n",
        "# Sort nodes based on their community (core first, then periphery)\n",
        "sorted_indices = np.argsort(community_membership)\n",
        "A_sorted = A[sorted_indices][:, sorted_indices]\n",
        "\n",
        "# Plot the sorted adjacency matrix\n",
        "plt.figure(figsize=(10, 8))\n",
        "plt.imshow(A_sorted, cmap='binary')\n",
        "plt.title(\"Sorted Adjacency Matrix: Core-Periphery Structure\")\n",
        "plt.xlabel(\"Node Index (sorted)\")\n",
        "plt.ylabel(\"Node Index (sorted)\")\n",
        "\n",
        "plt.tight_layout()\n",
        "plt.show()"
      ],
      "id": "0e8c83df",
      "execution_count": null,
      "outputs": []
    },
    {
      "cell_type": "markdown",
      "metadata": {},
      "source": [
        "### Exercise 02 🏋️‍♀️💪🧠\n",
        "\n",
        "1. Select a network of your choice from [Netzschleuder](https://networks.skewed.de/). For convenience, choose a network of nodes less than 5000.\n",
        "2. Download the csv version of the data by clicking something like \"3KiB\" under `csv` column.\n",
        "3. Unzip the file and find \"edges.csv\", open it with a text editor to familiarize yourself with the format.\n",
        "4. Load the data using `pandas`.\n",
        "5. Get the source and target nodes from the data to create an edge list.\n",
        "6. Construct a graph from the edge list, either using `igraph` or `scipy`.\n",
        "7. Find communities by fitting the stochastic block model and visualize them.\n",
        "8. Try `deg_corr=True` and compare the results with those from `deg_corr=False`.\n",
        "\n",
        "```{footbibliography}\n",
        "```"
      ],
      "id": "8ba890b2"
    }
  ],
  "metadata": {
    "kernelspec": {
      "name": "netdatasci",
      "language": "python",
      "display_name": "netdatasci",
      "path": "/Users/skojaku-admin/Library/Jupyter/kernels/netdatasci"
    }
  },
  "nbformat": 4,
  "nbformat_minor": 5
}