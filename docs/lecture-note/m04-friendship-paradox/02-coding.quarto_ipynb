{
  "cells": [
    {
      "cell_type": "markdown",
      "metadata": {},
      "source": [
        "<a target=\"_blank\" href=\"https://colab.research.google.com/github/skojaku/adv-net-sci/blob/main/notebooks/exercise-m04-friendship-paradox.ipynb\">\n",
        "  <img src=\"https://colab.research.google.com/assets/colab-badge.svg\" alt=\"Open In Colab\"/>\n",
        "</a>\n",
        "\n",
        "# Degree distribution\n",
        "\n",
        "![](https://barabasi.com/img/6/159.png)\n",
        "\n",
        "Understanding degree distribution is the first key step to understand networks! And often, we want to see how the degree distribution looks like by plotting it like using histogram. But, it is not as easy as it may seem...\n",
        "\n",
        "## Visualization basics\n",
        "\n",
        "To learn the basics of data visualization, please take a [pen and paper exercise](./pen-and-paper/exercise.pdf).\n",
        "\n",
        "## Coding exercise\n",
        "\n",
        "[Exercise: Plotting degree distribution](https://github.com/skojaku/adv-net-sci/blob/main/notebooks/exercise-m04-friendship-paradox.ipynb)\n",
        "\n",
        "\n",
        "\n",
        "### Plotting degree distribution\n",
        "\n",
        "(The following content includes the answer to the exercise. So please do the exercise first before reading the following content.)\n",
        "\n",
        "We will first introduce a formal definition of the degree distribution. Then, we will learn how to plot the degree distribution of a network.\n",
        "\n",
        "The degree of a node $i$, denoted by $d_i$, is the number of edges connected to it. With the adjacency matrix $A$, the degree of node $i$ is given by:\n",
        "\n",
        "$$\n",
        "k_i = \\sum_{j=1}^N A_{ij}.\n",
        "$$\n",
        "\n",
        "Let us compute the degree distribution of a network. We will create a Barabási-Albert network with $N=10,000$ nodes and $m=1$ edge per node."
      ],
      "id": "22db9a06"
    },
    {
      "cell_type": "code",
      "metadata": {},
      "source": [
        "import igraph\n",
        "g = igraph.Graph.Barabasi(n = 10000, m = 1) # Create a Barabási-Albert network\n",
        "A = g.get_adjacency() # Get the adjacency matrix"
      ],
      "id": "4e970493",
      "execution_count": null,
      "outputs": []
    },
    {
      "cell_type": "markdown",
      "metadata": {},
      "source": [
        "Compute the degree of each node by summing the elements of the adjacency matrix along the rows."
      ],
      "id": "4312f9c2"
    },
    {
      "cell_type": "code",
      "metadata": {},
      "source": [
        "import numpy as np\n",
        "deg = np.sum(A, axis=1)\n",
        "deg = deg.flatten()"
      ],
      "id": "716276fc",
      "execution_count": null,
      "outputs": []
    },
    {
      "cell_type": "markdown",
      "metadata": {},
      "source": [
        "The degree distribution $p(k)$ can be computed by counting the number of nodes with each degree and dividing by the total number of nodes."
      ],
      "id": "49b896ef"
    },
    {
      "cell_type": "code",
      "metadata": {},
      "source": [
        "p_deg = np.bincount(deg) / len(deg)"
      ],
      "id": "a9d433ea",
      "execution_count": null,
      "outputs": []
    },
    {
      "cell_type": "markdown",
      "metadata": {},
      "source": [
        "Let us plot the degree distribution. This is not as trivial as you might think... 🤔"
      ],
      "id": "a4ef4a5d"
    },
    {
      "cell_type": "code",
      "metadata": {},
      "source": [
        "import seaborn as sns\n",
        "import matplotlib.pyplot as plt\n",
        "\n",
        "ax = sns.lineplot(x=np.arange(len(p_deg)), y=p_deg)\n",
        "ax.set_xlabel('Degree')\n",
        "ax.set_ylabel('Probability')"
      ],
      "id": "28c34905",
      "execution_count": null,
      "outputs": []
    },
    {
      "cell_type": "markdown",
      "metadata": {},
      "source": [
        "While it clearly shows that most nodes have small degree, it does not show the tail of the distribution clearly, and often it is this tail that is of great interest (e.g., hub nodes). To show the tail of the distribution more clearly, we can use a log-log plot."
      ],
      "id": "b7ac6559"
    },
    {
      "cell_type": "code",
      "metadata": {},
      "source": [
        "ax = sns.lineplot(x=np.arange(len(p_deg)), y=p_deg)\n",
        "ax.set_xscale('log')\n",
        "ax.set_yscale('log')\n",
        "ax.set_ylim(np.min(p_deg[p_deg>0])*0.01, None)\n",
        "ax.set_xlabel('Degree')\n",
        "ax.set_ylabel('Probability')"
      ],
      "id": "22fba179",
      "execution_count": null,
      "outputs": []
    },
    {
      "cell_type": "markdown",
      "metadata": {},
      "source": [
        "We see fluctuations for large degree nodes because of the small number of nodes with large degree.\n",
        "One can use \"binning\" to smooth the plot. Binning involves grouping the data into bins and calculating the fraction of data within each bin. However, selecting an appropriate bin size can be challenging, and even with a well-chosen bin size, some information may be lost.\n",
        "\n",
        "A more convenient way is to use the complementary cumulative distribution function (CCDF).\n",
        "The CCDF at degree $k$ is the probability that a randomly chosen node has degree $k'$ greater than $k$ ($k' > k$).  For a visual comparison of CCDF and PDF, see Figure 3 in {footcite}`newman2005power` or [the arxiv version](https://arxiv.org/pdf/cond-mat/0412004)\n",
        "\n",
        "$$\n",
        "\\text{CCDF}(k) = P(k' > k) = \\sum_{k'=k+1}^\\infty p(k')\n",
        "$$\n",
        "\n",
        "- CCDF is a monotonically decreasing function of $k$.\n",
        "- CCDF encompasses the full information of $p(k)$, i.e., taking the derivative of CCDF gives $p(k)$.\n",
        "- CCDF can be plotted as a smooth curve on a log-log scale without binning."
      ],
      "id": "f23888ba"
    },
    {
      "cell_type": "code",
      "metadata": {},
      "source": [
        "ccdf_deg = 1 - np.cumsum(p_deg)[:-1] # 1 - CDF (cumulative distribution function).\n",
        "# The last element is excluded because it is always 1, resulting in CCDF=0, which cannot be plotted on a log-log scale.\n",
        "\n",
        "ax = sns.lineplot(x=np.arange(len(ccdf_deg)), y=ccdf_deg)\n",
        "ax.set_xscale('log')\n",
        "ax.set_yscale('log')\n",
        "ax.set_xlabel('Degree')\n",
        "ax.set_ylabel('CCDF')"
      ],
      "id": "3e6e4827",
      "execution_count": null,
      "outputs": []
    },
    {
      "cell_type": "code",
      "metadata": {},
      "source": [
        ":tags: [remove-cell]\n",
        "from myst_nb import glue\n",
        "\n",
        "cdf_deg = np.cumsum(p_deg)\n",
        "fig, ax = plt.subplots(figsize=(3,3))\n",
        "ax = sns.lineplot(x=np.arange(len(cdf_deg)), y=cdf_deg, ax = ax)\n",
        "ax.set_xscale('log')\n",
        "ax.set_yscale('log')\n",
        "ax.set_xlabel('Degree')\n",
        "ax.set_ylabel('CDF')\n",
        "glue(\"cdf_fig\", fig, display=False)"
      ],
      "id": "04197ef9",
      "execution_count": null,
      "outputs": []
    },
    {
      "cell_type": "markdown",
      "metadata": {},
      "source": [
        "::: {.callout-note}\n",
        "CCDF (complementary cumulative distribution function) is used instead of CDF (cumulative distribution function) because it highlights the tail of the distribution better in a log-log plot. A log scale expands small values and compresses large values. In a CDF, large degree nodes have values close to 1, compressing the tail. In a CCDF, large degree nodes have small values, making the tail more visible.\n",
        "```{glue} cdf_fig\n",
        ":align: center\n",
        "```\n",
        ":::\n",
        "\n",
        "The slope of the CCDF tells us the heterogeneity of the degree distribution.\n",
        "- Steep slope: more **homogeneous** degree distribution (similar degrees)\n",
        "- Flat slope: more **heterogeneous** degree distribution (wide range of degrees)\n",
        "\n",
        "\n",
        "The slope of the CCDF is related to the power-law exponent of the degree distribution.\n",
        "A power-law degree distribution is described by *a continuous distribution* with the *density function* (not the probability mass) $p(d)$ given by {footcite}`clauset2009power`:\n",
        "\n",
        "$$\n",
        "p(k) = \\frac{\\gamma-1}{k_{\\min}} \\left( \\frac{k}{k_{\\min}} \\right)^{-\\gamma}\n",
        "$$\n",
        "\n",
        "where:\n",
        "- $p(k)$ is the probability *density* of a node having degree $k$\n",
        "- $\\gamma$ is the power-law exponent\n",
        "- $k_{\\min}$ is the minimum degree\n",
        "\n",
        "\n",
        "::: {.callout-note}\n",
        "The degree distribution is *discrete* but often approximated by a *continuous* distribution for mathematical convenience. While generally accurate, caution is needed as the reliability varies depending on the range of the degrees. See {footcite}`clauset2009power` for more details.\n",
        ":::\n",
        "\n",
        "::: {.callout-note}\n",
        "The power-law distribution is ill-defined for $d=0$, which is why there must be a minimum degree $d_{\\min}$ to avoid this issue.\n",
        ":::\n",
        "\n",
        "::: {.callout-note}\n",
        "There has been a long-standing debate in network science as to whether the power-law well represents the real-world networks. Power-law is just one of many possible distributions with a heavy tail (i.e., a long tail on the right side of the distribution), and other distributions may also fit the data well such as log-normal distribution.\n",
        "This discussion is critical as many theories in network science are built on the assumption of the form of the degree distribution. See {footcite}`artico2020rare,holme2019rare,voitalov2019scale,barabasi2003scale` for the debate.\n",
        ":::\n",
        "\n",
        "The CCDF for the power-law distribution is given by:\n",
        "\n",
        "$$\n",
        "\\begin{aligned}\n",
        "\\text{CCDF}(k) &= 1 - \\int_{k_{\\min}}^k p(x) {\\rm d}x \\\\\n",
        "  &= 1 - \\frac{\\gamma -1}{k_{\\min}}\\cdot \\frac{1}{1 - \\gamma} \\left[\n",
        "\\left(\\frac{k^{-\\gamma + 1}}{k_{\\min}^{-\\gamma}}\\right) - \\left(\\frac{k_{\\min} ^{-\\gamma + 1}}{k_{\\min} ^{-\n",
        "\\gamma}}\\right)\\right] \\\\\n",
        "&= \\left( \\frac{k}{k_{\\min}}\\right)^{-\\gamma + 1}\n",
        "\\end{aligned}\n",
        "$$\n",
        "\n",
        "Taking the logarithm:\n",
        "\n",
        "$$\n",
        "\\log \\left[ \\text{CCDF}(k) \\right] = (-\\gamma + 1) \\cdot \\log k + \\text{const.}\n",
        "$$\n",
        "\n",
        "Thus, the slope of the CCDF in a log-log plot is related to the power-law exponent $\\gamma$.\n",
        "Specifically, a steeper negative slope (i.e., a more negative value of $-\\gamma + 1$) corresponds to a larger $\\gamma$.\n",
        "A larger $\\gamma$ indicates a more homogeneous degree distribution, where the probability of finding nodes with very high degrees decreases more rapidly.\n",
        "Conversely, a flatter slope (i.e., a value of $-\\gamma + 1$ being closer to zero) corresponds to a smaller $\\gamma$.\n",
        "A smaller $\\gamma$ indicates a more heterogeneous degree distribution, where there's a high probability of finding nodes with high degrees compared to that with a large $\\gamma$ value.\n",
        "\n",
        "For students interested in real-world examples of the CCDF plot, refer to Figure 4 in {footcite}`newman2005power`, or [the arxiv version](https://arxiv.org/pdf/cond-mat/0412004)\n",
        "\n",
        "In sum, the CCDF in a log-log plot provides a convenient visual summary of the degree distribution, with the slope of the CCDF providing a measure of the heterogeneity of the degree distribution.\n",
        "\n",
        "\n",
        "## Degree distribution of a friend\n",
        "\n",
        "Continuing from the previous page, we will now consider the degree distribution of a friend of a node.\n",
        "\n",
        "There are two ways to sample a friend of a node.\n",
        "1. Sample a node uniformly at random and then sample a friend of the node.\n",
        "2. Sample a *friendship* (i.e., edge) uniformly at random and then sample an end node of the edge.\n",
        "\n",
        "Let us focus on the second case and leave the first case for interested students as an exercise.\n",
        "In the second case, we sample an edge from the network.\n",
        "This sampling is biased towards nodes with many edges, i.e., a person with $d$ edges is $d$ times more likely to be sampled than someone with 1 edge.\n",
        "Thus, the degree distribution $p'(k)$ of a friend is given by\n",
        "\n",
        "$$\n",
        "p' (k) = C \\cdot k \\cdot p(k)\n",
        "$$\n",
        "The additional term $k$ reflects the fact that a person with $k$ friends is $k$ times more likely to be sampled than someone with 1 friend.\n",
        "Term $C$ is the normalization constant that ensures the sum of probabilities $p'(k)$ over all $k$ is 1, which can be easily computed as follows:\n",
        "\n",
        "$$\n",
        "C = \\frac{1}{\\sum_{k} k \\cdot p(k)} = \\frac{1}{\\langle k \\rangle}\n",
        "$$\n",
        "\n",
        "where $\\langle k \\rangle$ is the average degree of the network. Substituting $C$ into $p'(k)$, we get:\n",
        "\n",
        "$$\n",
        "p' (k) = \\frac{k}{\\langle k \\rangle} p(k)\n",
        "$$\n",
        "\n",
        "This is the degree distribution of a friend, and it is easy to verify that the average degree of a friend is given by\n",
        "\n",
        "$$\n",
        "\\langle k' \\rangle = \\sum_{k} k \\cdot p'(k) = \\sum_{k} k \\cdot \\frac{k}{\\langle k \\rangle} p(k) = \\frac{\\langle k^2 \\rangle}{\\langle k \\rangle}\n",
        "$$\n",
        "\n",
        "which is always larger than $\\langle k \\rangle$:\n",
        "\n",
        "$$\n",
        "\\langle k' \\rangle = \\frac{\\langle k^2 \\rangle}{\\langle k \\rangle} \\geq \\langle k \\rangle\n",
        "$$\n",
        "\n",
        "with equality only if every node has the same degree. This is a proof of the friendship paradox 😉!\n",
        "\n",
        "\n",
        "::: {.callout-note}\n",
        "The distribution $p'(k)$ is related to *the excess degree distribution* given by\n",
        "\n",
        "$$\n",
        "q(k) = \\frac{k + 1}{\\langle k \\rangle} p(k+1)\n",
        "$$\n",
        "\n",
        "The term *excess* comes from the fact that the distribution represents the number of additional connections a randomly chosen friend has, beyond the connection that led to their selection. It excludes the link to the focal node and focuses on the remaining connections of the selected friend.\n",
        ":::\n",
        "\n",
        "::: {.callout-note}\n",
        "The friend's degree, $\\frac{\\langle k^2 \\rangle}{\\langle k \\rangle}$, concides with a term in Molloy-Reed condition:\n",
        "\n",
        "$$\n",
        "\n",
        "\\frac{\\langle k^2 \\rangle}{\\langle k \\rangle} >2\n",
        "\n",
        "$$\n",
        "\n",
        "which is a condition for the existence of a giant component in a network. The Molloy-Reed condition states that the average degree of a node's friends must be at least 2 (the inequality is strict because the transition from a small component to a giant component is discontinuous). If a friend has only one edge, you and your friend form an isolated component. If a friend has two edges on average, your friend is a friend of someone else, and that someone else is also friend of another someone else and so on, forming a giant component.\n",
        "\n",
        ":::\n",
        "\n",
        "## Plotting degree distribution of a friend\n",
        "\n",
        "Let us compare the degree distribution of a node and its friend.\n",
        "We first get the edges in the network, from which we sample a friend."
      ],
      "id": "07bb12cc"
    },
    {
      "cell_type": "code",
      "metadata": {},
      "source": [
        "from scipy import sparse\n",
        "src, trg, _ = sparse.find(A)"
      ],
      "id": "1b6df33e",
      "execution_count": null,
      "outputs": []
    },
    {
      "cell_type": "markdown",
      "metadata": {},
      "source": [
        "- `sparse.find(A)` returns the source node, target node, and edge weight of the edge.\n",
        "- `src` is the source node of the edge\n",
        "- `trg` is the target node of the edge\n",
        "- `_` is used to ignore the edge weight values, as we only need the source and target nodes for this analysis.\n",
        "\n",
        "Now, let us get the degree of each friend"
      ],
      "id": "153309e6"
    },
    {
      "cell_type": "code",
      "metadata": {},
      "source": [
        "deg_friend = deg[src]\n",
        "p_deg_friend = np.bincount(deg_friend) / len(deg_friend)"
      ],
      "id": "4ddd3fdd",
      "execution_count": null,
      "outputs": []
    },
    {
      "cell_type": "markdown",
      "metadata": {},
      "source": [
        "The CCDF of the degree distributions of a node and a friend can be computed by:"
      ],
      "id": "eaa1eb65"
    },
    {
      "cell_type": "code",
      "metadata": {},
      "source": [
        "ccdf_deg = 1 - np.cumsum(p_deg)[:-1]\n",
        "ccdf_deg_friend = 1 - np.cumsum(p_deg_friend)[:-1]"
      ],
      "id": "3360190e",
      "execution_count": null,
      "outputs": []
    },
    {
      "cell_type": "markdown",
      "metadata": {},
      "source": [
        "and plotted by:"
      ],
      "id": "76a2ef73"
    },
    {
      "cell_type": "code",
      "metadata": {},
      "source": [
        "import seaborn as sns\n",
        "import matplotlib.pyplot as plt\n",
        "\n",
        "\n",
        "ax = sns.lineplot(x=np.arange(len(ccdf_deg)), y=ccdf_deg, label='Node')\n",
        "ax = sns.lineplot(x=np.arange(len(ccdf_deg)), y=ccdf_deg_friend, label='Friend', ax = ax)\n",
        "ax.set_xscale('log')\n",
        "ax.set_yscale('log')\n",
        "ax.set_xlabel('Degree')\n",
        "ax.set_ylabel('CCDF')\n",
        "ax.legend(frameon = False)"
      ],
      "id": "371d4ea9",
      "execution_count": null,
      "outputs": []
    },
    {
      "cell_type": "markdown",
      "metadata": {},
      "source": [
        "The slope of the CCDF of a friend is flatter than that of a node, indicating that the degree distribution of a friend is biased towards higher degrees.\n",
        "\n",
        "```{footbibliography}\n",
        "```"
      ],
      "id": "bac6ba3c"
    }
  ],
  "metadata": {
    "kernelspec": {
      "name": "netdatasci",
      "language": "python",
      "display_name": "netdatasci",
      "path": "/Users/skojaku-admin/Library/Jupyter/kernels/netdatasci"
    }
  },
  "nbformat": 4,
  "nbformat_minor": 5
}