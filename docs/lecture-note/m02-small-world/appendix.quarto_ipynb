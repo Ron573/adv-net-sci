{
  "cells": [
    {
      "cell_type": "markdown",
      "metadata": {},
      "source": [
        "# Appendix\n",
        "\n",
        "\n",
        "## Compressed Sparse Row (CSR) format\n",
        "\n",
        "CSR format is implemented in [scipy](https://docs.scipy.org/doc/scipy/reference/generated/scipy.sparse.csr_matrix.html). This consists of three arrays called `indptr`, `indices`, and `data`. For example,"
      ],
      "id": "bfc2b9ef"
    },
    {
      "cell_type": "code",
      "metadata": {},
      "source": [
        "import networkx as nx\n",
        "from scipy import sparse\n",
        "\n",
        "G = nx.karate_club_graph()\n",
        "A = sparse.csr_matrix(nx.adjacency_matrix(G))\n",
        "\n",
        "print(\"A.indices:\", A.indices[:5])\n",
        "print(\"A.indptr:\", A.indptr[:5])\n",
        "print(\"A.data:\", A.data[:5])"
      ],
      "id": "f660adbe",
      "execution_count": null,
      "outputs": []
    },
    {
      "cell_type": "markdown",
      "metadata": {},
      "source": [
        "We will walk you through what these arrays mean, how they are generated, and how we can leverage them for efficient computations.\n",
        "\n",
        "### How to generate CSR format from an adjacency matrix\n",
        "\n",
        "Let's walk you through how to store an example adjacency matrix in Compressed Sparse Row (CSR) format. Our example adjacency matrix is as follows.\n",
        "\n",
        "<div align=\"center\">\n",
        "\n",
        "|      |    0 |    1 |    2 |    3 |    4 |    5 |    6 |    7 |    8 |    9 |   10 |\n",
        "| ---: | ---: | ---: | ---: | ---: | ---: | ---: | ---: | ---: | ---: | ---: | ---: |\n",
        "|    0 |      |      |      |      |      |      |      |      |      |      |    1 |\n",
        "|    1 |      |      |    1 |      |      |      |      |      |      |      |    1 |\n",
        "|    2 |      |    1 |      |    1 |      |      |      |      |      |      |    1 |\n",
        "|    3 |      |      |    1 |      |    1 |    1 |    1 |      |      |      |      |\n",
        "|    4 |      |      |      |    1 |      |      |      |    1 |      |      |      |\n",
        "|    5 |      |      |      |    1 |      |      |      |      |      |      |      |\n",
        "|    6 |      |      |      |    1 |      |      |      |      |    1 |    1 |      |\n",
        "|    7 |      |      |      |      |    1 |      |      |      |      |      |      |\n",
        "|    8 |      |      |      |      |      |      |    1 |      |      |      |    1 |\n",
        "|    9 |      |      |      |      |      |      |    1 |      |      |      |    1 |\n",
        "|   10 |    1 |    1 |    1 |      |      |      |      |      |    1 |    1 |      |\n",
        "</div>\n",
        "\n",
        "We will first create **adjacency list**, which is a dictionary consisting of the row IDs and column IDs for the non-zero entries in the adjacency matrix.\n",
        "\n",
        "<div class=\"container\" align=\"center\">\n",
        "<div class=\"col\" style=\"margin-top:0%\">\n",
        "\n",
        "$\\{\\text{Row ID}: (\\text{Column ID}, \\text{Value})\\}$\n",
        "\n",
        "</div>\n",
        "</div>\n",
        "\n",
        "Concretely, in Python,"
      ],
      "id": "90d64963"
    },
    {
      "cell_type": "code",
      "metadata": {},
      "source": [
        "adj_list = {\n",
        "  0:[(10,1)],\n",
        "  1:[(2,1), (10, 1)],\n",
        "  2:[(1,1), (3,1), (10, 1)],\n",
        "  3:[(2,1), (4,1), (5,1), (6,1)],\n",
        "  #...\n",
        "}"
      ],
      "id": "86a4c892",
      "execution_count": null,
      "outputs": []
    },
    {
      "cell_type": "markdown",
      "metadata": {},
      "source": [
        "CSR format is a *concatenation* of the keys and values of the adjacency list, respectively. The CSR format has a concatenated array of the values, one for column IDs and one for the values, called `indices` and `data`, respectively."
      ],
      "id": "0087f9ea"
    },
    {
      "cell_type": "code",
      "metadata": {},
      "source": [
        "import numpy as np\n",
        "\n",
        "indices = np.array([vv[0] for k, v in adj_list.items() for vv in v])\n",
        "indices"
      ],
      "id": "7dedd3b5",
      "execution_count": null,
      "outputs": []
    },
    {
      "cell_type": "code",
      "metadata": {},
      "source": [
        "data = np.array([vv[1] for k, v in adj_list.items() for vv in v])\n",
        "data"
      ],
      "id": "07e4cfff",
      "execution_count": null,
      "outputs": []
    },
    {
      "cell_type": "markdown",
      "metadata": {},
      "source": [
        "Additionally, the CSR format has another array called `indptr`, which stores the Row IDs of the non-zero entries in the adjacency matrix. This `indptr` array has a value such that `indptr[i]` is the first index of `indices` that corresponds to the `i`-th row of the adjacency matrix. This can be generated by"
      ],
      "id": "bbab3b7b"
    },
    {
      "cell_type": "code",
      "metadata": {},
      "source": [
        "indptr = np.cumsum([0] + [len(adj_list[i]) for i in range(len(adj_list))])\n",
        "indptr"
      ],
      "id": "bf0bfdeb",
      "execution_count": null,
      "outputs": []
    },
    {
      "cell_type": "markdown",
      "metadata": {},
      "source": [
        "where we added `0` at the beginning of the array to represent the first non-zero entry in the first row.\n",
        "The first row ends at index `len(adj_list[0])-1`, and the second row starts at index `len(adj_list[0])` and ends at index `len(adj_list[0])+len(adj_list[1])-1`, and so on.\n",
        "\n",
        "Now we have three compressed vectors `indptr`, `indices`, and `data`, that together form the CSR format for the adjacency matrix.\n",
        "\n",
        "\n",
        "### How to use CSR format for efficient computations\n",
        "\n",
        "The key advantage of the CSR representation is the memory efficiency. But you can leverage the CSR format for more efficient computations, if you know the semantics of `indptr`, `indices`, and `data` arrays.\n",
        "\n",
        "For instance, one can compute the degree of a node by using"
      ],
      "id": "e0b17852"
    },
    {
      "cell_type": "code",
      "metadata": {},
      "source": [
        "node = 1\n",
        "degree = indptr[node+1] - indptr[node]\n",
        "degree"
      ],
      "id": "184b7df5",
      "execution_count": null,
      "outputs": []
    },
    {
      "cell_type": "markdown",
      "metadata": {},
      "source": [
        "Let us break down the above code.\n",
        "- `indptr[node]` is the first index of the `indices` array that corresponds to the `node`-th row of the adjacency matrix.\n",
        "- `indptr[node+1]` is the first index of the `indices` array that corresponds to the `(node+1)`-th row of the adjacency matrix.\n",
        "- Thus, `indptr[node+1] - indptr[node]` is the number of non-zero entries in the `node`-th row of the adjacency matrix, which is the degree of the `node`-th node.\n",
        "\n",
        "Using `indices`, it is easy to identify the neighbors of a given node by using"
      ],
      "id": "1df7349f"
    },
    {
      "cell_type": "code",
      "metadata": {},
      "source": [
        "neighbors = indices[indptr[node]:indptr[node+1]]\n",
        "neighbors"
      ],
      "id": "e7dc9331",
      "execution_count": null,
      "outputs": []
    },
    {
      "cell_type": "markdown",
      "metadata": {},
      "source": [
        "where `indices[indptr[node]:indptr[node+1]]` is the corresponding column IDs of the non-zero entries in the `node`-th row of the adjacency matrix, which corresponds to the node IDs connected to the `node`-th node.\n",
        "\n",
        "The edge weights to the neighbors can be obtained by using"
      ],
      "id": "d14b58d6"
    },
    {
      "cell_type": "code",
      "metadata": {},
      "source": [
        "edge_weights = data[indptr[node]:indptr[node+1]]\n",
        "edge_weights"
      ],
      "id": "80340203",
      "execution_count": null,
      "outputs": []
    }
  ],
  "metadata": {
    "kernelspec": {
      "name": "netdatasci",
      "language": "python",
      "display_name": "netdatasci",
      "path": "/Users/skojaku-admin/Library/Jupyter/kernels/netdatasci"
    }
  },
  "nbformat": 4,
  "nbformat_minor": 5
}