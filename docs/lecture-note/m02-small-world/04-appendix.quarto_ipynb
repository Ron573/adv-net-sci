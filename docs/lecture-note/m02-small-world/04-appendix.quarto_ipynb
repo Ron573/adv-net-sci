{
  "cells": [
    {
      "cell_type": "markdown",
      "metadata": {},
      "source": [
        "# Appendix: Tools and Advanced Topics\n",
        "\n",
        "## Toolbox for network analysis\n",
        "\n",
        "Here are some useful tools for network analysis in Python:\n",
        "\n",
        "- [Python built-in data structures](https://docs.python.org/3/tutorial/datastructures.html) (list, tuple, dict)\n",
        "- [networkx](https://networkx.org/) - a beginner-friendly library for network analysis\n",
        "- [igraph](https://igraph.org/python/) - a mature library with a wide range of algorithms\n",
        "- [graph-tool](https://graph-tool.skewed.de/) - for stochastic block models\n",
        "- [scipy](https://scipy.org/) - for analyzing large networks\n",
        "- [pytorch-geometric](https://pytorch-geometric.readthedocs.io/en/latest/) - for graph neural networks\n",
        "\n",
        "While `networkx` is a popular and beginner-friendly library for network analysis in Python, we'll be using `igraph` in this course. `igraph` is a mature library with a wide range of algorithms, originally developed for R.\n",
        "Why `igraph` instead of `networkx`?\n",
        "Because networkx has some persistent bugs in the implementations of some algorithms (e.g., LFR benchmark and weighted degree assortativity), which can skew the analysis.\n",
        "`igraph` offers more reliable implementations.\n",
        "\n",
        "We'll also use `scipy` for scientific computing. `scipy` is one of the most popular Python libraries and also a powerful network analysis tool, especially for large networks. While it requires a bit more effort to learn, once you get the hang of it, you'll find it's a powerful tool for your network analysis projects.\n",
        "\n",
        "![](../figs/scipy.jpg)\n",
        "\n",
        "## Compressed Sparse Row (CSR) format\n",
        "\n",
        "CSR format is implemented in [scipy](https://docs.scipy.org/doc/scipy/reference/generated/scipy.sparse.csr_matrix.html). This consists of three arrays called `indptr`, `indices`, and `data`. For example,"
      ],
      "id": "06ae7f59"
    },
    {
      "cell_type": "code",
      "metadata": {},
      "source": [
        "import networkx as nx\n",
        "from scipy import sparse\n",
        "\n",
        "G = nx.karate_club_graph()\n",
        "A = sparse.csr_matrix(nx.adjacency_matrix(G))\n",
        "\n",
        "print(\"A.indices:\", A.indices[:5])\n",
        "print(\"A.indptr:\", A.indptr[:5])\n",
        "print(\"A.data:\", A.data[:5])"
      ],
      "id": "d4fa42f4",
      "execution_count": null,
      "outputs": []
    },
    {
      "cell_type": "markdown",
      "metadata": {},
      "source": [
        "We will walk you through what these arrays mean, how they are generated, and how we can leverage them for efficient computations.\n",
        "\n",
        "### How to generate CSR format from an adjacency matrix\n",
        "\n",
        "Let's walk you through how to store an example adjacency matrix in Compressed Sparse Row (CSR) format. Our example adjacency matrix is as follows.\n",
        "\n",
        "<div align=\"center\">\n",
        "\n",
        "|      |    0 |    1 |    2 |    3 |    4 |    5 |    6 |    7 |    8 |    9 |   10 |\n",
        "| ---: | ---: | ---: | ---: | ---: | ---: | ---: | ---: | ---: | ---: | ---: | ---: |\n",
        "|    0 |      |      |      |      |      |      |      |      |      |      |    1 |\n",
        "|    1 |      |      |    1 |      |      |      |      |      |      |      |    1 |\n",
        "|    2 |      |    1 |      |    1 |      |      |      |      |      |      |    1 |\n",
        "|    3 |      |      |    1 |      |    1 |    1 |    1 |      |      |      |      |\n",
        "|    4 |      |      |      |    1 |      |      |      |    1 |      |      |      |\n",
        "|    5 |      |      |      |    1 |      |      |      |      |      |      |      |\n",
        "|    6 |      |      |      |    1 |      |      |      |      |    1 |    1 |      |\n",
        "|    7 |      |      |      |      |    1 |      |      |      |      |      |      |\n",
        "|    8 |      |      |      |      |      |      |    1 |      |      |      |    1 |\n",
        "|    9 |      |      |      |      |      |      |    1 |      |      |      |    1 |\n",
        "|   10 |    1 |    1 |    1 |      |      |      |      |      |    1 |    1 |      |\n",
        "</div>\n",
        "\n",
        "We will first create **adjacency list**, which is a dictionary consisting of the row IDs and column IDs for the non-zero entries in the adjacency matrix.\n",
        "\n",
        "<div class=\"container\" align=\"center\">\n",
        "<div class=\"col\" style=\"margin-top:0%\">\n",
        "\n",
        "$\\{\\text{Row ID}: (\\text{Column ID}, \\text{Value})\\}$\n",
        "\n",
        "</div>\n",
        "</div>\n",
        "\n",
        "Concretely, in Python,"
      ],
      "id": "ce0960ac"
    },
    {
      "cell_type": "code",
      "metadata": {},
      "source": [
        "adj_list = {\n",
        "  0:[(10,1)],\n",
        "  1:[(2,1), (10, 1)],\n",
        "  2:[(1,1), (3,1), (10, 1)],\n",
        "  3:[(2,1), (4,1), (5,1), (6,1)],\n",
        "  #...\n",
        "}"
      ],
      "id": "c8094001",
      "execution_count": null,
      "outputs": []
    },
    {
      "cell_type": "markdown",
      "metadata": {},
      "source": [
        "CSR format is a *concatenation* of the keys and values of the adjacency list, respectively. The CSR format has a concatenated array of the values, one for column IDs and one for the values, called `indices` and `data`, respectively."
      ],
      "id": "85c26965"
    },
    {
      "cell_type": "code",
      "metadata": {},
      "source": [
        "import numpy as np\n",
        "\n",
        "indices = np.array([vv[0] for k, v in adj_list.items() for vv in v])\n",
        "indices"
      ],
      "id": "f47ce690",
      "execution_count": null,
      "outputs": []
    },
    {
      "cell_type": "code",
      "metadata": {},
      "source": [
        "data = np.array([vv[1] for k, v in adj_list.items() for vv in v])\n",
        "data"
      ],
      "id": "09cfeb24",
      "execution_count": null,
      "outputs": []
    },
    {
      "cell_type": "markdown",
      "metadata": {},
      "source": [
        "Additionally, the CSR format has another array called `indptr`, which stores the Row IDs of the non-zero entries in the adjacency matrix. This `indptr` array has a value such that `indptr[i]` is the first index of `indices` that corresponds to the `i`-th row of the adjacency matrix. This can be generated by"
      ],
      "id": "1c52b7fa"
    },
    {
      "cell_type": "code",
      "metadata": {},
      "source": [
        "indptr = np.cumsum([0] + [len(adj_list[i]) for i in range(len(adj_list))])\n",
        "indptr"
      ],
      "id": "a165fe5e",
      "execution_count": null,
      "outputs": []
    },
    {
      "cell_type": "markdown",
      "metadata": {},
      "source": [
        "where we added `0` at the beginning of the array to represent the first non-zero entry in the first row.\n",
        "The first row ends at index `len(adj_list[0])-1`, and the second row starts at index `len(adj_list[0])` and ends at index `len(adj_list[0])+len(adj_list[1])-1`, and so on.\n",
        "\n",
        "Now we have three compressed vectors `indptr`, `indices`, and `data`, that together form the CSR format for the adjacency matrix.\n",
        "\n",
        "\n",
        "### How to use CSR format for efficient computations\n",
        "\n",
        "The key advantage of the CSR representation is the memory efficiency. But you can leverage the CSR format for more efficient computations, if you know the semantics of `indptr`, `indices`, and `data` arrays.\n",
        "\n",
        "For instance, one can compute the degree of a node by using"
      ],
      "id": "b97f5f8c"
    },
    {
      "cell_type": "code",
      "metadata": {},
      "source": [
        "node = 1\n",
        "degree = indptr[node+1] - indptr[node]\n",
        "degree"
      ],
      "id": "483c9096",
      "execution_count": null,
      "outputs": []
    },
    {
      "cell_type": "markdown",
      "metadata": {},
      "source": [
        "Let us break down the above code.\n",
        "- `indptr[node]` is the first index of the `indices` array that corresponds to the `node`-th row of the adjacency matrix.\n",
        "- `indptr[node+1]` is the first index of the `indices` array that corresponds to the `(node+1)`-th row of the adjacency matrix.\n",
        "- Thus, `indptr[node+1] - indptr[node]` is the number of non-zero entries in the `node`-th row of the adjacency matrix, which is the degree of the `node`-th node.\n",
        "\n",
        "Using `indices`, it is easy to identify the neighbors of a given node by using"
      ],
      "id": "cb453092"
    },
    {
      "cell_type": "code",
      "metadata": {},
      "source": [
        "neighbors = indices[indptr[node]:indptr[node+1]]\n",
        "neighbors"
      ],
      "id": "29c8f885",
      "execution_count": null,
      "outputs": []
    },
    {
      "cell_type": "markdown",
      "metadata": {},
      "source": [
        "where `indices[indptr[node]:indptr[node+1]]` is the corresponding column IDs of the non-zero entries in the `node`-th row of the adjacency matrix, which corresponds to the node IDs connected to the `node`-th node.\n",
        "\n",
        "The edge weights to the neighbors can be obtained by using"
      ],
      "id": "419d3ac1"
    },
    {
      "cell_type": "code",
      "metadata": {},
      "source": [
        "edge_weights = data[indptr[node]:indptr[node+1]]\n",
        "edge_weights"
      ],
      "id": "dc0eeefb",
      "execution_count": null,
      "outputs": []
    }
  ],
  "metadata": {
    "kernelspec": {
      "name": "netdatasci",
      "language": "python",
      "display_name": "netdatasci",
      "path": "/Users/skojaku-admin/Library/Jupyter/kernels/netdatasci"
    }
  },
  "nbformat": 4,
  "nbformat_minor": 5
}