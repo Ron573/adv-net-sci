{
  "cells": [
    {
      "cell_type": "markdown",
      "metadata": {},
      "source": [
        "---\n",
        "title: \"Advanced: Sparse Matrices for Large-Scale Networks\"\n",
        "jupyter: python3\n",
        "---\n",
        "\n",
        "## The Scale Problem: From Königsberg to Global Networks\n",
        "\n",
        "While Euler's analysis worked perfectly for Königsberg's 4 landmasses and 7 bridges, today's networks operate at vastly different scales. Suppose we want to represent the social network of all people on Earth using an adjacency matrix. How much memory would we need?\n",
        "For an adjacency matrix with 8 billion nodes, the matrix size is $8 \\times 10^9 \\times 8 \\times 10^9 = 64 \\times 10^{18}$ entries, and the memory required is $64 \\times 10^{18} \\times 8$ bytes ≈ 512 exabytes! Clearly, this approach is not feasible!\n",
        "\n",
        "A way to solve this problem is to exploit the fact that real networks are **sparse**: most pairs of nodes are not connected.\n",
        "\n",
        "To give you an idea, let's consider a social network of 8 billion people on Earth. How likely do you think that two randomly picked people are friends? If the network is dense, it should be likely. But in reality, it is very unlikely, right? So much so that the probability is almost zero (less than 3.1e-23 if each person has 100 friends on average)!\n",
        "\n",
        "This means that working with the edge list is a good idea as it retains only the connections, not the non-connections (which are much more than the connections!). But the edge list is not efficient for many operaitions\n",
        "\n",
        "::: {.column-margin}\n",
        "\n",
        "Think about the following operations:\n",
        "\n",
        "- **Degree**: How many friends does a person have?\n",
        "- **Neighbors**: Who are the friends of a person?\n",
        "\n",
        "These operations are very common in network analysis. To do so, you need to go through **all the edges** in the network. This is not efficient, especially for large networks.\n",
        "\n",
        ":::\n",
        "\n",
        "## Solution: Sparse Matrices\n",
        "\n",
        "We say a matrix is sparse if the matrix has only a handful of non-zero entries. This is indeed the case for most real-world networks. For such networks, we can use a special type of data type called **Compressed Sparse Row (CSR)** or **Compressed Sparse Column (CSC)** to represent the network. This is widely used in many network analysis tools and makes it possible to process large networks in practice.\n",
        "\n",
        "\n",
        "To learn more, [here is a very good blog post by Matt Eding about efficient network representations](https://matteding.github.io/2019/04/25/sparse-matrices/).\n"
      ],
      "id": "63a5921c"
    }
  ],
  "metadata": {
    "kernelspec": {
      "name": "python3",
      "language": "python",
      "display_name": "Python 3 (ipykernel)",
      "path": "/Users/skojaku-admin/miniforge3/envs/advnetsci/share/jupyter/kernels/python3"
    }
  },
  "nbformat": 4,
  "nbformat_minor": 5
}