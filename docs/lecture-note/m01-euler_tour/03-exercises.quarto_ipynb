{
  "cells": [
    {
      "cell_type": "markdown",
      "metadata": {},
      "source": [
        "---\n",
        "title: Exercises\n",
        "filters:\n",
        "  - marimo-team/marimo\n",
        "jupyter: python3\n",
        "---\n",
        "\n",
        "[![Open in molab](https://molab.marimo.io/molab-shield.png)](https://molab.marimo.io/notebooks/nb_6AwrxmfKUzEFLEs2ANHrW1)\n",
        "\n",
        "\n",
        "[Exercise Notebook](https://molab.marimo.io/notebooks/nb_6AwrxmfKUzEFLEs2ANHrW1)\n"
      ],
      "id": "c90f8ea8"
    }
  ],
  "metadata": {
    "kernelspec": {
      "name": "python3",
      "language": "python",
      "display_name": "Python 3 (ipykernel)",
      "path": "/Users/skojaku-admin/miniforge3/envs/advnetsci/share/jupyter/kernels/python3"
    }
  },
  "nbformat": 4,
  "nbformat_minor": 5
}