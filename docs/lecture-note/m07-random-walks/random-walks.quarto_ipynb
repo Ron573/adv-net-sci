{
  "cells": [
    {
      "cell_type": "markdown",
      "metadata": {},
      "source": [
        "# Random Walks\n",
        "\n",
        "Suppose you walk in a city. You are drunk and your feet have no idea where to go. You just take a step wherever your feet take you. At every intersection, you make a random decision and take a step. This is the core idea of a random walk.\n",
        "\n",
        "While your feet are taking you to a random street, after making many steps and looking back, you will realize that you have been to certain places more frequently than others. If you were to map the frequency of your visits to each street, you will end up with a distribution that tells you about salient structure of the street network. It is surprising that this seemingly random, brainless behavior can tell us something deep about the structure of the city.\n",
        "\n",
        "\n",
        "<img src=\"../figs/random-walk.png\" alt=\"Random walk on a network\" width=\"50%\" style=\"display: block; margin-left: auto; margin-right: auto;\">\n",
        "\n",
        "## Random walks in a network\n",
        "\n",
        "A random walk in undirected networks is the following process:\n",
        "1. Start at a node $i$\n",
        "2. Randomly choose an edge to traverse to a neighbor node $j$\n",
        "3. Repeat step 2 until you have taken $T$ steps.\n",
        "\n",
        "\n",
        "\n",
        "\n",
        "\n",
        "```{note}\n",
        "In case of directed networks, a random walker can only move along the edge direction, and it can be that the random walker is stuck in a so-called ``dead end'' that does not have any outgoing edges.\n",
        "```\n",
        "\n",
        "How does this simple process tell us something about the network structure? To get some insights, let us play with a simple interactive visualization.\n",
        "\n",
        "::: {.callout-note title=\"Random Walk Simulation\"}\n",
        ":class: tip\n",
        "\n",
        "Play with the [Random Walk Simulator! 🎮✨](vis/random-walks/index.html) and try to answer the following questions:\n",
        "\n",
        "1. When the random walker makes many steps, where does it tend to visit most frequently?\n",
        "2. When the walker makes only a few steps, where does it tend to visit?\n",
        "3. Does the behavior of the walker inform us about centrality of the nodes?\n",
        "3. Does the behavior of the walker inform us about communities in the network?\n",
        "\n",
        ":::"
      ],
      "id": "a593c2fa"
    }
  ],
  "metadata": {
    "kernelspec": {
      "name": "netdatasci",
      "language": "python",
      "display_name": "netdatasci",
      "path": "/Users/skojaku-admin/Library/Jupyter/kernels/netdatasci"
    }
  },
  "nbformat": 4,
  "nbformat_minor": 5
}